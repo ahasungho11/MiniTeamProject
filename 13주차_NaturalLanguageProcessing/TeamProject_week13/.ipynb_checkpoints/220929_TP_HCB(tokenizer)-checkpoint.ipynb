{
 "cells": [
  {
   "cell_type": "markdown",
   "id": "81b3afb7",
   "metadata": {},
   "source": [
    "# 뉴스 제목으로 기사 분류하기 _ 허채범"
   ]
  },
  {
   "cell_type": "markdown",
   "id": "801861a9",
   "metadata": {},
   "source": [
    "# 출처"
   ]
  },
  {
   "cell_type": "markdown",
   "id": "0b68ea0d",
   "metadata": {},
   "source": [
    "데이터 : https://dacon.io/competitions/official/235747/data  \n",
    "한국어 불용어1 : https://deep.chulgil.me/hangugeo-bulyongeo-riseuteu/  \n",
    "한국어 불용어2 : https://www.ranks.nl/stopwords/korean"
   ]
  },
  {
   "cell_type": "code",
   "execution_count": 88,
   "id": "cf7e6553",
   "metadata": {},
   "outputs": [],
   "source": [
    "import pandas as pd\n",
    "import numpy as np\n",
    "import re\n",
    "\n",
    "import seaborn as sns\n",
    "import matplotlib.pyplot as plt\n",
    "\n",
    "# 그래프 글씨체\n",
    "import platform\n",
    "if platform.system() == 'Windows':\n",
    "    plt.rc('font', family='Malgun Gothic')\n",
    "\n",
    "from sklearn.metrics import accuracy_score, log_loss\n",
    "import tensorflow as tf\n",
    "from tensorflow.keras import Sequential\n",
    "from tensorflow.keras.layers import Dense, Embedding, LSTM, Dropout, Bidirectional\n",
    "from tensorflow.keras.preprocessing.sequence import pad_sequences\n",
    "from tensorflow.keras.preprocessing.text import Tokenizer\n",
    "from tensorflow.keras.callbacks import EarlyStopping, ReduceLROnPlateau\n",
    "from tensorflow.keras.utils import plot_model, to_categorical\n",
    "from tensorflow.keras.optimizers import Adam\n",
    "from keras.utils import np_utils\n",
    "from konlpy.tag import Okt, Kkma, Komoran\n",
    "\n",
    "import warnings \n",
    "warnings.filterwarnings(action='ignore')"
   ]
  },
  {
   "cell_type": "markdown",
   "id": "ffb5a9b3",
   "metadata": {},
   "source": [
    "## 1. 데이터 관련\n",
    "---"
   ]
  },
  {
   "cell_type": "code",
   "execution_count": 89,
   "id": "3bdd10e6",
   "metadata": {},
   "outputs": [],
   "source": [
    "# 데이터 로딩\n",
    "train = pd.read_csv('./data/train_data.csv', encoding='euc-kr')\n",
    "test = pd.read_csv('./data/test_data.csv', encoding='euc-kr')\n",
    "topic = pd.read_csv('./data/topic_dict.csv', encoding='euc-kr')"
   ]
  },
  {
   "cell_type": "code",
   "execution_count": 90,
   "id": "a580352f",
   "metadata": {},
   "outputs": [
    {
     "name": "stdout",
     "output_type": "stream",
     "text": [
      "<class 'pandas.core.frame.DataFrame'>\n",
      "RangeIndex: 45654 entries, 0 to 45653\n",
      "Data columns (total 3 columns):\n",
      " #   Column     Non-Null Count  Dtype \n",
      "---  ------     --------------  ----- \n",
      " 0   index      45654 non-null  int64 \n",
      " 1   title      45654 non-null  object\n",
      " 2   topic_idx  45654 non-null  int64 \n",
      "dtypes: int64(2), object(1)\n",
      "memory usage: 1.0+ MB\n"
     ]
    }
   ],
   "source": [
    "# 훈련 데이터 확인 (결측치x)\n",
    "train.info()"
   ]
  },
  {
   "cell_type": "code",
   "execution_count": 91,
   "id": "35a7a924",
   "metadata": {},
   "outputs": [
    {
     "data": {
      "text/html": [
       "<div>\n",
       "<style scoped>\n",
       "    .dataframe tbody tr th:only-of-type {\n",
       "        vertical-align: middle;\n",
       "    }\n",
       "\n",
       "    .dataframe tbody tr th {\n",
       "        vertical-align: top;\n",
       "    }\n",
       "\n",
       "    .dataframe thead th {\n",
       "        text-align: right;\n",
       "    }\n",
       "</style>\n",
       "<table border=\"1\" class=\"dataframe\">\n",
       "  <thead>\n",
       "    <tr style=\"text-align: right;\">\n",
       "      <th></th>\n",
       "      <th>index</th>\n",
       "      <th>title</th>\n",
       "      <th>topic_idx</th>\n",
       "    </tr>\n",
       "  </thead>\n",
       "  <tbody>\n",
       "    <tr>\n",
       "      <th>0</th>\n",
       "      <td>0</td>\n",
       "      <td>인천→핀란드 항공기 결항…휴가철 여행객 분통</td>\n",
       "      <td>4</td>\n",
       "    </tr>\n",
       "    <tr>\n",
       "      <th>1</th>\n",
       "      <td>1</td>\n",
       "      <td>실리콘밸리 넘어서겠다…구글 15조원 들여 美전역 거점화</td>\n",
       "      <td>4</td>\n",
       "    </tr>\n",
       "    <tr>\n",
       "      <th>2</th>\n",
       "      <td>2</td>\n",
       "      <td>이란 외무 긴장완화 해결책은 미국이 경제전쟁 멈추는 것</td>\n",
       "      <td>4</td>\n",
       "    </tr>\n",
       "    <tr>\n",
       "      <th>3</th>\n",
       "      <td>3</td>\n",
       "      <td>NYT 클린턴 측근韓기업 특수관계 조명…공과 사 맞물려종합</td>\n",
       "      <td>4</td>\n",
       "    </tr>\n",
       "    <tr>\n",
       "      <th>4</th>\n",
       "      <td>4</td>\n",
       "      <td>시진핑 트럼프에 중미 무역협상 조속 타결 희망</td>\n",
       "      <td>4</td>\n",
       "    </tr>\n",
       "  </tbody>\n",
       "</table>\n",
       "</div>"
      ],
      "text/plain": [
       "   index                             title  topic_idx\n",
       "0      0          인천→핀란드 항공기 결항…휴가철 여행객 분통          4\n",
       "1      1    실리콘밸리 넘어서겠다…구글 15조원 들여 美전역 거점화          4\n",
       "2      2    이란 외무 긴장완화 해결책은 미국이 경제전쟁 멈추는 것          4\n",
       "3      3  NYT 클린턴 측근韓기업 특수관계 조명…공과 사 맞물려종합          4\n",
       "4      4         시진핑 트럼프에 중미 무역협상 조속 타결 희망          4"
      ]
     },
     "execution_count": 91,
     "metadata": {},
     "output_type": "execute_result"
    }
   ],
   "source": [
    "# train의 기사 제목(title) 확인\n",
    "train.head()"
   ]
  },
  {
   "cell_type": "markdown",
   "id": "2f0f8433",
   "metadata": {},
   "source": [
    "1) 제목이다 보니, 명사화되어 끝나는 단어들이 많음 => 단어 단위로 토큰화  \n",
    "2) '...'가 많이 들어감 => 불용어 처리  \n",
    "3) 영어나 한자의 경우, 국가나 국제 단체를 의미하는 경우가 대다수 => 영어나 한자의 변환(고민)  \n",
    "4) 뉴스의 제목이다 보니, 비교적 신조어나 비속어 같은 것들은 없음 => 크게 신경x  \n",
    "5) 제목이라서, 전체적 내용의 핵심을 담고 있기 때문에 분류가 잘 되지 않을까 생각  "
   ]
  },
  {
   "cell_type": "code",
   "execution_count": 92,
   "id": "a8dc6635",
   "metadata": {},
   "outputs": [
    {
     "data": {
      "text/html": [
       "<div>\n",
       "<style scoped>\n",
       "    .dataframe tbody tr th:only-of-type {\n",
       "        vertical-align: middle;\n",
       "    }\n",
       "\n",
       "    .dataframe tbody tr th {\n",
       "        vertical-align: top;\n",
       "    }\n",
       "\n",
       "    .dataframe thead th {\n",
       "        text-align: right;\n",
       "    }\n",
       "</style>\n",
       "<table border=\"1\" class=\"dataframe\">\n",
       "  <thead>\n",
       "    <tr style=\"text-align: right;\">\n",
       "      <th></th>\n",
       "      <th>index</th>\n",
       "      <th>title</th>\n",
       "    </tr>\n",
       "  </thead>\n",
       "  <tbody>\n",
       "    <tr>\n",
       "      <th>0</th>\n",
       "      <td>45654</td>\n",
       "      <td>유튜브 내달 2일까지 크리에이터 지원 공간 운영</td>\n",
       "    </tr>\n",
       "    <tr>\n",
       "      <th>1</th>\n",
       "      <td>45655</td>\n",
       "      <td>어버이날 맑다가 흐려져…남부지방 옅은 황사</td>\n",
       "    </tr>\n",
       "    <tr>\n",
       "      <th>2</th>\n",
       "      <td>45656</td>\n",
       "      <td>내년부터 국가RD 평가 때 논문건수는 반영 않는다</td>\n",
       "    </tr>\n",
       "    <tr>\n",
       "      <th>3</th>\n",
       "      <td>45657</td>\n",
       "      <td>김명자 신임 과총 회장 원로와 젊은 과학자 지혜 모을 것</td>\n",
       "    </tr>\n",
       "    <tr>\n",
       "      <th>4</th>\n",
       "      <td>45658</td>\n",
       "      <td>회색인간 작가 김동식 양심고백 등 새 소설집 2권 출간</td>\n",
       "    </tr>\n",
       "  </tbody>\n",
       "</table>\n",
       "</div>"
      ],
      "text/plain": [
       "   index                            title\n",
       "0  45654       유튜브 내달 2일까지 크리에이터 지원 공간 운영\n",
       "1  45655          어버이날 맑다가 흐려져…남부지방 옅은 황사\n",
       "2  45656      내년부터 국가RD 평가 때 논문건수는 반영 않는다\n",
       "3  45657  김명자 신임 과총 회장 원로와 젊은 과학자 지혜 모을 것\n",
       "4  45658   회색인간 작가 김동식 양심고백 등 새 소설집 2권 출간"
      ]
     },
     "execution_count": 92,
     "metadata": {},
     "output_type": "execute_result"
    }
   ],
   "source": [
    "# test의 기사 제목(title) 확인\n",
    "test.head()"
   ]
  },
  {
   "cell_type": "markdown",
   "id": "7553b06f",
   "metadata": {},
   "source": [
    "## 2. 텍스트 전처리"
   ]
  },
  {
   "cell_type": "markdown",
   "id": "1f6c0d78",
   "metadata": {},
   "source": [
    "### 2-1) 전처리"
   ]
  },
  {
   "cell_type": "code",
   "execution_count": 93,
   "id": "93dbdaa3",
   "metadata": {},
   "outputs": [],
   "source": [
    "# 한글만 남기는 함수\n",
    "def extract_word(text):\n",
    "    hangul = re.compile('[^가-힣]') \n",
    "    result = hangul.sub(' ', text) \n",
    "    return result\n",
    "\n",
    "# 불용어 사전\n",
    "with open('data/stopwords_3.txt', 'r') as f:\n",
    "    list_file = f.readlines()\n",
    "stopwords = list_file[0].split(\",\")\n",
    "\n",
    "# 불용어 제거해주는 함수\n",
    "def remove_stopwords(text):\n",
    "    final_text = []\n",
    "    for i in text.split():\n",
    "        if i.strip().lower() not in stopwords:\n",
    "            final_text.append(i.strip())\n",
    "    return \" \".join(final_text)\n",
    "\n",
    "train['title'] = train['title'].apply(extract_word).apply(remove_stopwords)\n",
    "test['title'] = test['title'].apply(extract_word).apply(remove_stopwords)"
   ]
  },
  {
   "cell_type": "code",
   "execution_count": 94,
   "id": "e26c49a8",
   "metadata": {},
   "outputs": [
    {
     "data": {
      "text/html": [
       "<div>\n",
       "<style scoped>\n",
       "    .dataframe tbody tr th:only-of-type {\n",
       "        vertical-align: middle;\n",
       "    }\n",
       "\n",
       "    .dataframe tbody tr th {\n",
       "        vertical-align: top;\n",
       "    }\n",
       "\n",
       "    .dataframe thead th {\n",
       "        text-align: right;\n",
       "    }\n",
       "</style>\n",
       "<table border=\"1\" class=\"dataframe\">\n",
       "  <thead>\n",
       "    <tr style=\"text-align: right;\">\n",
       "      <th></th>\n",
       "      <th>index</th>\n",
       "      <th>title</th>\n",
       "      <th>topic_idx</th>\n",
       "    </tr>\n",
       "  </thead>\n",
       "  <tbody>\n",
       "    <tr>\n",
       "      <th>0</th>\n",
       "      <td>0</td>\n",
       "      <td>인천 핀란드 항공기 결항 휴가철 여행객 분통</td>\n",
       "      <td>4</td>\n",
       "    </tr>\n",
       "    <tr>\n",
       "      <th>1</th>\n",
       "      <td>1</td>\n",
       "      <td>실리콘밸리 넘어서겠다 구글 조원 들여 전역 거점화</td>\n",
       "      <td>4</td>\n",
       "    </tr>\n",
       "    <tr>\n",
       "      <th>2</th>\n",
       "      <td>2</td>\n",
       "      <td>외무 긴장완화 해결책은 미국이 경제전쟁 멈추는</td>\n",
       "      <td>4</td>\n",
       "    </tr>\n",
       "    <tr>\n",
       "      <th>3</th>\n",
       "      <td>3</td>\n",
       "      <td>클린턴 측근 기업 특수관계 조명 공과 맞물려종합</td>\n",
       "      <td>4</td>\n",
       "    </tr>\n",
       "    <tr>\n",
       "      <th>4</th>\n",
       "      <td>4</td>\n",
       "      <td>시진핑 트럼프에 중미 무역협상 조속 타결</td>\n",
       "      <td>4</td>\n",
       "    </tr>\n",
       "    <tr>\n",
       "      <th>...</th>\n",
       "      <td>...</td>\n",
       "      <td>...</td>\n",
       "      <td>...</td>\n",
       "    </tr>\n",
       "    <tr>\n",
       "      <th>45649</th>\n",
       "      <td>45649</td>\n",
       "      <td>금융 미국 스티펠과 제휴 선진국 시장 공략</td>\n",
       "      <td>1</td>\n",
       "    </tr>\n",
       "    <tr>\n",
       "      <th>45650</th>\n",
       "      <td>45650</td>\n",
       "      <td>보 서울시교육청 신종코로나 확산에 개학 연기 휴업 검토</td>\n",
       "      <td>2</td>\n",
       "    </tr>\n",
       "    <tr>\n",
       "      <th>45651</th>\n",
       "      <td>45651</td>\n",
       "      <td>게시판 키움증권 키움 영웅전 실전투자대회</td>\n",
       "      <td>1</td>\n",
       "    </tr>\n",
       "    <tr>\n",
       "      <th>45652</th>\n",
       "      <td>45652</td>\n",
       "      <td>답변하는 배기동 국립중앙박물관장</td>\n",
       "      <td>2</td>\n",
       "    </tr>\n",
       "    <tr>\n",
       "      <th>45653</th>\n",
       "      <td>45653</td>\n",
       "      <td>한국인터넷기자상 시상식 내달 개최 특별상 김성후</td>\n",
       "      <td>2</td>\n",
       "    </tr>\n",
       "  </tbody>\n",
       "</table>\n",
       "<p>45654 rows × 3 columns</p>\n",
       "</div>"
      ],
      "text/plain": [
       "       index                           title  topic_idx\n",
       "0          0        인천 핀란드 항공기 결항 휴가철 여행객 분통          4\n",
       "1          1     실리콘밸리 넘어서겠다 구글 조원 들여 전역 거점화          4\n",
       "2          2       외무 긴장완화 해결책은 미국이 경제전쟁 멈추는          4\n",
       "3          3      클린턴 측근 기업 특수관계 조명 공과 맞물려종합          4\n",
       "4          4          시진핑 트럼프에 중미 무역협상 조속 타결          4\n",
       "...      ...                             ...        ...\n",
       "45649  45649         금융 미국 스티펠과 제휴 선진국 시장 공략          1\n",
       "45650  45650  보 서울시교육청 신종코로나 확산에 개학 연기 휴업 검토          2\n",
       "45651  45651          게시판 키움증권 키움 영웅전 실전투자대회          1\n",
       "45652  45652               답변하는 배기동 국립중앙박물관장          2\n",
       "45653  45653      한국인터넷기자상 시상식 내달 개최 특별상 김성후          2\n",
       "\n",
       "[45654 rows x 3 columns]"
      ]
     },
     "execution_count": 94,
     "metadata": {},
     "output_type": "execute_result"
    }
   ],
   "source": [
    "train"
   ]
  },
  {
   "cell_type": "markdown",
   "id": "251fb460",
   "metadata": {},
   "source": [
    "### 2-2) 데이터 분리"
   ]
  },
  {
   "cell_type": "code",
   "execution_count": 95,
   "id": "107eea3a",
   "metadata": {},
   "outputs": [],
   "source": [
    "from sklearn.model_selection import train_test_split"
   ]
  },
  {
   "cell_type": "code",
   "execution_count": 96,
   "id": "2a65c6ad",
   "metadata": {},
   "outputs": [],
   "source": [
    "X_train, X_test, y_train, y_test = train_test_split(train['title'], train['topic_idx'], random_state=42,\n",
    "                                                    stratify=train['topic_idx'], test_size=0.2)"
   ]
  },
  {
   "cell_type": "markdown",
   "id": "335c296e",
   "metadata": {},
   "source": [
    "### 2-3) 토큰화"
   ]
  },
  {
   "cell_type": "code",
   "execution_count": 97,
   "id": "97cd6709",
   "metadata": {},
   "outputs": [],
   "source": [
    "from tensorflow.keras.preprocessing.text import Tokenizer\n",
    "tokenizer = Tokenizer()\n",
    "# tokenizer.fit_to_text(sentenceList)\n",
    "tokenizer.fit_on_texts(X_train)"
   ]
  },
  {
   "cell_type": "code",
   "execution_count": 98,
   "id": "a1115e38",
   "metadata": {},
   "outputs": [
    {
     "data": {
      "text/plain": [
       "65765"
      ]
     },
     "execution_count": 98,
     "metadata": {},
     "output_type": "execute_result"
    }
   ],
   "source": [
    "len(tokenizer.word_counts)"
   ]
  },
  {
   "cell_type": "code",
   "execution_count": 99,
   "id": "69fe05a6",
   "metadata": {},
   "outputs": [],
   "source": [
    "seq_train = tokenizer.texts_to_sequences(X_train)\n",
    "seq_test = tokenizer.texts_to_sequences(X_test)"
   ]
  },
  {
   "cell_type": "code",
   "execution_count": 100,
   "id": "d8b373c7",
   "metadata": {},
   "outputs": [],
   "source": [
    "pad_train = pad_sequences(seq_train)\n",
    "pad_test = pad_sequences(seq_test)"
   ]
  },
  {
   "cell_type": "code",
   "execution_count": 101,
   "id": "00413013",
   "metadata": {},
   "outputs": [
    {
     "data": {
      "text/plain": [
       "((36523, 12), (9131, 12))"
      ]
     },
     "execution_count": 101,
     "metadata": {},
     "output_type": "execute_result"
    }
   ],
   "source": [
    "pad_train.shape, pad_test.shape"
   ]
  },
  {
   "cell_type": "code",
   "execution_count": 102,
   "id": "96b911d3",
   "metadata": {},
   "outputs": [],
   "source": [
    "myToken = Tokenizer(num_words=len(tokenizer.word_counts))\n",
    "myToken.fit_on_texts(X_train)"
   ]
  },
  {
   "cell_type": "code",
   "execution_count": 103,
   "id": "c59f6f42",
   "metadata": {},
   "outputs": [],
   "source": [
    "seq_train = myToken.texts_to_sequences(X_train)\n",
    "seq_test = myToken.texts_to_sequences(X_test)\n",
    "\n",
    "pad_train = pad_sequences(seq_train)\n",
    "pad_test = pad_sequences(seq_test)"
   ]
  },
  {
   "cell_type": "markdown",
   "id": "dfe1599b",
   "metadata": {},
   "source": [
    "## 3. 모델링 ( modeling )"
   ]
  },
  {
   "cell_type": "code",
   "execution_count": 114,
   "id": "f803485b",
   "metadata": {},
   "outputs": [],
   "source": [
    "from tensorflow.keras.layers import Embedding, Dense, LSTM, GRU, Input\n",
    "from tensorflow.keras.models import Sequential\n",
    "from tensorflow.keras.models import load_model\n",
    "from tensorflow.keras.callbacks import EarlyStopping, ModelCheckpoint\n",
    "\n",
    "vocab_size = 10\n",
    "embedding_dim = 10\n",
    "hidden_units = 128\n",
    "\n",
    "model = Sequential()\n",
    "model.add(Embedding(65765, 10, input_length=12))\n",
    "model.add(LSTM(10))\n",
    "model.add(Dense(7, activation='softmax'))\n",
    "\n",
    "es = EarlyStopping(monitor='val_loss', mode='min', verbose=1, patience=4)\n",
    "mc = ModelCheckpoint('best_model.h5', monitor='val_acc', mode='max', verbose=1, save_best_only=True)\n",
    "\n",
    "model.compile(optimizer='adam', loss='sparse_categorical_crossentropy', metrics=['acc'])"
   ]
  },
  {
   "cell_type": "code",
   "execution_count": 115,
   "id": "c8de983f",
   "metadata": {},
   "outputs": [
    {
     "name": "stdout",
     "output_type": "stream",
     "text": [
      "Epoch 1/10\n",
      "229/229 [==============================] - 4s 10ms/step - loss: 1.7473 - acc: 0.3189 - val_loss: 1.3649 - val_acc: 0.4969\n",
      "Epoch 2/10\n",
      "229/229 [==============================] - 2s 7ms/step - loss: 1.0771 - acc: 0.6257 - val_loss: 1.1020 - val_acc: 0.6327\n",
      "Epoch 3/10\n",
      "229/229 [==============================] - 2s 8ms/step - loss: 0.6819 - acc: 0.8069 - val_loss: 0.9682 - val_acc: 0.6916\n",
      "Epoch 4/10\n",
      "229/229 [==============================] - 2s 7ms/step - loss: 0.4306 - acc: 0.8963 - val_loss: 0.9793 - val_acc: 0.6980\n",
      "Epoch 5/10\n",
      "229/229 [==============================] - 2s 7ms/step - loss: 0.2804 - acc: 0.9392 - val_loss: 0.9646 - val_acc: 0.7173\n",
      "Epoch 6/10\n",
      "229/229 [==============================] - 2s 7ms/step - loss: 0.1833 - acc: 0.9640 - val_loss: 1.0077 - val_acc: 0.7207\n",
      "Epoch 7/10\n",
      "229/229 [==============================] - 1s 6ms/step - loss: 0.1255 - acc: 0.9766 - val_loss: 1.0467 - val_acc: 0.7195\n",
      "Epoch 8/10\n",
      "229/229 [==============================] - 2s 7ms/step - loss: 0.0890 - acc: 0.9844 - val_loss: 1.0740 - val_acc: 0.7221\n",
      "Epoch 9/10\n",
      "229/229 [==============================] - 1s 6ms/step - loss: 0.0661 - acc: 0.9885 - val_loss: 1.1237 - val_acc: 0.7176\n",
      "Epoch 10/10\n",
      "229/229 [==============================] - 2s 7ms/step - loss: 0.0514 - acc: 0.9910 - val_loss: 1.1739 - val_acc: 0.7236\n"
     ]
    }
   ],
   "source": [
    "history = model.fit(pad_train, y_train, epochs=10, batch_size=128, validation_split=0.2)"
   ]
  },
  {
   "cell_type": "code",
   "execution_count": 116,
   "id": "b60c84ef",
   "metadata": {},
   "outputs": [
    {
     "name": "stdout",
     "output_type": "stream",
     "text": [
      "1142/1142 [==============================] - 1s 870us/step - loss: 0.2677 - acc: 0.9395\n"
     ]
    },
    {
     "data": {
      "text/plain": [
       "[0.26768559217453003, 0.9395175576210022]"
      ]
     },
     "execution_count": 116,
     "metadata": {},
     "output_type": "execute_result"
    }
   ],
   "source": [
    "# 평가\n",
    "model.evaluate(pad_train,y_train)"
   ]
  },
  {
   "cell_type": "code",
   "execution_count": 117,
   "id": "610984ee",
   "metadata": {},
   "outputs": [
    {
     "name": "stdout",
     "output_type": "stream",
     "text": [
      "1\n"
     ]
    }
   ],
   "source": [
    "predicted = model.predict(pad_test)\n",
    "print(predicted[0].argmax())"
   ]
  },
  {
   "cell_type": "code",
   "execution_count": 118,
   "id": "c67d3834",
   "metadata": {},
   "outputs": [
    {
     "data": {
      "text/plain": [
       "6262     1\n",
       "20584    6\n",
       "40627    4\n",
       "20280    4\n",
       "15709    3\n",
       "        ..\n",
       "31650    3\n",
       "38446    0\n",
       "41597    2\n",
       "1721     3\n",
       "9581     6\n",
       "Name: topic_idx, Length: 9131, dtype: int64"
      ]
     },
     "execution_count": 118,
     "metadata": {},
     "output_type": "execute_result"
    }
   ],
   "source": [
    "y_test"
   ]
  },
  {
   "cell_type": "code",
   "execution_count": 124,
   "id": "64f26e28",
   "metadata": {},
   "outputs": [],
   "source": [
    "# 실제값 예측\n",
    "pre_txt = [\"늘어나는 부동산 '수상한 직거래'... 아파트도 반값 세일?\", \n",
    "           \"33홈런 KT 박병호, 오른 발목 부상으로 시즌 아웃 유력... '복귀 힘들 듯'\",\n",
    "           \"코스피, '2년 2개월만에 역대최저' 2160대... 환율 1440원 돌파\"\n",
    "          ]\n",
    "\n",
    "pre_txt1 = ['사회(2)','스포츠(5)','경제(1)']"
   ]
  },
  {
   "cell_type": "code",
   "execution_count": 125,
   "id": "65bcc43d",
   "metadata": {},
   "outputs": [],
   "source": [
    "def sentiment_predict(new_sentence):\n",
    "    new_sentence = re.sub(r'[^ㄱ-ㅎㅏ-ㅣ가-힣 ]','', new_sentence)\n",
    "    new_sentence = [word for word in new_sentence if not word in stopwords]\n",
    "    encoded = tokenizer.texts_to_sequences([new_sentence])\n",
    "    pad_new = pad_sequences(encoded, maxlen = 12)\n",
    "\n",
    "    score = (model.predict(pad_new))\n",
    "    score = score.argmax()\n",
    "    print(f\"예측은 {score}입니다.\")"
   ]
  },
  {
   "cell_type": "code",
   "execution_count": 126,
   "id": "368c5d40",
   "metadata": {},
   "outputs": [],
   "source": [
    "tokenizer = Tokenizer()"
   ]
  },
  {
   "cell_type": "code",
   "execution_count": 127,
   "id": "4c99c284",
   "metadata": {},
   "outputs": [
    {
     "name": "stdout",
     "output_type": "stream",
     "text": [
      "예측은 2입니다.\n",
      "정답은 사회(2)입니다\n",
      "\n",
      "예측은 2입니다.\n",
      "정답은 스포츠(5)입니다\n",
      "\n",
      "예측은 2입니다.\n",
      "정답은 경제(1)입니다\n",
      "\n"
     ]
    }
   ],
   "source": [
    "for n in range(len(pre_txt)):\n",
    "    sentiment_predict(pre_txt[n])\n",
    "    print(f'정답은 {pre_txt1[n]}입니다\\n')"
   ]
  },
  {
   "cell_type": "code",
   "execution_count": 123,
   "id": "634a3f39",
   "metadata": {},
   "outputs": [
    {
     "data": {
      "text/html": [
       "<div>\n",
       "<style scoped>\n",
       "    .dataframe tbody tr th:only-of-type {\n",
       "        vertical-align: middle;\n",
       "    }\n",
       "\n",
       "    .dataframe tbody tr th {\n",
       "        vertical-align: top;\n",
       "    }\n",
       "\n",
       "    .dataframe thead th {\n",
       "        text-align: right;\n",
       "    }\n",
       "</style>\n",
       "<table border=\"1\" class=\"dataframe\">\n",
       "  <thead>\n",
       "    <tr style=\"text-align: right;\">\n",
       "      <th></th>\n",
       "      <th>0</th>\n",
       "      <th>1</th>\n",
       "      <th>2</th>\n",
       "      <th>3</th>\n",
       "      <th>4</th>\n",
       "      <th>5</th>\n",
       "      <th>6</th>\n",
       "    </tr>\n",
       "  </thead>\n",
       "  <tbody>\n",
       "    <tr>\n",
       "      <th>topic</th>\n",
       "      <td>IT과학</td>\n",
       "      <td>경제</td>\n",
       "      <td>사회</td>\n",
       "      <td>생활문화</td>\n",
       "      <td>세계</td>\n",
       "      <td>스포츠</td>\n",
       "      <td>정치</td>\n",
       "    </tr>\n",
       "    <tr>\n",
       "      <th>topic_idx</th>\n",
       "      <td>0</td>\n",
       "      <td>1</td>\n",
       "      <td>2</td>\n",
       "      <td>3</td>\n",
       "      <td>4</td>\n",
       "      <td>5</td>\n",
       "      <td>6</td>\n",
       "    </tr>\n",
       "  </tbody>\n",
       "</table>\n",
       "</div>"
      ],
      "text/plain": [
       "              0   1   2     3   4    5   6\n",
       "topic      IT과학  경제  사회  생활문화  세계  스포츠  정치\n",
       "topic_idx     0   1   2     3   4    5   6"
      ]
     },
     "execution_count": 123,
     "metadata": {},
     "output_type": "execute_result"
    }
   ],
   "source": [
    "topic.T"
   ]
  }
 ],
 "metadata": {
  "kernelspec": {
   "display_name": "Python 3 (ipykernel)",
   "language": "python",
   "name": "python3"
  },
  "language_info": {
   "codemirror_mode": {
    "name": "ipython",
    "version": 3
   },
   "file_extension": ".py",
   "mimetype": "text/x-python",
   "name": "python",
   "nbconvert_exporter": "python",
   "pygments_lexer": "ipython3",
   "version": "3.9.12"
  }
 },
 "nbformat": 4,
 "nbformat_minor": 5
}

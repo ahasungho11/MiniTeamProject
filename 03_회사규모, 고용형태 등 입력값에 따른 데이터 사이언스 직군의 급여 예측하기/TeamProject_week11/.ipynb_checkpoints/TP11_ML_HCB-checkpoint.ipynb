{
 "cells": [
  {
   "cell_type": "markdown",
   "id": "92bb74df",
   "metadata": {},
   "source": [
    "## [ ML ] Data_Salaries 예측\n",
    "---\n"
   ]
  },
  {
   "cell_type": "markdown",
   "id": "473d8b48",
   "metadata": {},
   "source": [
    "**[  data  ]   : 조사연도, 숙련도, 고용형태, 직업군, 급여, 통화, 직원 거주지, 원격업무 비중, 회사 위치, 회사 크기**  \n",
    "**[ target ] : 달러화한 급여**  \n",
    "  \n",
    "**=> data 중 조사연도, 급여 제외 모두 입력**  "
   ]
  },
  {
   "cell_type": "markdown",
   "id": "74acf053",
   "metadata": {},
   "source": [
    "---"
   ]
  },
  {
   "cell_type": "markdown",
   "id": "40f5433c",
   "metadata": {},
   "source": [
    "### <span style = 'color : red'> 회귀 : 입력하는 data 따라, 급여는 얼마가 될 것인가 </span>"
   ]
  },
  {
   "cell_type": "markdown",
   "id": "01d5895e",
   "metadata": {},
   "source": [
    "### 사용 모델 : <span style='background:yellow'> 의사결정트리 -> 랜덤포레스트, 그래디언트부스팅, 히스트그래디언팅 </span>"
   ]
  },
  {
   "cell_type": "markdown",
   "id": "82b8f238",
   "metadata": {},
   "source": [
    "### 과정 :  \n",
    "### <span style='background:yellow'> 데이터 로딩/확인 - 전처리 - 분리 - all_estimators로 모델 고르기  </span>  \n",
    "### <span style='background:yellow'> 선택 모델 => 객체생성 - 훈련 - CV+파라미터조절=그리드서치 - 평가 - 예측 </span>"
   ]
  },
  {
   "cell_type": "markdown",
   "id": "c3f59f47",
   "metadata": {},
   "source": [
    "---"
   ]
  },
  {
   "cell_type": "markdown",
   "id": "a3bda79d",
   "metadata": {},
   "source": [
    "### <span style = 'color : blue'> [ 모듈 로딩 ] </span>"
   ]
  },
  {
   "cell_type": "code",
   "execution_count": 1,
   "id": "eff7f6ba",
   "metadata": {},
   "outputs": [],
   "source": [
    "import pandas as pd\n",
    "import numpy as np\n",
    "import matplotlib.pyplot as plt\n",
    "import warnings\n",
    "warnings.filterwarnings(action='ignore')   # 경고무시\n",
    "import platform\n",
    "from sklearn.model_selection import GridSearchCV\n",
    "\n",
    "# 글씨체\n",
    "if platform.system() == 'Windows':\n",
    "    plt.rc('font', family='Malgun Gothic')\n",
    "else:\n",
    "    plt.rc('font', family='AppleGothic')\n",
    "\n",
    "# 그래프 음수 가능\n",
    "plt.rcParams['axes.unicode_minus'] = False"
   ]
  },
  {
   "cell_type": "markdown",
   "id": "9420b245",
   "metadata": {},
   "source": [
    "### <span style = 'color : blue'>  [ 데이터 불러오기 ] </span>"
   ]
  },
  {
   "cell_type": "code",
   "execution_count": 2,
   "id": "bf02061e",
   "metadata": {},
   "outputs": [
    {
     "data": {
      "text/html": [
       "<div>\n",
       "<style scoped>\n",
       "    .dataframe tbody tr th:only-of-type {\n",
       "        vertical-align: middle;\n",
       "    }\n",
       "\n",
       "    .dataframe tbody tr th {\n",
       "        vertical-align: top;\n",
       "    }\n",
       "\n",
       "    .dataframe thead th {\n",
       "        text-align: right;\n",
       "    }\n",
       "</style>\n",
       "<table border=\"1\" class=\"dataframe\">\n",
       "  <thead>\n",
       "    <tr style=\"text-align: right;\">\n",
       "      <th></th>\n",
       "      <th>work_year</th>\n",
       "      <th>experience_level</th>\n",
       "      <th>employment_type</th>\n",
       "      <th>job_title</th>\n",
       "      <th>salary</th>\n",
       "      <th>salary_currency</th>\n",
       "      <th>employee_residence</th>\n",
       "      <th>remote_ratio</th>\n",
       "      <th>company_location</th>\n",
       "      <th>company_size</th>\n",
       "      <th>salary_in_usd</th>\n",
       "    </tr>\n",
       "  </thead>\n",
       "  <tbody>\n",
       "    <tr>\n",
       "      <th>0</th>\n",
       "      <td>2020</td>\n",
       "      <td>MI</td>\n",
       "      <td>FT</td>\n",
       "      <td>Scientist</td>\n",
       "      <td>70000</td>\n",
       "      <td>EUR</td>\n",
       "      <td>DE</td>\n",
       "      <td>0</td>\n",
       "      <td>DE</td>\n",
       "      <td>L</td>\n",
       "      <td>79833</td>\n",
       "    </tr>\n",
       "    <tr>\n",
       "      <th>1</th>\n",
       "      <td>2020</td>\n",
       "      <td>SE</td>\n",
       "      <td>FT</td>\n",
       "      <td>Scientist</td>\n",
       "      <td>260000</td>\n",
       "      <td>USD</td>\n",
       "      <td>JP</td>\n",
       "      <td>0</td>\n",
       "      <td>JP</td>\n",
       "      <td>S</td>\n",
       "      <td>260000</td>\n",
       "    </tr>\n",
       "    <tr>\n",
       "      <th>2</th>\n",
       "      <td>2020</td>\n",
       "      <td>SE</td>\n",
       "      <td>FT</td>\n",
       "      <td>Engineer</td>\n",
       "      <td>85000</td>\n",
       "      <td>GBP</td>\n",
       "      <td>GB</td>\n",
       "      <td>50</td>\n",
       "      <td>GB</td>\n",
       "      <td>M</td>\n",
       "      <td>109024</td>\n",
       "    </tr>\n",
       "    <tr>\n",
       "      <th>3</th>\n",
       "      <td>2020</td>\n",
       "      <td>MI</td>\n",
       "      <td>FT</td>\n",
       "      <td>Analyst</td>\n",
       "      <td>20000</td>\n",
       "      <td>USD</td>\n",
       "      <td>HN</td>\n",
       "      <td>0</td>\n",
       "      <td>HN</td>\n",
       "      <td>S</td>\n",
       "      <td>20000</td>\n",
       "    </tr>\n",
       "    <tr>\n",
       "      <th>4</th>\n",
       "      <td>2020</td>\n",
       "      <td>SE</td>\n",
       "      <td>FT</td>\n",
       "      <td>Engineer</td>\n",
       "      <td>150000</td>\n",
       "      <td>USD</td>\n",
       "      <td>US</td>\n",
       "      <td>50</td>\n",
       "      <td>US</td>\n",
       "      <td>L</td>\n",
       "      <td>150000</td>\n",
       "    </tr>\n",
       "  </tbody>\n",
       "</table>\n",
       "</div>"
      ],
      "text/plain": [
       "   work_year experience_level employment_type  job_title  salary  \\\n",
       "0       2020               MI              FT  Scientist   70000   \n",
       "1       2020               SE              FT  Scientist  260000   \n",
       "2       2020               SE              FT   Engineer   85000   \n",
       "3       2020               MI              FT    Analyst   20000   \n",
       "4       2020               SE              FT   Engineer  150000   \n",
       "\n",
       "  salary_currency employee_residence  remote_ratio company_location  \\\n",
       "0             EUR                 DE             0               DE   \n",
       "1             USD                 JP             0               JP   \n",
       "2             GBP                 GB            50               GB   \n",
       "3             USD                 HN             0               HN   \n",
       "4             USD                 US            50               US   \n",
       "\n",
       "  company_size  salary_in_usd  \n",
       "0            L          79833  \n",
       "1            S         260000  \n",
       "2            M         109024  \n",
       "3            S          20000  \n",
       "4            L         150000  "
      ]
     },
     "execution_count": 2,
     "metadata": {},
     "output_type": "execute_result"
    }
   ],
   "source": [
    "# 데이터 읽어오기\n",
    "df = pd.read_csv('./data/ds_salaries_ori.csv')\n",
    "df.head()"
   ]
  },
  {
   "cell_type": "code",
   "execution_count": 3,
   "id": "feb6de7d",
   "metadata": {},
   "outputs": [
    {
     "name": "stdout",
     "output_type": "stream",
     "text": [
      "<class 'pandas.core.frame.DataFrame'>\n",
      "RangeIndex: 606 entries, 0 to 605\n",
      "Data columns (total 11 columns):\n",
      " #   Column              Non-Null Count  Dtype \n",
      "---  ------              --------------  ----- \n",
      " 0   work_year           606 non-null    int64 \n",
      " 1   experience_level    606 non-null    object\n",
      " 2   employment_type     606 non-null    object\n",
      " 3   job_title           606 non-null    object\n",
      " 4   salary              606 non-null    int64 \n",
      " 5   salary_currency     606 non-null    object\n",
      " 6   employee_residence  606 non-null    object\n",
      " 7   remote_ratio        606 non-null    int64 \n",
      " 8   company_location    606 non-null    object\n",
      " 9   company_size        606 non-null    object\n",
      " 10  salary_in_usd       606 non-null    int64 \n",
      "dtypes: int64(4), object(7)\n",
      "memory usage: 52.2+ KB\n"
     ]
    }
   ],
   "source": [
    "# 데이터 확인\n",
    "df.info()"
   ]
  },
  {
   "cell_type": "code",
   "execution_count": 4,
   "id": "fc7a4ebf",
   "metadata": {},
   "outputs": [
    {
     "data": {
      "text/plain": [
       "work_year             0\n",
       "experience_level      0\n",
       "employment_type       0\n",
       "job_title             0\n",
       "salary                0\n",
       "salary_currency       0\n",
       "employee_residence    0\n",
       "remote_ratio          0\n",
       "company_location      0\n",
       "company_size          0\n",
       "salary_in_usd         0\n",
       "dtype: int64"
      ]
     },
     "execution_count": 4,
     "metadata": {},
     "output_type": "execute_result"
    }
   ],
   "source": [
    "# 결측치 개수 확인\n",
    "df.isnull().sum()"
   ]
  },
  {
   "cell_type": "markdown",
   "id": "6ff39252",
   "metadata": {},
   "source": [
    "---"
   ]
  },
  {
   "cell_type": "markdown",
   "id": "800e2f31",
   "metadata": {},
   "source": [
    "### <span style = 'color : blue'> [ 전처리 ] </span>"
   ]
  },
  {
   "cell_type": "markdown",
   "id": "7178d5bc",
   "metadata": {},
   "source": [
    "미리 엑셀로 'job_title'의 직업들을 1차적으로 수정한 상태  (53가지 -> 8가지)  \n",
    "\n",
    "ex)  \n",
    "'Machine Learning Developer',  \n",
    "'Applied Machine Learning Scientist', 'Data Analytics Manager',  \n",
    "'Data Specialist', 'Data Architect','BI Data Analyst','Research Scientist', ... \n",
    "  \n",
    "=> Analyst, Architect, Consultant, Developer, Engineer, Manager, Scientist, Data "
   ]
  },
  {
   "cell_type": "code",
   "execution_count": 5,
   "id": "3a5317ea",
   "metadata": {},
   "outputs": [
    {
     "data": {
      "text/plain": [
       "array(['Scientist', 'Engineer', 'Analyst', 'Consultant', 'Manager',\n",
       "       'Data', 'Developer', 'Architect'], dtype=object)"
      ]
     },
     "execution_count": 5,
     "metadata": {},
     "output_type": "execute_result"
    }
   ],
   "source": [
    "df['job_title'].unique()"
   ]
  },
  {
   "cell_type": "markdown",
   "id": "e3750669",
   "metadata": {},
   "source": [
    "---"
   ]
  },
  {
   "cell_type": "markdown",
   "id": "507dd0d3",
   "metadata": {},
   "source": [
    "'salary'까지 넣었다가 score가 좋았는데,  \n",
    "  \n",
    "생각해보니 타겟인 'salary_in_usd'를 us달러 비율로 바꾸기 전의 값이었기 때문에  \n",
    "  \n",
    "특성 중요도도 높고, 모델 자체의 score가 좋게 나올 수 밖에 없었음을 깨닫게 됨  \n",
    "  \n",
    "=> 타겟값을 그대로 넣어버린셈. 차후에 해당 피처 삭제   \n",
    "\n"
   ]
  },
  {
   "cell_type": "code",
   "execution_count": 6,
   "id": "41cfb2b2",
   "metadata": {},
   "outputs": [],
   "source": [
    "# 불필요 피처 삭제\n",
    "df.drop(['work_year','salary'], axis=1, inplace=True)\n",
    "# salary는 salary_in_usd와 비슷한 피처라 삭제\n",
    "# employee_residence는 company_location와 비슷"
   ]
  },
  {
   "cell_type": "code",
   "execution_count": 7,
   "id": "e94cf64a",
   "metadata": {
    "scrolled": true
   },
   "outputs": [
    {
     "data": {
      "text/plain": [
       "Index(['experience_level', 'employment_type', 'job_title', 'salary_currency',\n",
       "       'employee_residence', 'remote_ratio', 'company_location',\n",
       "       'company_size', 'salary_in_usd'],\n",
       "      dtype='object')"
      ]
     },
     "execution_count": 7,
     "metadata": {},
     "output_type": "execute_result"
    }
   ],
   "source": [
    "df.columns"
   ]
  },
  {
   "cell_type": "markdown",
   "id": "1b77d702",
   "metadata": {},
   "source": [
    "---"
   ]
  },
  {
   "cell_type": "markdown",
   "id": "b57f70d6",
   "metadata": {},
   "source": [
    "### <span style = 'color : blue'> One-Hot Encoding </span>"
   ]
  },
  {
   "cell_type": "markdown",
   "id": "db9aef63",
   "metadata": {},
   "source": [
    "처음엔 했다가,  \n",
    "타겟을 제외한 모든 피처들이 범주형, 특히 'job_title' 피처는 1차적으로 묶어주었음에도 8개  \n",
    "원-핫 코딩을 하면 너무 많은 추가적인 피처들이 생김  \n",
    "  \n",
    "컬럼이 너무 많아지면?  \n",
    "각 특성의 범주에 들어가는 변수들이 모두 새로운 특성이 되므로 범주의 종류가 많아질수록 전체 데이터의 특성이 엄청나게 늘어남  \n",
    "(이렇게 많아지는걸 high cardinality라고 말함) 이럴경우 원핫인코딩이 좋지 않음  "
   ]
  },
  {
   "cell_type": "markdown",
   "id": "7c3a6c32",
   "metadata": {},
   "source": [
    "### <span style = 'color : blue'> LabelEncoder </span>"
   ]
  },
  {
   "cell_type": "code",
   "execution_count": 8,
   "id": "bda1fbe5",
   "metadata": {},
   "outputs": [],
   "source": [
    "from sklearn.preprocessing import LabelEncoder\n",
    "la = LabelEncoder()\n",
    "\n",
    "feature = ['experience_level', 'employment_type', 'job_title',\n",
    "       'salary_currency', 'employee_residence', 'remote_ratio',\n",
    "       'company_location', 'company_size']\n",
    "\n",
    "for i in feature:\n",
    "    la.fit(df[i])\n",
    "    df[i] = la.transform(df[i])"
   ]
  },
  {
   "cell_type": "code",
   "execution_count": 9,
   "id": "daea1f36",
   "metadata": {},
   "outputs": [
    {
     "data": {
      "text/html": [
       "<div>\n",
       "<style scoped>\n",
       "    .dataframe tbody tr th:only-of-type {\n",
       "        vertical-align: middle;\n",
       "    }\n",
       "\n",
       "    .dataframe tbody tr th {\n",
       "        vertical-align: top;\n",
       "    }\n",
       "\n",
       "    .dataframe thead th {\n",
       "        text-align: right;\n",
       "    }\n",
       "</style>\n",
       "<table border=\"1\" class=\"dataframe\">\n",
       "  <thead>\n",
       "    <tr style=\"text-align: right;\">\n",
       "      <th></th>\n",
       "      <th>experience_level</th>\n",
       "      <th>employment_type</th>\n",
       "      <th>job_title</th>\n",
       "      <th>salary_currency</th>\n",
       "      <th>employee_residence</th>\n",
       "      <th>remote_ratio</th>\n",
       "      <th>company_location</th>\n",
       "      <th>company_size</th>\n",
       "      <th>salary_in_usd</th>\n",
       "    </tr>\n",
       "  </thead>\n",
       "  <tbody>\n",
       "    <tr>\n",
       "      <th>0</th>\n",
       "      <td>2</td>\n",
       "      <td>2</td>\n",
       "      <td>7</td>\n",
       "      <td>7</td>\n",
       "      <td>14</td>\n",
       "      <td>0</td>\n",
       "      <td>12</td>\n",
       "      <td>0</td>\n",
       "      <td>79833</td>\n",
       "    </tr>\n",
       "    <tr>\n",
       "      <th>1</th>\n",
       "      <td>3</td>\n",
       "      <td>2</td>\n",
       "      <td>7</td>\n",
       "      <td>16</td>\n",
       "      <td>32</td>\n",
       "      <td>0</td>\n",
       "      <td>29</td>\n",
       "      <td>2</td>\n",
       "      <td>260000</td>\n",
       "    </tr>\n",
       "    <tr>\n",
       "      <th>2</th>\n",
       "      <td>3</td>\n",
       "      <td>2</td>\n",
       "      <td>5</td>\n",
       "      <td>8</td>\n",
       "      <td>20</td>\n",
       "      <td>1</td>\n",
       "      <td>18</td>\n",
       "      <td>1</td>\n",
       "      <td>109024</td>\n",
       "    </tr>\n",
       "    <tr>\n",
       "      <th>3</th>\n",
       "      <td>2</td>\n",
       "      <td>2</td>\n",
       "      <td>0</td>\n",
       "      <td>16</td>\n",
       "      <td>23</td>\n",
       "      <td>0</td>\n",
       "      <td>20</td>\n",
       "      <td>2</td>\n",
       "      <td>20000</td>\n",
       "    </tr>\n",
       "    <tr>\n",
       "      <th>4</th>\n",
       "      <td>3</td>\n",
       "      <td>2</td>\n",
       "      <td>5</td>\n",
       "      <td>16</td>\n",
       "      <td>55</td>\n",
       "      <td>1</td>\n",
       "      <td>48</td>\n",
       "      <td>0</td>\n",
       "      <td>150000</td>\n",
       "    </tr>\n",
       "    <tr>\n",
       "      <th>...</th>\n",
       "      <td>...</td>\n",
       "      <td>...</td>\n",
       "      <td>...</td>\n",
       "      <td>...</td>\n",
       "      <td>...</td>\n",
       "      <td>...</td>\n",
       "      <td>...</td>\n",
       "      <td>...</td>\n",
       "      <td>...</td>\n",
       "    </tr>\n",
       "    <tr>\n",
       "      <th>601</th>\n",
       "      <td>3</td>\n",
       "      <td>2</td>\n",
       "      <td>5</td>\n",
       "      <td>16</td>\n",
       "      <td>55</td>\n",
       "      <td>2</td>\n",
       "      <td>48</td>\n",
       "      <td>1</td>\n",
       "      <td>154000</td>\n",
       "    </tr>\n",
       "    <tr>\n",
       "      <th>602</th>\n",
       "      <td>3</td>\n",
       "      <td>2</td>\n",
       "      <td>5</td>\n",
       "      <td>16</td>\n",
       "      <td>55</td>\n",
       "      <td>2</td>\n",
       "      <td>48</td>\n",
       "      <td>1</td>\n",
       "      <td>126000</td>\n",
       "    </tr>\n",
       "    <tr>\n",
       "      <th>603</th>\n",
       "      <td>3</td>\n",
       "      <td>2</td>\n",
       "      <td>0</td>\n",
       "      <td>16</td>\n",
       "      <td>55</td>\n",
       "      <td>0</td>\n",
       "      <td>48</td>\n",
       "      <td>1</td>\n",
       "      <td>129000</td>\n",
       "    </tr>\n",
       "    <tr>\n",
       "      <th>604</th>\n",
       "      <td>3</td>\n",
       "      <td>2</td>\n",
       "      <td>0</td>\n",
       "      <td>16</td>\n",
       "      <td>55</td>\n",
       "      <td>2</td>\n",
       "      <td>48</td>\n",
       "      <td>1</td>\n",
       "      <td>150000</td>\n",
       "    </tr>\n",
       "    <tr>\n",
       "      <th>605</th>\n",
       "      <td>2</td>\n",
       "      <td>2</td>\n",
       "      <td>7</td>\n",
       "      <td>16</td>\n",
       "      <td>27</td>\n",
       "      <td>2</td>\n",
       "      <td>48</td>\n",
       "      <td>0</td>\n",
       "      <td>200000</td>\n",
       "    </tr>\n",
       "  </tbody>\n",
       "</table>\n",
       "<p>606 rows × 9 columns</p>\n",
       "</div>"
      ],
      "text/plain": [
       "     experience_level  employment_type  job_title  salary_currency  \\\n",
       "0                   2                2          7                7   \n",
       "1                   3                2          7               16   \n",
       "2                   3                2          5                8   \n",
       "3                   2                2          0               16   \n",
       "4                   3                2          5               16   \n",
       "..                ...              ...        ...              ...   \n",
       "601                 3                2          5               16   \n",
       "602                 3                2          5               16   \n",
       "603                 3                2          0               16   \n",
       "604                 3                2          0               16   \n",
       "605                 2                2          7               16   \n",
       "\n",
       "     employee_residence  remote_ratio  company_location  company_size  \\\n",
       "0                    14             0                12             0   \n",
       "1                    32             0                29             2   \n",
       "2                    20             1                18             1   \n",
       "3                    23             0                20             2   \n",
       "4                    55             1                48             0   \n",
       "..                  ...           ...               ...           ...   \n",
       "601                  55             2                48             1   \n",
       "602                  55             2                48             1   \n",
       "603                  55             0                48             1   \n",
       "604                  55             2                48             1   \n",
       "605                  27             2                48             0   \n",
       "\n",
       "     salary_in_usd  \n",
       "0            79833  \n",
       "1           260000  \n",
       "2           109024  \n",
       "3            20000  \n",
       "4           150000  \n",
       "..             ...  \n",
       "601         154000  \n",
       "602         126000  \n",
       "603         129000  \n",
       "604         150000  \n",
       "605         200000  \n",
       "\n",
       "[606 rows x 9 columns]"
      ]
     },
     "execution_count": 9,
     "metadata": {},
     "output_type": "execute_result"
    }
   ],
   "source": [
    "df"
   ]
  },
  {
   "cell_type": "markdown",
   "id": "a8fbefe8",
   "metadata": {},
   "source": [
    "---"
   ]
  },
  {
   "cell_type": "markdown",
   "id": "107d6622",
   "metadata": {},
   "source": [
    "### <span style = 'color : blue'> [ 학습 & 테스트 데이터 분리 ] </span>"
   ]
  },
  {
   "cell_type": "code",
   "execution_count": 10,
   "id": "53c16091",
   "metadata": {},
   "outputs": [
    {
     "name": "stdout",
     "output_type": "stream",
     "text": [
      "X.shape: (606, 8),  y.shape: (606,)\n"
     ]
    }
   ],
   "source": [
    "# NumPy 배열 추출\n",
    "X = df.iloc[:, :-1].values\n",
    "y = df['salary_in_usd'].values\n",
    "print('X.shape: {},  y.shape: {}'.format(X.shape, y.shape))"
   ]
  },
  {
   "cell_type": "code",
   "execution_count": 11,
   "id": "a398fc18",
   "metadata": {},
   "outputs": [],
   "source": [
    "from sklearn.model_selection import train_test_split\n",
    "\n",
    "X_train, X_test, y_train, y_test = train_test_split(X, y)\n",
    "# 데이터가 적어서 test자료를 25%, 15%, 10% 해보았는데, 기본값이 제일 나았음\n",
    "# stratify 파라미터는 회귀보다 분류에서 쓴다고 함 (like stratifiedKFold)"
   ]
  },
  {
   "cell_type": "markdown",
   "id": "060ccab0",
   "metadata": {},
   "source": [
    "---"
   ]
  },
  {
   "cell_type": "markdown",
   "id": "9044826f",
   "metadata": {},
   "source": [
    "### <span style = 'color : blue'> [ all_estimators로 모델 고르기 ] </span>"
   ]
  },
  {
   "cell_type": "code",
   "execution_count": 12,
   "id": "e5a4105f",
   "metadata": {
    "scrolled": true
   },
   "outputs": [],
   "source": [
    "# 필터 타입에 해당하는 sklearn에 존재하는 모든 모델 이름과 객체 리스트로 반환\n",
    "from sklearn.utils import all_estimators\n",
    "models = all_estimators(type_filter = 'regressor')\n",
    "\n",
    "# 각 모델들 훈련시키고 정확도 추출\n",
    "scores = []\n",
    "for name, model in models:\n",
    "    try:\n",
    "        # 모델 객체 생성\n",
    "        md = model()\n",
    "        # 학습\n",
    "        md.fit(X_train, y_train)\n",
    "        # 평가\n",
    "        result = md.score(X_test, y_test)\n",
    "    \n",
    "        scores.append((name, np.round(result,3)))\n",
    "    except:\n",
    "        pass"
   ]
  },
  {
   "cell_type": "code",
   "execution_count": 13,
   "id": "bb919d3c",
   "metadata": {},
   "outputs": [
    {
     "data": {
      "text/plain": [
       "[('ARDRegression', 0.282),\n",
       " ('AdaBoostRegressor', 0.067),\n",
       " ('BaggingRegressor', 0.41),\n",
       " ('BayesianRidge', 0.274),\n",
       " ('CCA', -0.195),\n",
       " ('DecisionTreeRegressor', 0.176),\n",
       " ('DummyRegressor', -0.026),\n",
       " ('ElasticNet', 0.265),\n",
       " ('ElasticNetCV', 0.142),\n",
       " ('ExtraTreeRegressor', 0.275),\n",
       " ('ExtraTreesRegressor', 0.361),\n",
       " ('GammaRegressor', 0.243),\n",
       " ('GaussianProcessRegressor', 0.109),\n",
       " ('GradientBoostingRegressor', 0.392),\n",
       " ('HistGradientBoostingRegressor', 0.409),\n",
       " ('HuberRegressor', 0.302),\n",
       " ('KNeighborsRegressor', 0.285),\n",
       " ('KernelRidge', 0.273),\n",
       " ('Lars', 0.246),\n",
       " ('LarsCV', 0.271),\n",
       " ('Lasso', 0.246),\n",
       " ('LassoCV', 0.278),\n",
       " ('LassoLars', 0.247),\n",
       " ('LassoLarsCV', 0.271),\n",
       " ('LassoLarsIC', 0.265),\n",
       " ('LinearRegression', 0.246),\n",
       " ('LinearSVR', 0.167),\n",
       " ('MLPRegressor', -2.159),\n",
       " ('NuSVR', -0.005),\n",
       " ('OrthogonalMatchingPursuit', 0.157),\n",
       " ('OrthogonalMatchingPursuitCV', 0.23),\n",
       " ('PLSCanonical', -1.451),\n",
       " ('PLSRegression', 0.267),\n",
       " ('PassiveAggressiveRegressor', 0.229),\n",
       " ('PoissonRegressor', 0.307),\n",
       " ('QuantileRegressor', 0.173),\n",
       " ('RANSACRegressor', 0.26),\n",
       " ('RadiusNeighborsRegressor', -6.381557215230924e+27),\n",
       " ('RandomForestRegressor', 0.345),\n",
       " ('Ridge', 0.249),\n",
       " ('RidgeCV', 0.264),\n",
       " ('SGDRegressor', -8439744091843.221),\n",
       " ('SVR', 0.001),\n",
       " ('TheilSenRegressor', -0.894),\n",
       " ('TransformedTargetRegressor', 0.246),\n",
       " ('TweedieRegressor', 0.252)]"
      ]
     },
     "execution_count": 13,
     "metadata": {},
     "output_type": "execute_result"
    }
   ],
   "source": [
    "scores\n",
    "\n",
    "# 'HistGradientBoostingRegressor', 0.499\n",
    "# 'GradientBoostingRegressor', 0.466\n",
    "# 'RandomForestRegressor', 0.482"
   ]
  },
  {
   "cell_type": "markdown",
   "id": "cdbd1696",
   "metadata": {},
   "source": [
    "#### <span style='background:yellow'> 원-핫 인코딩(피처수), train-test 분리할 때 test_size, 피처간 관계파악 -> 피처 조절(특성 공학), 모델의 선정, 하이퍼 파라미터 조절 </span>"
   ]
  },
  {
   "cell_type": "markdown",
   "id": "5c342e44",
   "metadata": {},
   "source": [
    "### <span style = 'color : blue'> [ 의사결정나무 ] </span>"
   ]
  },
  {
   "cell_type": "code",
   "execution_count": 14,
   "id": "2ac5cf4c",
   "metadata": {},
   "outputs": [
    {
     "data": {
      "text/plain": [
       "DecisionTreeRegressor()"
      ]
     },
     "execution_count": 14,
     "metadata": {},
     "output_type": "execute_result"
    }
   ],
   "source": [
    "from sklearn.tree import DecisionTreeRegressor\n",
    "r_model = DecisionTreeRegressor()\n",
    "r_model"
   ]
  },
  {
   "cell_type": "code",
   "execution_count": 15,
   "id": "1c642292",
   "metadata": {},
   "outputs": [
    {
     "name": "stdout",
     "output_type": "stream",
     "text": [
      "훈  련 세트 : 0.763\n",
      "테스트 세트 : 0.166\n"
     ]
    }
   ],
   "source": [
    "r_model.fit(X_train, y_train)\n",
    "print(\"훈  련 세트 : {:.3f}\".format(r_model.score(X_train, y_train)))\n",
    "print(\"테스트 세트 : {:.3f}\".format(r_model.score(X_test, y_test)))"
   ]
  },
  {
   "cell_type": "code",
   "execution_count": 16,
   "id": "5db72e44",
   "metadata": {},
   "outputs": [
    {
     "data": {
      "text/plain": [
       "Index(['experience_level', 'employment_type', 'job_title', 'salary_currency',\n",
       "       'employee_residence', 'remote_ratio', 'company_location',\n",
       "       'company_size', 'salary_in_usd'],\n",
       "      dtype='object')"
      ]
     },
     "execution_count": 16,
     "metadata": {},
     "output_type": "execute_result"
    }
   ],
   "source": [
    "# 피처이름 미리 정해주기\n",
    "feature_names = df.columns[:9]\n",
    "feature_names"
   ]
  },
  {
   "cell_type": "code",
   "execution_count": 17,
   "id": "f34c56b2",
   "metadata": {},
   "outputs": [
    {
     "data": {
      "image/png": "[encoded data removed]",
      "text/plain": [
       "<Figure size 864x432 with 1 Axes>"
      ]
     },
     "metadata": {
      "needs_background": "light"
     },
     "output_type": "display_data"
    }
   ],
   "source": [
    "from sklearn.tree import plot_tree\n",
    "plt.figure(figsize=(12,6))\n",
    "plot_tree(r_model, max_depth=3, filled=True, feature_names=feature_names,\n",
    "          impurity=False, rounded=True, fontsize=12)\n",
    "plt.show()"
   ]
  },
  {
   "cell_type": "code",
   "execution_count": 18,
   "id": "fc12bcee",
   "metadata": {},
   "outputs": [
    {
     "name": "stdout",
     "output_type": "stream",
     "text": [
      "특성 중요도:\n",
      " [0.19111665 0.03036409 0.15174793 0.01514116 0.46541826 0.05405908\n",
      " 0.0274046  0.06474823]\n"
     ]
    }
   ],
   "source": [
    "# 특성 중요도\n",
    "print('특성 중요도:\\n', r_model.feature_importances_)"
   ]
  },
  {
   "cell_type": "code",
   "execution_count": 19,
   "id": "f5432ece",
   "metadata": {},
   "outputs": [
    {
     "data": {
      "image/png": "[encoded data removed]",
      "text/plain": [
       "<Figure size 720x360 with 1 Axes>"
      ]
     },
     "metadata": {
      "needs_background": "light"
     },
     "output_type": "display_data"
    }
   ],
   "source": [
    "def plot_feature_importances_cancer(model):\n",
    "    n_features = X.shape[1]\n",
    "    plt.figure(figsize=(10,5))\n",
    "    plt.barh(np.arange(n_features), model.feature_importances_, align='center', color='violet')\n",
    "    plt.yticks(np.arange(n_features), feature, fontsize=15)\n",
    "    plt.xlabel('특성 중요도', fontsize=15)\n",
    "    plt.ylabel('특성', fontsize=15)\n",
    "    plt.ylim(-1, n_features)\n",
    "    plt.show()\n",
    "    \n",
    "plot_feature_importances_cancer(r_model)"
   ]
  },
  {
   "cell_type": "markdown",
   "id": "cf9ef2ff",
   "metadata": {},
   "source": [
    "### <span style = 'color : blue'> [ 랜덤 포레스트 ] </span>"
   ]
  },
  {
   "cell_type": "code",
   "execution_count": 20,
   "id": "8ce1b5f5",
   "metadata": {},
   "outputs": [
    {
     "data": {
      "text/plain": [
       "RandomForestRegressor(max_depth=5, max_features=0.7, max_samples=0.9,\n",
       "                      n_estimators=50, oob_score=True)"
      ]
     },
     "execution_count": 20,
     "metadata": {},
     "output_type": "execute_result"
    }
   ],
   "source": [
    "from sklearn.ensemble import RandomForestRegressor\n",
    "regr = RandomForestRegressor(max_depth=5, max_features=0.7, max_samples=0.9,\n",
    "                      n_estimators=50, oob_score=True)\n",
    "regr = regr.fit(X_train, y_train)\n",
    "regr"
   ]
  },
  {
   "cell_type": "code",
   "execution_count": 21,
   "id": "09942771",
   "metadata": {},
   "outputs": [
    {
     "name": "stdout",
     "output_type": "stream",
     "text": [
      "특성 중요도:\n",
      " [0.19006597 0.03511515 0.08617683 0.08612741 0.3796264  0.02010085\n",
      " 0.14529448 0.05749291]\n"
     ]
    }
   ],
   "source": [
    "# 특성 중요도\n",
    "print('특성 중요도:\\n', regr.feature_importances_)"
   ]
  },
  {
   "cell_type": "code",
   "execution_count": 22,
   "id": "dfa8aa00",
   "metadata": {
    "scrolled": true
   },
   "outputs": [
    {
     "data": {
      "image/png": "[encoded data removed]",
      "text/plain": [
       "<Figure size 720x360 with 1 Axes>"
      ]
     },
     "metadata": {
      "needs_background": "light"
     },
     "output_type": "display_data"
    }
   ],
   "source": [
    "plot_feature_importances_cancer(regr)"
   ]
  },
  {
   "cell_type": "markdown",
   "id": "074a827a",
   "metadata": {},
   "source": [
    "### <span style = 'color : blue'> 교차검증 (CV) </span>"
   ]
  },
  {
   "cell_type": "code",
   "execution_count": 23,
   "id": "7104b9e5",
   "metadata": {},
   "outputs": [],
   "source": [
    "from sklearn.model_selection import cross_val_score, cross_validate # 각 활용처 알아보고 cross_val_predict,\n",
    "result = cross_val_score(regr, X, y, cv=10)"
   ]
  },
  {
   "cell_type": "code",
   "execution_count": 24,
   "id": "4d386188",
   "metadata": {},
   "outputs": [],
   "source": [
    "allResult = cross_validate(regr, X, y, \n",
    "                           return_train_score=True,\n",
    "                           cv=10)"
   ]
  },
  {
   "cell_type": "code",
   "execution_count": 25,
   "id": "b2043c77",
   "metadata": {
    "scrolled": false
   },
   "outputs": [
    {
     "data": {
      "text/html": [
       "<div>\n",
       "<style scoped>\n",
       "    .dataframe tbody tr th:only-of-type {\n",
       "        vertical-align: middle;\n",
       "    }\n",
       "\n",
       "    .dataframe tbody tr th {\n",
       "        vertical-align: top;\n",
       "    }\n",
       "\n",
       "    .dataframe thead th {\n",
       "        text-align: right;\n",
       "    }\n",
       "</style>\n",
       "<table border=\"1\" class=\"dataframe\">\n",
       "  <thead>\n",
       "    <tr style=\"text-align: right;\">\n",
       "      <th></th>\n",
       "      <th>test_score</th>\n",
       "      <th>train_score</th>\n",
       "    </tr>\n",
       "  </thead>\n",
       "  <tbody>\n",
       "    <tr>\n",
       "      <th>0</th>\n",
       "      <td>0.428465</td>\n",
       "      <td>0.572712</td>\n",
       "    </tr>\n",
       "    <tr>\n",
       "      <th>1</th>\n",
       "      <td>0.409829</td>\n",
       "      <td>0.563007</td>\n",
       "    </tr>\n",
       "    <tr>\n",
       "      <th>2</th>\n",
       "      <td>0.416216</td>\n",
       "      <td>0.569362</td>\n",
       "    </tr>\n",
       "    <tr>\n",
       "      <th>3</th>\n",
       "      <td>0.538905</td>\n",
       "      <td>0.526471</td>\n",
       "    </tr>\n",
       "    <tr>\n",
       "      <th>4</th>\n",
       "      <td>0.199166</td>\n",
       "      <td>0.559629</td>\n",
       "    </tr>\n",
       "    <tr>\n",
       "      <th>5</th>\n",
       "      <td>0.424311</td>\n",
       "      <td>0.563254</td>\n",
       "    </tr>\n",
       "    <tr>\n",
       "      <th>6</th>\n",
       "      <td>0.446885</td>\n",
       "      <td>0.562618</td>\n",
       "    </tr>\n",
       "    <tr>\n",
       "      <th>7</th>\n",
       "      <td>0.506684</td>\n",
       "      <td>0.549800</td>\n",
       "    </tr>\n",
       "    <tr>\n",
       "      <th>8</th>\n",
       "      <td>0.440592</td>\n",
       "      <td>0.564888</td>\n",
       "    </tr>\n",
       "    <tr>\n",
       "      <th>9</th>\n",
       "      <td>0.197446</td>\n",
       "      <td>0.571651</td>\n",
       "    </tr>\n",
       "  </tbody>\n",
       "</table>\n",
       "</div>"
      ],
      "text/plain": [
       "   test_score  train_score\n",
       "0    0.428465     0.572712\n",
       "1    0.409829     0.563007\n",
       "2    0.416216     0.569362\n",
       "3    0.538905     0.526471\n",
       "4    0.199166     0.559629\n",
       "5    0.424311     0.563254\n",
       "6    0.446885     0.562618\n",
       "7    0.506684     0.549800\n",
       "8    0.440592     0.564888\n",
       "9    0.197446     0.571651"
      ]
     },
     "execution_count": 25,
     "metadata": {},
     "output_type": "execute_result"
    }
   ],
   "source": [
    "resultDF1 = pd.DataFrame(allResult)\n",
    "resultDF1[['test_score', 'train_score']]"
   ]
  },
  {
   "cell_type": "markdown",
   "id": "948ae2d9",
   "metadata": {},
   "source": [
    "### <span style = 'color : blue'> KFold </span>"
   ]
  },
  {
   "cell_type": "code",
   "execution_count": 26,
   "id": "314ed02b",
   "metadata": {},
   "outputs": [],
   "source": [
    "# Splitter 객체 생성 - KFold()\n",
    "from sklearn.model_selection import KFold\n",
    "\n",
    "kSplitter = KFold(n_splits=10, shuffle=True)"
   ]
  },
  {
   "cell_type": "code",
   "execution_count": 27,
   "id": "d106a48b",
   "metadata": {
    "scrolled": false
   },
   "outputs": [
    {
     "data": {
      "text/html": [
       "<div>\n",
       "<style scoped>\n",
       "    .dataframe tbody tr th:only-of-type {\n",
       "        vertical-align: middle;\n",
       "    }\n",
       "\n",
       "    .dataframe tbody tr th {\n",
       "        vertical-align: top;\n",
       "    }\n",
       "\n",
       "    .dataframe thead th {\n",
       "        text-align: right;\n",
       "    }\n",
       "</style>\n",
       "<table border=\"1\" class=\"dataframe\">\n",
       "  <thead>\n",
       "    <tr style=\"text-align: right;\">\n",
       "      <th></th>\n",
       "      <th>test_score</th>\n",
       "      <th>train_score</th>\n",
       "    </tr>\n",
       "  </thead>\n",
       "  <tbody>\n",
       "    <tr>\n",
       "      <th>0</th>\n",
       "      <td>0.475693</td>\n",
       "      <td>0.557078</td>\n",
       "    </tr>\n",
       "    <tr>\n",
       "      <th>1</th>\n",
       "      <td>0.506169</td>\n",
       "      <td>0.566578</td>\n",
       "    </tr>\n",
       "    <tr>\n",
       "      <th>2</th>\n",
       "      <td>0.218523</td>\n",
       "      <td>0.610685</td>\n",
       "    </tr>\n",
       "    <tr>\n",
       "      <th>3</th>\n",
       "      <td>0.581646</td>\n",
       "      <td>0.551404</td>\n",
       "    </tr>\n",
       "    <tr>\n",
       "      <th>4</th>\n",
       "      <td>0.468480</td>\n",
       "      <td>0.547046</td>\n",
       "    </tr>\n",
       "    <tr>\n",
       "      <th>5</th>\n",
       "      <td>0.414220</td>\n",
       "      <td>0.565734</td>\n",
       "    </tr>\n",
       "    <tr>\n",
       "      <th>6</th>\n",
       "      <td>0.499434</td>\n",
       "      <td>0.547403</td>\n",
       "    </tr>\n",
       "    <tr>\n",
       "      <th>7</th>\n",
       "      <td>0.494055</td>\n",
       "      <td>0.560584</td>\n",
       "    </tr>\n",
       "    <tr>\n",
       "      <th>8</th>\n",
       "      <td>0.416597</td>\n",
       "      <td>0.559297</td>\n",
       "    </tr>\n",
       "    <tr>\n",
       "      <th>9</th>\n",
       "      <td>0.413075</td>\n",
       "      <td>0.558418</td>\n",
       "    </tr>\n",
       "  </tbody>\n",
       "</table>\n",
       "</div>"
      ],
      "text/plain": [
       "   test_score  train_score\n",
       "0    0.475693     0.557078\n",
       "1    0.506169     0.566578\n",
       "2    0.218523     0.610685\n",
       "3    0.581646     0.551404\n",
       "4    0.468480     0.547046\n",
       "5    0.414220     0.565734\n",
       "6    0.499434     0.547403\n",
       "7    0.494055     0.560584\n",
       "8    0.416597     0.559297\n",
       "9    0.413075     0.558418"
      ]
     },
     "execution_count": 27,
     "metadata": {},
     "output_type": "execute_result"
    }
   ],
   "source": [
    "allResult1 = cross_validate(regr, X, y, \n",
    "                           return_train_score=True,\n",
    "                           return_estimator=True,\n",
    "                           cv=kSplitter)\n",
    "\n",
    "resultDF1 = pd.DataFrame(allResult1)\n",
    "resultDF1[['test_score', 'train_score']]"
   ]
  },
  {
   "cell_type": "markdown",
   "id": "b93a77a9",
   "metadata": {},
   "source": [
    "### <span style = 'color : blue'> 하이퍼파라미터 조절 </span>"
   ]
  },
  {
   "cell_type": "code",
   "execution_count": 28,
   "id": "0eb57bf6",
   "metadata": {},
   "outputs": [
    {
     "name": "stdout",
     "output_type": "stream",
     "text": [
      "결정계수 :  0.71\n",
      "결정계수 :  0.718\n",
      "결정계수 :  0.723\n",
      "결정계수 :  0.717\n",
      "결정계수 :  0.725\n",
      "결정계수 :  0.724\n",
      "결정계수 :  0.728\n",
      "결정계수 :  0.722\n",
      "결정계수 :  0.726\n",
      "결정계수 :  0.724\n",
      "결정계수 :  0.726\n",
      "결정계수 :  0.723\n",
      "결정계수 :  0.722\n",
      "결정계수 :  0.727\n",
      "결정계수 :  0.728\n",
      "결정계수 :  0.726\n",
      "결정계수 :  0.727\n",
      "결정계수 :  0.726\n",
      "결정계수 :  0.727\n",
      "결정계수 :  0.727\n"
     ]
    }
   ],
   "source": [
    "# for문으로 파라미터 하나씩 높은 것 찾아나가기 (여러 파라미터 함께 쓰였을 경우, 달라질 것 생각 못함)\n",
    "for i in range(10,201,10):\n",
    "  r_model = RandomForestRegressor(n_estimators = i)\n",
    "  r_model.fit(X_train, y_train)\n",
    "\n",
    "  relation_square = r_model.score(X_train, y_train)\n",
    "  print('결정계수 : ', round(relation_square,3))"
   ]
  },
  {
   "cell_type": "markdown",
   "id": "4cb0bb1f",
   "metadata": {},
   "source": [
    "### <span style = 'color : blue'> GridSearchCV </span>"
   ]
  },
  {
   "cell_type": "code",
   "execution_count": 29,
   "id": "492e1bcf",
   "metadata": {},
   "outputs": [],
   "source": [
    "parameters_r = {'n_estimators': [50, 100, 150, 200, 400],\n",
    "                  'max_depth'    :  [5, 10, 15, 20],\n",
    "                  'max_samples' : [0.2, 0.4, 0.7, 0.8, 0.9, 1.0],\n",
    "                  'max_features'    : [0.2, 0.4, 0.7, 0.8, 0.9, 1.0]\n",
    "                 }"
   ]
  },
  {
   "cell_type": "code",
   "execution_count": 30,
   "id": "e2e38957",
   "metadata": {},
   "outputs": [
    {
     "ename": "NameError",
     "evalue": "name 'GridSearchCV' is not defined",
     "output_type": "error",
     "traceback": [
      "\u001b[1;31m---------------------------------------------------------------------------\u001b[0m",
      "\u001b[1;31mNameError\u001b[0m                                 Traceback (most recent call last)",
      "Input \u001b[1;32mIn [30]\u001b[0m, in \u001b[0;36m<cell line: 1>\u001b[1;34m()\u001b[0m\n\u001b[1;32m----> 1\u001b[0m grid_reg \u001b[38;5;241m=\u001b[39m \u001b[43mGridSearchCV\u001b[49m(estimator\u001b[38;5;241m=\u001b[39mregr, param_grid \u001b[38;5;241m=\u001b[39m parameters_r, cv \u001b[38;5;241m=\u001b[39m \u001b[38;5;241m2\u001b[39m, n_jobs\u001b[38;5;241m=\u001b[39m\u001b[38;5;241m-\u001b[39m\u001b[38;5;241m1\u001b[39m)\n\u001b[0;32m      2\u001b[0m grid_reg\u001b[38;5;241m.\u001b[39mfit(X_train, y_train)\n",
      "\u001b[1;31mNameError\u001b[0m: name 'GridSearchCV' is not defined"
     ]
    }
   ],
   "source": [
    "grid_reg = GridSearchCV(estimator=regr, param_grid = parameters_r, cv = 2, n_jobs=-1)\n",
    "grid_reg.fit(X_train, y_train)"
   ]
  },
  {
   "cell_type": "code",
   "execution_count": null,
   "id": "cf9c04d6",
   "metadata": {},
   "outputs": [],
   "source": [
    "print(\" Result \" )\n",
    "print(\"\\n [Best estimator] :\\n\",grid_reg.best_estimator_)\n",
    "print(\"\\n [Best score] :\\n\",grid_reg.best_score_)\n",
    "print(\"\\n [Best parameters] :\\n\",grid_reg.best_params_)"
   ]
  },
  {
   "cell_type": "markdown",
   "id": "d7f61121",
   "metadata": {},
   "source": [
    "### <span style = 'color : blue'> 모델 평가 </span>"
   ]
  },
  {
   "cell_type": "code",
   "execution_count": null,
   "id": "316f5bee",
   "metadata": {},
   "outputs": [],
   "source": [
    "# regr.score(X_train, y_train)\n",
    "print(\"훈  련 세트 : {:.3f}\".format(regr.score(X_train, y_train)))\n",
    "print(\"테스트 세트 : {:.3f}\".format(regr.score(X_test, y_test)))\n",
    "print('\\n(파라미터 변경전 : n_jobs=-1,oob_score=True)\\n훈  련 세트 : 0.715\\n테스트 세트 : 0.496')"
   ]
  },
  {
   "cell_type": "markdown",
   "id": "370d0e9c",
   "metadata": {},
   "source": [
    "### <span style = 'color : blue'> 예측값과 실제값 비교 </span>"
   ]
  },
  {
   "cell_type": "code",
   "execution_count": null,
   "id": "3d1c9dd2",
   "metadata": {},
   "outputs": [],
   "source": [
    "X_test = X_test.tolist()\n",
    "y_test = y_test.tolist()"
   ]
  },
  {
   "cell_type": "code",
   "execution_count": null,
   "id": "18d6128c",
   "metadata": {},
   "outputs": [],
   "source": [
    "predicted = regr.predict(X_test)\n",
    "predicted = predicted.tolist()"
   ]
  },
  {
   "cell_type": "code",
   "execution_count": null,
   "id": "68c29b0b",
   "metadata": {},
   "outputs": [],
   "source": [
    "pred_df = pd.DataFrame({ 'test값':y_test, 'predict값':predicted })"
   ]
  },
  {
   "cell_type": "code",
   "execution_count": null,
   "id": "366e1470",
   "metadata": {},
   "outputs": [],
   "source": [
    "plt.figure(figsize=(15,7))\n",
    "plt.title('< 랜덤포레스트_Test값과 Predict값의 비교 >', fontsize=20)\n",
    "plt.plot(pred_df)\n",
    "plt.legend('TP')\n",
    "plt.show()"
   ]
  },
  {
   "cell_type": "markdown",
   "id": "64cb935a",
   "metadata": {},
   "source": [
    "---"
   ]
  },
  {
   "cell_type": "markdown",
   "id": "d9527ce3",
   "metadata": {},
   "source": [
    "### <span style = 'color : blue'> [ 그래디언트부스팅 ] </span>"
   ]
  },
  {
   "cell_type": "code",
   "execution_count": null,
   "id": "6f6f7945",
   "metadata": {},
   "outputs": [],
   "source": [
    "from sklearn.ensemble import GradientBoostingRegressor\n",
    "reg = GradientBoostingRegressor(alpha=0.1, learning_rate=0.03, max_depth=4, subsample=0.9)\n",
    "reg.fit(X_train, y_train)"
   ]
  },
  {
   "cell_type": "markdown",
   "id": "10782b83",
   "metadata": {},
   "source": [
    "### <span style = 'color : blue'> 교차검증 (CV) </span>"
   ]
  },
  {
   "cell_type": "code",
   "execution_count": null,
   "id": "b16ab713",
   "metadata": {},
   "outputs": [],
   "source": [
    "from sklearn.model_selection import cross_val_score, cross_validate # 각 활용처 알아보고 cross_val_predict,\n",
    "result = cross_val_score(reg, X, y, cv=10)"
   ]
  },
  {
   "cell_type": "code",
   "execution_count": null,
   "id": "3e70d1be",
   "metadata": {},
   "outputs": [],
   "source": [
    "allResult = cross_validate(reg, X, y, \n",
    "                           return_train_score=True,\n",
    "                           cv=10)"
   ]
  },
  {
   "cell_type": "code",
   "execution_count": null,
   "id": "28224233",
   "metadata": {
    "scrolled": true
   },
   "outputs": [],
   "source": [
    "resultDF1 = pd.DataFrame(allResult)\n",
    "resultDF1[['test_score', 'train_score']]"
   ]
  },
  {
   "cell_type": "markdown",
   "id": "a643d9b9",
   "metadata": {},
   "source": [
    "### <span style = 'color : blue'> KFold </span>"
   ]
  },
  {
   "cell_type": "code",
   "execution_count": null,
   "id": "d7800580",
   "metadata": {},
   "outputs": [],
   "source": [
    "# Splitter 객체 생성 - KFold()\n",
    "from sklearn.model_selection import KFold\n",
    "\n",
    "kSplitter = KFold(n_splits=10, shuffle=True)"
   ]
  },
  {
   "cell_type": "code",
   "execution_count": null,
   "id": "cd39e221",
   "metadata": {
    "scrolled": false
   },
   "outputs": [],
   "source": [
    "allResult1 = cross_validate(reg, X, y, \n",
    "                           return_train_score=True,\n",
    "                           return_estimator=True,\n",
    "                           cv=kSplitter)\n",
    "\n",
    "resultDF1 = pd.DataFrame(allResult1)\n",
    "resultDF1[['test_score', 'train_score']]"
   ]
  },
  {
   "cell_type": "markdown",
   "id": "730dafbe",
   "metadata": {},
   "source": [
    "### <span style = 'color : blue'> 하이퍼파라미터 조절 </span>"
   ]
  },
  {
   "cell_type": "markdown",
   "id": "f5c59a76",
   "metadata": {},
   "source": [
    "### <span style = 'color : blue'> GridSearchCV </span>"
   ]
  },
  {
   "cell_type": "code",
   "execution_count": null,
   "id": "33104144",
   "metadata": {},
   "outputs": [],
   "source": [
    "parameters = {'learning_rate': [0.01,0.02,0.03,0.04],\n",
    "              'alpha'    : [0.1, 0.3, 0.5, 0.7],\n",
    "              'n_estimators' : [100,500,1000, 1500],\n",
    "              'max_depth'    : [4,6,8,10],\n",
    "               'subsample'   : [0.3, 0.5, 0.9, 1.5]\n",
    "                 }"
   ]
  },
  {
   "cell_type": "code",
   "execution_count": null,
   "id": "f830c480",
   "metadata": {},
   "outputs": [],
   "source": [
    "grid_reg = GridSearchCV(estimator=reg, param_grid = parameters, cv = 2, n_jobs=-1)\n",
    "grid_reg.fit(X_train, y_train)"
   ]
  },
  {
   "cell_type": "code",
   "execution_count": null,
   "id": "b93721d3",
   "metadata": {},
   "outputs": [],
   "source": [
    "print(\" Result \" )\n",
    "print(\"\\n [Best estimator] :\\n\",grid_reg.best_estimator_)\n",
    "print(\"\\n [Best score] :\\n\",grid_reg.best_score_)\n",
    "print(\"\\n [Best parameters] :\\n\",grid_reg.best_params_)"
   ]
  },
  {
   "cell_type": "markdown",
   "id": "e157ea5f",
   "metadata": {},
   "source": [
    "### <span style = 'color : blue'> 모델 평가 </span>"
   ]
  },
  {
   "cell_type": "code",
   "execution_count": null,
   "id": "1fbf866d",
   "metadata": {},
   "outputs": [],
   "source": [
    "print(\"훈  련 세트 : {:.3f}\".format(reg.score(X_train, y_train)))\n",
    "print(\"테스트 세트 : {:.3f}\".format(reg.score(X_test, y_test)))\n",
    "print('\\n(파라미터 변경전 : learning_rate=0.01, max_depth=6, subsample=0.9, n_estimators=500, alpha=0.01)\\n훈  련 세트 : 0.736\\n테스트 세트 : 0.500')"
   ]
  },
  {
   "cell_type": "markdown",
   "id": "d802496e",
   "metadata": {},
   "source": [
    "<span style = 'color : red'> **훈련 스코어는 감소, 테스트 스코어는 증가하는** </span>  \n",
    "<span style = 'color : red'> **일부 임의로 입력하는 것이 효과가 더 나은 경우도 발생하기도** </span>  "
   ]
  },
  {
   "cell_type": "markdown",
   "id": "02823213",
   "metadata": {},
   "source": [
    "### <span style = 'color : blue'> 예측값과 실제값 비교 </span>"
   ]
  },
  {
   "cell_type": "code",
   "execution_count": null,
   "id": "3ac3a138",
   "metadata": {},
   "outputs": [],
   "source": [
    "predicted_g = reg.predict(X_test)\n",
    "predicted_g = predicted_g.tolist()"
   ]
  },
  {
   "cell_type": "code",
   "execution_count": null,
   "id": "2032efc2",
   "metadata": {},
   "outputs": [],
   "source": [
    "pred_df_g = pd.DataFrame({ 'test값':y_test, 'predict값':predicted_g })"
   ]
  },
  {
   "cell_type": "code",
   "execution_count": null,
   "id": "7936c0ad",
   "metadata": {
    "scrolled": false
   },
   "outputs": [],
   "source": [
    "plt.figure(figsize=(15,7))\n",
    "plt.title('< 그래디언트부스팅_Test값과 Predict값의 비교 >', fontsize=20)\n",
    "plt.plot(pred_df_g)\n",
    "plt.legend('TP')"
   ]
  },
  {
   "cell_type": "markdown",
   "id": "5b01725e",
   "metadata": {},
   "source": [
    "---"
   ]
  },
  {
   "cell_type": "markdown",
   "id": "26612183",
   "metadata": {},
   "source": [
    "### <span style = 'color : blue'>  [ 릿지/라쏘 <- 랜덤포레스트 ] </span>\n",
    "---\n",
    "범주형 데이터는 릿지/라쏘를 쓸 경우 직선처럼 그려져서 효과는x"
   ]
  },
  {
   "cell_type": "code",
   "execution_count": null,
   "id": "46af4e5f",
   "metadata": {},
   "outputs": [],
   "source": [
    "from sklearn.linear_model import Ridge\n",
    "model_rid = Ridge(alpha=0.01).fit(X_train, y_train)\n",
    "print('훈  련 세트 : {:.2f}'.format(model_rid.score(X_train, y_train)))\n",
    "print('테스트 세트 : {:.2f}'.format(model_rid.score(X_test, y_test)))"
   ]
  },
  {
   "cell_type": "code",
   "execution_count": null,
   "id": "2131d134",
   "metadata": {},
   "outputs": [],
   "source": [
    "from sklearn.linear_model import Lasso\n",
    "model_la = Ridge(alpha=0.02).fit(X_train, y_train)\n",
    "print('훈  련 세트 : {:.2f}'.format(model_la.score(X_train, y_train)))\n",
    "print('테스트 세트 : {:.2f}'.format(model_la.score(X_test, y_test)))"
   ]
  },
  {
   "cell_type": "markdown",
   "id": "ca02e675",
   "metadata": {},
   "source": [
    "---"
   ]
  },
  {
   "cell_type": "markdown",
   "id": "b758a3ed",
   "metadata": {},
   "source": [
    "### <span style = 'color : blue'> [ 히스트그래디언팅 ] </span>"
   ]
  },
  {
   "cell_type": "code",
   "execution_count": null,
   "id": "9296df88",
   "metadata": {},
   "outputs": [],
   "source": [
    "from sklearn.ensemble import HistGradientBoostingRegressor\n",
    "reg_h = HistGradientBoostingRegressor(loss='poisson', learning_rate=0.35, max_depth=8, max_iter=500)\n",
    "reg_h.fit(X_train, y_train)"
   ]
  },
  {
   "cell_type": "markdown",
   "id": "d4ee7b9b",
   "metadata": {},
   "source": [
    "### <span style = 'color : blue'> 교차검증 (CV) </span>"
   ]
  },
  {
   "cell_type": "code",
   "execution_count": null,
   "id": "f305a957",
   "metadata": {},
   "outputs": [],
   "source": [
    "from sklearn.model_selection import cross_val_score, cross_validate # 각 활용처 알아보고 cross_val_predict,\n",
    "result = cross_val_score(reg_h, X, y, cv=10)"
   ]
  },
  {
   "cell_type": "code",
   "execution_count": null,
   "id": "3bf4c0ed",
   "metadata": {},
   "outputs": [],
   "source": [
    "allResult = cross_validate(reg_h, X, y, \n",
    "                           return_train_score=True,\n",
    "                           cv=10)"
   ]
  },
  {
   "cell_type": "code",
   "execution_count": null,
   "id": "05d16699",
   "metadata": {
    "scrolled": true
   },
   "outputs": [],
   "source": [
    "resultDF1 = pd.DataFrame(allResult)\n",
    "resultDF1[['test_score', 'train_score']]"
   ]
  },
  {
   "cell_type": "markdown",
   "id": "d3a79dfc",
   "metadata": {},
   "source": [
    "### <span style = 'color : blue'> KFold </span>"
   ]
  },
  {
   "cell_type": "code",
   "execution_count": null,
   "id": "dff90113",
   "metadata": {},
   "outputs": [],
   "source": [
    "# Splitter 객체 생성 - KFold()\n",
    "from sklearn.model_selection import KFold\n",
    "\n",
    "kSplitter = KFold(n_splits=10, shuffle=True)"
   ]
  },
  {
   "cell_type": "code",
   "execution_count": null,
   "id": "a3cb699e",
   "metadata": {
    "scrolled": false
   },
   "outputs": [],
   "source": [
    "allResult1 = cross_validate(reg_h, X, y, \n",
    "                           return_train_score=True,\n",
    "                           return_estimator=True,\n",
    "                           cv=kSplitter)\n",
    "\n",
    "resultDF1 = pd.DataFrame(allResult1)\n",
    "resultDF1[['test_score', 'train_score']]"
   ]
  },
  {
   "cell_type": "markdown",
   "id": "caef715f",
   "metadata": {},
   "source": [
    "### <span style = 'color : blue'> 하이퍼파라미터 조절 </span>"
   ]
  },
  {
   "cell_type": "markdown",
   "id": "b515c9cc",
   "metadata": {},
   "source": [
    "### <span style = 'color : blue'> GridSearchCV </span>"
   ]
  },
  {
   "cell_type": "code",
   "execution_count": null,
   "id": "9c589c66",
   "metadata": {},
   "outputs": [],
   "source": [
    "parameters_h = {'learning_rate': [0.01,0.02,0.03,0.04],\n",
    "                'max_iter'    : [100, 200, 300, 500],\n",
    "                'max_depth'    : [4,6,8,10],\n",
    "                 }"
   ]
  },
  {
   "cell_type": "code",
   "execution_count": null,
   "id": "4688b1f6",
   "metadata": {},
   "outputs": [],
   "source": [
    "grid_reg = GridSearchCV(estimator=reg_h, param_grid = parameters_h, cv = 2, n_jobs=-1)\n",
    "grid_reg.fit(X_train, y_train)"
   ]
  },
  {
   "cell_type": "code",
   "execution_count": null,
   "id": "3ca6817c",
   "metadata": {
    "scrolled": false
   },
   "outputs": [],
   "source": [
    "print(\" Result \" )\n",
    "print(\"\\n [Best estimator] :\\n\",grid_reg.best_estimator_)\n",
    "print(\"\\n [Best score] :\\n\",grid_reg.best_score_)\n",
    "print(\"\\n [Best parameters] :\\n\",grid_reg.best_params_)"
   ]
  },
  {
   "cell_type": "markdown",
   "id": "b49a9fc6",
   "metadata": {},
   "source": [
    "### <span style = 'color : blue'> 모델 평가 </span>"
   ]
  },
  {
   "cell_type": "code",
   "execution_count": null,
   "id": "11eb7f22",
   "metadata": {},
   "outputs": [],
   "source": [
    "print(\"훈  련 세트 : {:.3f}\".format(reg_h.score(X_train, y_train)))\n",
    "print(\"테스트 세트 : {:.3f}\".format(reg_h.score(X_test, y_test)))\n",
    "print('\\n(파라미터 변경전 : )\\n훈  련 세트 : 0.633\\n테스트 세트 : 0.384')"
   ]
  },
  {
   "cell_type": "markdown",
   "id": "eedbd43a",
   "metadata": {},
   "source": [
    "### <span style = 'color : blue'> 예측값과 실제값 비교 </span>"
   ]
  },
  {
   "cell_type": "code",
   "execution_count": null,
   "id": "a8493930",
   "metadata": {},
   "outputs": [],
   "source": [
    "predicted_h = reg_h.predict(X_test)\n",
    "predicted_h = predicted_h.tolist()"
   ]
  },
  {
   "cell_type": "code",
   "execution_count": null,
   "id": "9eb20487",
   "metadata": {},
   "outputs": [],
   "source": [
    "pred_df_h = pd.DataFrame({ 'test값':y_test, 'predict값':predicted_h })"
   ]
  },
  {
   "cell_type": "code",
   "execution_count": null,
   "id": "b46a8387",
   "metadata": {
    "scrolled": false
   },
   "outputs": [],
   "source": [
    "plt.figure(figsize=(15,7))\n",
    "plt.title('< 히스트그래디언팅_Test값과 Predict값의 비교 >', fontsize=20)\n",
    "plt.plot(pred_df_h)\n",
    "plt.legend('TP')"
   ]
  },
  {
   "cell_type": "markdown",
   "id": "ee5628eb",
   "metadata": {},
   "source": [
    "---"
   ]
  },
  {
   "cell_type": "markdown",
   "id": "21976dd2",
   "metadata": {},
   "source": [
    "---"
   ]
  },
  {
   "cell_type": "code",
   "execution_count": null,
   "id": "1b58092b",
   "metadata": {},
   "outputs": [],
   "source": [
    "# 파라미터 개수에 따른 score 변화 살피기\n",
    "\n",
    "n_feature = X.shape[1]  # X.shape[1] = 8\n",
    "\n",
    "score_n_tr_est = []\n",
    "score_n_te_est = []\n",
    "score_m_tr_mft = []\n",
    "score_m_te_mft = []\n",
    "\n",
    "for i in np.arange(1, n_feature+1): # n_estimators와 mat_features는 모두 0보다 큰 정수여야 하므로 1부터 시작\n",
    "    params_n = {'n_estimators':i, 'max_features':'auto', 'n_jobs':-1} # **kwargs parameter\n",
    "    params_m = {'n_estimators':10, 'max_features':i, 'n_jobs':-1}\n",
    "\n",
    "    forest_n = RandomForestRegressor(**params_n).fit(X_train, y_train)\n",
    "    forest_m = RandomForestRegressor(**params_m).fit(X_train, y_train)\n",
    "\n",
    "    score_n_tr = forest_n.score(X_train, y_train)\n",
    "    score_n_te = forest_n.score(X_test, y_test)\n",
    "    score_m_tr = forest_m.score(X_train, y_train)\n",
    "    score_m_te = forest_m.score(X_test, y_test)\n",
    "\n",
    "    score_n_tr_est.append(score_n_tr)\n",
    "    score_n_te_est.append(score_n_te)\n",
    "    score_m_tr_mft.append(score_m_tr)\n",
    "    score_m_te_mft.append(score_m_te)\n",
    "\n",
    "index = np.arange(len(score_n_tr_est))\n",
    "plt.plot(index, score_n_tr_est, label='n_estimators train score', color='lightblue', ls='--') # ls: linestyle\n",
    "plt.plot(index, score_m_tr_mft, label='max_features train score', color='orange', ls='--')\n",
    "plt.plot(index, score_n_te_est, label='n_estimators test score', color='lightblue')\n",
    "plt.plot(index, score_m_te_mft, label='max_features test score', color='orange')\n",
    "plt.legend(loc='center', bbox_to_anchor=(0.5, 1.1),\n",
    "           ncol=2, fancybox=True, shadow=False) # fancybox: 박스모양, shadow: 그림자\n",
    "plt.xlabel('number of parameter', size=15)\n",
    "plt.ylabel('score', size=15)\n",
    "plt.show()\n",
    "print('   => 그래프를 통해, parameter의 갯수가 적을 때보다 많을때가 성능이 더 좋아보임.')"
   ]
  },
  {
   "cell_type": "markdown",
   "id": "67e6935f",
   "metadata": {},
   "source": [
    "---"
   ]
  }
 ],
 "metadata": {
  "kernelspec": {
   "display_name": "Python 3 (ipykernel)",
   "language": "python",
   "name": "python3"
  },
  "language_info": {
   "codemirror_mode": {
    "name": "ipython",
    "version": 3
   },
   "file_extension": ".py",
   "mimetype": "text/x-python",
   "name": "python",
   "nbconvert_exporter": "python",
   "pygments_lexer": "ipython3",
   "version": "3.9.12"
  }
 },
 "nbformat": 4,
 "nbformat_minor": 5
}

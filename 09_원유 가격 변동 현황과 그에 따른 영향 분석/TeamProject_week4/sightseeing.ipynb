{
 "cells": [
  {
   "cell_type": "code",
   "execution_count": 18,
   "id": "b513141e",
   "metadata": {},
   "outputs": [],
   "source": [
    "import csv\n",
    "import pandas as pd"
   ]
  },
  {
   "cell_type": "code",
   "execution_count": 3,
   "id": "a5c4de3e",
   "metadata": {},
   "outputs": [],
   "source": [
    "# 1과 2행은 skip해서 로딩\n",
    "sightseeing = pd.read_excel('./data/sightseeing_co.xlsx', skiprows=2)\n",
    "\n",
    "# 필요없는 끝부분 행 2개 drop\n",
    "sightseeing.drop(labels=range(24,26), axis=0, inplace=True)\n",
    "\n",
    "# NaN값 처리\n",
    "sightseeing = sightseeing.fillna(method='ffill')\n",
    "\n",
    "# 컬럼명 변경\n",
    "sightseeing.rename({'Unnamed: 0':'업종', 'Unnamed: 1':'구분'}, axis=1, inplace=True)"
   ]
  },
  {
   "cell_type": "code",
   "execution_count": 4,
   "id": "71845ed2",
   "metadata": {},
   "outputs": [
    {
     "data": {
      "text/plain": [
       "업종      object\n",
       "구분      object\n",
       "2016     int32\n",
       "2017     int32\n",
       "2018     int32\n",
       "2019     int32\n",
       "2020     int32\n",
       "dtype: object"
      ]
     },
     "execution_count": 4,
     "metadata": {},
     "output_type": "execute_result"
    }
   ],
   "source": [
    "# 컬럼 인덱스 확인\n",
    "col = sightseeing.columns.tolist()\n",
    "\n",
    "# 숫자 컬럼 정수로 바꿔주기\n",
    "for i in range(2,7):\n",
    "    sightseeing[col[i]] = sightseeing[col[i]].astype('int')\n",
    "    \n",
    "# 타입 변환 확인\n",
    "sightseeing.dtypes"
   ]
  },
  {
   "cell_type": "code",
   "execution_count": 17,
   "id": "5462dfe4",
   "metadata": {},
   "outputs": [],
   "source": [
    "sightseeing.to_csv('C:\\hcb\\pandas_study\\week4\\TeamProject\\data\\sightseeing_fin.csv', index=False)"
   ]
  }
 ],
 "metadata": {
  "kernelspec": {
   "display_name": "Python 3 (ipykernel)",
   "language": "python",
   "name": "python3"
  },
  "language_info": {
   "codemirror_mode": {
    "name": "ipython",
    "version": 3
   },
   "file_extension": ".py",
   "mimetype": "text/x-python",
   "name": "python",
   "nbconvert_exporter": "python",
   "pygments_lexer": "ipython3",
   "version": "3.9.12"
  }
 },
 "nbformat": 4,
 "nbformat_minor": 5
}

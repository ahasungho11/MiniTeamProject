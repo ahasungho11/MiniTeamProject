{
 "cells": [
  {
   "cell_type": "markdown",
   "id": "56df24c3",
   "metadata": {},
   "source": [
    "### 파일 1차적 전처리 후, csv 파일로 전송"
   ]
  },
  {
   "cell_type": "code",
   "execution_count": 1,
   "id": "00e080e0",
   "metadata": {},
   "outputs": [],
   "source": [
    "# 모듈 생성\n",
    "import csv\n",
    "import pandas as pd"
   ]
  },
  {
   "cell_type": "markdown",
   "id": "72b3f68d",
   "metadata": {},
   "source": [
    "### 1. 국내 항공 운송 현황 file"
   ]
  },
  {
   "cell_type": "code",
   "execution_count": 2,
   "id": "2a80b12f",
   "metadata": {},
   "outputs": [
    {
     "data": {
      "text/html": [
       "<div>\n",
       "<style scoped>\n",
       "    .dataframe tbody tr th:only-of-type {\n",
       "        vertical-align: middle;\n",
       "    }\n",
       "\n",
       "    .dataframe tbody tr th {\n",
       "        vertical-align: top;\n",
       "    }\n",
       "\n",
       "    .dataframe thead th {\n",
       "        text-align: right;\n",
       "    }\n",
       "</style>\n",
       "<table border=\"1\" class=\"dataframe\">\n",
       "  <thead>\n",
       "    <tr style=\"text-align: right;\">\n",
       "      <th></th>\n",
       "      <th>구 분</th>\n",
       "      <th>구 분.1</th>\n",
       "      <th>2017년 06월</th>\n",
       "      <th>2018년 06월</th>\n",
       "      <th>2019년 06월</th>\n",
       "      <th>2020년 06월</th>\n",
       "      <th>2021년 06월</th>\n",
       "      <th>2022년 06월</th>\n",
       "    </tr>\n",
       "  </thead>\n",
       "  <tbody>\n",
       "    <tr>\n",
       "      <th>0</th>\n",
       "      <td>운항(편)</td>\n",
       "      <td>국내</td>\n",
       "      <td>16606</td>\n",
       "      <td>16578</td>\n",
       "      <td>16519</td>\n",
       "      <td>14756</td>\n",
       "      <td>18660</td>\n",
       "      <td>18544</td>\n",
       "    </tr>\n",
       "    <tr>\n",
       "      <th>1</th>\n",
       "      <td>운항(편)</td>\n",
       "      <td>국제</td>\n",
       "      <td>36462</td>\n",
       "      <td>40568</td>\n",
       "      <td>44658</td>\n",
       "      <td>7586</td>\n",
       "      <td>10845</td>\n",
       "      <td>13219</td>\n",
       "    </tr>\n",
       "    <tr>\n",
       "      <th>2</th>\n",
       "      <td>운항(편)</td>\n",
       "      <td>계</td>\n",
       "      <td>53068</td>\n",
       "      <td>57146</td>\n",
       "      <td>61177</td>\n",
       "      <td>22342</td>\n",
       "      <td>29505</td>\n",
       "      <td>31763</td>\n",
       "    </tr>\n",
       "    <tr>\n",
       "      <th>3</th>\n",
       "      <td>여객(명)</td>\n",
       "      <td>국내</td>\n",
       "      <td>2852858</td>\n",
       "      <td>2829036</td>\n",
       "      <td>2814523</td>\n",
       "      <td>2161147</td>\n",
       "      <td>3037489</td>\n",
       "      <td>3328076</td>\n",
       "    </tr>\n",
       "    <tr>\n",
       "      <th>4</th>\n",
       "      <td>여객(명)</td>\n",
       "      <td>국제</td>\n",
       "      <td>5977385</td>\n",
       "      <td>6993670</td>\n",
       "      <td>7727595</td>\n",
       "      <td>182053</td>\n",
       "      <td>246697</td>\n",
       "      <td>1279029</td>\n",
       "    </tr>\n",
       "    <tr>\n",
       "      <th>5</th>\n",
       "      <td>여객(명)</td>\n",
       "      <td>계</td>\n",
       "      <td>8830243</td>\n",
       "      <td>9822706</td>\n",
       "      <td>10542118</td>\n",
       "      <td>2343200</td>\n",
       "      <td>3284186</td>\n",
       "      <td>4607105</td>\n",
       "    </tr>\n",
       "    <tr>\n",
       "      <th>6</th>\n",
       "      <td>화물(톤)</td>\n",
       "      <td>국내</td>\n",
       "      <td>22570</td>\n",
       "      <td>21360</td>\n",
       "      <td>19830</td>\n",
       "      <td>12998</td>\n",
       "      <td>16919</td>\n",
       "      <td>18927</td>\n",
       "    </tr>\n",
       "    <tr>\n",
       "      <th>7</th>\n",
       "      <td>화물(톤)</td>\n",
       "      <td>국제</td>\n",
       "      <td>324712</td>\n",
       "      <td>340264</td>\n",
       "      <td>330019</td>\n",
       "      <td>219341</td>\n",
       "      <td>282981</td>\n",
       "      <td>273269</td>\n",
       "    </tr>\n",
       "    <tr>\n",
       "      <th>8</th>\n",
       "      <td>화물(톤)</td>\n",
       "      <td>계</td>\n",
       "      <td>347282</td>\n",
       "      <td>361624</td>\n",
       "      <td>349849</td>\n",
       "      <td>232339</td>\n",
       "      <td>299900</td>\n",
       "      <td>292196</td>\n",
       "    </tr>\n",
       "  </tbody>\n",
       "</table>\n",
       "</div>"
      ],
      "text/plain": [
       "     구 분 구 분.1  2017년 06월  2018년 06월  2019년 06월  2020년 06월  2021년 06월  \\\n",
       "0  운항(편)    국내      16606      16578      16519      14756      18660   \n",
       "1  운항(편)    국제      36462      40568      44658       7586      10845   \n",
       "2  운항(편)     계      53068      57146      61177      22342      29505   \n",
       "3  여객(명)    국내    2852858    2829036    2814523    2161147    3037489   \n",
       "4  여객(명)    국제    5977385    6993670    7727595     182053     246697   \n",
       "5  여객(명)     계    8830243    9822706   10542118    2343200    3284186   \n",
       "6  화물(톤)    국내      22570      21360      19830      12998      16919   \n",
       "7  화물(톤)    국제     324712     340264     330019     219341     282981   \n",
       "8  화물(톤)     계     347282     361624     349849     232339     299900   \n",
       "\n",
       "   2022년 06월  \n",
       "0      18544  \n",
       "1      13219  \n",
       "2      31763  \n",
       "3    3328076  \n",
       "4    1279029  \n",
       "5    4607105  \n",
       "6      18927  \n",
       "7     273269  \n",
       "8     292196  "
      ]
     },
     "execution_count": 2,
     "metadata": {},
     "output_type": "execute_result"
    }
   ],
   "source": [
    "inter_air_trans_2 = pd.read_excel('./data/inter_air_trans_2.xlsx', skiprows=1)\n",
    "inter_air_trans_2"
   ]
  },
  {
   "cell_type": "code",
   "execution_count": 3,
   "id": "2f8655ba",
   "metadata": {},
   "outputs": [],
   "source": [
    "inter_air_trans_2.to_csv('C:\\hcb\\pandas_study\\week4\\TeamProject\\data\\inter_air_trans_2_fin.csv', index=False)"
   ]
  },
  {
   "cell_type": "markdown",
   "id": "01b86e14",
   "metadata": {},
   "source": [
    "### 2. 업체별 항공 종사자 file"
   ]
  },
  {
   "cell_type": "code",
   "execution_count": 4,
   "id": "abdeda41",
   "metadata": {},
   "outputs": [],
   "source": [
    "# 1과 2행은 skip해서 로딩\n",
    "sightseeing = pd.read_excel('./data/sightseeing_co.xlsx', skiprows=2)\n",
    "\n",
    "# 필요없는 끝부분 행 2개 drop\n",
    "sightseeing.drop(labels=range(24,26), axis=0, inplace=True)\n",
    "\n",
    "# NaN값 처리\n",
    "sightseeing = sightseeing.fillna(method='ffill')\n",
    "\n",
    "# 컬럼명 변경\n",
    "sightseeing.rename({'Unnamed: 0':'업종', 'Unnamed: 1':'구분'}, axis=1, inplace=True)"
   ]
  },
  {
   "cell_type": "code",
   "execution_count": 5,
   "id": "da00d44d",
   "metadata": {
    "collapsed": true
   },
   "outputs": [
    {
     "data": {
      "text/plain": [
       "업종      object\n",
       "구분      object\n",
       "2016     int32\n",
       "2017     int32\n",
       "2018     int32\n",
       "2019     int32\n",
       "2020     int32\n",
       "dtype: object"
      ]
     },
     "execution_count": 5,
     "metadata": {},
     "output_type": "execute_result"
    }
   ],
   "source": [
    "# 컬럼 인덱스 확인\n",
    "col = sightseeing.columns.tolist()\n",
    "\n",
    "# 숫자 컬럼 정수로 바꿔주기\n",
    "for i in range(2,7):\n",
    "    sightseeing[col[i]] = sightseeing[col[i]].astype('int')\n",
    "    \n",
    "# 타입 변환 확인\n",
    "sightseeing.dtypes"
   ]
  },
  {
   "cell_type": "code",
   "execution_count": 6,
   "id": "90536c1e",
   "metadata": {},
   "outputs": [],
   "source": [
    "sightseeing.to_csv('C:\\hcb\\pandas_study\\week4\\TeamProject\\data\\sightseeing_fin.csv', index=False)"
   ]
  }
 ],
 "metadata": {
  "kernelspec": {
   "display_name": "Python 3 (ipykernel)",
   "language": "python",
   "name": "python3"
  },
  "language_info": {
   "codemirror_mode": {
    "name": "ipython",
    "version": 3
   },
   "file_extension": ".py",
   "mimetype": "text/x-python",
   "name": "python",
   "nbconvert_exporter": "python",
   "pygments_lexer": "ipython3",
   "version": "3.9.12"
  }
 },
 "nbformat": 4,
 "nbformat_minor": 5
}

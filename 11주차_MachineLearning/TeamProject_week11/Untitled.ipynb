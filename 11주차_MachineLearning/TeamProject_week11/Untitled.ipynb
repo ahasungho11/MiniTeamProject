{
 "cells": [
  {
   "cell_type": "code",
   "execution_count": null,
   "id": "8e355e66",
   "metadata": {},
   "outputs": [],
   "source": [
    "# 클래스 리포트\n",
    "1. CA -> 정확도 ACU\n",
    "- 불균형 데이터의 경우, 정확도 신뢰성 떨어짐\n",
    " ex) 인욱씨 질병 데이터\n",
    "- 훈련, 테스트 세트의 비율도 맞춰서 해야함\n",
    " -> 계층Fold, stratify(?)=True\n",
    "\n",
    " P) 정확도가 높아도 문제가 있는 경우가 있음\n",
    "    \n",
    "2. 분류 모델\n",
    "정밀도(예측T->실제T), 재현율(실제T->예측T), \n",
    "-> 상충됨. 기준이 달라서\n",
    "보완 => F1 Score\n",
    "    \n",
    "3. sklearn.metrics.classification_report(실제, 예측, 타겟이름)\n",
    "- 정밀도, 재현율, F1-Score, support 등이 출력\n",
    " cf) 모델에 따라서 .score()를 쓰지만, 분류/회귀에 따라 나오는 값이 다르지\n",
    "- 분류 -> 정확도 / 선형회귀 -> R^2\n",
    "\n",
    "4. 문제에서 요구하는(needs에 맞는) 결과가 나오도록 조절하는 것도 필요\n",
    " - MSE를 높게 나오게끔 하여야 한다면, 거기에 맞게끔\n",
    "- 선형회귀 -> 오차(MSE, RMSE 등)\n",
    "\n",
    "5. 정량 vs. 정성 평가 => 일반적으로 두가지 요소 모두 평가\n",
    "- 정량 (정확도)\n",
    "- 정성 ()"
   ]
  },
  {
   "cell_type": "code",
   "execution_count": null,
   "id": "a5dd8b60",
   "metadata": {},
   "outputs": [],
   "source": [
    "※ 필수 사항\n",
    "- 주제 선정\n",
    "- 주제 맞는 데이터 전처리 & 가공 & 특성 추가\n",
    "- 최소 2개 모델 적용 -> 어느 모델이 나은지 확인\n",
    "- 그리드~ 등 하이퍼 파라미터 찾을 때, 시간이 너무 오래 걸리면 \n",
    "샘플 수를 줄여서 하라\n",
    " => 하이퍼파라미터 & 교차검증 시, 데이터 샘플 수 줄여서 진행\n",
    "\n",
    "1. 자율 주제\n",
    "인구변화 - n년도에는 인구가 얼마가 될 것이다\n",
    "추세\n",
    "국가별 인구 변동 추세\n",
    "n년 뒤에 x명정도가 되는 나라로 분류\n",
    "=> 분류/회귀 선택\n",
    "\n",
    "2. 지불 간격 - 채무 불이행 여부 예측\n",
    "~한 전조증상들(패턴들)을 보니 채무 불이행할 확률이 높다/낮다\n",
    "\n",
    "3. 관심지역 추천\n",
    "\n",
    "4. 청경채 성장 예측\n",
    "cf) 스파트팜\n",
    "성장data기반 -> '앞으로 어떻게 자랄 것이다' 예측\n",
    "'어떤 식물로 자랄 것이다' 분류\n",
    "\n",
    "5. 향후 KOSPI 전망 예측\n",
    "\n",
    "6. 신용카드 거래 탐지"
   ]
  },
  {
   "cell_type": "code",
   "execution_count": null,
   "id": "9b7a6c50",
   "metadata": {},
   "outputs": [],
   "source": []
  },
  {
   "cell_type": "code",
   "execution_count": null,
   "id": "a48fe2fa",
   "metadata": {},
   "outputs": [],
   "source": []
  },
  {
   "cell_type": "code",
   "execution_count": null,
   "id": "5cea160b",
   "metadata": {},
   "outputs": [],
   "source": []
  },
  {
   "cell_type": "code",
   "execution_count": null,
   "id": "9359ee61",
   "metadata": {},
   "outputs": [],
   "source": []
  }
 ],
 "metadata": {
  "kernelspec": {
   "display_name": "Python 3 (ipykernel)",
   "language": "python",
   "name": "python3"
  },
  "language_info": {
   "codemirror_mode": {
    "name": "ipython",
    "version": 3
   },
   "file_extension": ".py",
   "mimetype": "text/x-python",
   "name": "python",
   "nbconvert_exporter": "python",
   "pygments_lexer": "ipython3",
   "version": "3.9.12"
  }
 },
 "nbformat": 4,
 "nbformat_minor": 5
}

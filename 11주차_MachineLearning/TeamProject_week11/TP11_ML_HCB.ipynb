{
 "cells": [
  {
   "cell_type": "markdown",
   "id": "92bb74df",
   "metadata": {},
   "source": [
    "## [ ML ] Data_Salaries 예측\n",
    "---\n"
   ]
  },
  {
   "cell_type": "markdown",
   "id": "51646b89",
   "metadata": {},
   "source": [
    "**[  data  ]   : 조사연도, 숙련도, 고용형태, 직업군, 급여, 통화, 직원 거주지, 원격업무 비중, 회사 위치, 회사 크기**  \n",
    "**[ target ] : 달러화한 급여**  \n",
    "  \n",
    "**=> data 중 조사연도, 급여 제외 모두 입력**  "
   ]
  },
  {
   "cell_type": "markdown",
   "id": "4ec5c682",
   "metadata": {},
   "source": [
    "---"
   ]
  },
  {
   "cell_type": "markdown",
   "id": "1d4e6875",
   "metadata": {},
   "source": [
    "### <span style = 'color : red'> 회귀 : 입력하는 data 따라, 급여는 얼마가 될 것인가 </span>"
   ]
  },
  {
   "cell_type": "markdown",
   "id": "4fea8f8c",
   "metadata": {},
   "source": [
    "### 사용 모델 : <span style='background:yellow'> 의사결정트리 -> 랜덤포레스트, 그래디언트부스팅, 히스트그래디언팅 </span>"
   ]
  },
  {
   "cell_type": "markdown",
   "id": "5564543e",
   "metadata": {},
   "source": [
    "### 과정 :  \n",
    "### <span style='background:yellow'> 데이터 로딩/확인 - 전처리 - 분리 - all_estimators로 모델 고르기  </span>  \n",
    "### <span style='background:yellow'> 선택 모델 => 객체생성 - 훈련 - CV+파라미터조절=그리드서치 - 평가 - 예측 </span>"
   ]
  },
  {
   "cell_type": "markdown",
   "id": "80c08130",
   "metadata": {},
   "source": [
    "---"
   ]
  },
  {
   "cell_type": "markdown",
   "id": "92552076",
   "metadata": {},
   "source": [
    "### <span style = 'color : blue'> [ 모듈 로딩 ] </span>"
   ]
  },
  {
   "cell_type": "code",
   "execution_count": 1,
   "id": "eff7f6ba",
   "metadata": {},
   "outputs": [],
   "source": [
    "import pandas as pd\n",
    "import numpy as np\n",
    "import matplotlib.pyplot as plt\n",
    "import warnings\n",
    "warnings.filterwarnings(action='ignore')   # 경고무시\n",
    "import platform\n",
    "from sklearn.model_selection import GridSearchCV\n",
    "\n",
    "# 글씨체\n",
    "if platform.system() == 'Windows':\n",
    "    plt.rc('font', family='Malgun Gothic')\n",
    "else:\n",
    "    plt.rc('font', family='AppleGothic')\n",
    "\n",
    "# 그래프 음수 가능\n",
    "plt.rcParams['axes.unicode_minus'] = False"
   ]
  },
  {
   "cell_type": "markdown",
   "id": "90da296e",
   "metadata": {},
   "source": [
    "### <span style = 'color : blue'>  [ 데이터 불러오기 ] </span>"
   ]
  },
  {
   "cell_type": "code",
   "execution_count": 2,
   "id": "bf02061e",
   "metadata": {},
   "outputs": [
    {
     "data": {
      "text/html": [
       "<div>\n",
       "<style scoped>\n",
       "    .dataframe tbody tr th:only-of-type {\n",
       "        vertical-align: middle;\n",
       "    }\n",
       "\n",
       "    .dataframe tbody tr th {\n",
       "        vertical-align: top;\n",
       "    }\n",
       "\n",
       "    .dataframe thead th {\n",
       "        text-align: right;\n",
       "    }\n",
       "</style>\n",
       "<table border=\"1\" class=\"dataframe\">\n",
       "  <thead>\n",
       "    <tr style=\"text-align: right;\">\n",
       "      <th></th>\n",
       "      <th>work_year</th>\n",
       "      <th>experience_level</th>\n",
       "      <th>employment_type</th>\n",
       "      <th>job_title</th>\n",
       "      <th>salary</th>\n",
       "      <th>salary_currency</th>\n",
       "      <th>employee_residence</th>\n",
       "      <th>remote_ratio</th>\n",
       "      <th>company_location</th>\n",
       "      <th>company_size</th>\n",
       "      <th>salary_in_usd</th>\n",
       "    </tr>\n",
       "  </thead>\n",
       "  <tbody>\n",
       "    <tr>\n",
       "      <th>0</th>\n",
       "      <td>2020</td>\n",
       "      <td>MI</td>\n",
       "      <td>FT</td>\n",
       "      <td>Scientist</td>\n",
       "      <td>70000</td>\n",
       "      <td>EUR</td>\n",
       "      <td>DE</td>\n",
       "      <td>0</td>\n",
       "      <td>DE</td>\n",
       "      <td>L</td>\n",
       "      <td>79833</td>\n",
       "    </tr>\n",
       "    <tr>\n",
       "      <th>1</th>\n",
       "      <td>2020</td>\n",
       "      <td>SE</td>\n",
       "      <td>FT</td>\n",
       "      <td>Scientist</td>\n",
       "      <td>260000</td>\n",
       "      <td>USD</td>\n",
       "      <td>JP</td>\n",
       "      <td>0</td>\n",
       "      <td>JP</td>\n",
       "      <td>S</td>\n",
       "      <td>260000</td>\n",
       "    </tr>\n",
       "    <tr>\n",
       "      <th>2</th>\n",
       "      <td>2020</td>\n",
       "      <td>SE</td>\n",
       "      <td>FT</td>\n",
       "      <td>Engineer</td>\n",
       "      <td>85000</td>\n",
       "      <td>GBP</td>\n",
       "      <td>GB</td>\n",
       "      <td>50</td>\n",
       "      <td>GB</td>\n",
       "      <td>M</td>\n",
       "      <td>109024</td>\n",
       "    </tr>\n",
       "    <tr>\n",
       "      <th>3</th>\n",
       "      <td>2020</td>\n",
       "      <td>MI</td>\n",
       "      <td>FT</td>\n",
       "      <td>Analyst</td>\n",
       "      <td>20000</td>\n",
       "      <td>USD</td>\n",
       "      <td>HN</td>\n",
       "      <td>0</td>\n",
       "      <td>HN</td>\n",
       "      <td>S</td>\n",
       "      <td>20000</td>\n",
       "    </tr>\n",
       "    <tr>\n",
       "      <th>4</th>\n",
       "      <td>2020</td>\n",
       "      <td>SE</td>\n",
       "      <td>FT</td>\n",
       "      <td>Engineer</td>\n",
       "      <td>150000</td>\n",
       "      <td>USD</td>\n",
       "      <td>US</td>\n",
       "      <td>50</td>\n",
       "      <td>US</td>\n",
       "      <td>L</td>\n",
       "      <td>150000</td>\n",
       "    </tr>\n",
       "  </tbody>\n",
       "</table>\n",
       "</div>"
      ],
      "text/plain": [
       "   work_year experience_level employment_type  job_title  salary  \\\n",
       "0       2020               MI              FT  Scientist   70000   \n",
       "1       2020               SE              FT  Scientist  260000   \n",
       "2       2020               SE              FT   Engineer   85000   \n",
       "3       2020               MI              FT    Analyst   20000   \n",
       "4       2020               SE              FT   Engineer  150000   \n",
       "\n",
       "  salary_currency employee_residence  remote_ratio company_location  \\\n",
       "0             EUR                 DE             0               DE   \n",
       "1             USD                 JP             0               JP   \n",
       "2             GBP                 GB            50               GB   \n",
       "3             USD                 HN             0               HN   \n",
       "4             USD                 US            50               US   \n",
       "\n",
       "  company_size  salary_in_usd  \n",
       "0            L          79833  \n",
       "1            S         260000  \n",
       "2            M         109024  \n",
       "3            S          20000  \n",
       "4            L         150000  "
      ]
     },
     "execution_count": 2,
     "metadata": {},
     "output_type": "execute_result"
    }
   ],
   "source": [
    "# 데이터 읽어오기\n",
    "df = pd.read_csv('./data/ds_salaries_ori.csv')\n",
    "df.head()"
   ]
  },
  {
   "cell_type": "code",
   "execution_count": 3,
   "id": "feb6de7d",
   "metadata": {},
   "outputs": [
    {
     "name": "stdout",
     "output_type": "stream",
     "text": [
      "<class 'pandas.core.frame.DataFrame'>\n",
      "RangeIndex: 606 entries, 0 to 605\n",
      "Data columns (total 11 columns):\n",
      " #   Column              Non-Null Count  Dtype \n",
      "---  ------              --------------  ----- \n",
      " 0   work_year           606 non-null    int64 \n",
      " 1   experience_level    606 non-null    object\n",
      " 2   employment_type     606 non-null    object\n",
      " 3   job_title           606 non-null    object\n",
      " 4   salary              606 non-null    int64 \n",
      " 5   salary_currency     606 non-null    object\n",
      " 6   employee_residence  606 non-null    object\n",
      " 7   remote_ratio        606 non-null    int64 \n",
      " 8   company_location    606 non-null    object\n",
      " 9   company_size        606 non-null    object\n",
      " 10  salary_in_usd       606 non-null    int64 \n",
      "dtypes: int64(4), object(7)\n",
      "memory usage: 52.2+ KB\n"
     ]
    }
   ],
   "source": [
    "# 데이터 확인\n",
    "df.info()"
   ]
  },
  {
   "cell_type": "code",
   "execution_count": 4,
   "id": "fc7a4ebf",
   "metadata": {},
   "outputs": [
    {
     "data": {
      "text/plain": [
       "work_year             0\n",
       "experience_level      0\n",
       "employment_type       0\n",
       "job_title             0\n",
       "salary                0\n",
       "salary_currency       0\n",
       "employee_residence    0\n",
       "remote_ratio          0\n",
       "company_location      0\n",
       "company_size          0\n",
       "salary_in_usd         0\n",
       "dtype: int64"
      ]
     },
     "execution_count": 4,
     "metadata": {},
     "output_type": "execute_result"
    }
   ],
   "source": [
    "# 결측치 개수 확인\n",
    "df.isnull().sum()"
   ]
  },
  {
   "cell_type": "markdown",
   "id": "c8098faf",
   "metadata": {},
   "source": [
    "---"
   ]
  },
  {
   "cell_type": "markdown",
   "id": "11a993ff",
   "metadata": {},
   "source": [
    "### <span style = 'color : blue'> [ 전처리 ] </span>"
   ]
  },
  {
   "cell_type": "markdown",
   "id": "d1f4797b",
   "metadata": {},
   "source": [
    "미리 엑셀로 'job_title'의 직업들을 1차적으로 수정한 상태  (53가지 -> 8가지)  \n",
    "\n",
    "ex)  \n",
    "'Machine Learning Developer',  \n",
    "'Applied Machine Learning Scientist', 'Data Analytics Manager',  \n",
    "'Data Specialist', 'Data Architect','BI Data Analyst','Research Scientist', ... \n",
    "  \n",
    "=> Analyst, Architect, Consultant, Developer, Engineer, Manager, Scientist, Data "
   ]
  },
  {
   "cell_type": "code",
   "execution_count": 5,
   "id": "97d1ae8d",
   "metadata": {},
   "outputs": [
    {
     "data": {
      "text/plain": [
       "array(['Scientist', 'Engineer', 'Analyst', 'Consultant', 'Manager',\n",
       "       'Data', 'Developer', 'Architect'], dtype=object)"
      ]
     },
     "execution_count": 5,
     "metadata": {},
     "output_type": "execute_result"
    }
   ],
   "source": [
    "df['job_title'].unique()"
   ]
  },
  {
   "cell_type": "markdown",
   "id": "ff89f177",
   "metadata": {},
   "source": [
    "---"
   ]
  },
  {
   "cell_type": "markdown",
   "id": "25afde49",
   "metadata": {},
   "source": [
    "'salary'까지 넣었다가 score가 좋았는데,  \n",
    "  \n",
    "생각해보니 타겟인 'salary_in_usd'를 us달러 비율로 바꾸기 전의 값이었기 때문에  \n",
    "  \n",
    "특성 중요도도 높고, 모델 자체의 score가 좋게 나올 수 밖에 없었음을 깨닫게 됨  \n",
    "  \n",
    "=> 타겟값을 그대로 넣어버린셈. 차후에 해당 피처 삭제   \n",
    "\n"
   ]
  },
  {
   "cell_type": "code",
   "execution_count": 6,
   "id": "41cfb2b2",
   "metadata": {},
   "outputs": [],
   "source": [
    "# 불필요 피처 삭제\n",
    "df.drop(['work_year','salary'], axis=1, inplace=True)\n",
    "# salary는 salary_in_usd와 비슷한 피처라 삭제\n",
    "# employee_residence는 company_location와 비슷"
   ]
  },
  {
   "cell_type": "code",
   "execution_count": 7,
   "id": "e94cf64a",
   "metadata": {
    "scrolled": true
   },
   "outputs": [
    {
     "data": {
      "text/plain": [
       "Index(['experience_level', 'employment_type', 'job_title', 'salary_currency',\n",
       "       'employee_residence', 'remote_ratio', 'company_location',\n",
       "       'company_size', 'salary_in_usd'],\n",
       "      dtype='object')"
      ]
     },
     "execution_count": 7,
     "metadata": {},
     "output_type": "execute_result"
    }
   ],
   "source": [
    "df.columns"
   ]
  },
  {
   "cell_type": "markdown",
   "id": "feac9775",
   "metadata": {},
   "source": [
    "---"
   ]
  },
  {
   "cell_type": "markdown",
   "id": "a4901c59",
   "metadata": {},
   "source": [
    "### <span style = 'color : blue'> One-Hot Encoding </span>"
   ]
  },
  {
   "cell_type": "markdown",
   "id": "bdaa974b",
   "metadata": {},
   "source": [
    "처음엔 했다가,  \n",
    "타겟을 제외한 모든 피처들이 범주형, 특히 'job_title' 피처는 1차적으로 묶어주었음에도 8개  \n",
    "원-핫 코딩을 하면 너무 많은 추가적인 피처들이 생김  \n",
    "  \n",
    "컬럼이 너무 많아지면?  \n",
    "각 특성의 범주에 들어가는 변수들이 모두 새로운 특성이 되므로 범주의 종류가 많아질수록 전체 데이터의 특성이 엄청나게 늘어남  \n",
    "(이렇게 많아지는걸 high cardinality라고 말함) 이럴경우 원핫인코딩이 좋지 않음  "
   ]
  },
  {
   "cell_type": "markdown",
   "id": "f1f0f35b",
   "metadata": {},
   "source": [
    "### <span style = 'color : blue'> LabelEncoder </span>"
   ]
  },
  {
   "cell_type": "code",
   "execution_count": 8,
   "id": "7cbe5c90",
   "metadata": {},
   "outputs": [],
   "source": [
    "from sklearn.preprocessing import LabelEncoder\n",
    "la = LabelEncoder()\n",
    "\n",
    "feature = ['experience_level', 'employment_type', 'job_title',\n",
    "       'salary_currency', 'employee_residence', 'remote_ratio',\n",
    "       'company_location', 'company_size']\n",
    "\n",
    "for i in feature:\n",
    "    la.fit(df[i])\n",
    "    df[i] = la.transform(df[i])"
   ]
  },
  {
   "cell_type": "code",
   "execution_count": 9,
   "id": "daea1f36",
   "metadata": {},
   "outputs": [
    {
     "data": {
      "text/html": [
       "<div>\n",
       "<style scoped>\n",
       "    .dataframe tbody tr th:only-of-type {\n",
       "        vertical-align: middle;\n",
       "    }\n",
       "\n",
       "    .dataframe tbody tr th {\n",
       "        vertical-align: top;\n",
       "    }\n",
       "\n",
       "    .dataframe thead th {\n",
       "        text-align: right;\n",
       "    }\n",
       "</style>\n",
       "<table border=\"1\" class=\"dataframe\">\n",
       "  <thead>\n",
       "    <tr style=\"text-align: right;\">\n",
       "      <th></th>\n",
       "      <th>experience_level</th>\n",
       "      <th>employment_type</th>\n",
       "      <th>job_title</th>\n",
       "      <th>salary_currency</th>\n",
       "      <th>employee_residence</th>\n",
       "      <th>remote_ratio</th>\n",
       "      <th>company_location</th>\n",
       "      <th>company_size</th>\n",
       "      <th>salary_in_usd</th>\n",
       "    </tr>\n",
       "  </thead>\n",
       "  <tbody>\n",
       "    <tr>\n",
       "      <th>0</th>\n",
       "      <td>2</td>\n",
       "      <td>2</td>\n",
       "      <td>7</td>\n",
       "      <td>7</td>\n",
       "      <td>14</td>\n",
       "      <td>0</td>\n",
       "      <td>12</td>\n",
       "      <td>0</td>\n",
       "      <td>79833</td>\n",
       "    </tr>\n",
       "    <tr>\n",
       "      <th>1</th>\n",
       "      <td>3</td>\n",
       "      <td>2</td>\n",
       "      <td>7</td>\n",
       "      <td>16</td>\n",
       "      <td>32</td>\n",
       "      <td>0</td>\n",
       "      <td>29</td>\n",
       "      <td>2</td>\n",
       "      <td>260000</td>\n",
       "    </tr>\n",
       "    <tr>\n",
       "      <th>2</th>\n",
       "      <td>3</td>\n",
       "      <td>2</td>\n",
       "      <td>5</td>\n",
       "      <td>8</td>\n",
       "      <td>20</td>\n",
       "      <td>1</td>\n",
       "      <td>18</td>\n",
       "      <td>1</td>\n",
       "      <td>109024</td>\n",
       "    </tr>\n",
       "    <tr>\n",
       "      <th>3</th>\n",
       "      <td>2</td>\n",
       "      <td>2</td>\n",
       "      <td>0</td>\n",
       "      <td>16</td>\n",
       "      <td>23</td>\n",
       "      <td>0</td>\n",
       "      <td>20</td>\n",
       "      <td>2</td>\n",
       "      <td>20000</td>\n",
       "    </tr>\n",
       "    <tr>\n",
       "      <th>4</th>\n",
       "      <td>3</td>\n",
       "      <td>2</td>\n",
       "      <td>5</td>\n",
       "      <td>16</td>\n",
       "      <td>55</td>\n",
       "      <td>1</td>\n",
       "      <td>48</td>\n",
       "      <td>0</td>\n",
       "      <td>150000</td>\n",
       "    </tr>\n",
       "    <tr>\n",
       "      <th>...</th>\n",
       "      <td>...</td>\n",
       "      <td>...</td>\n",
       "      <td>...</td>\n",
       "      <td>...</td>\n",
       "      <td>...</td>\n",
       "      <td>...</td>\n",
       "      <td>...</td>\n",
       "      <td>...</td>\n",
       "      <td>...</td>\n",
       "    </tr>\n",
       "    <tr>\n",
       "      <th>601</th>\n",
       "      <td>3</td>\n",
       "      <td>2</td>\n",
       "      <td>5</td>\n",
       "      <td>16</td>\n",
       "      <td>55</td>\n",
       "      <td>2</td>\n",
       "      <td>48</td>\n",
       "      <td>1</td>\n",
       "      <td>154000</td>\n",
       "    </tr>\n",
       "    <tr>\n",
       "      <th>602</th>\n",
       "      <td>3</td>\n",
       "      <td>2</td>\n",
       "      <td>5</td>\n",
       "      <td>16</td>\n",
       "      <td>55</td>\n",
       "      <td>2</td>\n",
       "      <td>48</td>\n",
       "      <td>1</td>\n",
       "      <td>126000</td>\n",
       "    </tr>\n",
       "    <tr>\n",
       "      <th>603</th>\n",
       "      <td>3</td>\n",
       "      <td>2</td>\n",
       "      <td>0</td>\n",
       "      <td>16</td>\n",
       "      <td>55</td>\n",
       "      <td>0</td>\n",
       "      <td>48</td>\n",
       "      <td>1</td>\n",
       "      <td>129000</td>\n",
       "    </tr>\n",
       "    <tr>\n",
       "      <th>604</th>\n",
       "      <td>3</td>\n",
       "      <td>2</td>\n",
       "      <td>0</td>\n",
       "      <td>16</td>\n",
       "      <td>55</td>\n",
       "      <td>2</td>\n",
       "      <td>48</td>\n",
       "      <td>1</td>\n",
       "      <td>150000</td>\n",
       "    </tr>\n",
       "    <tr>\n",
       "      <th>605</th>\n",
       "      <td>2</td>\n",
       "      <td>2</td>\n",
       "      <td>7</td>\n",
       "      <td>16</td>\n",
       "      <td>27</td>\n",
       "      <td>2</td>\n",
       "      <td>48</td>\n",
       "      <td>0</td>\n",
       "      <td>200000</td>\n",
       "    </tr>\n",
       "  </tbody>\n",
       "</table>\n",
       "<p>606 rows × 9 columns</p>\n",
       "</div>"
      ],
      "text/plain": [
       "     experience_level  employment_type  job_title  salary_currency  \\\n",
       "0                   2                2          7                7   \n",
       "1                   3                2          7               16   \n",
       "2                   3                2          5                8   \n",
       "3                   2                2          0               16   \n",
       "4                   3                2          5               16   \n",
       "..                ...              ...        ...              ...   \n",
       "601                 3                2          5               16   \n",
       "602                 3                2          5               16   \n",
       "603                 3                2          0               16   \n",
       "604                 3                2          0               16   \n",
       "605                 2                2          7               16   \n",
       "\n",
       "     employee_residence  remote_ratio  company_location  company_size  \\\n",
       "0                    14             0                12             0   \n",
       "1                    32             0                29             2   \n",
       "2                    20             1                18             1   \n",
       "3                    23             0                20             2   \n",
       "4                    55             1                48             0   \n",
       "..                  ...           ...               ...           ...   \n",
       "601                  55             2                48             1   \n",
       "602                  55             2                48             1   \n",
       "603                  55             0                48             1   \n",
       "604                  55             2                48             1   \n",
       "605                  27             2                48             0   \n",
       "\n",
       "     salary_in_usd  \n",
       "0            79833  \n",
       "1           260000  \n",
       "2           109024  \n",
       "3            20000  \n",
       "4           150000  \n",
       "..             ...  \n",
       "601         154000  \n",
       "602         126000  \n",
       "603         129000  \n",
       "604         150000  \n",
       "605         200000  \n",
       "\n",
       "[606 rows x 9 columns]"
      ]
     },
     "execution_count": 9,
     "metadata": {},
     "output_type": "execute_result"
    }
   ],
   "source": [
    "df"
   ]
  },
  {
   "cell_type": "markdown",
   "id": "6e976ba6",
   "metadata": {},
   "source": [
    "---"
   ]
  },
  {
   "cell_type": "markdown",
   "id": "0af7e779",
   "metadata": {},
   "source": [
    "### <span style = 'color : blue'> [ 학습 & 테스트 데이터 분리 ] </span>"
   ]
  },
  {
   "cell_type": "code",
   "execution_count": 31,
   "id": "49fac8ad",
   "metadata": {},
   "outputs": [
    {
     "data": {
      "text/html": [
       "<div>\n",
       "<style scoped>\n",
       "    .dataframe tbody tr th:only-of-type {\n",
       "        vertical-align: middle;\n",
       "    }\n",
       "\n",
       "    .dataframe tbody tr th {\n",
       "        vertical-align: top;\n",
       "    }\n",
       "\n",
       "    .dataframe thead th {\n",
       "        text-align: right;\n",
       "    }\n",
       "</style>\n",
       "<table border=\"1\" class=\"dataframe\">\n",
       "  <thead>\n",
       "    <tr style=\"text-align: right;\">\n",
       "      <th></th>\n",
       "      <th>experience_level</th>\n",
       "      <th>employment_type</th>\n",
       "      <th>job_title</th>\n",
       "      <th>salary_currency</th>\n",
       "      <th>employee_residence</th>\n",
       "      <th>remote_ratio</th>\n",
       "      <th>company_location</th>\n",
       "      <th>company_size</th>\n",
       "      <th>salary_in_usd</th>\n",
       "    </tr>\n",
       "  </thead>\n",
       "  <tbody>\n",
       "    <tr>\n",
       "      <th>0</th>\n",
       "      <td>2</td>\n",
       "      <td>2</td>\n",
       "      <td>7</td>\n",
       "      <td>7</td>\n",
       "      <td>14</td>\n",
       "      <td>0</td>\n",
       "      <td>12</td>\n",
       "      <td>0</td>\n",
       "      <td>79833</td>\n",
       "    </tr>\n",
       "    <tr>\n",
       "      <th>1</th>\n",
       "      <td>3</td>\n",
       "      <td>2</td>\n",
       "      <td>7</td>\n",
       "      <td>16</td>\n",
       "      <td>32</td>\n",
       "      <td>0</td>\n",
       "      <td>29</td>\n",
       "      <td>2</td>\n",
       "      <td>260000</td>\n",
       "    </tr>\n",
       "    <tr>\n",
       "      <th>2</th>\n",
       "      <td>3</td>\n",
       "      <td>2</td>\n",
       "      <td>5</td>\n",
       "      <td>8</td>\n",
       "      <td>20</td>\n",
       "      <td>1</td>\n",
       "      <td>18</td>\n",
       "      <td>1</td>\n",
       "      <td>109024</td>\n",
       "    </tr>\n",
       "    <tr>\n",
       "      <th>3</th>\n",
       "      <td>2</td>\n",
       "      <td>2</td>\n",
       "      <td>0</td>\n",
       "      <td>16</td>\n",
       "      <td>23</td>\n",
       "      <td>0</td>\n",
       "      <td>20</td>\n",
       "      <td>2</td>\n",
       "      <td>20000</td>\n",
       "    </tr>\n",
       "    <tr>\n",
       "      <th>4</th>\n",
       "      <td>3</td>\n",
       "      <td>2</td>\n",
       "      <td>5</td>\n",
       "      <td>16</td>\n",
       "      <td>55</td>\n",
       "      <td>1</td>\n",
       "      <td>48</td>\n",
       "      <td>0</td>\n",
       "      <td>150000</td>\n",
       "    </tr>\n",
       "    <tr>\n",
       "      <th>...</th>\n",
       "      <td>...</td>\n",
       "      <td>...</td>\n",
       "      <td>...</td>\n",
       "      <td>...</td>\n",
       "      <td>...</td>\n",
       "      <td>...</td>\n",
       "      <td>...</td>\n",
       "      <td>...</td>\n",
       "      <td>...</td>\n",
       "    </tr>\n",
       "    <tr>\n",
       "      <th>601</th>\n",
       "      <td>3</td>\n",
       "      <td>2</td>\n",
       "      <td>5</td>\n",
       "      <td>16</td>\n",
       "      <td>55</td>\n",
       "      <td>2</td>\n",
       "      <td>48</td>\n",
       "      <td>1</td>\n",
       "      <td>154000</td>\n",
       "    </tr>\n",
       "    <tr>\n",
       "      <th>602</th>\n",
       "      <td>3</td>\n",
       "      <td>2</td>\n",
       "      <td>5</td>\n",
       "      <td>16</td>\n",
       "      <td>55</td>\n",
       "      <td>2</td>\n",
       "      <td>48</td>\n",
       "      <td>1</td>\n",
       "      <td>126000</td>\n",
       "    </tr>\n",
       "    <tr>\n",
       "      <th>603</th>\n",
       "      <td>3</td>\n",
       "      <td>2</td>\n",
       "      <td>0</td>\n",
       "      <td>16</td>\n",
       "      <td>55</td>\n",
       "      <td>0</td>\n",
       "      <td>48</td>\n",
       "      <td>1</td>\n",
       "      <td>129000</td>\n",
       "    </tr>\n",
       "    <tr>\n",
       "      <th>604</th>\n",
       "      <td>3</td>\n",
       "      <td>2</td>\n",
       "      <td>0</td>\n",
       "      <td>16</td>\n",
       "      <td>55</td>\n",
       "      <td>2</td>\n",
       "      <td>48</td>\n",
       "      <td>1</td>\n",
       "      <td>150000</td>\n",
       "    </tr>\n",
       "    <tr>\n",
       "      <th>605</th>\n",
       "      <td>2</td>\n",
       "      <td>2</td>\n",
       "      <td>7</td>\n",
       "      <td>16</td>\n",
       "      <td>27</td>\n",
       "      <td>2</td>\n",
       "      <td>48</td>\n",
       "      <td>0</td>\n",
       "      <td>200000</td>\n",
       "    </tr>\n",
       "  </tbody>\n",
       "</table>\n",
       "<p>606 rows × 9 columns</p>\n",
       "</div>"
      ],
      "text/plain": [
       "     experience_level  employment_type  job_title  salary_currency  \\\n",
       "0                   2                2          7                7   \n",
       "1                   3                2          7               16   \n",
       "2                   3                2          5                8   \n",
       "3                   2                2          0               16   \n",
       "4                   3                2          5               16   \n",
       "..                ...              ...        ...              ...   \n",
       "601                 3                2          5               16   \n",
       "602                 3                2          5               16   \n",
       "603                 3                2          0               16   \n",
       "604                 3                2          0               16   \n",
       "605                 2                2          7               16   \n",
       "\n",
       "     employee_residence  remote_ratio  company_location  company_size  \\\n",
       "0                    14             0                12             0   \n",
       "1                    32             0                29             2   \n",
       "2                    20             1                18             1   \n",
       "3                    23             0                20             2   \n",
       "4                    55             1                48             0   \n",
       "..                  ...           ...               ...           ...   \n",
       "601                  55             2                48             1   \n",
       "602                  55             2                48             1   \n",
       "603                  55             0                48             1   \n",
       "604                  55             2                48             1   \n",
       "605                  27             2                48             0   \n",
       "\n",
       "     salary_in_usd  \n",
       "0            79833  \n",
       "1           260000  \n",
       "2           109024  \n",
       "3            20000  \n",
       "4           150000  \n",
       "..             ...  \n",
       "601         154000  \n",
       "602         126000  \n",
       "603         129000  \n",
       "604         150000  \n",
       "605         200000  \n",
       "\n",
       "[606 rows x 9 columns]"
      ]
     },
     "execution_count": 31,
     "metadata": {},
     "output_type": "execute_result"
    }
   ],
   "source": [
    "df"
   ]
  },
  {
   "cell_type": "code",
   "execution_count": 35,
   "id": "53c16091",
   "metadata": {},
   "outputs": [
    {
     "name": "stdout",
     "output_type": "stream",
     "text": [
      "X.shape: (606, 8),  y.shape: (606,)\n"
     ]
    }
   ],
   "source": [
    "# NumPy 배열 추출\n",
    "X = df.iloc[:, :-1].values\n",
    "y = df['salary_in_usd'].values\n",
    "print('X.shape: {},  y.shape: {}'.format(X.shape, y.shape))"
   ]
  },
  {
   "cell_type": "code",
   "execution_count": 36,
   "id": "a398fc18",
   "metadata": {},
   "outputs": [],
   "source": [
    "from sklearn.model_selection import train_test_split\n",
    "\n",
    "X_train, X_test, y_train, y_test = train_test_split(X, y)\n",
    "# 데이터가 적어서 test자료를 25%, 15%, 10% 해보았는데, 기본값이 제일 나았음\n",
    "# stratify 파라미터는 회귀보다 분류에서 쓴다고 함 (like stratifiedKFold)"
   ]
  },
  {
   "cell_type": "code",
   "execution_count": 38,
   "id": "e91ef421",
   "metadata": {
    "collapsed": true
   },
   "outputs": [
    {
     "data": {
      "text/plain": [
       "[array([[ 3,  2,  7, ...,  2, 48,  1],\n",
       "        [ 2,  2,  7, ...,  2, 25,  2],\n",
       "        [ 2,  2,  5, ...,  0, 48,  1],\n",
       "        ...,\n",
       "        [ 3,  2,  7, ...,  0, 48,  1],\n",
       "        [ 3,  2,  5, ...,  0, 48,  1],\n",
       "        [ 2,  2,  0, ...,  2, 48,  0]], dtype=int64),\n",
       " array([[ 3,  2,  0, ...,  2, 48,  1],\n",
       "        [ 3,  2,  6, ...,  2, 48,  1],\n",
       "        [ 2,  2,  7, ...,  2,  6,  0],\n",
       "        ...,\n",
       "        [ 2,  2,  0, ...,  2, 16,  1],\n",
       "        [ 2,  2,  5, ...,  2, 18,  1],\n",
       "        [ 2,  2,  5, ...,  2, 16,  2]], dtype=int64),\n",
       " array([140000,  16904, 206699, 162674, 170000, 213120,  93700, 188000,\n",
       "        113000,  19609,  42197,   6072,  39263,  65949,  93427,  87932,\n",
       "         98158,  51519, 214000, 106260, 145000, 132000,  88654,   9466,\n",
       "        165400, 205300, 101570, 120000, 200000,  70139,  18442,  52351,\n",
       "          4000,  62726,  20171, 117104, 174000, 110037,   2859, 126500,\n",
       "         49461, 215300, 216000,  40038,  25000, 170000, 220110,  93000,\n",
       "        147000,  51064,  40481,  69000,  48000, 112900, 160000, 170000,\n",
       "         99050, 130000, 115000, 109024, 150000,  12000,  55000, 135000,\n",
       "        184700,  76940, 160000, 256000, 105000, 141300, 160000, 153000,\n",
       "        136600, 150000,  61300, 115000,  12103, 150000, 324000, 140400,\n",
       "         56738,  99360,  66022, 200000, 196979,  58035,  91000,  18000,\n",
       "         65949,  80000,  96282,  54742, 260000, 157000, 154600, 100800,\n",
       "        600000, 181940,  69741,  90700,  80000,  88654,  87932,   9272,\n",
       "        126500, 140000, 146000,  78526, 123000, 120000,  79833, 118000,\n",
       "         18053, 103160,  15966,  72000, 130000,  90320, 130000, 125000,\n",
       "         12901, 112900, 200000,  21983, 120000, 176000,  81666, 200100,\n",
       "         43331,  69336,  90320, 160000,  54957, 140000, 120600, 235000,\n",
       "         49646,  46597, 110000,  50000, 160000, 177000, 250000,  77684,\n",
       "         90320,  21637, 130000,  47899, 150000, 260000,  90000,  79833,\n",
       "         28399, 123000,  37236, 120000,  86703, 130026,  88654, 225000,\n",
       "         45807,  61467, 200000, 120000,  56000,  70500, 136000, 150000,\n",
       "        102100,  98158, 150000,  32974, 126000, 132320, 170000,   5882,\n",
       "        100000, 180000,  70000, 132320, 135000, 230000, 150260, 124190,\n",
       "        192564, 155000, 135000, 450000, 220110, 105000, 104702, 127221,\n",
       "         42000,  60000, 165400, 405000, 132320,  60000,  78526, 192600,\n",
       "        110000,  82500, 220000, 190000,  93700,  18907,  75000,  68147,\n",
       "         26005, 138600,  54957,  31615,  52000,  55000, 135000,  60000,\n",
       "        112872, 200000,  50000,  50180, 416000, 100000, 120000,  65000,\n",
       "        115934, 120000, 115500, 276000,  80000, 170000, 100000,  72212,\n",
       "        180000, 412000, 120000, 135000, 138350,  49268, 210000, 109280,\n",
       "        115934, 170000,  45807, 152000,  59303, 150075, 183228, 110925,\n",
       "        155000,  78526, 135000, 250000,  21669, 200000,  10000, 209100,\n",
       "        150000, 150000, 205300, 120000,  80000,  40189,  63810,  36643,\n",
       "        160000,  36259, 165000, 125000,  24000,  28369, 164996, 117789,\n",
       "         16228, 423000, 128875,  60000, 167875, 180000, 109000,  10000,\n",
       "         54957, 270000,  40000,  91237, 100000,  45391,  38776, 115000,\n",
       "        180000, 129000, 154600,  13400,  58000, 105000, 104702, 200000,\n",
       "        152500, 153000,  59102, 140000,  18442,  78791, 100000,  65013,\n",
       "        220000,  43966,  12000, 210000,  77364, 210000, 144000,  76833,\n",
       "         90000, 105400,  24342, 105000, 192400, 325000, 243900, 173762,\n",
       "          5679, 116150,  50000,  99703, 102100,  81000,  63831, 380000,\n",
       "         87738, 150000,  32974,  87932, 136994,  58894,  70912,  28476,\n",
       "        242000, 195000,  85000,   8000,  90000, 136620,  54094, 130800,\n",
       "         75000, 100000,  80000,  38400,  20000,  90734, 118187, 210000,\n",
       "         98000,  24823, 130000,  60000,  76940, 215300, 115000, 150000,\n",
       "        235000, 108800,  30428,  33511, 170000, 140000,  65438,  61300,\n",
       "         90320,  20000, 141846, 116914,  73000,  71786, 241000,   5707,\n",
       "         20000,  84900, 100000,  87000,  33808, 189650, 103691,  28609,\n",
       "         50000,  68428, 140000,  91614,  20000, 170000, 175000, 153667,\n",
       "        135000,  67000,  99000,   6072, 220000, 120000,  71982,  60757,\n",
       "         76833,  58255,  65000,  40570, 160080, 138000,  80000,  49461,\n",
       "        145000,  37825, 167000,  12000, 105000,  64849, 150000,  45618,\n",
       "         90320, 110000, 100000,  90734, 210000, 450000,  41689, 168000,\n",
       "        110000,  78791, 190200, 140000, 116000,  45896,  94564, 115000,\n",
       "         52351,  35735,  46809, 111775, 160000, 140000,  46759, 110500,\n",
       "        165220, 130000,  53192, 122346, 158200,  62651,  62726,  80000,\n",
       "         20000, 104890, 124333, 140400,  54000,  85000], dtype=int64),\n",
       " array([100000, 161342, 187442,  91614,  93150,  63711,  98158, 266400,\n",
       "        140400, 230000,  90000,  52351,  50000, 120160, 114047,  39916,\n",
       "         66265, 135000, 185100, 205300,  82528,  29751, 100000,  62000,\n",
       "        148261,  81666,  82744,  25532, 144000, 100000, 200000,  63900,\n",
       "         21844, 120000,  71444,  22611,  65438, 167000, 189650, 144000,\n",
       "        147800, 160080,  37300, 100000, 144854,  89294,  63831, 211500,\n",
       "         58000, 165000, 110000, 113476,   4000, 164000, 130000, 102839,\n",
       "        183600, 180000,  59102, 137141,  96113,  31875,  80000,  79039,\n",
       "        150000, 240000,  56256,  90000, 100000, 106000,  87425,  85000,\n",
       "         10354, 151000,  51321,  32974, 100000, 112900, 130000, 156600,\n",
       "         76833,  52396,  74130, 103000,  70000, 209100,  78000, 128875,\n",
       "         90000, 185000,  45807, 174000,  69741,  87932, 160000,  28016,\n",
       "         54238,  24823,  82528, 112000,  82900, 185000,  62649,  72500,\n",
       "        164996, 159000, 123000, 165000,  58000,  79197, 200000,  75000,\n",
       "        208775,  35590, 230000, 117789,  99000, 120000, 140250,  85000,\n",
       "         76958, 165000, 175100,  75000, 119059, 100000, 106260,  45760,\n",
       "         75774,  95746, 175000, 154000, 155000, 109280, 225000,  69999,\n",
       "         74000,  65438, 112300, 135000,  61896,  39263,  99100,  94665,\n",
       "        125000,  95550, 224000, 112900, 200000,  43966,  78526,  47282],\n",
       "       dtype=int64)]"
      ]
     },
     "execution_count": 38,
     "metadata": {},
     "output_type": "execute_result"
    }
   ],
   "source": [
    "train_test_split(X, y)"
   ]
  },
  {
   "cell_type": "markdown",
   "id": "1e5daf30",
   "metadata": {},
   "source": [
    "---"
   ]
  },
  {
   "cell_type": "markdown",
   "id": "e3c5f234",
   "metadata": {},
   "source": [
    "### <span style = 'color : blue'> [ all_estimators로 모델 고르기 ] </span>"
   ]
  },
  {
   "cell_type": "code",
   "execution_count": 12,
   "id": "384b2ca4",
   "metadata": {
    "scrolled": true
   },
   "outputs": [],
   "source": [
    "# 필터 타입에 해당하는 sklearn에 존재하는 모든 모델 이름과 객체 리스트로 반환\n",
    "from sklearn.utils import all_estimators\n",
    "models = all_estimators(type_filter = 'regressor')\n",
    "\n",
    "# 각 모델들 훈련시키고 정확도 추출\n",
    "scores = []\n",
    "for name, model in models:\n",
    "    try:\n",
    "        # 모델 객체 생성\n",
    "        md = model()\n",
    "        # 학습\n",
    "        md.fit(X_train, y_train)\n",
    "        # 평가\n",
    "        result = md.score(X_test, y_test)\n",
    "    \n",
    "        scores.append((name, np.round(result,3)))\n",
    "    except:\n",
    "        pass"
   ]
  },
  {
   "cell_type": "code",
   "execution_count": 13,
   "id": "08ec8b0b",
   "metadata": {
    "collapsed": true
   },
   "outputs": [
    {
     "data": {
      "text/plain": [
       "[('ARDRegression', 0.307),\n",
       " ('AdaBoostRegressor', 0.149),\n",
       " ('BaggingRegressor', 0.465),\n",
       " ('BayesianRidge', 0.304),\n",
       " ('CCA', -0.445),\n",
       " ('DecisionTreeRegressor', 0.327),\n",
       " ('DummyRegressor', -0.0),\n",
       " ('ElasticNet', 0.312),\n",
       " ('ElasticNetCV', 0.183),\n",
       " ('ExtraTreeRegressor', 0.275),\n",
       " ('ExtraTreesRegressor', 0.417),\n",
       " ('GammaRegressor', 0.3),\n",
       " ('GaussianProcessRegressor', -0.059),\n",
       " ('GradientBoostingRegressor', 0.437),\n",
       " ('HistGradientBoostingRegressor', 0.489),\n",
       " ('HuberRegressor', 0.262),\n",
       " ('KNeighborsRegressor', 0.232),\n",
       " ('KernelRidge', 0.31),\n",
       " ('Lars', 0.282),\n",
       " ('LarsCV', 0.295),\n",
       " ('Lasso', 0.282),\n",
       " ('LassoCV', 0.3),\n",
       " ('LassoLars', 0.282),\n",
       " ('LassoLarsCV', 0.295),\n",
       " ('LassoLarsIC', 0.3),\n",
       " ('LinearRegression', 0.282),\n",
       " ('LinearSVR', 0.161),\n",
       " ('MLPRegressor', -2.679),\n",
       " ('NuSVR', -0.013),\n",
       " ('OrthogonalMatchingPursuit', 0.242),\n",
       " ('OrthogonalMatchingPursuitCV', 0.272),\n",
       " ('PLSCanonical', -1.51),\n",
       " ('PLSRegression', 0.283),\n",
       " ('PassiveAggressiveRegressor', 0.285),\n",
       " ('PoissonRegressor', 0.32),\n",
       " ('QuantileRegressor', 0.189),\n",
       " ('RANSACRegressor', 0.132),\n",
       " ('RadiusNeighborsRegressor', -5.062806449168396e+27),\n",
       " ('RandomForestRegressor', 0.442),\n",
       " ('Ridge', 0.283),\n",
       " ('RidgeCV', 0.289),\n",
       " ('SGDRegressor', -264416025842395.9),\n",
       " ('SVR', -0.041),\n",
       " ('TheilSenRegressor', -0.762),\n",
       " ('TransformedTargetRegressor', 0.282),\n",
       " ('TweedieRegressor', 0.31)]"
      ]
     },
     "execution_count": 13,
     "metadata": {},
     "output_type": "execute_result"
    }
   ],
   "source": [
    "scores\n",
    "\n",
    "# 'HistGradientBoostingRegressor', 0.499\n",
    "# 'GradientBoostingRegressor', 0.466\n",
    "# 'RandomForestRegressor', 0.482"
   ]
  },
  {
   "cell_type": "markdown",
   "id": "93a278ff",
   "metadata": {},
   "source": [
    "#### <span style='background:yellow'> 원-핫 인코딩(피처수), train-test 분리할 때 test_size, 피처간 관계파악 -> 피처 조절(특성 공학), 모델의 선정, 하이퍼 파라미터 조절 </span>"
   ]
  },
  {
   "cell_type": "markdown",
   "id": "cb3a9a4b",
   "metadata": {},
   "source": [
    "### <span style = 'color : blue'> [ 의사결정나무 ] </span>"
   ]
  },
  {
   "cell_type": "code",
   "execution_count": 14,
   "id": "2ac5cf4c",
   "metadata": {},
   "outputs": [
    {
     "data": {
      "text/plain": [
       "DecisionTreeRegressor()"
      ]
     },
     "execution_count": 14,
     "metadata": {},
     "output_type": "execute_result"
    }
   ],
   "source": [
    "from sklearn.tree import DecisionTreeRegressor\n",
    "r_model = DecisionTreeRegressor()\n",
    "r_model"
   ]
  },
  {
   "cell_type": "code",
   "execution_count": 15,
   "id": "1c642292",
   "metadata": {},
   "outputs": [
    {
     "name": "stdout",
     "output_type": "stream",
     "text": [
      "훈  련 세트 : 0.738\n",
      "테스트 세트 : 0.385\n"
     ]
    }
   ],
   "source": [
    "r_model.fit(X_train, y_train)\n",
    "print(\"훈  련 세트 : {:.3f}\".format(r_model.score(X_train, y_train)))\n",
    "print(\"테스트 세트 : {:.3f}\".format(r_model.score(X_test, y_test)))"
   ]
  },
  {
   "cell_type": "code",
   "execution_count": 16,
   "id": "33d98e52",
   "metadata": {},
   "outputs": [
    {
     "data": {
      "text/plain": [
       "Index(['experience_level', 'employment_type', 'job_title', 'salary_currency',\n",
       "       'employee_residence', 'remote_ratio', 'company_location',\n",
       "       'company_size', 'salary_in_usd'],\n",
       "      dtype='object')"
      ]
     },
     "execution_count": 16,
     "metadata": {},
     "output_type": "execute_result"
    }
   ],
   "source": [
    "# 피처이름 미리 정해주기\n",
    "feature_names = df.columns[:9]\n",
    "feature_names"
   ]
  },
  {
   "cell_type": "code",
   "execution_count": 17,
   "id": "cc022e44",
   "metadata": {},
   "outputs": [
    {
     "data": {
      "image/png": "[encoded data removed]",
      "text/plain": [
       "<Figure size 864x432 with 1 Axes>"
      ]
     },
     "metadata": {
      "needs_background": "light"
     },
     "output_type": "display_data"
    }
   ],
   "source": [
    "from sklearn.tree import plot_tree\n",
    "plt.figure(figsize=(12,6))\n",
    "plot_tree(r_model, max_depth=3, filled=True, feature_names=feature_names,\n",
    "          impurity=False, rounded=True, fontsize=12)\n",
    "plt.show()"
   ]
  },
  {
   "cell_type": "code",
   "execution_count": 18,
   "id": "bffe8a5a",
   "metadata": {},
   "outputs": [
    {
     "name": "stdout",
     "output_type": "stream",
     "text": [
      "특성 중요도:\n",
      " [0.18760801 0.00868755 0.11126545 0.02864957 0.50001239 0.04888069\n",
      " 0.02650456 0.08839178]\n"
     ]
    }
   ],
   "source": [
    "# 특성 중요도\n",
    "print('특성 중요도:\\n', r_model.feature_importances_)"
   ]
  },
  {
   "cell_type": "code",
   "execution_count": 41,
   "id": "dc261bda",
   "metadata": {},
   "outputs": [
    {
     "data": {
      "text/plain": [
       "8"
      ]
     },
     "execution_count": 41,
     "metadata": {},
     "output_type": "execute_result"
    }
   ],
   "source": [
    "X.shape[1]"
   ]
  },
  {
   "cell_type": "code",
   "execution_count": 46,
   "id": "abcaddcc",
   "metadata": {},
   "outputs": [
    {
     "data": {
      "text/plain": [
       "array([0, 1, 2, 3, 4, 5, 6, 7])"
      ]
     },
     "execution_count": 46,
     "metadata": {},
     "output_type": "execute_result"
    }
   ],
   "source": [
    "np.arange(8)"
   ]
  },
  {
   "cell_type": "code",
   "execution_count": 47,
   "id": "b58120dd",
   "metadata": {},
   "outputs": [
    {
     "data": {
      "text/plain": [
       "[0, 0, 0, 0, 0, 0, 0, 0]"
      ]
     },
     "execution_count": 47,
     "metadata": {},
     "output_type": "execute_result"
    }
   ],
   "source": [
    "[0] * 8"
   ]
  },
  {
   "cell_type": "code",
   "execution_count": 19,
   "id": "de80b285",
   "metadata": {},
   "outputs": [
    {
     "data": {
      "image/png": "[encoded data removed]",
      "text/plain": [
       "<Figure size 720x360 with 1 Axes>"
      ]
     },
     "metadata": {
      "needs_background": "light"
     },
     "output_type": "display_data"
    }
   ],
   "source": [
    "def plot_feature_importances_cancer(model):\n",
    "    n_features = X.shape[1]\n",
    "    plt.figure(figsize=(10,5))\n",
    "    plt.barh(np.arange(n_features), model.feature_importances_, align='center', color='violet')\n",
    "    plt.yticks(np.arange(n_features), feature, fontsize=15)\n",
    "    plt.xlabel('특성 중요도', fontsize=15)\n",
    "    plt.ylabel('특성', fontsize=15)\n",
    "    plt.ylim(-1, n_features)\n",
    "    plt.show()\n",
    "    \n",
    "plot_feature_importances_cancer(r_model)"
   ]
  },
  {
   "cell_type": "markdown",
   "id": "7fefbb15",
   "metadata": {},
   "source": [
    "### <span style = 'color : blue'> [ 랜덤 포레스트 ] </span>"
   ]
  },
  {
   "cell_type": "code",
   "execution_count": 20,
   "id": "74eaa713",
   "metadata": {},
   "outputs": [
    {
     "data": {
      "text/plain": [
       "RandomForestRegressor(max_depth=5, max_features=0.7, max_samples=0.9,\n",
       "                      n_estimators=50, oob_score=True)"
      ]
     },
     "execution_count": 20,
     "metadata": {},
     "output_type": "execute_result"
    }
   ],
   "source": [
    "from sklearn.ensemble import RandomForestRegressor\n",
    "regr = RandomForestRegressor(max_depth=5, max_features=0.7, max_samples=0.9,\n",
    "                      n_estimators=50, oob_score=True)\n",
    "regr = regr.fit(X_train, y_train)\n",
    "regr"
   ]
  },
  {
   "cell_type": "code",
   "execution_count": 21,
   "id": "478b4646",
   "metadata": {},
   "outputs": [
    {
     "name": "stdout",
     "output_type": "stream",
     "text": [
      "특성 중요도:\n",
      " [0.18344828 0.00447939 0.07029181 0.07269204 0.41605515 0.01296086\n",
      " 0.17468079 0.06539167]\n"
     ]
    }
   ],
   "source": [
    "# 특성 중요도\n",
    "print('특성 중요도:\\n', regr.feature_importances_)"
   ]
  },
  {
   "cell_type": "code",
   "execution_count": 22,
   "id": "0dd1545b",
   "metadata": {
    "scrolled": true
   },
   "outputs": [
    {
     "data": {
      "image/png": "[encoded data removed]",
      "text/plain": [
       "<Figure size 720x360 with 1 Axes>"
      ]
     },
     "metadata": {
      "needs_background": "light"
     },
     "output_type": "display_data"
    }
   ],
   "source": [
    "plot_feature_importances_cancer(regr)"
   ]
  },
  {
   "cell_type": "markdown",
   "id": "e93ab466",
   "metadata": {},
   "source": [
    "### <span style = 'color : blue'> 교차검증 (CV) </span>"
   ]
  },
  {
   "cell_type": "code",
   "execution_count": 23,
   "id": "e007757a",
   "metadata": {},
   "outputs": [],
   "source": [
    "from sklearn.model_selection import cross_val_score, cross_validate # 각 활용처 알아보고 cross_val_predict,\n",
    "result = cross_val_score(regr, X, y, cv=10)"
   ]
  },
  {
   "cell_type": "code",
   "execution_count": 24,
   "id": "3f81bfcc",
   "metadata": {},
   "outputs": [],
   "source": [
    "allResult = cross_validate(regr, X, y, \n",
    "                           return_train_score=True,\n",
    "                           cv=10)"
   ]
  },
  {
   "cell_type": "code",
   "execution_count": 25,
   "id": "46529e8c",
   "metadata": {
    "scrolled": false
   },
   "outputs": [
    {
     "data": {
      "text/html": [
       "<div>\n",
       "<style scoped>\n",
       "    .dataframe tbody tr th:only-of-type {\n",
       "        vertical-align: middle;\n",
       "    }\n",
       "\n",
       "    .dataframe tbody tr th {\n",
       "        vertical-align: top;\n",
       "    }\n",
       "\n",
       "    .dataframe thead th {\n",
       "        text-align: right;\n",
       "    }\n",
       "</style>\n",
       "<table border=\"1\" class=\"dataframe\">\n",
       "  <thead>\n",
       "    <tr style=\"text-align: right;\">\n",
       "      <th></th>\n",
       "      <th>test_score</th>\n",
       "      <th>train_score</th>\n",
       "    </tr>\n",
       "  </thead>\n",
       "  <tbody>\n",
       "    <tr>\n",
       "      <th>0</th>\n",
       "      <td>0.354697</td>\n",
       "      <td>0.563239</td>\n",
       "    </tr>\n",
       "    <tr>\n",
       "      <th>1</th>\n",
       "      <td>0.406731</td>\n",
       "      <td>0.579688</td>\n",
       "    </tr>\n",
       "    <tr>\n",
       "      <th>2</th>\n",
       "      <td>0.376500</td>\n",
       "      <td>0.559878</td>\n",
       "    </tr>\n",
       "    <tr>\n",
       "      <th>3</th>\n",
       "      <td>0.574255</td>\n",
       "      <td>0.535830</td>\n",
       "    </tr>\n",
       "    <tr>\n",
       "      <th>4</th>\n",
       "      <td>0.191062</td>\n",
       "      <td>0.564668</td>\n",
       "    </tr>\n",
       "    <tr>\n",
       "      <th>5</th>\n",
       "      <td>0.418900</td>\n",
       "      <td>0.560818</td>\n",
       "    </tr>\n",
       "    <tr>\n",
       "      <th>6</th>\n",
       "      <td>0.431505</td>\n",
       "      <td>0.568726</td>\n",
       "    </tr>\n",
       "    <tr>\n",
       "      <th>7</th>\n",
       "      <td>0.529619</td>\n",
       "      <td>0.555487</td>\n",
       "    </tr>\n",
       "    <tr>\n",
       "      <th>8</th>\n",
       "      <td>0.422078</td>\n",
       "      <td>0.565807</td>\n",
       "    </tr>\n",
       "    <tr>\n",
       "      <th>9</th>\n",
       "      <td>0.215101</td>\n",
       "      <td>0.567867</td>\n",
       "    </tr>\n",
       "  </tbody>\n",
       "</table>\n",
       "</div>"
      ],
      "text/plain": [
       "   test_score  train_score\n",
       "0    0.354697     0.563239\n",
       "1    0.406731     0.579688\n",
       "2    0.376500     0.559878\n",
       "3    0.574255     0.535830\n",
       "4    0.191062     0.564668\n",
       "5    0.418900     0.560818\n",
       "6    0.431505     0.568726\n",
       "7    0.529619     0.555487\n",
       "8    0.422078     0.565807\n",
       "9    0.215101     0.567867"
      ]
     },
     "execution_count": 25,
     "metadata": {},
     "output_type": "execute_result"
    }
   ],
   "source": [
    "resultDF1 = pd.DataFrame(allResult)\n",
    "resultDF1[['test_score', 'train_score']]"
   ]
  },
  {
   "cell_type": "markdown",
   "id": "8f5f6b3a",
   "metadata": {},
   "source": [
    "### <span style = 'color : blue'> KFold </span>"
   ]
  },
  {
   "cell_type": "code",
   "execution_count": 26,
   "id": "3b790cba",
   "metadata": {},
   "outputs": [],
   "source": [
    "# Splitter 객체 생성 - KFold()\n",
    "from sklearn.model_selection import KFold\n",
    "\n",
    "kSplitter = KFold(n_splits=10, shuffle=True)"
   ]
  },
  {
   "cell_type": "code",
   "execution_count": 27,
   "id": "7c8b6cfb",
   "metadata": {
    "scrolled": false
   },
   "outputs": [
    {
     "data": {
      "text/html": [
       "<div>\n",
       "<style scoped>\n",
       "    .dataframe tbody tr th:only-of-type {\n",
       "        vertical-align: middle;\n",
       "    }\n",
       "\n",
       "    .dataframe tbody tr th {\n",
       "        vertical-align: top;\n",
       "    }\n",
       "\n",
       "    .dataframe thead th {\n",
       "        text-align: right;\n",
       "    }\n",
       "</style>\n",
       "<table border=\"1\" class=\"dataframe\">\n",
       "  <thead>\n",
       "    <tr style=\"text-align: right;\">\n",
       "      <th></th>\n",
       "      <th>test_score</th>\n",
       "      <th>train_score</th>\n",
       "    </tr>\n",
       "  </thead>\n",
       "  <tbody>\n",
       "    <tr>\n",
       "      <th>0</th>\n",
       "      <td>0.377395</td>\n",
       "      <td>0.579565</td>\n",
       "    </tr>\n",
       "    <tr>\n",
       "      <th>1</th>\n",
       "      <td>0.565259</td>\n",
       "      <td>0.547711</td>\n",
       "    </tr>\n",
       "    <tr>\n",
       "      <th>2</th>\n",
       "      <td>0.373855</td>\n",
       "      <td>0.573446</td>\n",
       "    </tr>\n",
       "    <tr>\n",
       "      <th>3</th>\n",
       "      <td>0.351565</td>\n",
       "      <td>0.559247</td>\n",
       "    </tr>\n",
       "    <tr>\n",
       "      <th>4</th>\n",
       "      <td>0.410635</td>\n",
       "      <td>0.563144</td>\n",
       "    </tr>\n",
       "    <tr>\n",
       "      <th>5</th>\n",
       "      <td>0.320012</td>\n",
       "      <td>0.575273</td>\n",
       "    </tr>\n",
       "    <tr>\n",
       "      <th>6</th>\n",
       "      <td>0.580758</td>\n",
       "      <td>0.551811</td>\n",
       "    </tr>\n",
       "    <tr>\n",
       "      <th>7</th>\n",
       "      <td>0.388444</td>\n",
       "      <td>0.562603</td>\n",
       "    </tr>\n",
       "    <tr>\n",
       "      <th>8</th>\n",
       "      <td>0.656343</td>\n",
       "      <td>0.550282</td>\n",
       "    </tr>\n",
       "    <tr>\n",
       "      <th>9</th>\n",
       "      <td>0.444212</td>\n",
       "      <td>0.557617</td>\n",
       "    </tr>\n",
       "  </tbody>\n",
       "</table>\n",
       "</div>"
      ],
      "text/plain": [
       "   test_score  train_score\n",
       "0    0.377395     0.579565\n",
       "1    0.565259     0.547711\n",
       "2    0.373855     0.573446\n",
       "3    0.351565     0.559247\n",
       "4    0.410635     0.563144\n",
       "5    0.320012     0.575273\n",
       "6    0.580758     0.551811\n",
       "7    0.388444     0.562603\n",
       "8    0.656343     0.550282\n",
       "9    0.444212     0.557617"
      ]
     },
     "execution_count": 27,
     "metadata": {},
     "output_type": "execute_result"
    }
   ],
   "source": [
    "allResult1 = cross_validate(regr, X, y, \n",
    "                           return_train_score=True,\n",
    "                           return_estimator=True,\n",
    "                           cv=kSplitter)\n",
    "\n",
    "resultDF1 = pd.DataFrame(allResult1)\n",
    "resultDF1[['test_score', 'train_score']]"
   ]
  },
  {
   "cell_type": "markdown",
   "id": "c09b29ad",
   "metadata": {},
   "source": [
    "### <span style = 'color : blue'> 하이퍼파라미터 조절 </span>"
   ]
  },
  {
   "cell_type": "code",
   "execution_count": 28,
   "id": "a105c6f4",
   "metadata": {},
   "outputs": [
    {
     "name": "stdout",
     "output_type": "stream",
     "text": [
      "결정계수 :  0.694\n",
      "결정계수 :  0.702\n",
      "결정계수 :  0.702\n",
      "결정계수 :  0.704\n",
      "결정계수 :  0.699\n",
      "결정계수 :  0.71\n",
      "결정계수 :  0.707\n",
      "결정계수 :  0.704\n",
      "결정계수 :  0.707\n",
      "결정계수 :  0.703\n",
      "결정계수 :  0.704\n",
      "결정계수 :  0.704\n",
      "결정계수 :  0.703\n",
      "결정계수 :  0.706\n",
      "결정계수 :  0.709\n",
      "결정계수 :  0.708\n",
      "결정계수 :  0.708\n",
      "결정계수 :  0.705\n",
      "결정계수 :  0.71\n",
      "결정계수 :  0.706\n"
     ]
    }
   ],
   "source": [
    "# for문으로 파라미터 하나씩 높은 것 찾아나가기 (여러 파라미터 함께 쓰였을 경우, 달라질 것 생각 못함)\n",
    "for i in range(10,201,10):\n",
    "  r_model = RandomForestRegressor(n_estimators = i)\n",
    "  r_model.fit(X_train, y_train)\n",
    "\n",
    "  relation_square = r_model.score(X_train, y_train)\n",
    "  print('결정계수 : ', round(relation_square,3))"
   ]
  },
  {
   "cell_type": "markdown",
   "id": "b5d923b6",
   "metadata": {},
   "source": [
    "### <span style = 'color : blue'> GridSearchCV </span>"
   ]
  },
  {
   "cell_type": "code",
   "execution_count": 29,
   "id": "1b2ed674",
   "metadata": {},
   "outputs": [],
   "source": [
    "parameters_r = {'n_estimators': [50, 100, 150, 200, 400],\n",
    "                  'max_depth'    :  [5, 10, 15, 20],\n",
    "                  'max_samples' : [0.2, 0.4, 0.7, 0.8, 0.9, 1.0],\n",
    "                  'max_features'    : [0.2, 0.4, 0.7, 0.8, 0.9, 1.0]\n",
    "                 }"
   ]
  },
  {
   "cell_type": "code",
   "execution_count": 30,
   "id": "22509615",
   "metadata": {},
   "outputs": [
    {
     "ename": "KeyboardInterrupt",
     "evalue": "",
     "output_type": "error",
     "traceback": [
      "\u001b[1;31m---------------------------------------------------------------------------\u001b[0m",
      "\u001b[1;31mKeyboardInterrupt\u001b[0m                         Traceback (most recent call last)",
      "Input \u001b[1;32mIn [30]\u001b[0m, in \u001b[0;36m<cell line: 2>\u001b[1;34m()\u001b[0m\n\u001b[0;32m      1\u001b[0m grid_reg \u001b[38;5;241m=\u001b[39m GridSearchCV(estimator\u001b[38;5;241m=\u001b[39mregr, param_grid \u001b[38;5;241m=\u001b[39m parameters_r, cv \u001b[38;5;241m=\u001b[39m \u001b[38;5;241m2\u001b[39m, n_jobs\u001b[38;5;241m=\u001b[39m\u001b[38;5;241m-\u001b[39m\u001b[38;5;241m1\u001b[39m)\n\u001b[1;32m----> 2\u001b[0m \u001b[43mgrid_reg\u001b[49m\u001b[38;5;241;43m.\u001b[39;49m\u001b[43mfit\u001b[49m\u001b[43m(\u001b[49m\u001b[43mX_train\u001b[49m\u001b[43m,\u001b[49m\u001b[43m \u001b[49m\u001b[43my_train\u001b[49m\u001b[43m)\u001b[49m\n",
      "File \u001b[1;32mC:\\ProgramData\\Anaconda3\\lib\\site-packages\\sklearn\\model_selection\\_search.py:891\u001b[0m, in \u001b[0;36mBaseSearchCV.fit\u001b[1;34m(self, X, y, groups, **fit_params)\u001b[0m\n\u001b[0;32m    885\u001b[0m     results \u001b[38;5;241m=\u001b[39m \u001b[38;5;28mself\u001b[39m\u001b[38;5;241m.\u001b[39m_format_results(\n\u001b[0;32m    886\u001b[0m         all_candidate_params, n_splits, all_out, all_more_results\n\u001b[0;32m    887\u001b[0m     )\n\u001b[0;32m    889\u001b[0m     \u001b[38;5;28;01mreturn\u001b[39;00m results\n\u001b[1;32m--> 891\u001b[0m \u001b[38;5;28;43mself\u001b[39;49m\u001b[38;5;241;43m.\u001b[39;49m\u001b[43m_run_search\u001b[49m\u001b[43m(\u001b[49m\u001b[43mevaluate_candidates\u001b[49m\u001b[43m)\u001b[49m\n\u001b[0;32m    893\u001b[0m \u001b[38;5;66;03m# multimetric is determined here because in the case of a callable\u001b[39;00m\n\u001b[0;32m    894\u001b[0m \u001b[38;5;66;03m# self.scoring the return type is only known after calling\u001b[39;00m\n\u001b[0;32m    895\u001b[0m first_test_score \u001b[38;5;241m=\u001b[39m all_out[\u001b[38;5;241m0\u001b[39m][\u001b[38;5;124m\"\u001b[39m\u001b[38;5;124mtest_scores\u001b[39m\u001b[38;5;124m\"\u001b[39m]\n",
      "File \u001b[1;32mC:\\ProgramData\\Anaconda3\\lib\\site-packages\\sklearn\\model_selection\\_search.py:1392\u001b[0m, in \u001b[0;36mGridSearchCV._run_search\u001b[1;34m(self, evaluate_candidates)\u001b[0m\n\u001b[0;32m   1390\u001b[0m \u001b[38;5;28;01mdef\u001b[39;00m \u001b[38;5;21m_run_search\u001b[39m(\u001b[38;5;28mself\u001b[39m, evaluate_candidates):\n\u001b[0;32m   1391\u001b[0m     \u001b[38;5;124;03m\"\"\"Search all candidates in param_grid\"\"\"\u001b[39;00m\n\u001b[1;32m-> 1392\u001b[0m     \u001b[43mevaluate_candidates\u001b[49m\u001b[43m(\u001b[49m\u001b[43mParameterGrid\u001b[49m\u001b[43m(\u001b[49m\u001b[38;5;28;43mself\u001b[39;49m\u001b[38;5;241;43m.\u001b[39;49m\u001b[43mparam_grid\u001b[49m\u001b[43m)\u001b[49m\u001b[43m)\u001b[49m\n",
      "File \u001b[1;32mC:\\ProgramData\\Anaconda3\\lib\\site-packages\\sklearn\\model_selection\\_search.py:838\u001b[0m, in \u001b[0;36mBaseSearchCV.fit.<locals>.evaluate_candidates\u001b[1;34m(candidate_params, cv, more_results)\u001b[0m\n\u001b[0;32m    830\u001b[0m \u001b[38;5;28;01mif\u001b[39;00m \u001b[38;5;28mself\u001b[39m\u001b[38;5;241m.\u001b[39mverbose \u001b[38;5;241m>\u001b[39m \u001b[38;5;241m0\u001b[39m:\n\u001b[0;32m    831\u001b[0m     \u001b[38;5;28mprint\u001b[39m(\n\u001b[0;32m    832\u001b[0m         \u001b[38;5;124m\"\u001b[39m\u001b[38;5;124mFitting \u001b[39m\u001b[38;5;132;01m{0}\u001b[39;00m\u001b[38;5;124m folds for each of \u001b[39m\u001b[38;5;132;01m{1}\u001b[39;00m\u001b[38;5;124m candidates,\u001b[39m\u001b[38;5;124m\"\u001b[39m\n\u001b[0;32m    833\u001b[0m         \u001b[38;5;124m\"\u001b[39m\u001b[38;5;124m totalling \u001b[39m\u001b[38;5;132;01m{2}\u001b[39;00m\u001b[38;5;124m fits\u001b[39m\u001b[38;5;124m\"\u001b[39m\u001b[38;5;241m.\u001b[39mformat(\n\u001b[0;32m    834\u001b[0m             n_splits, n_candidates, n_candidates \u001b[38;5;241m*\u001b[39m n_splits\n\u001b[0;32m    835\u001b[0m         )\n\u001b[0;32m    836\u001b[0m     )\n\u001b[1;32m--> 838\u001b[0m out \u001b[38;5;241m=\u001b[39m \u001b[43mparallel\u001b[49m\u001b[43m(\u001b[49m\n\u001b[0;32m    839\u001b[0m \u001b[43m    \u001b[49m\u001b[43mdelayed\u001b[49m\u001b[43m(\u001b[49m\u001b[43m_fit_and_score\u001b[49m\u001b[43m)\u001b[49m\u001b[43m(\u001b[49m\n\u001b[0;32m    840\u001b[0m \u001b[43m        \u001b[49m\u001b[43mclone\u001b[49m\u001b[43m(\u001b[49m\u001b[43mbase_estimator\u001b[49m\u001b[43m)\u001b[49m\u001b[43m,\u001b[49m\n\u001b[0;32m    841\u001b[0m \u001b[43m        \u001b[49m\u001b[43mX\u001b[49m\u001b[43m,\u001b[49m\n\u001b[0;32m    842\u001b[0m \u001b[43m        \u001b[49m\u001b[43my\u001b[49m\u001b[43m,\u001b[49m\n\u001b[0;32m    843\u001b[0m \u001b[43m        \u001b[49m\u001b[43mtrain\u001b[49m\u001b[38;5;241;43m=\u001b[39;49m\u001b[43mtrain\u001b[49m\u001b[43m,\u001b[49m\n\u001b[0;32m    844\u001b[0m \u001b[43m        \u001b[49m\u001b[43mtest\u001b[49m\u001b[38;5;241;43m=\u001b[39;49m\u001b[43mtest\u001b[49m\u001b[43m,\u001b[49m\n\u001b[0;32m    845\u001b[0m \u001b[43m        \u001b[49m\u001b[43mparameters\u001b[49m\u001b[38;5;241;43m=\u001b[39;49m\u001b[43mparameters\u001b[49m\u001b[43m,\u001b[49m\n\u001b[0;32m    846\u001b[0m \u001b[43m        \u001b[49m\u001b[43msplit_progress\u001b[49m\u001b[38;5;241;43m=\u001b[39;49m\u001b[43m(\u001b[49m\u001b[43msplit_idx\u001b[49m\u001b[43m,\u001b[49m\u001b[43m \u001b[49m\u001b[43mn_splits\u001b[49m\u001b[43m)\u001b[49m\u001b[43m,\u001b[49m\n\u001b[0;32m    847\u001b[0m \u001b[43m        \u001b[49m\u001b[43mcandidate_progress\u001b[49m\u001b[38;5;241;43m=\u001b[39;49m\u001b[43m(\u001b[49m\u001b[43mcand_idx\u001b[49m\u001b[43m,\u001b[49m\u001b[43m \u001b[49m\u001b[43mn_candidates\u001b[49m\u001b[43m)\u001b[49m\u001b[43m,\u001b[49m\n\u001b[0;32m    848\u001b[0m \u001b[43m        \u001b[49m\u001b[38;5;241;43m*\u001b[39;49m\u001b[38;5;241;43m*\u001b[39;49m\u001b[43mfit_and_score_kwargs\u001b[49m\u001b[43m,\u001b[49m\n\u001b[0;32m    849\u001b[0m \u001b[43m    \u001b[49m\u001b[43m)\u001b[49m\n\u001b[0;32m    850\u001b[0m \u001b[43m    \u001b[49m\u001b[38;5;28;43;01mfor\u001b[39;49;00m\u001b[43m \u001b[49m\u001b[43m(\u001b[49m\u001b[43mcand_idx\u001b[49m\u001b[43m,\u001b[49m\u001b[43m \u001b[49m\u001b[43mparameters\u001b[49m\u001b[43m)\u001b[49m\u001b[43m,\u001b[49m\u001b[43m \u001b[49m\u001b[43m(\u001b[49m\u001b[43msplit_idx\u001b[49m\u001b[43m,\u001b[49m\u001b[43m \u001b[49m\u001b[43m(\u001b[49m\u001b[43mtrain\u001b[49m\u001b[43m,\u001b[49m\u001b[43m \u001b[49m\u001b[43mtest\u001b[49m\u001b[43m)\u001b[49m\u001b[43m)\u001b[49m\u001b[43m \u001b[49m\u001b[38;5;129;43;01min\u001b[39;49;00m\u001b[43m \u001b[49m\u001b[43mproduct\u001b[49m\u001b[43m(\u001b[49m\n\u001b[0;32m    851\u001b[0m \u001b[43m        \u001b[49m\u001b[38;5;28;43menumerate\u001b[39;49m\u001b[43m(\u001b[49m\u001b[43mcandidate_params\u001b[49m\u001b[43m)\u001b[49m\u001b[43m,\u001b[49m\u001b[43m \u001b[49m\u001b[38;5;28;43menumerate\u001b[39;49m\u001b[43m(\u001b[49m\u001b[43mcv\u001b[49m\u001b[38;5;241;43m.\u001b[39;49m\u001b[43msplit\u001b[49m\u001b[43m(\u001b[49m\u001b[43mX\u001b[49m\u001b[43m,\u001b[49m\u001b[43m \u001b[49m\u001b[43my\u001b[49m\u001b[43m,\u001b[49m\u001b[43m \u001b[49m\u001b[43mgroups\u001b[49m\u001b[43m)\u001b[49m\u001b[43m)\u001b[49m\n\u001b[0;32m    852\u001b[0m \u001b[43m    \u001b[49m\u001b[43m)\u001b[49m\n\u001b[0;32m    853\u001b[0m \u001b[43m\u001b[49m\u001b[43m)\u001b[49m\n\u001b[0;32m    855\u001b[0m \u001b[38;5;28;01mif\u001b[39;00m \u001b[38;5;28mlen\u001b[39m(out) \u001b[38;5;241m<\u001b[39m \u001b[38;5;241m1\u001b[39m:\n\u001b[0;32m    856\u001b[0m     \u001b[38;5;28;01mraise\u001b[39;00m \u001b[38;5;167;01mValueError\u001b[39;00m(\n\u001b[0;32m    857\u001b[0m         \u001b[38;5;124m\"\u001b[39m\u001b[38;5;124mNo fits were performed. \u001b[39m\u001b[38;5;124m\"\u001b[39m\n\u001b[0;32m    858\u001b[0m         \u001b[38;5;124m\"\u001b[39m\u001b[38;5;124mWas the CV iterator empty? \u001b[39m\u001b[38;5;124m\"\u001b[39m\n\u001b[0;32m    859\u001b[0m         \u001b[38;5;124m\"\u001b[39m\u001b[38;5;124mWere there no candidates?\u001b[39m\u001b[38;5;124m\"\u001b[39m\n\u001b[0;32m    860\u001b[0m     )\n",
      "File \u001b[1;32mC:\\ProgramData\\Anaconda3\\lib\\site-packages\\joblib\\parallel.py:1056\u001b[0m, in \u001b[0;36mParallel.__call__\u001b[1;34m(self, iterable)\u001b[0m\n\u001b[0;32m   1053\u001b[0m     \u001b[38;5;28mself\u001b[39m\u001b[38;5;241m.\u001b[39m_iterating \u001b[38;5;241m=\u001b[39m \u001b[38;5;28;01mFalse\u001b[39;00m\n\u001b[0;32m   1055\u001b[0m \u001b[38;5;28;01mwith\u001b[39;00m \u001b[38;5;28mself\u001b[39m\u001b[38;5;241m.\u001b[39m_backend\u001b[38;5;241m.\u001b[39mretrieval_context():\n\u001b[1;32m-> 1056\u001b[0m     \u001b[38;5;28;43mself\u001b[39;49m\u001b[38;5;241;43m.\u001b[39;49m\u001b[43mretrieve\u001b[49m\u001b[43m(\u001b[49m\u001b[43m)\u001b[49m\n\u001b[0;32m   1057\u001b[0m \u001b[38;5;66;03m# Make sure that we get a last message telling us we are done\u001b[39;00m\n\u001b[0;32m   1058\u001b[0m elapsed_time \u001b[38;5;241m=\u001b[39m time\u001b[38;5;241m.\u001b[39mtime() \u001b[38;5;241m-\u001b[39m \u001b[38;5;28mself\u001b[39m\u001b[38;5;241m.\u001b[39m_start_time\n",
      "File \u001b[1;32mC:\\ProgramData\\Anaconda3\\lib\\site-packages\\joblib\\parallel.py:935\u001b[0m, in \u001b[0;36mParallel.retrieve\u001b[1;34m(self)\u001b[0m\n\u001b[0;32m    933\u001b[0m \u001b[38;5;28;01mtry\u001b[39;00m:\n\u001b[0;32m    934\u001b[0m     \u001b[38;5;28;01mif\u001b[39;00m \u001b[38;5;28mgetattr\u001b[39m(\u001b[38;5;28mself\u001b[39m\u001b[38;5;241m.\u001b[39m_backend, \u001b[38;5;124m'\u001b[39m\u001b[38;5;124msupports_timeout\u001b[39m\u001b[38;5;124m'\u001b[39m, \u001b[38;5;28;01mFalse\u001b[39;00m):\n\u001b[1;32m--> 935\u001b[0m         \u001b[38;5;28mself\u001b[39m\u001b[38;5;241m.\u001b[39m_output\u001b[38;5;241m.\u001b[39mextend(\u001b[43mjob\u001b[49m\u001b[38;5;241;43m.\u001b[39;49m\u001b[43mget\u001b[49m\u001b[43m(\u001b[49m\u001b[43mtimeout\u001b[49m\u001b[38;5;241;43m=\u001b[39;49m\u001b[38;5;28;43mself\u001b[39;49m\u001b[38;5;241;43m.\u001b[39;49m\u001b[43mtimeout\u001b[49m\u001b[43m)\u001b[49m)\n\u001b[0;32m    936\u001b[0m     \u001b[38;5;28;01melse\u001b[39;00m:\n\u001b[0;32m    937\u001b[0m         \u001b[38;5;28mself\u001b[39m\u001b[38;5;241m.\u001b[39m_output\u001b[38;5;241m.\u001b[39mextend(job\u001b[38;5;241m.\u001b[39mget())\n",
      "File \u001b[1;32mC:\\ProgramData\\Anaconda3\\lib\\site-packages\\joblib\\_parallel_backends.py:542\u001b[0m, in \u001b[0;36mLokyBackend.wrap_future_result\u001b[1;34m(future, timeout)\u001b[0m\n\u001b[0;32m    539\u001b[0m \u001b[38;5;124;03m\"\"\"Wrapper for Future.result to implement the same behaviour as\u001b[39;00m\n\u001b[0;32m    540\u001b[0m \u001b[38;5;124;03mAsyncResults.get from multiprocessing.\"\"\"\u001b[39;00m\n\u001b[0;32m    541\u001b[0m \u001b[38;5;28;01mtry\u001b[39;00m:\n\u001b[1;32m--> 542\u001b[0m     \u001b[38;5;28;01mreturn\u001b[39;00m \u001b[43mfuture\u001b[49m\u001b[38;5;241;43m.\u001b[39;49m\u001b[43mresult\u001b[49m\u001b[43m(\u001b[49m\u001b[43mtimeout\u001b[49m\u001b[38;5;241;43m=\u001b[39;49m\u001b[43mtimeout\u001b[49m\u001b[43m)\u001b[49m\n\u001b[0;32m    543\u001b[0m \u001b[38;5;28;01mexcept\u001b[39;00m CfTimeoutError \u001b[38;5;28;01mas\u001b[39;00m e:\n\u001b[0;32m    544\u001b[0m     \u001b[38;5;28;01mraise\u001b[39;00m \u001b[38;5;167;01mTimeoutError\u001b[39;00m \u001b[38;5;28;01mfrom\u001b[39;00m \u001b[38;5;21;01me\u001b[39;00m\n",
      "File \u001b[1;32mC:\\ProgramData\\Anaconda3\\lib\\concurrent\\futures\\_base.py:441\u001b[0m, in \u001b[0;36mFuture.result\u001b[1;34m(self, timeout)\u001b[0m\n\u001b[0;32m    438\u001b[0m \u001b[38;5;28;01melif\u001b[39;00m \u001b[38;5;28mself\u001b[39m\u001b[38;5;241m.\u001b[39m_state \u001b[38;5;241m==\u001b[39m FINISHED:\n\u001b[0;32m    439\u001b[0m     \u001b[38;5;28;01mreturn\u001b[39;00m \u001b[38;5;28mself\u001b[39m\u001b[38;5;241m.\u001b[39m__get_result()\n\u001b[1;32m--> 441\u001b[0m \u001b[38;5;28;43mself\u001b[39;49m\u001b[38;5;241;43m.\u001b[39;49m\u001b[43m_condition\u001b[49m\u001b[38;5;241;43m.\u001b[39;49m\u001b[43mwait\u001b[49m\u001b[43m(\u001b[49m\u001b[43mtimeout\u001b[49m\u001b[43m)\u001b[49m\n\u001b[0;32m    443\u001b[0m \u001b[38;5;28;01mif\u001b[39;00m \u001b[38;5;28mself\u001b[39m\u001b[38;5;241m.\u001b[39m_state \u001b[38;5;129;01min\u001b[39;00m [CANCELLED, CANCELLED_AND_NOTIFIED]:\n\u001b[0;32m    444\u001b[0m     \u001b[38;5;28;01mraise\u001b[39;00m CancelledError()\n",
      "File \u001b[1;32mC:\\ProgramData\\Anaconda3\\lib\\threading.py:312\u001b[0m, in \u001b[0;36mCondition.wait\u001b[1;34m(self, timeout)\u001b[0m\n\u001b[0;32m    310\u001b[0m \u001b[38;5;28;01mtry\u001b[39;00m:    \u001b[38;5;66;03m# restore state no matter what (e.g., KeyboardInterrupt)\u001b[39;00m\n\u001b[0;32m    311\u001b[0m     \u001b[38;5;28;01mif\u001b[39;00m timeout \u001b[38;5;129;01mis\u001b[39;00m \u001b[38;5;28;01mNone\u001b[39;00m:\n\u001b[1;32m--> 312\u001b[0m         \u001b[43mwaiter\u001b[49m\u001b[38;5;241;43m.\u001b[39;49m\u001b[43macquire\u001b[49m\u001b[43m(\u001b[49m\u001b[43m)\u001b[49m\n\u001b[0;32m    313\u001b[0m         gotit \u001b[38;5;241m=\u001b[39m \u001b[38;5;28;01mTrue\u001b[39;00m\n\u001b[0;32m    314\u001b[0m     \u001b[38;5;28;01melse\u001b[39;00m:\n",
      "\u001b[1;31mKeyboardInterrupt\u001b[0m: "
     ]
    }
   ],
   "source": [
    "grid_reg = GridSearchCV(estimator=regr, param_grid = parameters_r, cv = 2, n_jobs=-1)\n",
    "grid_reg.fit(X_train, y_train)"
   ]
  },
  {
   "cell_type": "code",
   "execution_count": null,
   "id": "02c54c97",
   "metadata": {},
   "outputs": [],
   "source": [
    "print(\" Result \" )\n",
    "print(\"\\n [Best estimator] :\\n\",grid_reg.best_estimator_)\n",
    "print(\"\\n [Best score] :\\n\",grid_reg.best_score_)\n",
    "print(\"\\n [Best parameters] :\\n\",grid_reg.best_params_)"
   ]
  },
  {
   "cell_type": "markdown",
   "id": "cbacc437",
   "metadata": {},
   "source": [
    "### <span style = 'color : blue'> 모델 평가 </span>"
   ]
  },
  {
   "cell_type": "code",
   "execution_count": null,
   "id": "8eccf17c",
   "metadata": {},
   "outputs": [],
   "source": [
    "# regr.score(X_train, y_train)\n",
    "print(\"훈  련 세트 : {:.3f}\".format(regr.score(X_train, y_train)))\n",
    "print(\"테스트 세트 : {:.3f}\".format(regr.score(X_test, y_test)))\n",
    "print('\\n(파라미터 변경전 : n_jobs=-1,oob_score=True)\\n훈  련 세트 : 0.715\\n테스트 세트 : 0.496')"
   ]
  },
  {
   "cell_type": "markdown",
   "id": "53528339",
   "metadata": {},
   "source": [
    "### <span style = 'color : blue'> 예측값과 실제값 비교 </span>"
   ]
  },
  {
   "cell_type": "code",
   "execution_count": null,
   "id": "b2a57923",
   "metadata": {},
   "outputs": [],
   "source": [
    "X_test = X_test.tolist()\n",
    "y_test = y_test.tolist()"
   ]
  },
  {
   "cell_type": "code",
   "execution_count": null,
   "id": "310fcc30",
   "metadata": {},
   "outputs": [],
   "source": [
    "predicted = regr.predict(X_test)\n",
    "predicted = predicted.tolist()"
   ]
  },
  {
   "cell_type": "code",
   "execution_count": null,
   "id": "92dfcc2e",
   "metadata": {},
   "outputs": [],
   "source": [
    "pred_df = pd.DataFrame({ 'test값':y_test, 'predict값':predicted })"
   ]
  },
  {
   "cell_type": "code",
   "execution_count": null,
   "id": "90119210",
   "metadata": {},
   "outputs": [],
   "source": [
    "plt.figure(figsize=(15,7))\n",
    "plt.title('< 랜덤포레스트_Test값과 Predict값의 비교 >', fontsize=20)\n",
    "plt.plot(pred_df)\n",
    "plt.legend('TP')\n",
    "plt.show()"
   ]
  },
  {
   "cell_type": "markdown",
   "id": "67d12b39",
   "metadata": {},
   "source": [
    "---"
   ]
  },
  {
   "cell_type": "markdown",
   "id": "27872971",
   "metadata": {},
   "source": [
    "### <span style = 'color : blue'> [ 그래디언트부스팅 ] </span>"
   ]
  },
  {
   "cell_type": "code",
   "execution_count": null,
   "id": "056f3ef8",
   "metadata": {},
   "outputs": [],
   "source": [
    "from sklearn.ensemble import GradientBoostingRegressor\n",
    "reg = GradientBoostingRegressor(alpha=0.1, learning_rate=0.03, max_depth=4, subsample=0.9)\n",
    "reg.fit(X_train, y_train)"
   ]
  },
  {
   "cell_type": "markdown",
   "id": "100f2f4d",
   "metadata": {},
   "source": [
    "### <span style = 'color : blue'> 교차검증 (CV) </span>"
   ]
  },
  {
   "cell_type": "code",
   "execution_count": null,
   "id": "d3417cd1",
   "metadata": {},
   "outputs": [],
   "source": [
    "from sklearn.model_selection import cross_val_score, cross_validate # 각 활용처 알아보고 cross_val_predict,\n",
    "result = cross_val_score(reg, X, y, cv=10)"
   ]
  },
  {
   "cell_type": "code",
   "execution_count": null,
   "id": "c99630cc",
   "metadata": {},
   "outputs": [],
   "source": [
    "allResult = cross_validate(reg, X, y, \n",
    "                           return_train_score=True,\n",
    "                           cv=10)"
   ]
  },
  {
   "cell_type": "code",
   "execution_count": null,
   "id": "13df7559",
   "metadata": {
    "scrolled": true
   },
   "outputs": [],
   "source": [
    "resultDF1 = pd.DataFrame(allResult)\n",
    "resultDF1[['test_score', 'train_score']]"
   ]
  },
  {
   "cell_type": "markdown",
   "id": "7310c84e",
   "metadata": {},
   "source": [
    "### <span style = 'color : blue'> KFold </span>"
   ]
  },
  {
   "cell_type": "code",
   "execution_count": null,
   "id": "2d41e4f2",
   "metadata": {},
   "outputs": [],
   "source": [
    "# Splitter 객체 생성 - KFold()\n",
    "from sklearn.model_selection import KFold\n",
    "\n",
    "kSplitter = KFold(n_splits=10, shuffle=True)"
   ]
  },
  {
   "cell_type": "code",
   "execution_count": null,
   "id": "18fb3901",
   "metadata": {
    "scrolled": false
   },
   "outputs": [],
   "source": [
    "allResult1 = cross_validate(reg, X, y, \n",
    "                           return_train_score=True,\n",
    "                           return_estimator=True,\n",
    "                           cv=kSplitter)\n",
    "\n",
    "resultDF1 = pd.DataFrame(allResult1)\n",
    "resultDF1[['test_score', 'train_score']]"
   ]
  },
  {
   "cell_type": "markdown",
   "id": "e219a080",
   "metadata": {},
   "source": [
    "### <span style = 'color : blue'> 하이퍼파라미터 조절 </span>"
   ]
  },
  {
   "cell_type": "markdown",
   "id": "188b624c",
   "metadata": {},
   "source": [
    "### <span style = 'color : blue'> GridSearchCV </span>"
   ]
  },
  {
   "cell_type": "code",
   "execution_count": null,
   "id": "853e2d31",
   "metadata": {},
   "outputs": [],
   "source": [
    "parameters = {'learning_rate': [0.01,0.02,0.03,0.04],\n",
    "              'alpha'    : [0.1, 0.3, 0.5, 0.7],\n",
    "              'n_estimators' : [100,500,1000, 1500],\n",
    "              'max_depth'    : [4,6,8,10],\n",
    "               'subsample'   : [0.3, 0.5, 0.9, 1.5]\n",
    "                 }"
   ]
  },
  {
   "cell_type": "code",
   "execution_count": null,
   "id": "7ed81e64",
   "metadata": {},
   "outputs": [],
   "source": [
    "grid_reg = GridSearchCV(estimator=reg, param_grid = parameters, cv = 2, n_jobs=-1)\n",
    "grid_reg.fit(X_train, y_train)"
   ]
  },
  {
   "cell_type": "code",
   "execution_count": null,
   "id": "9d527bea",
   "metadata": {},
   "outputs": [],
   "source": [
    "print(\" Result \" )\n",
    "print(\"\\n [Best estimator] :\\n\",grid_reg.best_estimator_)\n",
    "print(\"\\n [Best score] :\\n\",grid_reg.best_score_)\n",
    "print(\"\\n [Best parameters] :\\n\",grid_reg.best_params_)"
   ]
  },
  {
   "cell_type": "markdown",
   "id": "04bd8d31",
   "metadata": {},
   "source": [
    "### <span style = 'color : blue'> 모델 평가 </span>"
   ]
  },
  {
   "cell_type": "code",
   "execution_count": null,
   "id": "aead85e6",
   "metadata": {},
   "outputs": [],
   "source": [
    "print(\"훈  련 세트 : {:.3f}\".format(reg.score(X_train, y_train)))\n",
    "print(\"테스트 세트 : {:.3f}\".format(reg.score(X_test, y_test)))\n",
    "print('\\n(파라미터 변경전 : learning_rate=0.01, max_depth=6, subsample=0.9, n_estimators=500, alpha=0.01)\\n훈  련 세트 : 0.736\\n테스트 세트 : 0.500')"
   ]
  },
  {
   "cell_type": "markdown",
   "id": "4b330621",
   "metadata": {},
   "source": [
    "<span style = 'color : red'> **훈련 스코어는 감소, 테스트 스코어는 증가하는** </span>  \n",
    "<span style = 'color : red'> **일부 임의로 입력하는 것이 효과가 더 나은 경우도 발생하기도** </span>  "
   ]
  },
  {
   "cell_type": "markdown",
   "id": "219c0ff3",
   "metadata": {},
   "source": [
    "### <span style = 'color : blue'> 예측값과 실제값 비교 </span>"
   ]
  },
  {
   "cell_type": "code",
   "execution_count": null,
   "id": "2a9e2382",
   "metadata": {},
   "outputs": [],
   "source": [
    "predicted_g = reg.predict(X_test)\n",
    "predicted_g = predicted_g.tolist()"
   ]
  },
  {
   "cell_type": "code",
   "execution_count": null,
   "id": "dd6abd2d",
   "metadata": {},
   "outputs": [],
   "source": [
    "pred_df_g = pd.DataFrame({ 'test값':y_test, 'predict값':predicted_g })"
   ]
  },
  {
   "cell_type": "code",
   "execution_count": null,
   "id": "dd5791c9",
   "metadata": {
    "scrolled": false
   },
   "outputs": [],
   "source": [
    "plt.figure(figsize=(15,7))\n",
    "plt.title('< 그래디언트부스팅_Test값과 Predict값의 비교 >', fontsize=20)\n",
    "plt.plot(pred_df_g)\n",
    "plt.legend('TP')"
   ]
  },
  {
   "cell_type": "markdown",
   "id": "192091e8",
   "metadata": {},
   "source": [
    "---"
   ]
  },
  {
   "cell_type": "markdown",
   "id": "45ee8b7c",
   "metadata": {},
   "source": [
    "### <span style = 'color : blue'>  [ 릿지/라쏘 <- 랜덤포레스트 ] </span>\n",
    "---\n",
    "범주형 데이터는 릿지/라쏘를 쓸 경우 직선처럼 그려져서 효과는x"
   ]
  },
  {
   "cell_type": "code",
   "execution_count": null,
   "id": "63a9a913",
   "metadata": {},
   "outputs": [],
   "source": [
    "from sklearn.linear_model import Ridge\n",
    "model_rid = Ridge(alpha=0.01).fit(X_train, y_train)\n",
    "print('훈  련 세트 : {:.2f}'.format(model_rid.score(X_train, y_train)))\n",
    "print('테스트 세트 : {:.2f}'.format(model_rid.score(X_test, y_test)))"
   ]
  },
  {
   "cell_type": "code",
   "execution_count": null,
   "id": "d2310e8b",
   "metadata": {},
   "outputs": [],
   "source": [
    "from sklearn.linear_model import Lasso\n",
    "model_la = Ridge(alpha=0.02).fit(X_train, y_train)\n",
    "print('훈  련 세트 : {:.2f}'.format(model_la.score(X_train, y_train)))\n",
    "print('테스트 세트 : {:.2f}'.format(model_la.score(X_test, y_test)))"
   ]
  },
  {
   "cell_type": "markdown",
   "id": "ec9bca48",
   "metadata": {},
   "source": [
    "---"
   ]
  },
  {
   "cell_type": "markdown",
   "id": "b23338db",
   "metadata": {},
   "source": [
    "### <span style = 'color : blue'> [ 히스트그래디언팅 ] </span>"
   ]
  },
  {
   "cell_type": "code",
   "execution_count": null,
   "id": "79c5b523",
   "metadata": {},
   "outputs": [],
   "source": [
    "from sklearn.ensemble import HistGradientBoostingRegressor\n",
    "reg_h = HistGradientBoostingRegressor(loss='poisson', learning_rate=0.35, max_depth=8, max_iter=500)\n",
    "reg_h.fit(X_train, y_train)"
   ]
  },
  {
   "cell_type": "markdown",
   "id": "5603570a",
   "metadata": {},
   "source": [
    "### <span style = 'color : blue'> 교차검증 (CV) </span>"
   ]
  },
  {
   "cell_type": "code",
   "execution_count": null,
   "id": "98166e4e",
   "metadata": {},
   "outputs": [],
   "source": [
    "from sklearn.model_selection import cross_val_score, cross_validate # 각 활용처 알아보고 cross_val_predict,\n",
    "result = cross_val_score(reg_h, X, y, cv=10)"
   ]
  },
  {
   "cell_type": "code",
   "execution_count": null,
   "id": "c33ac3e2",
   "metadata": {},
   "outputs": [],
   "source": [
    "allResult = cross_validate(reg_h, X, y, \n",
    "                           return_train_score=True,\n",
    "                           cv=10)"
   ]
  },
  {
   "cell_type": "code",
   "execution_count": null,
   "id": "7149ebbd",
   "metadata": {
    "scrolled": true
   },
   "outputs": [],
   "source": [
    "resultDF1 = pd.DataFrame(allResult)\n",
    "resultDF1[['test_score', 'train_score']]"
   ]
  },
  {
   "cell_type": "markdown",
   "id": "75b03a1f",
   "metadata": {},
   "source": [
    "### <span style = 'color : blue'> KFold </span>"
   ]
  },
  {
   "cell_type": "code",
   "execution_count": null,
   "id": "f64f829b",
   "metadata": {},
   "outputs": [],
   "source": [
    "# Splitter 객체 생성 - KFold()\n",
    "from sklearn.model_selection import KFold\n",
    "\n",
    "kSplitter = KFold(n_splits=10, shuffle=True)"
   ]
  },
  {
   "cell_type": "code",
   "execution_count": null,
   "id": "bf269572",
   "metadata": {
    "scrolled": false
   },
   "outputs": [],
   "source": [
    "allResult1 = cross_validate(reg_h, X, y, \n",
    "                           return_train_score=True,\n",
    "                           return_estimator=True,\n",
    "                           cv=kSplitter)\n",
    "\n",
    "resultDF1 = pd.DataFrame(allResult1)\n",
    "resultDF1[['test_score', 'train_score']]"
   ]
  },
  {
   "cell_type": "markdown",
   "id": "2ac83e8d",
   "metadata": {},
   "source": [
    "### <span style = 'color : blue'> 하이퍼파라미터 조절 </span>"
   ]
  },
  {
   "cell_type": "markdown",
   "id": "901b205f",
   "metadata": {},
   "source": [
    "### <span style = 'color : blue'> GridSearchCV </span>"
   ]
  },
  {
   "cell_type": "code",
   "execution_count": null,
   "id": "3b074549",
   "metadata": {},
   "outputs": [],
   "source": [
    "parameters_h = {'learning_rate': [0.01,0.02,0.03,0.04],\n",
    "                'max_iter'    : [100, 200, 300, 500],\n",
    "                'max_depth'    : [4,6,8,10],\n",
    "                 }"
   ]
  },
  {
   "cell_type": "code",
   "execution_count": null,
   "id": "1fc3423b",
   "metadata": {},
   "outputs": [],
   "source": [
    "grid_reg = GridSearchCV(estimator=reg_h, param_grid = parameters_h, cv = 2, n_jobs=-1)\n",
    "grid_reg.fit(X_train, y_train)"
   ]
  },
  {
   "cell_type": "code",
   "execution_count": null,
   "id": "7dbdf840",
   "metadata": {
    "scrolled": false
   },
   "outputs": [],
   "source": [
    "print(\" Result \" )\n",
    "print(\"\\n [Best estimator] :\\n\",grid_reg.best_estimator_)\n",
    "print(\"\\n [Best score] :\\n\",grid_reg.best_score_)\n",
    "print(\"\\n [Best parameters] :\\n\",grid_reg.best_params_)"
   ]
  },
  {
   "cell_type": "markdown",
   "id": "678d105d",
   "metadata": {},
   "source": [
    "### <span style = 'color : blue'> 모델 평가 </span>"
   ]
  },
  {
   "cell_type": "code",
   "execution_count": null,
   "id": "41c8ceaa",
   "metadata": {},
   "outputs": [],
   "source": [
    "print(\"훈  련 세트 : {:.3f}\".format(reg_h.score(X_train, y_train)))\n",
    "print(\"테스트 세트 : {:.3f}\".format(reg_h.score(X_test, y_test)))\n",
    "print('\\n(파라미터 변경전 : )\\n훈  련 세트 : 0.633\\n테스트 세트 : 0.384')"
   ]
  },
  {
   "cell_type": "markdown",
   "id": "3507cd7c",
   "metadata": {},
   "source": [
    "### <span style = 'color : blue'> 예측값과 실제값 비교 </span>"
   ]
  },
  {
   "cell_type": "code",
   "execution_count": null,
   "id": "06f5caf9",
   "metadata": {},
   "outputs": [],
   "source": [
    "predicted_h = reg_h.predict(X_test)\n",
    "predicted_h = predicted_h.tolist()"
   ]
  },
  {
   "cell_type": "code",
   "execution_count": null,
   "id": "7272360f",
   "metadata": {},
   "outputs": [],
   "source": [
    "pred_df_h = pd.DataFrame({ 'test값':y_test, 'predict값':predicted_h })"
   ]
  },
  {
   "cell_type": "code",
   "execution_count": null,
   "id": "37442a3a",
   "metadata": {
    "scrolled": false
   },
   "outputs": [],
   "source": [
    "plt.figure(figsize=(15,7))\n",
    "plt.title('< 히스트그래디언팅_Test값과 Predict값의 비교 >', fontsize=20)\n",
    "plt.plot(pred_df_h)\n",
    "plt.legend('TP')"
   ]
  },
  {
   "cell_type": "markdown",
   "id": "e2bd7124",
   "metadata": {},
   "source": [
    "---"
   ]
  },
  {
   "cell_type": "markdown",
   "id": "daab5fc5",
   "metadata": {},
   "source": [
    "---"
   ]
  },
  {
   "cell_type": "code",
   "execution_count": null,
   "id": "89f10420",
   "metadata": {},
   "outputs": [],
   "source": [
    "# 파라미터 개수에 따른 score 변화 살피기\n",
    "\n",
    "n_feature = X.shape[1]  # X.shape[1] = 8\n",
    "\n",
    "score_n_tr_est = []\n",
    "score_n_te_est = []\n",
    "score_m_tr_mft = []\n",
    "score_m_te_mft = []\n",
    "\n",
    "for i in np.arange(1, n_feature+1): # n_estimators와 mat_features는 모두 0보다 큰 정수여야 하므로 1부터 시작\n",
    "    params_n = {'n_estimators':i, 'max_features':'auto', 'n_jobs':-1} # **kwargs parameter\n",
    "    params_m = {'n_estimators':10, 'max_features':i, 'n_jobs':-1}\n",
    "\n",
    "    forest_n = RandomForestRegressor(**params_n).fit(X_train, y_train)\n",
    "    forest_m = RandomForestRegressor(**params_m).fit(X_train, y_train)\n",
    "\n",
    "    score_n_tr = forest_n.score(X_train, y_train)\n",
    "    score_n_te = forest_n.score(X_test, y_test)\n",
    "    score_m_tr = forest_m.score(X_train, y_train)\n",
    "    score_m_te = forest_m.score(X_test, y_test)\n",
    "\n",
    "    score_n_tr_est.append(score_n_tr)\n",
    "    score_n_te_est.append(score_n_te)\n",
    "    score_m_tr_mft.append(score_m_tr)\n",
    "    score_m_te_mft.append(score_m_te)\n",
    "\n",
    "index = np.arange(len(score_n_tr_est))\n",
    "plt.plot(index, score_n_tr_est, label='n_estimators train score', color='lightblue', ls='--') # ls: linestyle\n",
    "plt.plot(index, score_m_tr_mft, label='max_features train score', color='orange', ls='--')\n",
    "plt.plot(index, score_n_te_est, label='n_estimators test score', color='lightblue')\n",
    "plt.plot(index, score_m_te_mft, label='max_features test score', color='orange')\n",
    "plt.legend(loc='center', bbox_to_anchor=(0.5, 1.1),\n",
    "           ncol=2, fancybox=True, shadow=False) # fancybox: 박스모양, shadow: 그림자\n",
    "plt.xlabel('number of parameter', size=15)\n",
    "plt.ylabel('score', size=15)\n",
    "plt.show()\n",
    "print('   => 그래프를 통해, parameter의 갯수가 적을 때보다 많을때가 성능이 더 좋아보임.')"
   ]
  },
  {
   "cell_type": "markdown",
   "id": "53cd58c2",
   "metadata": {},
   "source": [
    "---"
   ]
  }
 ],
 "metadata": {
  "kernelspec": {
   "display_name": "Python 3 (ipykernel)",
   "language": "python",
   "name": "python3"
  },
  "language_info": {
   "codemirror_mode": {
    "name": "ipython",
    "version": 3
   },
   "file_extension": ".py",
   "mimetype": "text/x-python",
   "name": "python",
   "nbconvert_exporter": "python",
   "pygments_lexer": "ipython3",
   "version": "3.9.12"
  }
 },
 "nbformat": 4,
 "nbformat_minor": 5
}

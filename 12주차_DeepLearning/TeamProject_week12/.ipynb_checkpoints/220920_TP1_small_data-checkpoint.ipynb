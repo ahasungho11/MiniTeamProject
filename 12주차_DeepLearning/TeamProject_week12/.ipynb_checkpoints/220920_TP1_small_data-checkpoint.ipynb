{
 "cells": [
  {
   "cell_type": "markdown",
   "id": "57e7b9ee",
   "metadata": {},
   "source": [
    "# 브랜드 로고 예측하기 _ DNN (허채범) <= 개인 DATA"
   ]
  },
  {
   "cell_type": "code",
   "execution_count": 705,
   "id": "223ab3ac",
   "metadata": {},
   "outputs": [],
   "source": [
    "# 모듈 로딩\n",
    "from urllib.request import urlopen,Request,urlretrieve\n",
    "from bs4 import BeautifulSoup\n",
    "from selenium import webdriver\n",
    "from PIL import Image\n",
    "from sklearn.linear_model import LogisticRegression\n",
    "from sklearn.utils import all_estimators\n",
    "from sklearn.model_selection import train_test_split\n",
    "import matplotlib.pyplot as plt\n",
    "import os\n",
    "import cv2\n",
    "import numpy as np \n",
    "import warnings\n",
    "warnings.filterwarnings(action='ignore')   "
   ]
  },
  {
   "cell_type": "code",
   "execution_count": 706,
   "id": "4f71df00",
   "metadata": {},
   "outputs": [],
   "source": [
    "# 동적 웹 크롤링으로 사진저장 함수\n",
    "def image_save(urlpath,charname):\n",
    "    driver = webdriver.Chrome('chromedriver.exe') # Windows 사용자의 설치 경로\n",
    "    driver.get(urlpath)\n",
    "    html=driver.page_source\n",
    "    soup=BeautifulSoup(html,'html.parser')\n",
    "    driver.quit()\n",
    "\n",
    "    # 태그-속성 찾기\n",
    "    image_finds=soup.select(\"div.bRMDJf img\")\n",
    "    \n",
    "    # 이미지의 url찾기\n",
    "    image=[]\n",
    "    for image_find in image_finds:\n",
    "        try:\n",
    "            image.append(image_find['src'])\n",
    "            image.append(image_find['data-src'])\n",
    "        except:\n",
    "            pass\n",
    "    \n",
    "    # 폴더 만들기\n",
    "    if not os.path.exists('./imgData/'+charname):\n",
    "        os.makedirs('./imgData/'+charname)\n",
    "    \n",
    "    # 파일 저장하기\n",
    "    for i in range(0,len(image)):\n",
    "        urlretrieve(image[i],'./imgData/'+charname+'/'+charname+str(i)+'.png')\n",
    "\n",
    "    # 파일 크기 조절\n",
    "    for png in os.listdir('./imgData/'+charname):\n",
    "        Image.open('./imgData/'+charname+'/'+png).resize((50,50)).save('./imgData/'+charname+'/'+png)"
   ]
  },
  {
   "cell_type": "code",
   "execution_count": 707,
   "id": "d4898275",
   "metadata": {},
   "outputs": [],
   "source": [
    "# 각각 [ 브랜드명 ci/로고/png ] \n",
    "\n",
    "# 오리온\n",
    "# image_save('https://www.google.com/search?q=%EC%98%A4%EB%A6%AC%EC%98%A8%EC%A0%9C%EA%B3%BC+%EB%A1%9C%EA%B3%A0&tbm=isch&ved=2ahUKEwiq4rPFt6L6AhXUJqYKHWZxCskQ2-cCegQIABAA&oq=%EC%98%A4%EB%A6%AC%EC%98%A8%EC%A0%9C%EA%B3%BC+%EB%A1%9C%EA%B3%A0&gs_lcp=CgNpbWcQAzIECCMQJzIECCMQJzIECAAQGDIECAAQGFDjBljAEmDBE2gCcAB4AYAB8QKIAZAOkgEDMy01mAEAoAEBqgELZ3dzLXdpei1pbWfAAQE&sclient=img&ei=MTQpY-qFMdTNmAXm4qnIDA&bih=722&biw=1536','orion1')\n",
    "# image_save('https://www.google.com/search?q=%EC%98%A4%EB%A6%AC%EC%98%A8+%EB%A1%9C%EA%B3%A0&tbm=isch&ved=2ahUKEwir7dO2uaL6AhXtz4sBHUARDJEQ2-cCegQIABAA&oq=%EC%98%A4%EB%A6%AC%EC%98%A8+%EB%A1%9C%EA%B3%A0&gs_lcp=CgNpbWcQAzIFCAAQgAQyBQgAEIAEMggIABCABBCxAzIFCAAQgAQyCAgAELEDEIMBMgUIABCABDIICAAQgAQQsQMyBQgAEIAEMgUIABCABDIFCAAQgAQ6BAgjECc6BwgjEOoCECdQqAhYgxNg0xNoAXAAeAGAAe8CiAHUBZIBBTEuMy0ymAEAoAEBqgELZ3dzLXdpei1pbWewAQrAAQE&sclient=img&ei=KzYpY-urLe2fr7wPwKKwiAk&bih=722&biw=1536','orion2')\n",
    "# image_save('https://www.google.com/search?q=%EC%98%A4%EB%A6%AC%EC%98%A8+ci&tbm=isch&ved=2ahUKEwiYv9G7uaL6AhVOAaYKHaTBCJIQ2-cCegQIABAA&oq=%EC%98%A4%EB%A6%AC%EC%98%A8+ci&gs_lcp=CgNpbWcQAzIECCMQJzIFCAAQgAQyBQgAEIAEMgUIABCABDIFCAAQgAQyBQgAEIAEMgUIABCABDIFCAAQgAQyBQgAEIAEMgUIABCABFCGBViPC2CjDGgAcAB4AIAB8gKIAaMLkgEDMy00mAEAoAEBqgELZ3dzLXdpei1pbWfAAQE&sclient=img&ei=NjYpY5jMC86CmAWkg6OQCQ&bih=722&biw=1536','orion3')\n",
    "           \n",
    "# 크라운\n",
    "# image_save('https://www.google.com/search?q=%ED%81%AC%EB%9D%BC%EC%9A%B4%EC%A0%9C%EA%B3%BC+ci&tbm=isch&ved=2ahUKEwjE84-duKL6AhUH0YsBHS-6C-cQ2-cCegQIABAA&oq=%ED%81%AC%EB%9D%BC%EC%9A%B4%EC%A0%9C%EA%B3%BC+ci&gs_lcp=CgNpbWcQAzIECCMQJ1AAWABgwQRoAHAAeACAAYoDiAGKA5IBAzMtMZgBAKoBC2d3cy13aXotaW1nwAEB&sclient=img&ei=6TQpY4TbLoeir7wPr_SuuA4&bih=722&biw=1536', 'crown1')\n",
    "# image_save('https://www.google.com/search?q=%ED%81%AC%EB%9D%BC%EC%9A%B4%EC%A0%9C%EA%B3%BC+%EB%A1%9C%EA%B3%A0&tbm=isch&ved=2ahUKEwj_hJWjuKL6AhUGc5QKHRehCNwQ2-cCegQIABAA&oq=%ED%81%AC%EB%9D%BC%EC%9A%B4%EC%A0%9C%EA%B3%BC+%EB%A1%9C%EA%B3%A0&gs_lcp=CgNpbWcQAzIFCAAQgAQyBQgAEIAEOgQIIxAnOgQIABAYUPsJWPEUYIIWaAFwAHgAgAG-A4gB7Q-SAQUzLTMuMpgBAKABAaoBC2d3cy13aXotaW1nwAEB&sclient=img&ei=9jQpY_-xGobm0QSXwqLgDQ&bih=722&biw=1536', 'crown2')\n",
    "# image_save('https://www.google.co.kr/search?q=%ED%81%AC%EB%9D%BC%EC%9A%B4%EC%A0%9C%EA%B3%BC+png&tbm=isch&ved=2ahUKEwjwxYuOxqP6AhUDA6YKHYCZDKgQ2-cCegQIABAA&oq=%ED%81%AC%EB%9D%BC%EC%9A%B4%EC%A0%9C%EA%B3%BC+png&gs_lcp=CgNpbWcQAzIGCAAQHhAHOgUIABCABFCYCViJF2D4HGgBcAB4AYABpAGIAdcHkgEDMC44mAEAoAEBqgELZ3dzLXdpei1pbWfAAQE&sclient=img&ei=sMkpY_CtBIOGmAWAs7LACg&bih=722&biw=1536&hl=ko','crwon3'\n",
    "\n",
    "    # 롯데\n",
    "# image_save('https://www.google.com/search?q=%EB%A1%AF%EB%8D%B0%EC%A0%9C%EA%B3%BC+%EB%A1%9C%EA%B3%A0&tbm=isch&ved=2ahUKEwj39uzSuKL6AhUJ_JQKHT1uDd8Q2-cCegQIABAA&oq=%EB%A1%AF%EB%8D%B0%EC%A0%9C%EA%B3%BC+%EB%A1%9C%EA%B3%A0&gs_lcp=CgNpbWcQAzIECCMQJzIFCAAQgAQyBQgAEIAEMgUIABCABDIFCAAQgAQyBQgAEIAEMgUIABCABDIGCAAQHhAIMgYIABAeEAgyBggAEB4QB1D1EFiVE2C1FWgAcAB4AIAB8wKIAdcFkgEDMy0ymAEAoAEBqgELZ3dzLXdpei1pbWfAAQE&sclient=img&ei=WjUpY_fhGon40wS93LX4DQ&bih=722&biw=1536','lotte1')\n",
    "# image_save('https://www.google.com/search?q=%EB%A1%AF%EB%8D%B0%EC%A0%9C%EA%B3%BC+ci&tbm=isch&ved=2ahUKEwib8rjnuKL6AhWYzosBHep3BAgQ2-cCegQIABAA&oq=%EB%A1%AF%EB%8D%B0%EC%A0%9C%EA%B3%BC+ci&gs_lcp=CgNpbWcQAzIECCMQJzIECCMQJzIFCAAQgAQyBQgAEIAEMgUIABCABDIFCAAQgAQyBQgAEIAEMgUIABCABDIFCAAQgAQyBQgAEIAEUP0EWOsHYOwIaABwAHgAgAGTA4gBpQaSAQM0LTKYAQCgAQGqAQtnd3Mtd2l6LWltZ8ABAQ&sclient=img&ei=hTUpY9ubJpidr7wP6u-RQA&bih=722&biw=1536','lotte2')\n",
    "# image_save('https://www.google.com/search?q=%EB%A1%AF%EB%8D%B0+ci&tbm=isch&ved=2ahUKEwjxjNTouKL6AhWhwosBHdhrB00Q2-cCegQIABAA&oq=%EB%A1%AF%EB%8D%B0+ci&gs_lcp=CgNpbWcQAzIECCMQJ1CfDVifDWCYDmgAcAB4AIAB3AKIAdwCkgEDMy0xmAEAoAEBqgELZ3dzLXdpei1pbWfAAQE&sclient=img&ei=iDUpY_GoCqGFr7wP2Ned6AQ&bih=722&biw=1536','lotte3')\n",
    "\n",
    "# 농심\n",
    "# image_save('https://www.google.com/search?q=%EB%86%8D%EC%8B%AC+%EB%A1%9C%EA%B3%A0&tbm=isch&ved=2ahUKEwjD4MK0uKL6AhUIDZQKHbQuBOwQ2-cCegQIABAA&oq=%EB%86%8D%EC%8B%AC+%EB%A1%9C%EA%B3%A0&gs_lcp=CgNpbWcQAzIFCAAQgAQyBQgAEIAEMgUIABCABDIFCAAQgAQyBQgAEIAEMgUIABCABDIFCAAQgAQyBQgAEIAEMgUIABCABDIFCAAQgAQ6BAgjECc6CAgAEIAEELEDOgsIABCABBCxAxCDAToECAAQAzoHCCMQ6gIQJ1ClB1ivG2D9G2gEcAB4AIAB9wKIAdIWkgEDMy04mAEAoAEBqgELZ3dzLXdpei1pbWewAQrAAQE&sclient=img&ei=GjUpY8PrMoia0AS03ZDgDg&bih=722&biw=1536','nongsim1')\n",
    "# image_save('https://www.google.com/search?q=%EB%86%8D%EC%8B%AC+ci&tbm=isch&ved=2ahUKEwj0uMf5uKL6AhXiz4sBHabQAukQ2-cCegQIABAA&oq=%EB%86%8D%EC%8B%AC+ci&gs_lcp=CgNpbWcQAzIECCMQJzIFCAAQgAQyBQgAEIAEMgUIABCABDIFCAAQgAQyBQgAEIAEMgUIABCABDIFCAAQgAQyBQgAEIAEMgUIABCABDoECAAQGFCCBVi_C2CfDGgAcAB4AIAB9wOIAdoOkgEHMy00LjAuMZgBAKABAaoBC2d3cy13aXotaW1nwAEB&sclient=img&ei=qzUpY7S3JeKfr7wPpqGLyA4&bih=722&biw=1536','nongsim2')\n",
    "# image_save('https://www.google.com/search?q=%EB%86%8D%EC%8B%AC+png&newwindow=1&sxsrf=ALiCzsZQ2AHaHKxI2L9Q4Z7CC1jQ5LhlBg:1663645198109&source=lnms&tbm=isch&sa=X&ved=2ahUKEwja7cKouaL6AhVBfd4KHYCiCD0Q_AUoAXoECAEQAw&biw=1536&bih=664&dpr=1.25','nongsim3')\n",
    "\n",
    "# CW청우\n",
    "# image_save('https://www.google.com/search?q=cw%EC%B2%AD%EC%9A%B0+png&tbm=isch&ved=2ahUKEwiboLeiuaL6AhVQzIsBHf3ODGMQ2-cCegQIABAA&oq=cw%EC%B2%AD%EC%9A%B0+png&gs_lcp=CgNpbWcQAzoECCMQJzoGCAAQHhAIOgUIABCABDoICAAQgAQQsQM6CAgAELEDEIMBOgcIIxDqAhAnOgQIABAYUMMEWJIdYJAeaAJwAHgAgAH8AogBqhmSAQMzLTmYAQCgAQGqAQtnd3Mtd2l6LWltZ7ABCsABAQ&sclient=img&ei=ATYpY9ubFNCYr7wP_Z2zmAY&bih=722&biw=1536','cw1')\n",
    "# image_save('https://www.google.com/search?q=cw%EC%B2%AD%EC%9A%B0+ci&tbm=isch&ved=2ahUKEwj63KCHuaL6AhXBAKYKHVxeCsAQ2-cCegQIABAA&oq=cw%EC%B2%AD%EC%9A%B0+ci&gs_lcp=CgNpbWcQAzIECCMQJzoFCAAQgAQ6CAgAEIAEELEDOggIABCxAxCDAToECAAQGFCfA1iTFWCzFmgAcAB4AIABjAOIAdcWkgEDMy04mAEAoAEBqgELZ3dzLXdpei1pbWfAAQE&sclient=img&ei=yDUpY_rYFMGBmAXcvKmADA&bih=722&biw=1536','cw2')\n",
    "# image_save('https://www.google.com/search?q=cw%EC%B2%AD%EC%9A%B0+%EB%A1%9C%EA%B3%A0&tbm=isch&ved=2ahUKEwiw6rOpuaL6AhUN95QKHbxyBe0Q2-cCegQIABAA&oq=cw%EC%B2%AD%EC%9A%B0+%EB%A1%9C%EA%B3%A0&gs_lcp=CgNpbWcQAzIECCMQJzIECCMQJzoGCAAQHhAIOgUIABCABDoICAAQgAQQsQM6CAgAELEDEIMBOgQIABAYUK4DWJ4ZYMgZaAJwAHgBgAH7AogBwR6SAQQzLTExmAEAoAEBqgELZ3dzLXdpei1pbWfAAQE&sclient=img&ei=DzYpY_CmOo3u0wS85ZXoDg&bih=664&biw=1536','cw3')\n",
    "\n",
    "# 해태\n",
    "# image_save('https://www.google.co.kr/search?q=%ED%95%B4%ED%83%9C+ci&hl=ko&tbm=isch&source=hp&biw=1536&bih=722&ei=_MgpY6S5Go3r-QaX_7vwAg&iflsig=AJiK0e8AAAAAYynXDCBENTL0K33D7402kZU1ImhjEPHU&ved=0ahUKEwikp7e4xaP6AhWNdd4KHZf_Di4Q4dUDCAc&uact=5&oq=%ED%95%B4%ED%83%9C+ci&gs_lcp=CgNpbWcQAzIFCAAQgAQ6CAgAEIAEELEDOgsIABCABBCxAxCDAToICAAQsQMQgwE6BAgAEBhQwgRYkh9gzSFoA3AAeAGAAcYBiAGmCJIBAzAuOZgBAKABAaoBC2d3cy13aXotaW1nsAEA&sclient=img','haitai1')\n",
    "# image_save('https://www.google.co.kr/search?q=%ED%95%B4%ED%83%9C+%EB%A1%9C%EA%B3%A0&tbm=isch&ved=2ahUKEwjEgIe7xaP6AhVjw4sBHTMaAiUQ2-cCegQIABAA&oq=%ED%95%B4%ED%83%9C+%EB%A1%9C%EA%B3%A0&gs_lcp=CgNpbWcQAzIFCAAQgAQyBQgAEIAEMgUIABCABDIFCAAQgAQyBQgAEIAEMgYIABAeEAgyBggAEB4QCDIGCAAQHhAFOgQIABAYUMwEWL4SYOwSaARwAHgBgAGcAYgBugiSAQMwLjmYAQCgAQGqAQtnd3Mtd2l6LWltZ8ABAQ&sclient=img&ei=AckpY4T8OOOGr7wPs7SIqAI&bih=722&biw=1536&hl=ko','haitai2')\n",
    "# image_save('https://www.google.co.kr/search?q=%ED%95%B4%ED%83%9C+png&tbm=isch&ved=2ahUKEwjku5LexaP6AhWUUvUHHdPtCk4Q2-cCegQIABAA&oq=%ED%95%B4%ED%83%9C+png&gs_lcp=CgNpbWcQAzIFCAAQgAQyBggAEB4QCDIGCAAQHhAIOgYIABAeEAc6BggAEB4QBVDuB1i4HmD9H2gDcAB4AIABeogBgQiSAQMwLjmYAQCgAQGqAQtnd3Mtd2l6LWltZ8ABAQ&sclient=img&ei=S8kpY6TqH5Sl1e8P09ur8AQ&bih=722&biw=1536&hl=ko','haitai3')"
   ]
  },
  {
   "cell_type": "code",
   "execution_count": 708,
   "id": "4e3867ab",
   "metadata": {},
   "outputs": [],
   "source": [
    "# 저장된 폴더의 그림들 선별해서 정리해주기"
   ]
  },
  {
   "cell_type": "code",
   "execution_count": 709,
   "id": "80a26b64",
   "metadata": {},
   "outputs": [],
   "source": [
    "# os.listdir로 읽어서 크롤링한 그림 파일명 읽기\n",
    "cw=os.listdir('./imgData/cw/')\n",
    "haitai=os.listdir('./imgData/haitai/')\n",
    "lotteJ=os.listdir('./imgData/lotteJ/')\n",
    "nongsim=os.listdir('./imgData/nongsim/')\n",
    "orion=os.listdir('./imgData/orion/')"
   ]
  },
  {
   "cell_type": "code",
   "execution_count": 710,
   "id": "f51b6ab8",
   "metadata": {},
   "outputs": [],
   "source": [
    "# 크롤링한 그림파일들 일괄적으로 형식 통일\n",
    "def tarns(list_name, file_name):\n",
    "    l=[]\n",
    "    for i in list_name:\n",
    "        n=np.array(Image.open(file_name+i).convert('RGB'))/255.0\n",
    "        l.append(n)\n",
    "    return np.array(l)\n",
    "\n",
    "# 함수 실행\n",
    "crown_pc=tarns(crown, './imgData/crown/')\n",
    "cw_pc=tarns(cw, './imgData/cw/')\n",
    "haitai_pc=tarns(haitai, './imgData/haitai/')\n",
    "lotteJ_pc=tarns(lotteJ, './imgData/lotteJ/')\n",
    "nongsim_pc=tarns(nongsim, './imgData/nongsim/')\n",
    "orion_pc=tarns(orion, './imgData/orion/')"
   ]
  },
  {
   "cell_type": "code",
   "execution_count": 711,
   "id": "eaf3abc9",
   "metadata": {},
   "outputs": [],
   "source": [
    "crown_pc1 = crown_pc.reshape(-1,50*50*3)\n",
    "# cw_pc1 = cw_pc.reshape(-1,50*50*3)\n",
    "# haitai_pc1 = haitai_pc.reshape(-1,50*50*3)\n",
    "lotteJ_pc1 = lotteJ_pc.reshape(-1,50*50*3)\n",
    "nongsim_pc1 = nongsim_pc.reshape(-1,50*50*3)\n",
    "orion_pc1 = orion_pc.reshape(-1,50*50*3)"
   ]
  },
  {
   "cell_type": "markdown",
   "id": "486eb6a6",
   "metadata": {},
   "source": [
    "## 크롤링한 파일 데이터로 완성하기"
   ]
  },
  {
   "cell_type": "code",
   "execution_count": 712,
   "id": "db275089",
   "metadata": {
    "scrolled": true
   },
   "outputs": [
    {
     "data": {
      "text/plain": [
       "(67, 7500)"
      ]
     },
     "execution_count": 712,
     "metadata": {},
     "output_type": "execute_result"
    }
   ],
   "source": [
    "allBrand=np.row_stack((crown_pc1, lotteJ_pc1, nongsim_pc1, orion_pc1))\n",
    "allBrand.shape"
   ]
  },
  {
   "cell_type": "code",
   "execution_count": 713,
   "id": "482c5077",
   "metadata": {},
   "outputs": [],
   "source": [
    "import tensorflow as tf\n",
    "from tensorflow.keras import Sequential\n",
    "from tensorflow.keras.layers import Dense, Dropout \n",
    "from sklearn.model_selection import train_test_split\n",
    "from tensorflow.keras.layers import Dense, Dropout, Flatten, Conv2D, MaxPool2D\n",
    "\n",
    "import numpy as np"
   ]
  },
  {
   "cell_type": "markdown",
   "id": "dc907168",
   "metadata": {},
   "source": [
    "## [1] 데이터 분리 (+target 생성)\n",
    "---"
   ]
  },
  {
   "cell_type": "code",
   "execution_count": 714,
   "id": "54016331",
   "metadata": {},
   "outputs": [
    {
     "name": "stdout",
     "output_type": "stream",
     "text": [
      "crown : 10, lotteJ : 21, nongsim : 19, orion : 17\n",
      "allBrand : 67\n"
     ]
    }
   ],
   "source": [
    "# 이미지 개수 파악\n",
    "print('crown : {}, lotteJ : {}, nongsim : {}, orion : {}'.format(len(crown),len(lotteJ),len(nongsim),len(orion)))\n",
    "print('allBrand : {}'.format(len(allBrand)))"
   ]
  },
  {
   "cell_type": "code",
   "execution_count": 715,
   "id": "9fea994d",
   "metadata": {},
   "outputs": [
    {
     "data": {
      "text/plain": [
       "array([0, 0, 0, 0, 0, 0, 0, 0, 0, 0, 1, 1, 1, 1, 1, 1, 1, 1, 1, 1, 1, 1,\n",
       "       1, 1, 1, 1, 1, 1, 1, 1, 1, 2, 2, 2, 2, 2, 2, 2, 2, 2, 2, 2, 2, 2,\n",
       "       2, 2, 2, 2, 2, 2, 3, 3, 3, 3, 3, 3, 3, 3, 3, 3, 3, 3, 3, 3, 3, 3,\n",
       "       3])"
      ]
     },
     "execution_count": 715,
     "metadata": {},
     "output_type": "execute_result"
    }
   ],
   "source": [
    "# tartget 데이터 만들기\n",
    "# crown, lotteJ, nongsim, orion => 0, 1, 2, 3\n",
    "\n",
    "X = allBrand\n",
    "y = np.array([0]*10 + [1]*21 + [2]*19 + [3]*17)\n",
    "y"
   ]
  },
  {
   "cell_type": "code",
   "execution_count": 716,
   "id": "b38a9ec6",
   "metadata": {},
   "outputs": [],
   "source": [
    "# 크롤링해서 받을 때 이미 /255.0을 해 준 상태 (0~1) 사이로 바뀌어 있음\n",
    "# 데이터가 적으므로 train, test 데이터만 분리\n",
    "X_train, X_test, y_train, y_test = train_test_split(X, y, stratify = y) #, test_size=0.2)"
   ]
  },
  {
   "cell_type": "code",
   "execution_count": 717,
   "id": "800e2dcf",
   "metadata": {
    "scrolled": true
   },
   "outputs": [
    {
     "name": "stdout",
     "output_type": "stream",
     "text": [
      "X_train.shape : (50, 7500)\n",
      "X_test.shape  : (17, 7500)\n",
      "y_train.shape : (50,)\n",
      "y_test.shape  : (17,)\n"
     ]
    }
   ],
   "source": [
    "# 이미 함수로 /255.0을 해서 0~1 사이에 있는 상태\n",
    "# reshape로 1차원으로 다 바뀌어져 있는 상태\n",
    "\n",
    "print(f'X_train.shape : {X_train.shape}')  # 학습용\n",
    "print(f'X_test.shape  : {X_test.shape}')   # 테스트용\n",
    "print(f'y_train.shape : {y_train.shape}')\n",
    "print(f'y_test.shape  : {y_test.shape}')"
   ]
  },
  {
   "cell_type": "markdown",
   "id": "74aa3157",
   "metadata": {},
   "source": [
    "## [2] 모델 구성 및 생성\n",
    "---"
   ]
  },
  {
   "cell_type": "code",
   "execution_count": 718,
   "id": "36db8982",
   "metadata": {},
   "outputs": [],
   "source": [
    "# 노드 수 조절하도록 모델 만드는 함수\n",
    "def createModel(n_node):\n",
    "    model = Sequential(name='snackBrand')\n",
    "    model.add( Dense(units=n_node, activation = 'relu', input_shape=(7500,)))\n",
    "    model.add (Dropout(0.3) )\n",
    "    model.add( Dense(500, activation = 'relu'))\n",
    "    model.add( Dense(500, activation = 'relu'))\n",
    "    model.add (Dropout(0.3) )\n",
    "    model.add( Dense(4, activation = 'softmax'))\n",
    "    model.compile(loss='sparse_categorical_crossentropy', optimizer = 'adam', metrics=['accuracy'])\n",
    "    return model"
   ]
  },
  {
   "cell_type": "code",
   "execution_count": 719,
   "id": "cde31d7a",
   "metadata": {},
   "outputs": [],
   "source": [
    "Model = createModel(100)\n",
    "Model2 = createAEModel(300)\n",
    "Model3 = createAEModel(500)"
   ]
  },
  {
   "cell_type": "markdown",
   "id": "619a438d",
   "metadata": {},
   "source": [
    "## [3] 모델 확인 및 시각화\n",
    "---"
   ]
  },
  {
   "cell_type": "code",
   "execution_count": 720,
   "id": "cba6455b",
   "metadata": {},
   "outputs": [
    {
     "name": "stdout",
     "output_type": "stream",
     "text": [
      "Model: \"snackBrand\"\n",
      "_________________________________________________________________\n",
      " Layer (type)                Output Shape              Param #   \n",
      "=================================================================\n",
      " dense_122 (Dense)           (None, 100)               750100    \n",
      "                                                                 \n",
      " dropout_62 (Dropout)        (None, 100)               0         \n",
      "                                                                 \n",
      " dense_123 (Dense)           (None, 500)               50500     \n",
      "                                                                 \n",
      " dense_124 (Dense)           (None, 500)               250500    \n",
      "                                                                 \n",
      " dropout_63 (Dropout)        (None, 500)               0         \n",
      "                                                                 \n",
      " dense_125 (Dense)           (None, 4)                 2004      \n",
      "                                                                 \n",
      "=================================================================\n",
      "Total params: 1,053,104\n",
      "Trainable params: 1,053,104\n",
      "Non-trainable params: 0\n",
      "_________________________________________________________________\n",
      "\n",
      "\n",
      "\n",
      "Model: \"snackBrand\"\n",
      "_________________________________________________________________\n",
      " Layer (type)                Output Shape              Param #   \n",
      "=================================================================\n",
      " dense_126 (Dense)           (None, 300)               2250300   \n",
      "                                                                 \n",
      " dense_127 (Dense)           (None, 7500)              2257500   \n",
      "                                                                 \n",
      "=================================================================\n",
      "Total params: 4,507,800\n",
      "Trainable params: 4,507,800\n",
      "Non-trainable params: 0\n",
      "_________________________________________________________________\n",
      "\n",
      "\n",
      "\n",
      "Model: \"snackBrand\"\n",
      "_________________________________________________________________\n",
      " Layer (type)                Output Shape              Param #   \n",
      "=================================================================\n",
      " dense_128 (Dense)           (None, 500)               3750500   \n",
      "                                                                 \n",
      " dense_129 (Dense)           (None, 7500)              3757500   \n",
      "                                                                 \n",
      "=================================================================\n",
      "Total params: 7,508,000\n",
      "Trainable params: 7,508,000\n",
      "Non-trainable params: 0\n",
      "_________________________________________________________________\n"
     ]
    }
   ],
   "source": [
    "Model.summary()\n",
    "print('\\n\\n')\n",
    "Model2.summary()\n",
    "print('\\n\\n')\n",
    "Model3.summary()"
   ]
  },
  {
   "cell_type": "code",
   "execution_count": 721,
   "id": "1343a7f1",
   "metadata": {},
   "outputs": [],
   "source": [
    "from tensorflow.keras.utils import plot_model\n",
    "# plot_model(Model, show_shapes=True)"
   ]
  },
  {
   "cell_type": "markdown",
   "id": "8a60e02b",
   "metadata": {},
   "source": [
    "## [4] 학습"
   ]
  },
  {
   "cell_type": "code",
   "execution_count": 722,
   "id": "8f62db38",
   "metadata": {},
   "outputs": [
    {
     "name": "stdout",
     "output_type": "stream",
     "text": [
      "Epoch 1/100\n",
      "2/2 [==============================] - 1s 44ms/step - loss: 7.1546\n",
      "Epoch 2/100\n",
      "2/2 [==============================] - 0s 44ms/step - loss: 6.0724\n",
      "Epoch 3/100\n",
      "2/2 [==============================] - 0s 33ms/step - loss: 5.6209\n",
      "Epoch 4/100\n",
      "2/2 [==============================] - 0s 40ms/step - loss: 2.2218\n",
      "Epoch 5/100\n",
      "2/2 [==============================] - 0s 37ms/step - loss: 3.7693\n",
      "Epoch 6/100\n",
      "2/2 [==============================] - 0s 28ms/step - loss: 3.3130\n",
      "Epoch 7/100\n",
      "2/2 [==============================] - 0s 31ms/step - loss: 1.8519\n",
      "Epoch 8/100\n",
      "2/2 [==============================] - 0s 30ms/step - loss: 1.8872\n",
      "Epoch 9/100\n",
      "2/2 [==============================] - 0s 39ms/step - loss: 2.2521\n",
      "Epoch 10/100\n",
      "2/2 [==============================] - 0s 40ms/step - loss: 1.0144\n",
      "Epoch 11/100\n",
      "2/2 [==============================] - 0s 31ms/step - loss: 1.6096\n",
      "Epoch 12/100\n",
      "2/2 [==============================] - 0s 34ms/step - loss: 1.6221\n",
      "Epoch 13/100\n",
      "2/2 [==============================] - 0s 35ms/step - loss: 1.3868\n",
      "Epoch 14/100\n",
      "2/2 [==============================] - 0s 41ms/step - loss: 0.9643\n",
      "Epoch 15/100\n",
      "2/2 [==============================] - 0s 42ms/step - loss: 0.9531\n",
      "Epoch 16/100\n",
      "2/2 [==============================] - 0s 38ms/step - loss: 1.0260\n",
      "Epoch 17/100\n",
      "2/2 [==============================] - 0s 38ms/step - loss: 0.8041\n",
      "Epoch 18/100\n",
      "2/2 [==============================] - 0s 39ms/step - loss: 0.6897\n",
      "Epoch 19/100\n",
      "2/2 [==============================] - 0s 34ms/step - loss: 0.8462\n",
      "Epoch 20/100\n",
      "2/2 [==============================] - 0s 42ms/step - loss: 0.6842\n",
      "Epoch 21/100\n",
      "2/2 [==============================] - 0s 39ms/step - loss: 0.5845\n",
      "Epoch 22/100\n",
      "2/2 [==============================] - 0s 39ms/step - loss: 0.6280\n",
      "Epoch 23/100\n",
      "2/2 [==============================] - 0s 37ms/step - loss: 0.5329\n",
      "Epoch 24/100\n",
      "2/2 [==============================] - 0s 42ms/step - loss: 0.5760\n",
      "Epoch 25/100\n",
      "2/2 [==============================] - 0s 47ms/step - loss: 0.4875\n",
      "Epoch 26/100\n",
      "2/2 [==============================] - 0s 37ms/step - loss: 0.5139\n",
      "Epoch 27/100\n",
      "2/2 [==============================] - 0s 43ms/step - loss: 0.4739\n",
      "Epoch 28/100\n",
      "2/2 [==============================] - 0s 43ms/step - loss: 0.4819\n",
      "Epoch 29/100\n",
      "2/2 [==============================] - 0s 39ms/step - loss: 0.4399\n",
      "Epoch 30/100\n",
      "2/2 [==============================] - 0s 36ms/step - loss: 0.4330\n",
      "Epoch 31/100\n",
      "2/2 [==============================] - 0s 42ms/step - loss: 0.4219\n",
      "Epoch 32/100\n",
      "2/2 [==============================] - 0s 45ms/step - loss: 0.3651\n",
      "Epoch 33/100\n",
      "2/2 [==============================] - 0s 41ms/step - loss: 0.3605\n",
      "Epoch 34/100\n",
      "2/2 [==============================] - 0s 45ms/step - loss: 0.3591\n",
      "Epoch 35/100\n",
      "2/2 [==============================] - 0s 41ms/step - loss: 0.3379\n",
      "Epoch 36/100\n",
      "2/2 [==============================] - 0s 40ms/step - loss: 0.3230\n",
      "Epoch 37/100\n",
      "2/2 [==============================] - 0s 43ms/step - loss: 0.2770\n",
      "Epoch 38/100\n",
      "2/2 [==============================] - 0s 42ms/step - loss: 0.2742\n",
      "Epoch 39/100\n",
      "2/2 [==============================] - 0s 45ms/step - loss: 0.2568\n",
      "Epoch 40/100\n",
      "2/2 [==============================] - 0s 42ms/step - loss: 0.2456\n",
      "Epoch 41/100\n",
      "2/2 [==============================] - 0s 46ms/step - loss: 0.2466\n",
      "Epoch 42/100\n",
      "2/2 [==============================] - 0s 43ms/step - loss: 0.2293\n",
      "Epoch 43/100\n",
      "2/2 [==============================] - 0s 45ms/step - loss: 0.2188\n",
      "Epoch 44/100\n",
      "2/2 [==============================] - 0s 46ms/step - loss: 0.2110\n",
      "Epoch 45/100\n",
      "2/2 [==============================] - 0s 44ms/step - loss: 0.2027\n",
      "Epoch 46/100\n",
      "2/2 [==============================] - 0s 41ms/step - loss: 0.2042\n",
      "Epoch 47/100\n",
      "2/2 [==============================] - 0s 39ms/step - loss: 0.1861\n",
      "Epoch 48/100\n",
      "2/2 [==============================] - 0s 45ms/step - loss: 0.1828\n",
      "Epoch 49/100\n",
      "2/2 [==============================] - 0s 39ms/step - loss: 0.1703\n",
      "Epoch 50/100\n",
      "2/2 [==============================] - 0s 37ms/step - loss: 0.1608\n",
      "Epoch 51/100\n",
      "2/2 [==============================] - 0s 41ms/step - loss: 0.1617\n",
      "Epoch 52/100\n",
      "2/2 [==============================] - 0s 40ms/step - loss: 0.1486\n",
      "Epoch 53/100\n",
      "2/2 [==============================] - 0s 44ms/step - loss: 0.1442\n",
      "Epoch 54/100\n",
      "2/2 [==============================] - 0s 44ms/step - loss: 0.1430\n",
      "Epoch 55/100\n",
      "2/2 [==============================] - 0s 43ms/step - loss: 0.1333\n",
      "Epoch 56/100\n",
      "2/2 [==============================] - 0s 41ms/step - loss: 0.1323\n",
      "Epoch 57/100\n",
      "2/2 [==============================] - 0s 43ms/step - loss: 0.1253\n",
      "Epoch 58/100\n",
      "2/2 [==============================] - 0s 43ms/step - loss: 0.1267\n",
      "Epoch 59/100\n",
      "2/2 [==============================] - 0s 43ms/step - loss: 0.1137\n",
      "Epoch 60/100\n",
      "2/2 [==============================] - 0s 42ms/step - loss: 0.1208\n",
      "Epoch 61/100\n",
      "2/2 [==============================] - 0s 42ms/step - loss: 0.1136\n",
      "Epoch 62/100\n",
      "2/2 [==============================] - 0s 36ms/step - loss: 0.1138\n",
      "Epoch 63/100\n",
      "2/2 [==============================] - 0s 43ms/step - loss: 0.0993\n",
      "Epoch 64/100\n",
      "2/2 [==============================] - 0s 42ms/step - loss: 0.0951\n",
      "Epoch 65/100\n",
      "2/2 [==============================] - 0s 42ms/step - loss: 0.0939\n",
      "Epoch 66/100\n",
      "2/2 [==============================] - 0s 42ms/step - loss: 0.0870\n",
      "Epoch 67/100\n",
      "2/2 [==============================] - 0s 49ms/step - loss: 0.0865\n",
      "Epoch 68/100\n",
      "2/2 [==============================] - 0s 43ms/step - loss: 0.0815\n",
      "Epoch 69/100\n",
      "2/2 [==============================] - 0s 38ms/step - loss: 0.0771\n",
      "Epoch 70/100\n",
      "2/2 [==============================] - 0s 37ms/step - loss: 0.0751\n",
      "Epoch 71/100\n",
      "2/2 [==============================] - 0s 43ms/step - loss: 0.0715\n",
      "Epoch 72/100\n",
      "2/2 [==============================] - 0s 38ms/step - loss: 0.0705\n",
      "Epoch 73/100\n",
      "2/2 [==============================] - 0s 44ms/step - loss: 0.0671\n",
      "Epoch 74/100\n",
      "2/2 [==============================] - 0s 42ms/step - loss: 0.0663\n",
      "Epoch 75/100\n",
      "2/2 [==============================] - 0s 43ms/step - loss: 0.0622\n",
      "Epoch 76/100\n",
      "2/2 [==============================] - 0s 43ms/step - loss: 0.0596\n",
      "Epoch 77/100\n",
      "2/2 [==============================] - 0s 36ms/step - loss: 0.0565\n",
      "Epoch 78/100\n",
      "2/2 [==============================] - 0s 40ms/step - loss: 0.0561\n",
      "Epoch 79/100\n",
      "2/2 [==============================] - 0s 42ms/step - loss: 0.0533\n",
      "Epoch 80/100\n",
      "2/2 [==============================] - 0s 43ms/step - loss: 0.0511\n",
      "Epoch 81/100\n",
      "2/2 [==============================] - 0s 38ms/step - loss: 0.0496\n",
      "Epoch 82/100\n",
      "2/2 [==============================] - 0s 35ms/step - loss: 0.0490\n",
      "Epoch 83/100\n",
      "2/2 [==============================] - 0s 43ms/step - loss: 0.0467\n",
      "Epoch 84/100\n",
      "2/2 [==============================] - 0s 39ms/step - loss: 0.0460\n",
      "Epoch 85/100\n",
      "2/2 [==============================] - 0s 34ms/step - loss: 0.0456\n",
      "Epoch 86/100\n",
      "2/2 [==============================] - 0s 43ms/step - loss: 0.0427\n",
      "Epoch 87/100\n",
      "2/2 [==============================] - 0s 42ms/step - loss: 0.0413\n",
      "Epoch 88/100\n",
      "2/2 [==============================] - 0s 45ms/step - loss: 0.0398\n",
      "Epoch 89/100\n",
      "2/2 [==============================] - 0s 38ms/step - loss: 0.0390\n",
      "Epoch 90/100\n",
      "2/2 [==============================] - 0s 41ms/step - loss: 0.0378\n",
      "Epoch 91/100\n",
      "2/2 [==============================] - 0s 42ms/step - loss: 0.0373\n",
      "Epoch 92/100\n",
      "2/2 [==============================] - 0s 43ms/step - loss: 0.0366\n",
      "Epoch 93/100\n",
      "2/2 [==============================] - 0s 36ms/step - loss: 0.0359\n",
      "Epoch 94/100\n",
      "2/2 [==============================] - 0s 43ms/step - loss: 0.0346\n",
      "Epoch 95/100\n",
      "2/2 [==============================] - 0s 47ms/step - loss: 0.0346\n",
      "Epoch 96/100\n",
      "2/2 [==============================] - 0s 42ms/step - loss: 0.0333\n",
      "Epoch 97/100\n",
      "2/2 [==============================] - 0s 39ms/step - loss: 0.0326\n",
      "Epoch 98/100\n",
      "2/2 [==============================] - 0s 43ms/step - loss: 0.0332\n",
      "Epoch 99/100\n",
      "2/2 [==============================] - 0s 41ms/step - loss: 0.0310\n",
      "Epoch 100/100\n",
      "2/2 [==============================] - 0s 44ms/step - loss: 0.0302\n"
     ]
    },
    {
     "data": {
      "text/plain": [
       "<keras.callbacks.History at 0x1db8464aaf0>"
      ]
     },
     "execution_count": 722,
     "metadata": {},
     "output_type": "execute_result"
    }
   ],
   "source": [
    "Model3.fit(X_train, y_train, epochs=100)"
   ]
  },
  {
   "cell_type": "markdown",
   "id": "4905568c",
   "metadata": {},
   "source": [
    "## [4] 평가"
   ]
  },
  {
   "cell_type": "code",
   "execution_count": 723,
   "id": "c07e09b1",
   "metadata": {},
   "outputs": [
    {
     "name": "stdout",
     "output_type": "stream",
     "text": [
      "2/2 [==============================] - 0s 7ms/step - loss: 0.0287\n",
      "1/1 [==============================] - 0s 43ms/step - loss: 1.3405\n"
     ]
    },
    {
     "data": {
      "text/plain": [
       "1.3405406475067139"
      ]
     },
     "execution_count": 723,
     "metadata": {},
     "output_type": "execute_result"
    }
   ],
   "source": [
    "Model3.evaluate(X_train, y_train)\n",
    "Model3.evaluate(X_test, y_test)"
   ]
  },
  {
   "cell_type": "markdown",
   "id": "549e0ead",
   "metadata": {},
   "source": [
    "## [5] 예측"
   ]
  },
  {
   "cell_type": "code",
   "execution_count": 724,
   "id": "90419aa1",
   "metadata": {
    "scrolled": true
   },
   "outputs": [
    {
     "name": "stdout",
     "output_type": "stream",
     "text": [
      "WARNING:tensorflow:6 out of the last 8 calls to <function Model.make_predict_function.<locals>.predict_function at 0x000001DB851C7C10> triggered tf.function retracing. Tracing is expensive and the excessive number of tracings could be due to (1) creating @tf.function repeatedly in a loop, (2) passing tensors with different shapes, (3) passing Python objects instead of tensors. For (1), please define your @tf.function outside of the loop. For (2), @tf.function has reduce_retracing=True option that can avoid unnecessary retracing. For (3), please refer to https://www.tensorflow.org/guide/function#controlling_retracing and https://www.tensorflow.org/api_docs/python/tf/function for  more details.\n",
      "1/1 [==============================] - 0s 139ms/step\n"
     ]
    }
   ],
   "source": [
    "predicted = Model.predict(X_test)"
   ]
  },
  {
   "cell_type": "code",
   "execution_count": 725,
   "id": "cb45196c",
   "metadata": {},
   "outputs": [
    {
     "name": "stdout",
     "output_type": "stream",
     "text": [
      "X_test 0 : [0.3356 0.2284 0.2635 0.1725]\n",
      "y_test 0 : 0\n",
      "\n",
      "X_test 1 : [0.3594 0.2123 0.2851 0.1432]\n",
      "y_test 1 : 1\n",
      "\n",
      "X_test 2 : [0.2652 0.2699 0.2697 0.1952]\n",
      "y_test 2 : 2\n",
      "\n",
      "X_test 3 : [0.3594 0.2123 0.2851 0.1432]\n",
      "y_test 3 : 1\n",
      "\n",
      "X_test 4 : [0.2448 0.2471 0.2869 0.2212]\n",
      "y_test 4 : 3\n",
      "\n"
     ]
    }
   ],
   "source": [
    "# 정답확인 (테스트 라벨)\n",
    "for i in range(5):\n",
    "        print(f'X_test ' + str(i) + f' : {predicted[i].round(4)}')\n",
    "        print(f'y_test ' + str(i) + f' : {y_test[i].round(2)}\\n') "
   ]
  },
  {
   "cell_type": "code",
   "execution_count": 726,
   "id": "9c3047df",
   "metadata": {},
   "outputs": [
    {
     "data": {
      "text/plain": [
       "<matplotlib.image.AxesImage at 0x1db88d43b80>"
      ]
     },
     "execution_count": 726,
     "metadata": {},
     "output_type": "execute_result"
    },
    {
     "data": {
      "image/png": "[encoded data removed]",
      "text/plain": [
       "<Figure size 432x288 with 1 Axes>"
      ]
     },
     "metadata": {
      "needs_background": "light"
     },
     "output_type": "display_data"
    }
   ],
   "source": [
    "plt.imshow(X_test[2].reshape(50,50,3))"
   ]
  },
  {
   "cell_type": "code",
   "execution_count": 727,
   "id": "c810b27b",
   "metadata": {},
   "outputs": [
    {
     "name": "stdout",
     "output_type": "stream",
     "text": [
      "X_test : [0.36 0.21 0.29 0.14]\n",
      "y_test : 1\n",
      "\n",
      "X_test : [0.27 0.27 0.27 0.2 ]\n",
      "y_test : 2\n",
      "\n",
      "X_test : [0.36 0.21 0.29 0.14]\n",
      "y_test : 1\n",
      "\n",
      "X_test : [0.24 0.25 0.29 0.22]\n",
      "y_test : 3\n",
      "\n",
      "X_test : [0.29 0.27 0.26 0.18]\n",
      "y_test : 3\n",
      "\n",
      "X_test : [0.25 0.28 0.26 0.2 ]\n",
      "y_test : 3\n",
      "\n",
      "X_test : [0.37 0.22 0.27 0.14]\n",
      "y_test : 3\n",
      "\n",
      "X_test : [0.34 0.22 0.27 0.16]\n",
      "y_test : 1\n",
      "\n",
      "X_test : [0.39 0.22 0.26 0.14]\n",
      "y_test : 1\n",
      "\n"
     ]
    }
   ],
   "source": [
    "# 정답확인 (테스트 라벨)\n",
    "for i in range(1,10):\n",
    "    print('X_test : {}\\ny_test : {}\\n'.format(predicted[i].round(2), y_test[i].round(2)))"
   ]
  },
  {
   "cell_type": "code",
   "execution_count": null,
   "id": "5274692b",
   "metadata": {},
   "outputs": [],
   "source": []
  },
  {
   "cell_type": "code",
   "execution_count": null,
   "id": "41cdc2da",
   "metadata": {},
   "outputs": [],
   "source": []
  }
 ],
 "metadata": {
  "kernelspec": {
   "display_name": "Python 3 (ipykernel)",
   "language": "python",
   "name": "python3"
  },
  "language_info": {
   "codemirror_mode": {
    "name": "ipython",
    "version": 3
   },
   "file_extension": ".py",
   "mimetype": "text/x-python",
   "name": "python",
   "nbconvert_exporter": "python",
   "pygments_lexer": "ipython3",
   "version": "3.9.12"
  }
 },
 "nbformat": 4,
 "nbformat_minor": 5
}

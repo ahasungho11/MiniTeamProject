{
 "cells": [
  {
   "cell_type": "markdown",
   "id": "9ea25b8d",
   "metadata": {},
   "source": [
    "# 브랜드 로고 예측하기 _ DNN (허채범)"
   ]
  },
  {
   "cell_type": "code",
   "execution_count": 487,
   "id": "223ab3ac",
   "metadata": {},
   "outputs": [],
   "source": [
    "# 모듈 로딩\n",
    "from urllib.request import urlopen,Request,urlretrieve\n",
    "from bs4 import BeautifulSoup\n",
    "from selenium import webdriver\n",
    "from PIL import Image\n",
    "from sklearn.model_selection import train_test_split\n",
    "import matplotlib.pyplot as plt\n",
    "import os\n",
    "import cv2\n",
    "import numpy as np \n",
    "import pandas as pd\n",
    "import warnings\n",
    "warnings.filterwarnings(action='ignore')\n",
    "\n",
    "import tensorflow as tf\n",
    "from tensorflow.keras import Sequential, models, layers, regularizers\n",
    "from tensorflow.keras.layers import Dense, Dropout, Flatten, Conv2D, MaxPool2D, BatchNormalization"
   ]
  },
  {
   "cell_type": "markdown",
   "id": "d38848b1",
   "metadata": {},
   "source": [
    "## * 이미지 회전 시키기 => 데이터 증식"
   ]
  },
  {
   "cell_type": "code",
   "execution_count": 488,
   "id": "5526d38d",
   "metadata": {},
   "outputs": [],
   "source": [
    "# 크롤링 데이터 로테이션시키는 함수\n",
    "def rota_save(color,foldname):\n",
    "    # 폴더 만들기\n",
    "    if not os.path.exists('./'+foldname):\n",
    "        os.makedirs(foldname)\n",
    "    \n",
    "    rotation=[45,90,135,180,225,270,315]    # 로테이션 각도 (7가지)\n",
    "    for file in os.listdir('./data/'):\n",
    "        for rot in rotation:\n",
    "            img=np.array(Image.open('./data/'+file).convert(color))\n",
    "            rows,cols = img.shape[0:2]\n",
    "            ro_mt = cv2.getRotationMatrix2D((cols/2,rows/2),rot,1.42)\n",
    "            ro_img = cv2.warpAffine(img, ro_mt,(cols, rows))\n",
    "            \n",
    "            # 이미지 저장\n",
    "            filename=f\"{file}_ro{str(rot)}\"\n",
    "            cv2.imwrite('./'+foldname+'/'+filename+'.png',ro_img)"
   ]
  },
  {
   "cell_type": "code",
   "execution_count": 489,
   "id": "57895f49",
   "metadata": {},
   "outputs": [],
   "source": [
    "# 크롤링 데이터 convert 함수\n",
    "def data_con(color,foldname):\n",
    "    for file in os.listdir('./data/'):\n",
    "        img=Image.open('./data/'+file).convert(color).save('./'+foldname+'/'+file)"
   ]
  },
  {
   "cell_type": "code",
   "execution_count": 490,
   "id": "a9d333b1",
   "metadata": {},
   "outputs": [],
   "source": [
    "# 흑백으로 로테이션\n",
    "rota_save('L','blwh')\n",
    "\n",
    "# rgb로 로테이션\n",
    "rota_save('RGB','rgb')\n",
    "\n",
    "# 원본사진 흑백으로\n",
    "data_con('L','blwh')\n",
    "\n",
    "# 원본사진 색깔로\n",
    "data_con('RGB','rgb')"
   ]
  },
  {
   "cell_type": "markdown",
   "id": "5ec50149",
   "metadata": {},
   "source": [
    "## * 사진 데이터화 시키기"
   ]
  },
  {
   "cell_type": "code",
   "execution_count": 491,
   "id": "0a5f45d6",
   "metadata": {},
   "outputs": [],
   "source": [
    "# 사진 데이터화 시키기\n",
    "def transD(foldname):\n",
    "    l=[]\n",
    "    for i in os.listdir('./'+foldname+'/'):\n",
    "        n=np.array(Image.open('./'+foldname+'/'+i))/255.0\n",
    "        if foldname=='blwh':\n",
    "           n_list=n.reshape(-1,50*50)[0].tolist()\n",
    "        else:\n",
    "            n_list=n.reshape(-1,50*50*3)[0].tolist()\n",
    "        l.append(n_list)\n",
    "    return np.array(l)"
   ]
  },
  {
   "cell_type": "code",
   "execution_count": 492,
   "id": "6fdadc11",
   "metadata": {},
   "outputs": [],
   "source": [
    "# 전체 이미지 데이터화 (흑백)\n",
    "blwh=transD('blwh')\n",
    "\n",
    "# 전체 이미지 데이터화 (컬러)\n",
    "rgb=transD('rgb')\n",
    "\n",
    "# 이미지 확인\n",
    "# plt.imshow(blwh[3500].reshape(50,50,), cmap='gray')\n",
    "# plt.imshow(rgb[3500].reshape(50,50,3), cmap='gray')"
   ]
  },
  {
   "cell_type": "markdown",
   "id": "85e3ff9c",
   "metadata": {},
   "source": [
    "## * input / target data 만들기"
   ]
  },
  {
   "cell_type": "code",
   "execution_count": 493,
   "id": "217e09b1",
   "metadata": {},
   "outputs": [],
   "source": [
    "# input data\n",
    "X1 = blwh  # 흑백\n",
    "X2 = rgb   # 컬러"
   ]
  },
  {
   "cell_type": "code",
   "execution_count": 494,
   "id": "a3a993a2",
   "metadata": {},
   "outputs": [
    {
     "data": {
      "text/plain": [
       "array([ 0,  0,  0, ..., 25, 25, 25], dtype=int64)"
      ]
     },
     "execution_count": 494,
     "metadata": {},
     "output_type": "execute_result"
    }
   ],
   "source": [
    "# target data\n",
    "label = pd.read_csv('target.csv')\n",
    "y = np.array(label.label)\n",
    "y"
   ]
  },
  {
   "cell_type": "markdown",
   "id": "dc907168",
   "metadata": {},
   "source": [
    "## * 데이터 분리\n",
    "---"
   ]
  },
  {
   "cell_type": "code",
   "execution_count": 535,
   "id": "b38a9ec6",
   "metadata": {},
   "outputs": [],
   "source": [
    "# 크롤링해서 받을 때 이미 /255.0을 해 준 상태 (0~1) 사이로 바뀌어 있음\n",
    "# 데이터가 적으므로 train, test 데이터만 분리\n",
    "X_train, X_test, y_train, y_test = train_test_split(X2, y, \n",
    "                                                    stratify = y,\n",
    "                                                    random_state=42, test_size=0.35)\n",
    "\n",
    "# X_train, X_val, y_train, y_val = train_test_split(X_train, y_train,\n",
    "#                                                   stratify = y_train,\n",
    "#                                                   random_state=42, test_size=0.2)"
   ]
  },
  {
   "cell_type": "code",
   "execution_count": 536,
   "id": "800e2dcf",
   "metadata": {
    "scrolled": true
   },
   "outputs": [
    {
     "name": "stdout",
     "output_type": "stream",
     "text": [
      "X_train.shape : (2802, 7500)\n",
      "X_test.shape  : (1510, 7500)\n",
      "y_train.shape : (2802,)\n",
      "y_test.shape  : (1510,)\n"
     ]
    }
   ],
   "source": [
    "# 이미 함수로 /255.0을 해서 0~1 사이에 있는 상태\n",
    "# reshape로 1차원으로 다 바뀌어져 있는 상태\n",
    "\n",
    "print(f'X_train.shape : {X_train.shape}')  # 학습용\n",
    "print(f'X_test.shape  : {X_test.shape}')   # 테스트용\n",
    "print(f'y_train.shape : {y_train.shape}')\n",
    "print(f'y_test.shape  : {y_test.shape}')"
   ]
  },
  {
   "cell_type": "markdown",
   "id": "388804ab",
   "metadata": {},
   "source": [
    "# [ DNN ]"
   ]
  },
  {
   "cell_type": "markdown",
   "id": "74aa3157",
   "metadata": {},
   "source": [
    "## [1] 모델 구성 및 생성\n",
    "---"
   ]
  },
  {
   "cell_type": "code",
   "execution_count": 727,
   "id": "36db8982",
   "metadata": {},
   "outputs": [],
   "source": [
    "# 노드 수 조절하도록 모델 만드는 함수\n",
    "def createModel(n_node):\n",
    "    model = Sequential(name='snackBrand')\n",
    "    model.add( Dense(units=n_node, activation = 'relu', input_shape=(7500,)) )\n",
    "    model.add( BatchNormalization() )\n",
    "    model.add( Dense(300, activation = 'relu') )\n",
    "    \n",
    "    # model.add( Dense(500, activation = 'relu', kernel_regularizer = regularizers.l2(0.00001)) )\n",
    "    # Input data는 정규분포라고 하더라도 레이어를 거치고나면 정규분포가 아닐 수도 있음\n",
    "    # -> data를 정규화하여 활성화 함수를 통과하게 한다.\n",
    "    \n",
    "    model.add( Dense(300, activation = 'relu') )\n",
    "    model.add( Dense(300, activation = 'relu', kernel_regularizer = regularizers.l2(0.00001)) )\n",
    "    model.add( Dense(300, activation = 'relu') )\n",
    "    model.add( Dense(300, activation = 'relu', kernel_regularizer = regularizers.l2(0.00001)) ) \n",
    "    model.add( Dropout(0.2) )\n",
    "    \n",
    "#     model.add( Dense(500, activation = 'relu') )\n",
    "#     model.add( Dense(500, activation = 'relu') )\n",
    "#     model.add( Dense(250, activation = 'relu') )\n",
    "#     model.add( Dropout(0.2) )\n",
    "    \n",
    "    model.add( Dense(100, activation = 'relu') )\n",
    "    model.add( Dense(26, activation = 'softmax') )\n",
    "    model.compile(loss='sparse_categorical_crossentropy', optimizer = 'adam', metrics='accuracy')\n",
    "    return model"
   ]
  },
  {
   "cell_type": "code",
   "execution_count": 728,
   "id": "cde31d7a",
   "metadata": {},
   "outputs": [],
   "source": [
    "Model1 = createModel(100)\n",
    "Model2 = createModel(300)\n",
    "Model3 = createModel(500)"
   ]
  },
  {
   "cell_type": "markdown",
   "id": "619a438d",
   "metadata": {},
   "source": [
    "## [2] 모델 확인\n",
    "---"
   ]
  },
  {
   "cell_type": "code",
   "execution_count": 729,
   "id": "cba6455b",
   "metadata": {
    "scrolled": false
   },
   "outputs": [
    {
     "name": "stdout",
     "output_type": "stream",
     "text": [
      "Model: \"snackBrand\"\n",
      "_________________________________________________________________\n",
      " Layer (type)                Output Shape              Param #   \n",
      "=================================================================\n",
      " dense_786 (Dense)           (None, 500)               3750500   \n",
      "                                                                 \n",
      " batch_normalization_72 (Bat  (None, 500)              2000      \n",
      " chNormalization)                                                \n",
      "                                                                 \n",
      " dense_787 (Dense)           (None, 500)               250500    \n",
      "                                                                 \n",
      " dense_788 (Dense)           (None, 500)               250500    \n",
      "                                                                 \n",
      " dense_789 (Dense)           (None, 500)               250500    \n",
      "                                                                 \n",
      " dense_790 (Dense)           (None, 500)               250500    \n",
      "                                                                 \n",
      " dropout_131 (Dropout)       (None, 500)               0         \n",
      "                                                                 \n",
      " dense_791 (Dense)           (None, 100)               50100     \n",
      "                                                                 \n",
      " dense_792 (Dense)           (None, 26)                2626      \n",
      "                                                                 \n",
      "=================================================================\n",
      "Total params: 4,807,226\n",
      "Trainable params: 4,806,226\n",
      "Non-trainable params: 1,000\n",
      "_________________________________________________________________\n"
     ]
    }
   ],
   "source": [
    "# Model1.summary()\n",
    "# print('\\n\\n')\n",
    "# Model2.summary()\n",
    "# print('\\n\\n')\n",
    "Model3.summary()"
   ]
  },
  {
   "cell_type": "markdown",
   "id": "13759748",
   "metadata": {},
   "source": [
    "## [2-1] 모델 시각화\n",
    "---"
   ]
  },
  {
   "cell_type": "code",
   "execution_count": 730,
   "id": "1343a7f1",
   "metadata": {},
   "outputs": [],
   "source": [
    "from tensorflow.keras.utils import plot_model\n",
    "# plot_model(Model3, show_shapes=True)"
   ]
  },
  {
   "cell_type": "markdown",
   "id": "8a60e02b",
   "metadata": {},
   "source": [
    "## [3] 학습"
   ]
  },
  {
   "cell_type": "code",
   "execution_count": 783,
   "id": "8f62db38",
   "metadata": {},
   "outputs": [
    {
     "name": "stdout",
     "output_type": "stream",
     "text": [
      "Epoch 1/30\n",
      "88/88 [==============================] - 2s 18ms/step - loss: 0.1845 - accuracy: 0.9472\n",
      "Epoch 2/30\n",
      "88/88 [==============================] - 2s 18ms/step - loss: 0.2541 - accuracy: 0.9286\n",
      "Epoch 3/30\n",
      "88/88 [==============================] - 2s 18ms/step - loss: 0.2356 - accuracy: 0.9322\n",
      "Epoch 4/30\n",
      "88/88 [==============================] - 2s 18ms/step - loss: 0.1868 - accuracy: 0.9415\n",
      "Epoch 5/30\n",
      "88/88 [==============================] - 2s 19ms/step - loss: 0.2102 - accuracy: 0.9429\n",
      "Epoch 6/30\n",
      "88/88 [==============================] - 2s 19ms/step - loss: 0.2255 - accuracy: 0.9404\n",
      "Epoch 7/30\n",
      "88/88 [==============================] - 2s 20ms/step - loss: 0.1801 - accuracy: 0.9500\n",
      "Epoch 8/30\n",
      "88/88 [==============================] - 3s 34ms/step - loss: 0.1472 - accuracy: 0.9590\n",
      "Epoch 9/30\n",
      "88/88 [==============================] - 4s 41ms/step - loss: 0.1555 - accuracy: 0.9579\n",
      "Epoch 10/30\n",
      "88/88 [==============================] - 3s 39ms/step - loss: 0.1844 - accuracy: 0.9515\n",
      "Epoch 11/30\n",
      "88/88 [==============================] - 2s 18ms/step - loss: 0.1706 - accuracy: 0.9525\n",
      "Epoch 12/30\n",
      "88/88 [==============================] - 2s 19ms/step - loss: 0.2177 - accuracy: 0.9418\n",
      "Epoch 13/30\n",
      "88/88 [==============================] - 2s 18ms/step - loss: 0.1518 - accuracy: 0.9590\n",
      "Epoch 14/30\n",
      "88/88 [==============================] - 2s 18ms/step - loss: 0.1613 - accuracy: 0.9550\n",
      "Epoch 15/30\n",
      "88/88 [==============================] - 2s 19ms/step - loss: 0.1843 - accuracy: 0.9475\n",
      "Epoch 16/30\n",
      "88/88 [==============================] - 2s 19ms/step - loss: 0.1533 - accuracy: 0.9604\n",
      "Epoch 17/30\n",
      "88/88 [==============================] - 2s 19ms/step - loss: 0.1292 - accuracy: 0.9632\n",
      "Epoch 18/30\n",
      "88/88 [==============================] - 2s 18ms/step - loss: 0.1810 - accuracy: 0.9454\n",
      "Epoch 19/30\n",
      "88/88 [==============================] - 2s 19ms/step - loss: 0.1860 - accuracy: 0.9486\n",
      "Epoch 20/30\n",
      "88/88 [==============================] - 2s 18ms/step - loss: 0.1476 - accuracy: 0.9557\n",
      "Epoch 21/30\n",
      "88/88 [==============================] - 2s 19ms/step - loss: 0.1423 - accuracy: 0.9582\n",
      "Epoch 22/30\n",
      "88/88 [==============================] - 2s 20ms/step - loss: 0.1611 - accuracy: 0.9575\n",
      "Epoch 23/30\n",
      "88/88 [==============================] - 2s 19ms/step - loss: 0.1531 - accuracy: 0.9557\n",
      "Epoch 24/30\n",
      "88/88 [==============================] - 2s 21ms/step - loss: 0.1554 - accuracy: 0.9540\n",
      "Epoch 25/30\n",
      "88/88 [==============================] - 2s 19ms/step - loss: 0.1578 - accuracy: 0.9561\n",
      "Epoch 26/30\n",
      "88/88 [==============================] - 2s 18ms/step - loss: 0.1363 - accuracy: 0.9640\n",
      "Epoch 27/30\n",
      "88/88 [==============================] - 2s 19ms/step - loss: 0.1564 - accuracy: 0.9607\n",
      "Epoch 28/30\n",
      "88/88 [==============================] - 2s 18ms/step - loss: 0.1694 - accuracy: 0.9568\n",
      "Epoch 29/30\n",
      "88/88 [==============================] - 2s 19ms/step - loss: 0.1722 - accuracy: 0.9590\n",
      "Epoch 30/30\n",
      "88/88 [==============================] - 2s 19ms/step - loss: 0.0993 - accuracy: 0.9747\n"
     ]
    },
    {
     "data": {
      "text/plain": [
       "<keras.callbacks.History at 0x1f9c31ac670>"
      ]
     },
     "execution_count": 783,
     "metadata": {},
     "output_type": "execute_result"
    }
   ],
   "source": [
    "Model3.fit(X_train, y_train, epochs=30)#, verbose=False)"
   ]
  },
  {
   "cell_type": "markdown",
   "id": "4905568c",
   "metadata": {},
   "source": [
    "## [4] 평가"
   ]
  },
  {
   "cell_type": "code",
   "execution_count": 784,
   "id": "c07e09b1",
   "metadata": {},
   "outputs": [
    {
     "name": "stdout",
     "output_type": "stream",
     "text": [
      "88/88 [==============================] - 0s 4ms/step - loss: 2.1367 - accuracy: 0.6545\n",
      "48/48 [==============================] - 0s 4ms/step - loss: 3.9352 - accuracy: 0.4775\n"
     ]
    },
    {
     "data": {
      "text/plain": [
       "[3.935222625732422, 0.47748345136642456]"
      ]
     },
     "execution_count": 784,
     "metadata": {},
     "output_type": "execute_result"
    }
   ],
   "source": [
    "# 수차례 조정을 거치면서\n",
    "# -> 과적합이 감소되지는 않았으나, train과 test의 정확도가 동시에 올라가는 경우가 많았음\n",
    "Model3.evaluate(X_train, y_train)\n",
    "Model3.evaluate(X_test, y_test)"
   ]
  },
  {
   "cell_type": "markdown",
   "id": "549e0ead",
   "metadata": {},
   "source": [
    "## [5] 예측"
   ]
  },
  {
   "cell_type": "code",
   "execution_count": 785,
   "id": "3c19834f",
   "metadata": {},
   "outputs": [
    {
     "name": "stdout",
     "output_type": "stream",
     "text": [
      "48/48 [==============================] - 0s 4ms/step\n"
     ]
    }
   ],
   "source": [
    "predicted = Model3.predict(X_test)"
   ]
  },
  {
   "cell_type": "markdown",
   "id": "f4a0f5a9",
   "metadata": {},
   "source": [
    "### [5-1] 정답확인 (테스트셋)"
   ]
  },
  {
   "cell_type": "code",
   "execution_count": 786,
   "id": "0309118a",
   "metadata": {},
   "outputs": [],
   "source": [
    "# 1) 정답지 DF로 만들기\n",
    "label = pd.read_csv('target.csv')\n",
    "df = pd.DataFrame(label.name.unique())\n",
    "df['label'] = label.label.unique()\n",
    "df.columns = ['Brand', 'Label']\n",
    "# df"
   ]
  },
  {
   "cell_type": "code",
   "execution_count": 787,
   "id": "3317e224",
   "metadata": {},
   "outputs": [
    {
     "name": "stdout",
     "output_type": "stream",
     "text": [
      "X_test 0 : 8\n",
      "y_test 0 : 8\n",
      "    Brand  Label\n",
      "8  domino      8\n",
      "\n",
      "X_test 1 : 24\n",
      "y_test 1 : 0\n",
      "       Brand  Label\n",
      "0  angelinus      0\n",
      "\n",
      "X_test 2 : 18\n",
      "y_test 2 : 18\n",
      "   Brand  Label\n",
      "18  orin     18\n",
      "\n",
      "X_test 3 : 6\n",
      "y_test 3 : 20\n",
      "       Brand  Label\n",
      "20  pizzahut     20\n",
      "\n",
      "X_test 4 : 7\n",
      "y_test 4 : 7\n",
      "   Brand  Label\n",
      "7  debec      7\n",
      "\n",
      "X_test 5 : 25\n",
      "y_test 5 : 25\n",
      "           Brand  Label\n",
      "25  twosomeplace     25\n",
      "\n",
      "X_test 6 : 10\n",
      "y_test 6 : 14\n",
      "    Brand  Label\n",
      "14  lotte     14\n",
      "\n",
      "X_test 7 : 8\n",
      "y_test 7 : 10\n",
      "       Brand  Label\n",
      "10  galleria     10\n",
      "\n",
      "X_test 8 : 2\n",
      "y_test 8 : 2\n",
      "         Brand  Label\n",
      "2  bbackdabang      2\n",
      "\n"
     ]
    }
   ],
   "source": [
    "# 2) X_test와 그 결과(y_test)\n",
    "# for i in range(len(X_test)):\n",
    "for i in range(9):\n",
    "    print(f'X_test ' + str(i) + f' : {predicted[i].argmax()}')\n",
    "    print(f'y_test ' + str(i) + f' : {y_test[i]}')\n",
    "    print(f\"{df[df['Label'] == y_test[i]]}\\n\")"
   ]
  },
  {
   "cell_type": "code",
   "execution_count": 788,
   "id": "c63d0399",
   "metadata": {},
   "outputs": [
    {
     "data": {
      "image/png": "[encoded data removed]",
      "text/plain": [
       "<Figure size 360x360 with 9 Axes>"
      ]
     },
     "metadata": {
      "needs_background": "light"
     },
     "output_type": "display_data"
    }
   ],
   "source": [
    "plt.figure(figsize=(5, 5))\n",
    "for i in range(9):\n",
    "    ax = plt.subplot(3, 3, i + 1)\n",
    "    plt.imshow(X_test[i].reshape(50,50,3))\n",
    "    plt.axis(\"off\")    "
   ]
  },
  {
   "cell_type": "code",
   "execution_count": 792,
   "id": "7f76ca49",
   "metadata": {},
   "outputs": [
    {
     "name": "stdout",
     "output_type": "stream",
     "text": [
      "1/1 [==============================] - 0s 14ms/step\n",
      "\n",
      "새로운 이미지의 라벨값 : 22\n",
      "\n",
      "        Brand  Label\n",
      "22  shinsegae     22\n",
      "\n"
     ]
    },
    {
     "data": {
      "image/png": "[encoded data removed]",
      "text/plain": [
       "<Figure size 432x288 with 1 Axes>"
      ]
     },
     "metadata": {
      "needs_background": "light"
     },
     "output_type": "display_data"
    }
   ],
   "source": [
    "# 새로운 이미지 데이터로 예측해보기\n",
    "import PIL.Image as pilimg\n",
    "\n",
    "# 테스트하기 위한 새로운 이미지 파일\n",
    "n = 7\n",
    "\n",
    "# [5,6,7,8 ...]\n",
    "\n",
    "# 이미지 열기 및 변환\n",
    "img = np.array(pilimg.open('./testImg/test'+str(n)+'.png').convert('RGB'))\n",
    "%matplotlib inline \n",
    "plt.imshow(img)\n",
    "\n",
    "# 새로운 이미지 predict\n",
    "preTest = Model3.predict(img.reshape(-1, 50*50*3))  # reshape해주는 array 체크\n",
    "print('\\n새로운 이미지의 라벨값 : {}'.format(preTest.round(2).argmax()))\n",
    "preTest_num = preTest.round(2).argmax()\n",
    "\n",
    "# 새로운 이미지 정답\n",
    "print(f\"\\n{df[df['Label'] == preTest_num]}\\n\")\n",
    "# print(f\"{df[df['Label'] == n]}\\n\")"
   ]
  },
  {
   "cell_type": "code",
   "execution_count": null,
   "id": "23ce0243",
   "metadata": {},
   "outputs": [],
   "source": []
  },
  {
   "cell_type": "markdown",
   "id": "aaab2ba2",
   "metadata": {},
   "source": [
    "## T^T"
   ]
  },
  {
   "cell_type": "code",
   "execution_count": 576,
   "id": "4eda6587",
   "metadata": {},
   "outputs": [],
   "source": [
    "# # 새로운 이미지 데이터로 예측해보기\n",
    "# import PIL.Image as pilimg\n",
    "# for filename in os.listdir('./testImg/'):\n",
    "#     img = np.array(pilimg.open(filename).convert('RGB'))\n",
    "    \n",
    "#     %matplotlib inline \n",
    "#     plt.imshow(img)\n",
    "    \n",
    "#     plt.figure(figsize=(10, 10))\n",
    "# #     augmented_image = data_augmentation(image)\n",
    "#     ax = plt.subplot(4, 5, i + 1)\n",
    "#     plt.imshow(img)\n",
    "#     plt.axis(\"off\")"
   ]
  },
  {
   "cell_type": "code",
   "execution_count": 408,
   "id": "da05045b",
   "metadata": {},
   "outputs": [],
   "source": [
    "# # 예측 함수\n",
    "# def pred_(file_name):\n",
    "#     im=Image.open(file_name)\n",
    "#     im=np.array(im.resize((50,50)))/255.0\n",
    "#     pre_y=model.predict(im.reshape(-1,50*50*3))\n",
    "# #     idx=np.argmax(np.round(pre_y,2))\n",
    "#     plt.imshow(im)\n",
    "#     return "
   ]
  },
  {
   "cell_type": "markdown",
   "id": "27a59145",
   "metadata": {},
   "source": []
  },
  {
   "cell_type": "markdown",
   "id": "09c0b796",
   "metadata": {},
   "source": [
    "# [ AutoEncoder ]"
   ]
  },
  {
   "cell_type": "markdown",
   "id": "11a3c0b7",
   "metadata": {},
   "source": [
    "## [2] 모델 구성 및 생성\n",
    "---"
   ]
  },
  {
   "cell_type": "code",
   "execution_count": 161,
   "id": "2cd75f33",
   "metadata": {},
   "outputs": [],
   "source": [
    "model = tf.keras.Sequential([\n",
    "    layers.Dense(units=300, activation='relu', input_shape=(7500,)),\n",
    "    layers.Dense(500, activation = 'relu'),\n",
    "    layers.Dense(500, activation = 'relu'),\n",
    "    layers.Dense(7500, activation='sigmoid')\n",
    "])"
   ]
  },
  {
   "cell_type": "code",
   "execution_count": 162,
   "id": "0bd2784c",
   "metadata": {},
   "outputs": [],
   "source": [
    "model.compile(loss='mean_squared_error', optimizer = 'adam', metrics='accuracy')"
   ]
  },
  {
   "cell_type": "markdown",
   "id": "7369d66c",
   "metadata": {},
   "source": [
    "## [3] 모델 확인 및 시각화\n",
    "---"
   ]
  },
  {
   "cell_type": "code",
   "execution_count": 163,
   "id": "441336c5",
   "metadata": {},
   "outputs": [
    {
     "name": "stdout",
     "output_type": "stream",
     "text": [
      "Model: \"sequential_14\"\n",
      "_________________________________________________________________\n",
      " Layer (type)                Output Shape              Param #   \n",
      "=================================================================\n",
      " dense_124 (Dense)           (None, 300)               2250300   \n",
      "                                                                 \n",
      " dense_125 (Dense)           (None, 500)               150500    \n",
      "                                                                 \n",
      " dense_126 (Dense)           (None, 500)               250500    \n",
      "                                                                 \n",
      " dense_127 (Dense)           (None, 7500)              3757500   \n",
      "                                                                 \n",
      "=================================================================\n",
      "Total params: 6,408,800\n",
      "Trainable params: 6,408,800\n",
      "Non-trainable params: 0\n",
      "_________________________________________________________________\n"
     ]
    }
   ],
   "source": [
    "model.summary()"
   ]
  },
  {
   "cell_type": "code",
   "execution_count": 164,
   "id": "1a54d754",
   "metadata": {},
   "outputs": [
    {
     "data": {
      "image/png": "[encoded data removed]",
      "text/plain": [
       "<IPython.core.display.Image object>"
      ]
     },
     "execution_count": 164,
     "metadata": {},
     "output_type": "execute_result"
    }
   ],
   "source": [
    "from tensorflow.keras.utils import plot_model\n",
    "plot_model(model, show_shapes=True)"
   ]
  },
  {
   "cell_type": "markdown",
   "id": "39cac713",
   "metadata": {},
   "source": [
    "## [4] 학습\n",
    "---"
   ]
  },
  {
   "cell_type": "code",
   "execution_count": 165,
   "id": "adfe49de",
   "metadata": {
    "collapsed": true
   },
   "outputs": [
    {
     "name": "stdout",
     "output_type": "stream",
     "text": [
      "Epoch 1/30\n",
      "102/102 [==============================] - 3s 25ms/step - loss: 200.6968 - accuracy: 0.0625\n",
      "Epoch 2/30\n",
      "102/102 [==============================] - 3s 25ms/step - loss: 200.4898 - accuracy: 0.0634\n",
      "Epoch 3/30\n",
      "102/102 [==============================] - 3s 25ms/step - loss: 200.4898 - accuracy: 0.0631\n",
      "Epoch 4/30\n",
      "102/102 [==============================] - 3s 25ms/step - loss: 200.4898 - accuracy: 0.0631\n",
      "Epoch 5/30\n",
      "102/102 [==============================] - 3s 25ms/step - loss: 200.4898 - accuracy: 0.0631\n",
      "Epoch 6/30\n",
      "102/102 [==============================] - 3s 25ms/step - loss: 200.4898 - accuracy: 0.0631\n",
      "Epoch 7/30\n",
      "102/102 [==============================] - 3s 25ms/step - loss: 200.4898 - accuracy: 0.0631\n",
      "Epoch 8/30\n",
      "102/102 [==============================] - 3s 25ms/step - loss: 200.4898 - accuracy: 0.0631\n",
      "Epoch 9/30\n",
      "102/102 [==============================] - 3s 25ms/step - loss: 200.4898 - accuracy: 0.0631\n",
      "Epoch 10/30\n",
      "102/102 [==============================] - 3s 25ms/step - loss: 200.4898 - accuracy: 0.0631\n",
      "Epoch 11/30\n",
      "102/102 [==============================] - 3s 27ms/step - loss: 200.4898 - accuracy: 0.0631\n",
      "Epoch 12/30\n",
      "102/102 [==============================] - 3s 26ms/step - loss: 200.4898 - accuracy: 0.0631\n",
      "Epoch 13/30\n",
      "102/102 [==============================] - 3s 26ms/step - loss: 200.4898 - accuracy: 0.0631\n",
      "Epoch 14/30\n",
      "102/102 [==============================] - 3s 25ms/step - loss: 200.4898 - accuracy: 0.0631\n",
      "Epoch 15/30\n",
      "102/102 [==============================] - 3s 25ms/step - loss: 200.4898 - accuracy: 0.0631\n",
      "Epoch 16/30\n",
      "102/102 [==============================] - 3s 27ms/step - loss: 200.4898 - accuracy: 0.0631\n",
      "Epoch 17/30\n",
      "102/102 [==============================] - 3s 27ms/step - loss: 200.4898 - accuracy: 0.0631\n",
      "Epoch 18/30\n",
      "102/102 [==============================] - 3s 28ms/step - loss: 200.4898 - accuracy: 0.0631\n",
      "Epoch 19/30\n",
      "102/102 [==============================] - 3s 26ms/step - loss: 200.4898 - accuracy: 0.0631\n",
      "Epoch 20/30\n",
      "102/102 [==============================] - 3s 25ms/step - loss: 200.4898 - accuracy: 0.0631\n",
      "Epoch 21/30\n",
      "102/102 [==============================] - 2s 24ms/step - loss: 200.4898 - accuracy: 0.0631\n",
      "Epoch 22/30\n",
      "102/102 [==============================] - 3s 26ms/step - loss: 200.4898 - accuracy: 0.0631\n",
      "Epoch 23/30\n",
      "102/102 [==============================] - 3s 26ms/step - loss: 200.4898 - accuracy: 0.0631\n",
      "Epoch 24/30\n",
      "102/102 [==============================] - 3s 26ms/step - loss: 200.4898 - accuracy: 0.0631\n",
      "Epoch 25/30\n",
      "102/102 [==============================] - 3s 25ms/step - loss: 200.4898 - accuracy: 0.0631\n",
      "Epoch 26/30\n",
      "102/102 [==============================] - 3s 25ms/step - loss: 200.4898 - accuracy: 0.0631\n",
      "Epoch 27/30\n",
      "102/102 [==============================] - 3s 25ms/step - loss: 200.4898 - accuracy: 0.0631\n",
      "Epoch 28/30\n",
      "102/102 [==============================] - 3s 25ms/step - loss: 200.4898 - accuracy: 0.0631\n",
      "Epoch 29/30\n",
      "102/102 [==============================] - 3s 25ms/step - loss: 200.4898 - accuracy: 0.0631\n",
      "Epoch 30/30\n",
      "102/102 [==============================] - 3s 25ms/step - loss: 200.4898 - accuracy: 0.0631\n"
     ]
    },
    {
     "data": {
      "text/plain": [
       "<keras.callbacks.History at 0x1f98857e370>"
      ]
     },
     "execution_count": 165,
     "metadata": {},
     "output_type": "execute_result"
    }
   ],
   "source": [
    "model.fit(X_train, y_train, epochs=30)"
   ]
  },
  {
   "cell_type": "markdown",
   "id": "a4f3398b",
   "metadata": {},
   "source": [
    "## [5] 평가\n",
    "---"
   ]
  },
  {
   "cell_type": "code",
   "execution_count": 128,
   "id": "21da9a0d",
   "metadata": {},
   "outputs": [
    {
     "name": "stdout",
     "output_type": "stream",
     "text": [
      "102/102 [==============================] - 1s 4ms/step - loss: 200.4898 - accuracy: 0.0631\n",
      "34/34 [==============================] - 0s 4ms/step - loss: 200.4898 - accuracy: 0.0631\n"
     ]
    },
    {
     "data": {
      "text/plain": [
       "[200.4897918701172, 0.06307977437973022]"
      ]
     },
     "execution_count": 128,
     "metadata": {},
     "output_type": "execute_result"
    }
   ],
   "source": [
    "model.evaluate(X_train, y_train)\n",
    "model.evaluate(X_test, y_test)"
   ]
  },
  {
   "cell_type": "markdown",
   "id": "0e3211aa",
   "metadata": {},
   "source": [
    "## [6] 예측\n",
    "---"
   ]
  },
  {
   "cell_type": "code",
   "execution_count": 129,
   "id": "7842b17f",
   "metadata": {},
   "outputs": [
    {
     "name": "stdout",
     "output_type": "stream",
     "text": [
      "34/34 [==============================] - 0s 3ms/step\n"
     ]
    }
   ],
   "source": [
    "predicted = model.predict(X_test)"
   ]
  },
  {
   "cell_type": "markdown",
   "id": "64fa2922",
   "metadata": {},
   "source": [
    "### [6-1] 정답확인 (테스트셋)\n",
    "---"
   ]
  },
  {
   "cell_type": "code",
   "execution_count": 130,
   "id": "a949ff22",
   "metadata": {
    "collapsed": true
   },
   "outputs": [
    {
     "data": {
      "text/html": [
       "<div>\n",
       "<style scoped>\n",
       "    .dataframe tbody tr th:only-of-type {\n",
       "        vertical-align: middle;\n",
       "    }\n",
       "\n",
       "    .dataframe tbody tr th {\n",
       "        vertical-align: top;\n",
       "    }\n",
       "\n",
       "    .dataframe thead th {\n",
       "        text-align: right;\n",
       "    }\n",
       "</style>\n",
       "<table border=\"1\" class=\"dataframe\">\n",
       "  <thead>\n",
       "    <tr style=\"text-align: right;\">\n",
       "      <th></th>\n",
       "      <th>Brand</th>\n",
       "      <th>Label</th>\n",
       "    </tr>\n",
       "  </thead>\n",
       "  <tbody>\n",
       "    <tr>\n",
       "      <th>0</th>\n",
       "      <td>angelinus</td>\n",
       "      <td>0</td>\n",
       "    </tr>\n",
       "    <tr>\n",
       "      <th>1</th>\n",
       "      <td>banolim</td>\n",
       "      <td>1</td>\n",
       "    </tr>\n",
       "    <tr>\n",
       "      <th>2</th>\n",
       "      <td>bbackdabang</td>\n",
       "      <td>2</td>\n",
       "    </tr>\n",
       "    <tr>\n",
       "      <th>3</th>\n",
       "      <td>benz</td>\n",
       "      <td>3</td>\n",
       "    </tr>\n",
       "    <tr>\n",
       "      <th>4</th>\n",
       "      <td>bmw</td>\n",
       "      <td>4</td>\n",
       "    </tr>\n",
       "    <tr>\n",
       "      <th>5</th>\n",
       "      <td>crown</td>\n",
       "      <td>5</td>\n",
       "    </tr>\n",
       "    <tr>\n",
       "      <th>6</th>\n",
       "      <td>cw</td>\n",
       "      <td>6</td>\n",
       "    </tr>\n",
       "    <tr>\n",
       "      <th>7</th>\n",
       "      <td>debec</td>\n",
       "      <td>7</td>\n",
       "    </tr>\n",
       "    <tr>\n",
       "      <th>8</th>\n",
       "      <td>domino</td>\n",
       "      <td>8</td>\n",
       "    </tr>\n",
       "    <tr>\n",
       "      <th>9</th>\n",
       "      <td>ediya</td>\n",
       "      <td>9</td>\n",
       "    </tr>\n",
       "    <tr>\n",
       "      <th>10</th>\n",
       "      <td>galleria</td>\n",
       "      <td>10</td>\n",
       "    </tr>\n",
       "    <tr>\n",
       "      <th>11</th>\n",
       "      <td>haitai</td>\n",
       "      <td>11</td>\n",
       "    </tr>\n",
       "    <tr>\n",
       "      <th>12</th>\n",
       "      <td>hyundai</td>\n",
       "      <td>12</td>\n",
       "    </tr>\n",
       "    <tr>\n",
       "      <th>13</th>\n",
       "      <td>hyundai_car</td>\n",
       "      <td>13</td>\n",
       "    </tr>\n",
       "    <tr>\n",
       "      <th>14</th>\n",
       "      <td>lotte</td>\n",
       "      <td>14</td>\n",
       "    </tr>\n",
       "    <tr>\n",
       "      <th>15</th>\n",
       "      <td>lotteJ</td>\n",
       "      <td>15</td>\n",
       "    </tr>\n",
       "    <tr>\n",
       "      <th>16</th>\n",
       "      <td>mrpizza</td>\n",
       "      <td>16</td>\n",
       "    </tr>\n",
       "    <tr>\n",
       "      <th>17</th>\n",
       "      <td>nongsim</td>\n",
       "      <td>17</td>\n",
       "    </tr>\n",
       "    <tr>\n",
       "      <th>18</th>\n",
       "      <td>orin</td>\n",
       "      <td>18</td>\n",
       "    </tr>\n",
       "    <tr>\n",
       "      <th>19</th>\n",
       "      <td>papazons</td>\n",
       "      <td>19</td>\n",
       "    </tr>\n",
       "    <tr>\n",
       "      <th>20</th>\n",
       "      <td>pizzahut</td>\n",
       "      <td>20</td>\n",
       "    </tr>\n",
       "    <tr>\n",
       "      <th>21</th>\n",
       "      <td>porche</td>\n",
       "      <td>21</td>\n",
       "    </tr>\n",
       "    <tr>\n",
       "      <th>22</th>\n",
       "      <td>shinsegae</td>\n",
       "      <td>22</td>\n",
       "    </tr>\n",
       "    <tr>\n",
       "      <th>23</th>\n",
       "      <td>starbucks</td>\n",
       "      <td>23</td>\n",
       "    </tr>\n",
       "    <tr>\n",
       "      <th>24</th>\n",
       "      <td>toyota</td>\n",
       "      <td>24</td>\n",
       "    </tr>\n",
       "    <tr>\n",
       "      <th>25</th>\n",
       "      <td>twosomeplace</td>\n",
       "      <td>25</td>\n",
       "    </tr>\n",
       "  </tbody>\n",
       "</table>\n",
       "</div>"
      ],
      "text/plain": [
       "           Brand  Label\n",
       "0      angelinus      0\n",
       "1        banolim      1\n",
       "2    bbackdabang      2\n",
       "3           benz      3\n",
       "4            bmw      4\n",
       "5          crown      5\n",
       "6             cw      6\n",
       "7          debec      7\n",
       "8         domino      8\n",
       "9          ediya      9\n",
       "10      galleria     10\n",
       "11        haitai     11\n",
       "12       hyundai     12\n",
       "13   hyundai_car     13\n",
       "14         lotte     14\n",
       "15        lotteJ     15\n",
       "16       mrpizza     16\n",
       "17       nongsim     17\n",
       "18          orin     18\n",
       "19      papazons     19\n",
       "20      pizzahut     20\n",
       "21        porche     21\n",
       "22     shinsegae     22\n",
       "23     starbucks     23\n",
       "24        toyota     24\n",
       "25  twosomeplace     25"
      ]
     },
     "execution_count": 130,
     "metadata": {},
     "output_type": "execute_result"
    }
   ],
   "source": [
    "# 1) 정답지 DF로 만들기\n",
    "label = pd.read_csv('target.csv')\n",
    "df = pd.DataFrame(label.name.unique())\n",
    "df['label'] = label.label.unique()\n",
    "df.columns = ['Brand', 'Label']\n",
    "df"
   ]
  },
  {
   "cell_type": "code",
   "execution_count": 131,
   "id": "d5ee80f5",
   "metadata": {
    "collapsed": true
   },
   "outputs": [
    {
     "name": "stdout",
     "output_type": "stream",
     "text": [
      "X_test 1 : 0\n",
      "y_test 1 : 4\n",
      "  Brand  Label\n",
      "4   bmw      4\n",
      "\n",
      "X_test 2 : 0\n",
      "y_test 2 : 14\n",
      "    Brand  Label\n",
      "14  lotte     14\n",
      "\n",
      "X_test 3 : 0\n",
      "y_test 3 : 11\n",
      "     Brand  Label\n",
      "11  haitai     11\n",
      "\n",
      "X_test 4 : 0\n",
      "y_test 4 : 16\n",
      "      Brand  Label\n",
      "16  mrpizza     16\n",
      "\n",
      "X_test 5 : 0\n",
      "y_test 5 : 1\n",
      "     Brand  Label\n",
      "1  banolim      1\n",
      "\n",
      "X_test 6 : 0\n",
      "y_test 6 : 14\n",
      "    Brand  Label\n",
      "14  lotte     14\n",
      "\n",
      "X_test 7 : 0\n",
      "y_test 7 : 12\n",
      "      Brand  Label\n",
      "12  hyundai     12\n",
      "\n",
      "X_test 8 : 0\n",
      "y_test 8 : 9\n",
      "   Brand  Label\n",
      "9  ediya      9\n",
      "\n"
     ]
    }
   ],
   "source": [
    "# 2) X_test와 그 결과(y_test)\n",
    "# for i in range(len(X_test)):\n",
    "for i in range(1,9):\n",
    "    print(f'X_test ' + str(i) + f' : {predicted[i].argmax()}')\n",
    "    print(f'y_test ' + str(i) + f' : {y_test[i]}')\n",
    "    print(f\"{df[df['Label'] == y_test[i]]}\\n\")"
   ]
  },
  {
   "cell_type": "code",
   "execution_count": 132,
   "id": "d2da14db",
   "metadata": {
    "collapsed": true
   },
   "outputs": [
    {
     "data": {
      "image/png": "[encoded data removed]",
      "text/plain": [
       "<Figure size 360x360 with 8 Axes>"
      ]
     },
     "metadata": {
      "needs_background": "light"
     },
     "output_type": "display_data"
    }
   ],
   "source": [
    "plt.figure(figsize=(5, 5))\n",
    "for i in range(1,9):\n",
    "    ax = plt.subplot(3, 3, i + 1)\n",
    "    plt.imshow(X_test[i].reshape(50,50,3))\n",
    "    plt.axis(\"off\")    "
   ]
  },
  {
   "cell_type": "code",
   "execution_count": null,
   "id": "a0786f18",
   "metadata": {},
   "outputs": [],
   "source": [
    "img=np.array(pilimg.open('./testImg/test1.png').convert('RGB'))\n",
    "# img.reshape(50*50*3,).shape\n",
    "preTest = model.predict(img.reshape(50*50*3,))\n",
    "# preTest.round(2), preTest.shape"
   ]
  }
 ],
 "metadata": {
  "kernelspec": {
   "display_name": "Python 3 (ipykernel)",
   "language": "python",
   "name": "python3"
  },
  "language_info": {
   "codemirror_mode": {
    "name": "ipython",
    "version": 3
   },
   "file_extension": ".py",
   "mimetype": "text/x-python",
   "name": "python",
   "nbconvert_exporter": "python",
   "pygments_lexer": "ipython3",
   "version": "3.9.12"
  }
 },
 "nbformat": 4,
 "nbformat_minor": 5
}

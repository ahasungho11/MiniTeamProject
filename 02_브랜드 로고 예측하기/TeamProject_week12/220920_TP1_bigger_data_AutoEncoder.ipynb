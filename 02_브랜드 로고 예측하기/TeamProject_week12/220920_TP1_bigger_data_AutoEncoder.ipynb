{
 "cells": [
  {
   "cell_type": "code",
   "execution_count": 432,
   "id": "223ab3ac",
   "metadata": {},
   "outputs": [],
   "source": [
    "# 모듈 로딩\n",
    "from urllib.request import urlopen,Request,urlretrieve\n",
    "from bs4 import BeautifulSoup\n",
    "from selenium import webdriver\n",
    "from PIL import Image\n",
    "# from sklearn.linear_model import LogisticRegression\n",
    "# from sklearn.utils import all_estimators\n",
    "from sklearn.model_selection import train_test_split\n",
    "import matplotlib.pyplot as plt\n",
    "import os\n",
    "import cv2\n",
    "import numpy as np \n",
    "import pandas as pd\n",
    "import warnings\n",
    "warnings.filterwarnings(action='ignore')\n",
    "\n",
    "import tensorflow as tf\n",
    "from tensorflow.keras import Sequential, models, layers\n",
    "from tensorflow.keras.layers import Dense, Dropout, Flatten, Conv2D, MaxPool2D"
   ]
  },
  {
   "cell_type": "markdown",
   "id": "377efed8",
   "metadata": {},
   "source": [
    "## * 이미지 회전 시키기 => 데이터 증식"
   ]
  },
  {
   "cell_type": "code",
   "execution_count": 433,
   "id": "ed40fda5",
   "metadata": {},
   "outputs": [],
   "source": [
    "# 크롤링 데이터 로테이션시키는 함수\n",
    "def rota_save(color,foldname):\n",
    "    # 폴더 만들기\n",
    "    if not os.path.exists('./'+foldname):\n",
    "        os.makedirs(foldname)\n",
    "    \n",
    "    rotation=[45,90,135,180,225,270,315]    # 로테이션 각도\n",
    "    for file in os.listdir('./data/'):\n",
    "        for rot in rotation:\n",
    "            img=np.array(Image.open('./data/'+file).convert(color))\n",
    "            rows,cols = img.shape[0:2]\n",
    "            ro_mt = cv2.getRotationMatrix2D((cols/2,rows/2),rot,1.42)\n",
    "            ro_img = cv2.warpAffine(img, ro_mt,(cols, rows))\n",
    "            \n",
    "            # 이미지 저장\n",
    "            filename=f\"{file}_ro{str(rot)}\"\n",
    "            cv2.imwrite('./'+foldname+'/'+filename+'.png',ro_img)"
   ]
  },
  {
   "cell_type": "code",
   "execution_count": 434,
   "id": "f25b7762",
   "metadata": {},
   "outputs": [],
   "source": [
    "# 크롤링 데이터 convert 함수\n",
    "def data_con(color,foldname):\n",
    "    for file in os.listdir('./data/'):\n",
    "        img=Image.open('./data/'+file).convert(color).save('./'+foldname+'/'+file)"
   ]
  },
  {
   "cell_type": "code",
   "execution_count": 435,
   "id": "4e8dc732",
   "metadata": {},
   "outputs": [],
   "source": [
    "# 흑백으로 로테이션\n",
    "rota_save('L','blwh')\n",
    "\n",
    "# rgb로 로테이션\n",
    "rota_save('RGB','rgb')\n",
    "\n",
    "# 원본사진 흑백으로\n",
    "data_con('L','blwh')\n",
    "\n",
    "# 원본사진 색깔로\n",
    "data_con('RGB','rgb')"
   ]
  },
  {
   "cell_type": "markdown",
   "id": "912390c3",
   "metadata": {},
   "source": [
    "## * 사진 데이터화 시키기"
   ]
  },
  {
   "cell_type": "code",
   "execution_count": 464,
   "id": "e5d69d97",
   "metadata": {},
   "outputs": [],
   "source": [
    "def solution(foldname):\n",
    "    l=[]\n",
    "    for i in os.listdir('./'+foldname+'/'):\n",
    "        n=np.array(Image.open('./'+foldname+'/'+i))/255.0\n",
    "        if foldname=='blwh':\n",
    "           n_list=n.reshape(-1,50*50)[0].tolist()\n",
    "        else:\n",
    "            n_list=n.reshape(-1,50,50,3)[0].tolist()\n",
    "        l.append(n_list)\n",
    "    return np.array(l)"
   ]
  },
  {
   "cell_type": "code",
   "execution_count": 465,
   "id": "dc076d29",
   "metadata": {},
   "outputs": [
    {
     "data": {
      "text/plain": [
       "array([[1.        , 1.        , 1.        , ..., 1.        , 1.        ,\n",
       "        1.        ],\n",
       "       [0.09411765, 0.59215686, 1.        , ..., 1.        , 1.        ,\n",
       "        1.        ],\n",
       "       [0.42352941, 0.98431373, 0.87058824, ..., 1.        , 1.        ,\n",
       "        1.        ],\n",
       "       ...,\n",
       "       [0.75294118, 0.52941176, 0.34901961, ..., 0.69803922, 0.83921569,\n",
       "        0.97254902],\n",
       "       [0.99215686, 0.99607843, 0.99607843, ..., 0.94509804, 0.99215686,\n",
       "        0.99215686],\n",
       "       [0.30980392, 0.30980392, 0.30980392, ..., 0.30980392, 0.30980392,\n",
       "        0.30980392]])"
      ]
     },
     "execution_count": 465,
     "metadata": {},
     "output_type": "execute_result"
    }
   ],
   "source": [
    "blwh=solution('blwh')\n",
    "blwh"
   ]
  },
  {
   "cell_type": "code",
   "execution_count": 466,
   "id": "00842f5a",
   "metadata": {},
   "outputs": [
    {
     "data": {
      "text/plain": [
       "array([[[[1.        , 1.        , 1.        ],\n",
       "         [1.        , 1.        , 1.        ],\n",
       "         [1.        , 1.        , 1.        ],\n",
       "         ...,\n",
       "         [1.        , 1.        , 1.        ],\n",
       "         [1.        , 1.        , 1.        ],\n",
       "         [1.        , 1.        , 1.        ]],\n",
       "\n",
       "        [[1.        , 1.        , 1.        ],\n",
       "         [1.        , 1.        , 1.        ],\n",
       "         [1.        , 1.        , 1.        ],\n",
       "         ...,\n",
       "         [1.        , 1.        , 1.        ],\n",
       "         [1.        , 1.        , 1.        ],\n",
       "         [1.        , 1.        , 1.        ]],\n",
       "\n",
       "        [[1.        , 1.        , 1.        ],\n",
       "         [1.        , 1.        , 1.        ],\n",
       "         [1.        , 1.        , 1.        ],\n",
       "         ...,\n",
       "         [1.        , 1.        , 1.        ],\n",
       "         [1.        , 1.        , 1.        ],\n",
       "         [1.        , 1.        , 1.        ]],\n",
       "\n",
       "        ...,\n",
       "\n",
       "        [[1.        , 1.        , 1.        ],\n",
       "         [1.        , 1.        , 1.        ],\n",
       "         [0.76078431, 0.75686275, 0.76078431],\n",
       "         ...,\n",
       "         [1.        , 1.        , 1.        ],\n",
       "         [1.        , 1.        , 1.        ],\n",
       "         [1.        , 1.        , 1.        ]],\n",
       "\n",
       "        [[1.        , 1.        , 1.        ],\n",
       "         [1.        , 1.        , 1.        ],\n",
       "         [1.        , 1.        , 1.        ],\n",
       "         ...,\n",
       "         [1.        , 1.        , 1.        ],\n",
       "         [1.        , 1.        , 1.        ],\n",
       "         [1.        , 1.        , 1.        ]],\n",
       "\n",
       "        [[1.        , 1.        , 1.        ],\n",
       "         [1.        , 1.        , 1.        ],\n",
       "         [1.        , 1.        , 1.        ],\n",
       "         ...,\n",
       "         [1.        , 1.        , 1.        ],\n",
       "         [1.        , 1.        , 1.        ],\n",
       "         [1.        , 1.        , 1.        ]]],\n",
       "\n",
       "\n",
       "       [[[0.09411765, 0.09411765, 0.09411765],\n",
       "         [0.59215686, 0.59215686, 0.59215686],\n",
       "         [1.        , 1.        , 1.        ],\n",
       "         ...,\n",
       "         [1.        , 1.        , 1.        ],\n",
       "         [1.        , 1.        , 1.        ],\n",
       "         [0.59215686, 0.59215686, 0.59215686]],\n",
       "\n",
       "        [[0.59215686, 0.59215686, 0.59215686],\n",
       "         [1.        , 1.        , 1.        ],\n",
       "         [1.        , 1.        , 1.        ],\n",
       "         ...,\n",
       "         [1.        , 1.        , 1.        ],\n",
       "         [1.        , 1.        , 1.        ],\n",
       "         [1.        , 1.        , 1.        ]],\n",
       "\n",
       "        [[1.        , 1.        , 1.        ],\n",
       "         [1.        , 1.        , 1.        ],\n",
       "         [1.        , 1.        , 1.        ],\n",
       "         ...,\n",
       "         [1.        , 1.        , 1.        ],\n",
       "         [1.        , 1.        , 1.        ],\n",
       "         [1.        , 1.        , 1.        ]],\n",
       "\n",
       "        ...,\n",
       "\n",
       "        [[1.        , 1.        , 1.        ],\n",
       "         [1.        , 1.        , 1.        ],\n",
       "         [1.        , 1.        , 1.        ],\n",
       "         ...,\n",
       "         [1.        , 1.        , 1.        ],\n",
       "         [1.        , 1.        , 1.        ],\n",
       "         [1.        , 1.        , 1.        ]],\n",
       "\n",
       "        [[1.        , 1.        , 1.        ],\n",
       "         [1.        , 1.        , 1.        ],\n",
       "         [1.        , 1.        , 1.        ],\n",
       "         ...,\n",
       "         [1.        , 1.        , 1.        ],\n",
       "         [1.        , 1.        , 1.        ],\n",
       "         [1.        , 1.        , 1.        ]],\n",
       "\n",
       "        [[1.        , 1.        , 1.        ],\n",
       "         [1.        , 1.        , 1.        ],\n",
       "         [1.        , 1.        , 1.        ],\n",
       "         ...,\n",
       "         [1.        , 1.        , 1.        ],\n",
       "         [1.        , 1.        , 1.        ],\n",
       "         [1.        , 1.        , 1.        ]]],\n",
       "\n",
       "\n",
       "       [[[0.42352941, 0.41960784, 0.43137255],\n",
       "         [0.98431373, 0.98431373, 0.98431373],\n",
       "         [0.87058824, 0.87058824, 0.8745098 ],\n",
       "         ...,\n",
       "         [0.54901961, 0.54509804, 0.55294118],\n",
       "         [0.63529412, 0.63137255, 0.63529412],\n",
       "         [0.95686275, 0.95686275, 0.95686275]],\n",
       "\n",
       "        [[0.4627451 , 0.4627451 , 0.4627451 ],\n",
       "         [1.        , 1.        , 1.        ],\n",
       "         [1.        , 1.        , 1.        ],\n",
       "         ...,\n",
       "         [0.54509804, 0.54117647, 0.54509804],\n",
       "         [0.49019608, 0.48627451, 0.49411765],\n",
       "         [0.94117647, 0.94117647, 0.94117647]],\n",
       "\n",
       "        [[0.89019608, 0.89019608, 0.89019608],\n",
       "         [1.        , 1.        , 1.        ],\n",
       "         [1.        , 1.        , 1.        ],\n",
       "         ...,\n",
       "         [0.57254902, 0.57254902, 0.57647059],\n",
       "         [0.81568627, 0.81176471, 0.81568627],\n",
       "         [0.98039216, 0.98039216, 0.98039216]],\n",
       "\n",
       "        ...,\n",
       "\n",
       "        [[1.        , 1.        , 1.        ],\n",
       "         [1.        , 1.        , 1.        ],\n",
       "         [1.        , 1.        , 1.        ],\n",
       "         ...,\n",
       "         [1.        , 1.        , 1.        ],\n",
       "         [1.        , 1.        , 1.        ],\n",
       "         [1.        , 1.        , 1.        ]],\n",
       "\n",
       "        [[1.        , 1.        , 1.        ],\n",
       "         [1.        , 1.        , 1.        ],\n",
       "         [1.        , 1.        , 1.        ],\n",
       "         ...,\n",
       "         [1.        , 1.        , 1.        ],\n",
       "         [1.        , 1.        , 1.        ],\n",
       "         [1.        , 1.        , 1.        ]],\n",
       "\n",
       "        [[1.        , 1.        , 1.        ],\n",
       "         [1.        , 1.        , 1.        ],\n",
       "         [1.        , 1.        , 1.        ],\n",
       "         ...,\n",
       "         [1.        , 1.        , 1.        ],\n",
       "         [1.        , 1.        , 1.        ],\n",
       "         [1.        , 1.        , 1.        ]]],\n",
       "\n",
       "\n",
       "       ...,\n",
       "\n",
       "\n",
       "       [[[0.74901961, 0.74509804, 0.76078431],\n",
       "         [0.52156863, 0.52156863, 0.55294118],\n",
       "         [0.34117647, 0.35686275, 0.34117647],\n",
       "         ...,\n",
       "         [0.99607843, 1.        , 1.        ],\n",
       "         [0.99215686, 0.99607843, 1.        ],\n",
       "         [0.99215686, 1.        , 0.99215686]],\n",
       "\n",
       "        [[0.49803922, 0.4627451 , 0.62352941],\n",
       "         [0.33333333, 0.31372549, 0.43529412],\n",
       "         [0.34509804, 0.33333333, 0.4       ],\n",
       "         ...,\n",
       "         [0.99607843, 0.99607843, 0.99215686],\n",
       "         [1.        , 1.        , 0.99215686],\n",
       "         [1.        , 1.        , 0.99215686]],\n",
       "\n",
       "        [[0.2745098 , 0.2       , 0.54901961],\n",
       "         [0.29803922, 0.25490196, 0.50196078],\n",
       "         [0.33333333, 0.31372549, 0.45098039],\n",
       "         ...,\n",
       "         [0.96862745, 0.96862745, 0.97647059],\n",
       "         [0.99215686, 0.99215686, 0.98823529],\n",
       "         [1.        , 1.        , 0.99607843]],\n",
       "\n",
       "        ...,\n",
       "\n",
       "        [[0.99215686, 0.98431373, 0.98823529],\n",
       "         [0.95686275, 0.93333333, 0.96470588],\n",
       "         [0.72941176, 0.71372549, 0.75686275],\n",
       "         ...,\n",
       "         [0.24313725, 0.17254902, 0.55294118],\n",
       "         [0.41960784, 0.35686275, 0.68627451],\n",
       "         [0.64313725, 0.60392157, 0.81960784]],\n",
       "\n",
       "        [[0.98431373, 0.99215686, 0.97647059],\n",
       "         [0.99607843, 0.99215686, 0.99215686],\n",
       "         [0.95686275, 0.95686275, 0.95686275],\n",
       "         ...,\n",
       "         [0.45490196, 0.41568627, 0.61568627],\n",
       "         [0.65490196, 0.61960784, 0.79607843],\n",
       "         [0.81568627, 0.8       , 0.89803922]],\n",
       "\n",
       "        [[0.58823529, 0.59215686, 0.58039216],\n",
       "         [0.99215686, 0.99607843, 0.98039216],\n",
       "         [0.99607843, 0.99607843, 0.99607843],\n",
       "         ...,\n",
       "         [0.69019608, 0.68235294, 0.74117647],\n",
       "         [0.83137255, 0.81960784, 0.87843137],\n",
       "         [0.97254902, 0.96862745, 0.98431373]]],\n",
       "\n",
       "\n",
       "       [[[0.98823529, 0.99607843, 0.99215686],\n",
       "         [0.99215686, 0.99607843, 0.99607843],\n",
       "         [0.99607843, 0.99215686, 1.        ],\n",
       "         ...,\n",
       "         [0.81568627, 0.79607843, 0.90588235],\n",
       "         [0.97254902, 0.96862745, 0.98431373],\n",
       "         [0.59215686, 0.59215686, 0.59215686]],\n",
       "\n",
       "        [[0.99215686, 1.        , 0.99215686],\n",
       "         [1.        , 1.        , 0.99215686],\n",
       "         [1.        , 1.        , 0.99607843],\n",
       "         ...,\n",
       "         [0.64313725, 0.60392157, 0.81960784],\n",
       "         [0.81568627, 0.8       , 0.89803922],\n",
       "         [0.97254902, 0.96862745, 0.98431373]],\n",
       "\n",
       "        [[0.99215686, 0.99607843, 1.        ],\n",
       "         [1.        , 1.        , 0.99215686],\n",
       "         [0.99215686, 0.99215686, 0.98823529],\n",
       "         ...,\n",
       "         [0.41960784, 0.35686275, 0.68627451],\n",
       "         [0.65490196, 0.61960784, 0.79607843],\n",
       "         [0.83137255, 0.81960784, 0.87843137]],\n",
       "\n",
       "        ...,\n",
       "\n",
       "        [[0.36078431, 0.35294118, 0.34901961],\n",
       "         [0.36470588, 0.34509804, 0.36078431],\n",
       "         [0.35294118, 0.32941176, 0.40392157],\n",
       "         ...,\n",
       "         [0.53333333, 0.52941176, 0.5372549 ],\n",
       "         [0.7372549 , 0.73333333, 0.7372549 ],\n",
       "         [0.95686275, 0.95686275, 0.95686275]],\n",
       "\n",
       "        [[0.34117647, 0.35686275, 0.34117647],\n",
       "         [0.34509804, 0.33333333, 0.4       ],\n",
       "         [0.33333333, 0.31372549, 0.45098039],\n",
       "         ...,\n",
       "         [0.72941176, 0.71372549, 0.75686275],\n",
       "         [0.95686275, 0.95686275, 0.95686275],\n",
       "         [0.99607843, 0.99607843, 0.99607843]],\n",
       "\n",
       "        [[0.52156863, 0.52156863, 0.55294118],\n",
       "         [0.33333333, 0.31372549, 0.43529412],\n",
       "         [0.29803922, 0.25490196, 0.50196078],\n",
       "         ...,\n",
       "         [0.95686275, 0.93333333, 0.96470588],\n",
       "         [0.99607843, 0.99215686, 0.99215686],\n",
       "         [0.99215686, 0.99607843, 0.98039216]]],\n",
       "\n",
       "\n",
       "       [[[0.23921569, 0.14117647, 0.66666667],\n",
       "         [0.23921569, 0.14117647, 0.66666667],\n",
       "         [0.23921569, 0.14117647, 0.66666667],\n",
       "         ...,\n",
       "         [0.37254902, 0.35686275, 0.35294118],\n",
       "         [0.37254902, 0.35686275, 0.35294118],\n",
       "         [0.37254902, 0.35686275, 0.35294118]],\n",
       "\n",
       "        [[0.23921569, 0.14117647, 0.66666667],\n",
       "         [0.23921569, 0.14117647, 0.66666667],\n",
       "         [0.23921569, 0.14117647, 0.66666667],\n",
       "         ...,\n",
       "         [0.37254902, 0.35686275, 0.35294118],\n",
       "         [0.37254902, 0.35686275, 0.35294118],\n",
       "         [0.37254902, 0.35686275, 0.35294118]],\n",
       "\n",
       "        [[0.23921569, 0.14117647, 0.66666667],\n",
       "         [0.23921569, 0.14117647, 0.66666667],\n",
       "         [0.23921569, 0.14117647, 0.66666667],\n",
       "         ...,\n",
       "         [0.37254902, 0.35686275, 0.35294118],\n",
       "         [0.37254902, 0.35686275, 0.35294118],\n",
       "         [0.37254902, 0.35686275, 0.35294118]],\n",
       "\n",
       "        ...,\n",
       "\n",
       "        [[0.37254902, 0.35686275, 0.35294118],\n",
       "         [0.37254902, 0.35686275, 0.35294118],\n",
       "         [0.37254902, 0.35686275, 0.35294118],\n",
       "         ...,\n",
       "         [0.23921569, 0.14117647, 0.66666667],\n",
       "         [0.23921569, 0.14117647, 0.66666667],\n",
       "         [0.23921569, 0.14117647, 0.66666667]],\n",
       "\n",
       "        [[0.37254902, 0.35686275, 0.35294118],\n",
       "         [0.37254902, 0.35686275, 0.35294118],\n",
       "         [0.37254902, 0.35686275, 0.35294118],\n",
       "         ...,\n",
       "         [0.23921569, 0.14117647, 0.66666667],\n",
       "         [0.23921569, 0.14117647, 0.66666667],\n",
       "         [0.23921569, 0.14117647, 0.66666667]],\n",
       "\n",
       "        [[0.37254902, 0.35686275, 0.35294118],\n",
       "         [0.37254902, 0.35686275, 0.35294118],\n",
       "         [0.37254902, 0.35686275, 0.35294118],\n",
       "         ...,\n",
       "         [0.23921569, 0.14117647, 0.66666667],\n",
       "         [0.23921569, 0.14117647, 0.66666667],\n",
       "         [0.23921569, 0.14117647, 0.66666667]]]])"
      ]
     },
     "execution_count": 466,
     "metadata": {},
     "output_type": "execute_result"
    }
   ],
   "source": [
    "rgb=solution('rgb')\n",
    "rgb"
   ]
  },
  {
   "cell_type": "code",
   "execution_count": 467,
   "id": "2fec1529",
   "metadata": {
    "scrolled": true
   },
   "outputs": [],
   "source": [
    "# plt.imshow(blwh[3500].reshape(50,50,), cmap='gray')"
   ]
  },
  {
   "cell_type": "code",
   "execution_count": 468,
   "id": "5ceda0c4",
   "metadata": {},
   "outputs": [],
   "source": [
    "# plt.imshow(rgb[3500].reshape(50,50,3), cmap='gray')"
   ]
  },
  {
   "cell_type": "code",
   "execution_count": 469,
   "id": "11e18fac",
   "metadata": {},
   "outputs": [],
   "source": [
    "# input data\n",
    "X1 = blwh\n",
    "X2 = rgb"
   ]
  },
  {
   "cell_type": "code",
   "execution_count": 470,
   "id": "44b29fb9",
   "metadata": {},
   "outputs": [
    {
     "data": {
      "text/plain": [
       "array([ 0,  0,  0, ..., 25, 25, 25], dtype=int64)"
      ]
     },
     "execution_count": 470,
     "metadata": {},
     "output_type": "execute_result"
    }
   ],
   "source": [
    "# target data\n",
    "label = pd.read_csv('target.csv')\n",
    "y = np.array(label.label)\n",
    "y"
   ]
  },
  {
   "cell_type": "markdown",
   "id": "dc907168",
   "metadata": {},
   "source": [
    "## [1] 데이터 분리\n",
    "---"
   ]
  },
  {
   "cell_type": "code",
   "execution_count": 471,
   "id": "b38a9ec6",
   "metadata": {},
   "outputs": [],
   "source": [
    "# 크롤링해서 받을 때 이미 /255.0을 해 준 상태 (0~1) 사이로 바뀌어 있음\n",
    "# 데이터가 적으므로 train, test 데이터만 분리\n",
    "X_train, X_test, y_train, y_test = train_test_split(X2, y, stratify = y, random_state=42) #, test_size=0.2)"
   ]
  },
  {
   "cell_type": "code",
   "execution_count": 472,
   "id": "800e2dcf",
   "metadata": {
    "scrolled": true
   },
   "outputs": [
    {
     "name": "stdout",
     "output_type": "stream",
     "text": [
      "X_train.shape : (3234, 50, 50, 3)\n",
      "X_test.shape  : (1078, 50, 50, 3)\n",
      "y_train.shape : (3234,)\n",
      "y_test.shape  : (1078,)\n"
     ]
    }
   ],
   "source": [
    "# 이미 함수로 /255.0을 해서 0~1 사이에 있는 상태\n",
    "# reshape로 1차원으로 다 바뀌어져 있는 상태\n",
    "\n",
    "print(f'X_train.shape : {X_train.shape}')  # 학습용\n",
    "print(f'X_test.shape  : {X_test.shape}')   # 테스트용\n",
    "print(f'y_train.shape : {y_train.shape}')\n",
    "print(f'y_test.shape  : {y_test.shape}')"
   ]
  },
  {
   "cell_type": "markdown",
   "id": "74aa3157",
   "metadata": {},
   "source": [
    "## [2] 모델 구성 및 생성\n",
    "---"
   ]
  },
  {
   "cell_type": "code",
   "execution_count": 473,
   "id": "58c1928e",
   "metadata": {},
   "outputs": [],
   "source": [
    "data_augmentation = tf.keras.Sequential([\n",
    "#   layers.experimental.preprocessing.RandomFlip(\"horizontal_and_vertical\"),\n",
    "  layers.experimental.preprocessing.RandomRotation(0.2)\n",
    "])"
   ]
  },
  {
   "cell_type": "code",
   "execution_count": 496,
   "id": "51299e37",
   "metadata": {},
   "outputs": [],
   "source": [
    "model = tf.keras.Sequential([\n",
    "    data_augmentation,\n",
    "    layers.Conv2D(30, 3, activation=\"relu\", padding=\"same\", input_shape=(50,50,3)),\n",
    "    layers.Conv2D(1, 3, activation=\"relu\", padding=\"same\")\n",
    "#     layers.Flatten(),\n",
    "#     layers.Dense(units=300, activation='relu'),\n",
    "#     layers.Dense(500, activation = 'relu'),\n",
    "#     layers.Dense(500, activation = 'relu'),\n",
    "#     layers.Dense(7500, activation='sigmoid')\n",
    "#     layers.Dense(26, activation='softmax')\n",
    "])"
   ]
  },
  {
   "cell_type": "code",
   "execution_count": 497,
   "id": "f458893b",
   "metadata": {},
   "outputs": [],
   "source": [
    "model.compile(loss='binary_crossentropy', optimizer = 'adam', metrics='accuracy')"
   ]
  },
  {
   "cell_type": "markdown",
   "id": "619a438d",
   "metadata": {},
   "source": [
    "## [3] 모델 확인 및 시각화\n",
    "---"
   ]
  },
  {
   "cell_type": "code",
   "execution_count": 476,
   "id": "cba6455b",
   "metadata": {
    "collapsed": true
   },
   "outputs": [
    {
     "ename": "ValueError",
     "evalue": "This model has not yet been built. Build the model first by calling `build()` or by calling the model on a batch of data.",
     "output_type": "error",
     "traceback": [
      "\u001b[1;31m---------------------------------------------------------------------------\u001b[0m",
      "\u001b[1;31mValueError\u001b[0m                                Traceback (most recent call last)",
      "Input \u001b[1;32mIn [476]\u001b[0m, in \u001b[0;36m<cell line: 1>\u001b[1;34m()\u001b[0m\n\u001b[1;32m----> 1\u001b[0m \u001b[43mmodel\u001b[49m\u001b[38;5;241;43m.\u001b[39;49m\u001b[43msummary\u001b[49m\u001b[43m(\u001b[49m\u001b[43m)\u001b[49m\n",
      "File \u001b[1;32m~\\AppData\\Roaming\\Python\\Python39\\site-packages\\keras\\engine\\training.py:3214\u001b[0m, in \u001b[0;36mModel.summary\u001b[1;34m(self, line_length, positions, print_fn, expand_nested, show_trainable, layer_range)\u001b[0m\n\u001b[0;32m   3184\u001b[0m \u001b[38;5;124;03m\"\"\"Prints a string summary of the network.\u001b[39;00m\n\u001b[0;32m   3185\u001b[0m \n\u001b[0;32m   3186\u001b[0m \u001b[38;5;124;03mArgs:\u001b[39;00m\n\u001b[1;32m   (...)\u001b[0m\n\u001b[0;32m   3211\u001b[0m \u001b[38;5;124;03m    ValueError: if `summary()` is called before the model is built.\u001b[39;00m\n\u001b[0;32m   3212\u001b[0m \u001b[38;5;124;03m\"\"\"\u001b[39;00m\n\u001b[0;32m   3213\u001b[0m \u001b[38;5;28;01mif\u001b[39;00m \u001b[38;5;129;01mnot\u001b[39;00m \u001b[38;5;28mself\u001b[39m\u001b[38;5;241m.\u001b[39mbuilt:\n\u001b[1;32m-> 3214\u001b[0m     \u001b[38;5;28;01mraise\u001b[39;00m \u001b[38;5;167;01mValueError\u001b[39;00m(\n\u001b[0;32m   3215\u001b[0m         \u001b[38;5;124m\"\u001b[39m\u001b[38;5;124mThis model has not yet been built. \u001b[39m\u001b[38;5;124m\"\u001b[39m\n\u001b[0;32m   3216\u001b[0m         \u001b[38;5;124m\"\u001b[39m\u001b[38;5;124mBuild the model first by calling `build()` or by calling \u001b[39m\u001b[38;5;124m\"\u001b[39m\n\u001b[0;32m   3217\u001b[0m         \u001b[38;5;124m\"\u001b[39m\u001b[38;5;124mthe model on a batch of data.\u001b[39m\u001b[38;5;124m\"\u001b[39m\n\u001b[0;32m   3218\u001b[0m     )\n\u001b[0;32m   3219\u001b[0m layer_utils\u001b[38;5;241m.\u001b[39mprint_summary(\n\u001b[0;32m   3220\u001b[0m     \u001b[38;5;28mself\u001b[39m,\n\u001b[0;32m   3221\u001b[0m     line_length\u001b[38;5;241m=\u001b[39mline_length,\n\u001b[1;32m   (...)\u001b[0m\n\u001b[0;32m   3226\u001b[0m     layer_range\u001b[38;5;241m=\u001b[39mlayer_range,\n\u001b[0;32m   3227\u001b[0m )\n",
      "\u001b[1;31mValueError\u001b[0m: This model has not yet been built. Build the model first by calling `build()` or by calling the model on a batch of data."
     ]
    }
   ],
   "source": [
    "# model.summary()\n",
    "# # Model.summary()\n",
    "# # print('\\n\\n')\n",
    "# # Model2.summary()\n",
    "# # print('\\n\\n')\n",
    "# # Model3.summary()"
   ]
  },
  {
   "cell_type": "code",
   "execution_count": 485,
   "id": "a40defd6",
   "metadata": {},
   "outputs": [
    {
     "data": {
      "text/plain": [
       "(3234, 50, 50, 3)"
      ]
     },
     "execution_count": 485,
     "metadata": {},
     "output_type": "execute_result"
    }
   ],
   "source": [
    "X_train.shape"
   ]
  },
  {
   "cell_type": "code",
   "execution_count": 490,
   "id": "ddfe9946",
   "metadata": {},
   "outputs": [
    {
     "data": {
      "text/plain": [
       "(3234,)"
      ]
     },
     "execution_count": 490,
     "metadata": {},
     "output_type": "execute_result"
    }
   ],
   "source": [
    "# 요걸 출력하면 안되는 것.\n",
    "# -> y_train.shape"
   ]
  },
  {
   "cell_type": "code",
   "execution_count": 487,
   "id": "c19a5067",
   "metadata": {},
   "outputs": [
    {
     "data": {
      "text/plain": [
       "<matplotlib.image.AxesImage at 0x239baa6c820>"
      ]
     },
     "execution_count": 487,
     "metadata": {},
     "output_type": "execute_result"
    },
    {
     "data": {
      "image/png": "[encoded data removed]",
      "text/plain": [
       "<Figure size 432x288 with 1 Axes>"
      ]
     },
     "metadata": {
      "needs_background": "light"
     },
     "output_type": "display_data"
    }
   ],
   "source": [
    "plt.imshow(X_train[0])"
   ]
  },
  {
   "cell_type": "code",
   "execution_count": 494,
   "id": "1343a7f1",
   "metadata": {
    "collapsed": true
   },
   "outputs": [
    {
     "ename": "ValueError",
     "evalue": "This model has not yet been built. Build the model first by calling `build()` or by calling the model on a batch of data.",
     "output_type": "error",
     "traceback": [
      "\u001b[1;31m---------------------------------------------------------------------------\u001b[0m",
      "\u001b[1;31mValueError\u001b[0m                                Traceback (most recent call last)",
      "Input \u001b[1;32mIn [494]\u001b[0m, in \u001b[0;36m<cell line: 2>\u001b[1;34m()\u001b[0m\n\u001b[0;32m      1\u001b[0m \u001b[38;5;28;01mfrom\u001b[39;00m \u001b[38;5;21;01mtensorflow\u001b[39;00m\u001b[38;5;21;01m.\u001b[39;00m\u001b[38;5;21;01mkeras\u001b[39;00m\u001b[38;5;21;01m.\u001b[39;00m\u001b[38;5;21;01mutils\u001b[39;00m \u001b[38;5;28;01mimport\u001b[39;00m plot_model\n\u001b[1;32m----> 2\u001b[0m \u001b[43mplot_model\u001b[49m\u001b[43m(\u001b[49m\u001b[43mmodel\u001b[49m\u001b[43m,\u001b[49m\u001b[43m \u001b[49m\u001b[43mshow_shapes\u001b[49m\u001b[38;5;241;43m=\u001b[39;49m\u001b[38;5;28;43;01mTrue\u001b[39;49;00m\u001b[43m)\u001b[49m\n",
      "File \u001b[1;32m~\\AppData\\Roaming\\Python\\Python39\\site-packages\\keras\\utils\\vis_utils.py:430\u001b[0m, in \u001b[0;36mplot_model\u001b[1;34m(model, to_file, show_shapes, show_dtype, show_layer_names, rankdir, expand_nested, dpi, layer_range, show_layer_activations)\u001b[0m\n\u001b[0;32m    379\u001b[0m \u001b[38;5;124;03m\"\"\"Converts a Keras model to dot format and save to a file.\u001b[39;00m\n\u001b[0;32m    380\u001b[0m \n\u001b[0;32m    381\u001b[0m \u001b[38;5;124;03mExample:\u001b[39;00m\n\u001b[1;32m   (...)\u001b[0m\n\u001b[0;32m    426\u001b[0m \u001b[38;5;124;03m  This enables in-line display of the model plots in notebooks.\u001b[39;00m\n\u001b[0;32m    427\u001b[0m \u001b[38;5;124;03m\"\"\"\u001b[39;00m\n\u001b[0;32m    429\u001b[0m \u001b[38;5;28;01mif\u001b[39;00m \u001b[38;5;129;01mnot\u001b[39;00m model\u001b[38;5;241m.\u001b[39mbuilt:\n\u001b[1;32m--> 430\u001b[0m     \u001b[38;5;28;01mraise\u001b[39;00m \u001b[38;5;167;01mValueError\u001b[39;00m(\n\u001b[0;32m    431\u001b[0m         \u001b[38;5;124m\"\u001b[39m\u001b[38;5;124mThis model has not yet been built. \u001b[39m\u001b[38;5;124m\"\u001b[39m\n\u001b[0;32m    432\u001b[0m         \u001b[38;5;124m\"\u001b[39m\u001b[38;5;124mBuild the model first by calling `build()` or by calling \u001b[39m\u001b[38;5;124m\"\u001b[39m\n\u001b[0;32m    433\u001b[0m         \u001b[38;5;124m\"\u001b[39m\u001b[38;5;124mthe model on a batch of data.\u001b[39m\u001b[38;5;124m\"\u001b[39m\n\u001b[0;32m    434\u001b[0m     )\n\u001b[0;32m    436\u001b[0m \u001b[38;5;28;01mif\u001b[39;00m \u001b[38;5;129;01mnot\u001b[39;00m check_graphviz():\n\u001b[0;32m    437\u001b[0m     message \u001b[38;5;241m=\u001b[39m (\n\u001b[0;32m    438\u001b[0m         \u001b[38;5;124m\"\u001b[39m\u001b[38;5;124mYou must install pydot (`pip install pydot`) \u001b[39m\u001b[38;5;124m\"\u001b[39m\n\u001b[0;32m    439\u001b[0m         \u001b[38;5;124m\"\u001b[39m\u001b[38;5;124mand install graphviz \u001b[39m\u001b[38;5;124m\"\u001b[39m\n\u001b[0;32m    440\u001b[0m         \u001b[38;5;124m\"\u001b[39m\u001b[38;5;124m(see instructions at https://graphviz.gitlab.io/download/) \u001b[39m\u001b[38;5;124m\"\u001b[39m\n\u001b[0;32m    441\u001b[0m         \u001b[38;5;124m\"\u001b[39m\u001b[38;5;124mfor plot_model to work.\u001b[39m\u001b[38;5;124m\"\u001b[39m\n\u001b[0;32m    442\u001b[0m     )\n",
      "\u001b[1;31mValueError\u001b[0m: This model has not yet been built. Build the model first by calling `build()` or by calling the model on a batch of data."
     ]
    }
   ],
   "source": [
    "# from tensorflow.keras.utils import plot_model\n",
    "# plot_model(model, show_shapes=True)"
   ]
  },
  {
   "cell_type": "markdown",
   "id": "8a60e02b",
   "metadata": {},
   "source": [
    "## [4] 학습\n",
    "---"
   ]
  },
  {
   "cell_type": "code",
   "execution_count": 498,
   "id": "8f62db38",
   "metadata": {},
   "outputs": [
    {
     "name": "stdout",
     "output_type": "stream",
     "text": [
      "Epoch 1/10\n",
      "WARNING:tensorflow:Using a while_loop for converting RngReadAndSkip cause there is no registered converter for this op.\n",
      "WARNING:tensorflow:Using a while_loop for converting Bitcast cause there is no registered converter for this op.\n",
      "WARNING:tensorflow:Using a while_loop for converting Bitcast cause there is no registered converter for this op.\n",
      "WARNING:tensorflow:Using a while_loop for converting StatelessRandomUniformV2 cause there is no registered converter for this op.\n",
      "WARNING:tensorflow:Using a while_loop for converting ImageProjectiveTransformV3 cause there is no registered converter for this op.\n",
      "WARNING:tensorflow:Using a while_loop for converting RngReadAndSkip cause there is no registered converter for this op.\n",
      "WARNING:tensorflow:Using a while_loop for converting Bitcast cause there is no registered converter for this op.\n",
      "WARNING:tensorflow:Using a while_loop for converting Bitcast cause there is no registered converter for this op.\n",
      "WARNING:tensorflow:Using a while_loop for converting StatelessRandomUniformV2 cause there is no registered converter for this op.\n",
      "WARNING:tensorflow:Using a while_loop for converting ImageProjectiveTransformV3 cause there is no registered converter for this op.\n",
      "WARNING:tensorflow:Using a while_loop for converting RngReadAndSkip cause there is no registered converter for this op.\n",
      "WARNING:tensorflow:Using a while_loop for converting Bitcast cause there is no registered converter for this op.\n",
      "WARNING:tensorflow:Using a while_loop for converting Bitcast cause there is no registered converter for this op.\n",
      "WARNING:tensorflow:Using a while_loop for converting StatelessRandomUniformV2 cause there is no registered converter for this op.\n",
      "WARNING:tensorflow:Using a while_loop for converting ImageProjectiveTransformV3 cause there is no registered converter for this op.\n",
      "102/102 [==============================] - 8s 55ms/step - loss: 0.5878 - accuracy: 0.3287\n",
      "Epoch 2/10\n",
      "102/102 [==============================] - 5s 53ms/step - loss: 0.5011 - accuracy: 0.3563\n",
      "Epoch 3/10\n",
      "102/102 [==============================] - 5s 53ms/step - loss: 0.5039 - accuracy: 0.3539\n",
      "Epoch 4/10\n",
      "102/102 [==============================] - 5s 52ms/step - loss: 0.4943 - accuracy: 0.3572\n",
      "Epoch 5/10\n",
      "102/102 [==============================] - 5s 53ms/step - loss: 0.4898 - accuracy: 0.3584\n",
      "Epoch 6/10\n",
      "102/102 [==============================] - 6s 54ms/step - loss: 0.4883 - accuracy: 0.3581\n",
      "Epoch 7/10\n",
      "102/102 [==============================] - 6s 54ms/step - loss: 0.4859 - accuracy: 0.3589\n",
      "Epoch 8/10\n",
      "102/102 [==============================] - 5s 54ms/step - loss: 0.4867 - accuracy: 0.3584\n",
      "Epoch 9/10\n",
      "102/102 [==============================] - 6s 54ms/step - loss: 0.4863 - accuracy: 0.3584\n",
      "Epoch 10/10\n",
      "102/102 [==============================] - 6s 55ms/step - loss: 0.4854 - accuracy: 0.3582\n"
     ]
    },
    {
     "data": {
      "text/plain": [
       "<keras.callbacks.History at 0x239cec3a070>"
      ]
     },
     "execution_count": 498,
     "metadata": {},
     "output_type": "execute_result"
    }
   ],
   "source": [
    "model.fit(X_train, X_train, epochs=10)"
   ]
  },
  {
   "cell_type": "markdown",
   "id": "4905568c",
   "metadata": {},
   "source": [
    "## [5] 평가\n",
    "---"
   ]
  },
  {
   "cell_type": "code",
   "execution_count": 507,
   "id": "c07e09b1",
   "metadata": {},
   "outputs": [
    {
     "name": "stdout",
     "output_type": "stream",
     "text": [
      "102/102 [==============================] - 2s 17ms/step - loss: -14.1792 - accuracy: 0.0293\n",
      "34/34 [==============================] - 1s 17ms/step - loss: -14.2072 - accuracy: 0.0297\n"
     ]
    },
    {
     "data": {
      "text/plain": [
       "[-14.207195281982422, 0.029743889346718788]"
      ]
     },
     "execution_count": 507,
     "metadata": {},
     "output_type": "execute_result"
    }
   ],
   "source": [
    "model.evaluate(X_train, y_train)\n",
    "model.evaluate(X_test, y_test)"
   ]
  },
  {
   "cell_type": "code",
   "execution_count": 505,
   "id": "9c531cdb",
   "metadata": {},
   "outputs": [
    {
     "data": {
      "text/plain": [
       "(50, 50, 3)"
      ]
     },
     "execution_count": 505,
     "metadata": {},
     "output_type": "execute_result"
    }
   ],
   "source": [
    "X_train[0].shape"
   ]
  },
  {
   "cell_type": "markdown",
   "id": "549e0ead",
   "metadata": {},
   "source": [
    "## [6] 예측\n",
    "---"
   ]
  },
  {
   "cell_type": "code",
   "execution_count": 500,
   "id": "1e13e8fb",
   "metadata": {},
   "outputs": [
    {
     "name": "stdout",
     "output_type": "stream",
     "text": [
      "34/34 [==============================] - 0s 5ms/step\n"
     ]
    }
   ],
   "source": [
    "predicted = model.predict(X_test)"
   ]
  },
  {
   "cell_type": "code",
   "execution_count": 504,
   "id": "574087db",
   "metadata": {},
   "outputs": [
    {
     "data": {
      "text/plain": [
       "(1078, 50, 50, 3)"
      ]
     },
     "execution_count": 504,
     "metadata": {},
     "output_type": "execute_result"
    }
   ],
   "source": [
    "X_test.shape"
   ]
  },
  {
   "cell_type": "markdown",
   "id": "303ad580",
   "metadata": {},
   "source": [
    "### [6-1] 정답확인 (테스트셋)\n",
    "---"
   ]
  },
  {
   "cell_type": "code",
   "execution_count": 501,
   "id": "07a8e2b5",
   "metadata": {},
   "outputs": [
    {
     "data": {
      "text/html": [
       "<div>\n",
       "<style scoped>\n",
       "    .dataframe tbody tr th:only-of-type {\n",
       "        vertical-align: middle;\n",
       "    }\n",
       "\n",
       "    .dataframe tbody tr th {\n",
       "        vertical-align: top;\n",
       "    }\n",
       "\n",
       "    .dataframe thead th {\n",
       "        text-align: right;\n",
       "    }\n",
       "</style>\n",
       "<table border=\"1\" class=\"dataframe\">\n",
       "  <thead>\n",
       "    <tr style=\"text-align: right;\">\n",
       "      <th></th>\n",
       "      <th>Brand</th>\n",
       "      <th>Label</th>\n",
       "    </tr>\n",
       "  </thead>\n",
       "  <tbody>\n",
       "    <tr>\n",
       "      <th>0</th>\n",
       "      <td>angelinus</td>\n",
       "      <td>0</td>\n",
       "    </tr>\n",
       "    <tr>\n",
       "      <th>1</th>\n",
       "      <td>banolim</td>\n",
       "      <td>1</td>\n",
       "    </tr>\n",
       "    <tr>\n",
       "      <th>2</th>\n",
       "      <td>bbackdabang</td>\n",
       "      <td>2</td>\n",
       "    </tr>\n",
       "    <tr>\n",
       "      <th>3</th>\n",
       "      <td>benz</td>\n",
       "      <td>3</td>\n",
       "    </tr>\n",
       "    <tr>\n",
       "      <th>4</th>\n",
       "      <td>bmw</td>\n",
       "      <td>4</td>\n",
       "    </tr>\n",
       "    <tr>\n",
       "      <th>5</th>\n",
       "      <td>crown</td>\n",
       "      <td>5</td>\n",
       "    </tr>\n",
       "    <tr>\n",
       "      <th>6</th>\n",
       "      <td>cw</td>\n",
       "      <td>6</td>\n",
       "    </tr>\n",
       "    <tr>\n",
       "      <th>7</th>\n",
       "      <td>debec</td>\n",
       "      <td>7</td>\n",
       "    </tr>\n",
       "    <tr>\n",
       "      <th>8</th>\n",
       "      <td>domino</td>\n",
       "      <td>8</td>\n",
       "    </tr>\n",
       "    <tr>\n",
       "      <th>9</th>\n",
       "      <td>ediya</td>\n",
       "      <td>9</td>\n",
       "    </tr>\n",
       "    <tr>\n",
       "      <th>10</th>\n",
       "      <td>galleria</td>\n",
       "      <td>10</td>\n",
       "    </tr>\n",
       "    <tr>\n",
       "      <th>11</th>\n",
       "      <td>haitai</td>\n",
       "      <td>11</td>\n",
       "    </tr>\n",
       "    <tr>\n",
       "      <th>12</th>\n",
       "      <td>hyundai</td>\n",
       "      <td>12</td>\n",
       "    </tr>\n",
       "    <tr>\n",
       "      <th>13</th>\n",
       "      <td>hyundai_car</td>\n",
       "      <td>13</td>\n",
       "    </tr>\n",
       "    <tr>\n",
       "      <th>14</th>\n",
       "      <td>lotte</td>\n",
       "      <td>14</td>\n",
       "    </tr>\n",
       "    <tr>\n",
       "      <th>15</th>\n",
       "      <td>lotteJ</td>\n",
       "      <td>15</td>\n",
       "    </tr>\n",
       "    <tr>\n",
       "      <th>16</th>\n",
       "      <td>mrpizza</td>\n",
       "      <td>16</td>\n",
       "    </tr>\n",
       "    <tr>\n",
       "      <th>17</th>\n",
       "      <td>nongsim</td>\n",
       "      <td>17</td>\n",
       "    </tr>\n",
       "    <tr>\n",
       "      <th>18</th>\n",
       "      <td>orin</td>\n",
       "      <td>18</td>\n",
       "    </tr>\n",
       "    <tr>\n",
       "      <th>19</th>\n",
       "      <td>papazons</td>\n",
       "      <td>19</td>\n",
       "    </tr>\n",
       "    <tr>\n",
       "      <th>20</th>\n",
       "      <td>pizzahut</td>\n",
       "      <td>20</td>\n",
       "    </tr>\n",
       "    <tr>\n",
       "      <th>21</th>\n",
       "      <td>porche</td>\n",
       "      <td>21</td>\n",
       "    </tr>\n",
       "    <tr>\n",
       "      <th>22</th>\n",
       "      <td>shinsegae</td>\n",
       "      <td>22</td>\n",
       "    </tr>\n",
       "    <tr>\n",
       "      <th>23</th>\n",
       "      <td>starbucks</td>\n",
       "      <td>23</td>\n",
       "    </tr>\n",
       "    <tr>\n",
       "      <th>24</th>\n",
       "      <td>toyota</td>\n",
       "      <td>24</td>\n",
       "    </tr>\n",
       "    <tr>\n",
       "      <th>25</th>\n",
       "      <td>twosomeplace</td>\n",
       "      <td>25</td>\n",
       "    </tr>\n",
       "  </tbody>\n",
       "</table>\n",
       "</div>"
      ],
      "text/plain": [
       "           Brand  Label\n",
       "0      angelinus      0\n",
       "1        banolim      1\n",
       "2    bbackdabang      2\n",
       "3           benz      3\n",
       "4            bmw      4\n",
       "5          crown      5\n",
       "6             cw      6\n",
       "7          debec      7\n",
       "8         domino      8\n",
       "9          ediya      9\n",
       "10      galleria     10\n",
       "11        haitai     11\n",
       "12       hyundai     12\n",
       "13   hyundai_car     13\n",
       "14         lotte     14\n",
       "15        lotteJ     15\n",
       "16       mrpizza     16\n",
       "17       nongsim     17\n",
       "18          orin     18\n",
       "19      papazons     19\n",
       "20      pizzahut     20\n",
       "21        porche     21\n",
       "22     shinsegae     22\n",
       "23     starbucks     23\n",
       "24        toyota     24\n",
       "25  twosomeplace     25"
      ]
     },
     "execution_count": 501,
     "metadata": {},
     "output_type": "execute_result"
    }
   ],
   "source": [
    "# 1) 정답지 DF로 만들기\n",
    "label = pd.read_csv('target.csv')\n",
    "df = pd.DataFrame(label.name.unique())\n",
    "df['label'] = label.label.unique()\n",
    "df.columns = ['Brand', 'Label']\n",
    "df"
   ]
  },
  {
   "cell_type": "code",
   "execution_count": 502,
   "id": "ada98620",
   "metadata": {},
   "outputs": [
    {
     "name": "stdout",
     "output_type": "stream",
     "text": [
      "X_test 0 : 350\n",
      "y_test 0 : 19\n",
      "       Brand  Label\n",
      "19  papazons     19\n",
      "\n",
      "X_test 1 : 2400\n",
      "y_test 1 : 4\n",
      "  Brand  Label\n",
      "4   bmw      4\n",
      "\n",
      "X_test 2 : 2400\n",
      "y_test 2 : 14\n",
      "    Brand  Label\n",
      "14  lotte     14\n",
      "\n",
      "X_test 3 : 2400\n",
      "y_test 3 : 11\n",
      "     Brand  Label\n",
      "11  haitai     11\n",
      "\n",
      "X_test 4 : 1687\n",
      "y_test 4 : 16\n",
      "      Brand  Label\n",
      "16  mrpizza     16\n",
      "\n",
      "X_test 5 : 2400\n",
      "y_test 5 : 1\n",
      "     Brand  Label\n",
      "1  banolim      1\n",
      "\n",
      "X_test 6 : 1378\n",
      "y_test 6 : 14\n",
      "    Brand  Label\n",
      "14  lotte     14\n",
      "\n",
      "X_test 7 : 1350\n",
      "y_test 7 : 12\n",
      "      Brand  Label\n",
      "12  hyundai     12\n",
      "\n",
      "X_test 8 : 2400\n",
      "y_test 8 : 9\n",
      "   Brand  Label\n",
      "9  ediya      9\n",
      "\n"
     ]
    }
   ],
   "source": [
    "# 2) X_test와 그 결과(y_test)\n",
    "# for i in range(len(X_test)):\n",
    "for i in range(9):\n",
    "    print(f'X_test ' + str(i) + f' : {predicted[i].argmax()}')\n",
    "    print(f'y_test ' + str(i) + f' : {y_test[i]}')\n",
    "    print(f\"{df[df['Label'] == y_test[i]]}\\n\")"
   ]
  },
  {
   "cell_type": "code",
   "execution_count": 503,
   "id": "0f6aa3b7",
   "metadata": {},
   "outputs": [
    {
     "data": {
      "image/png": "[encoded data removed]",
      "text/plain": [
       "<Figure size 360x360 with 9 Axes>"
      ]
     },
     "metadata": {
      "needs_background": "light"
     },
     "output_type": "display_data"
    }
   ],
   "source": [
    "plt.figure(figsize=(5, 5))\n",
    "for i in range(9):\n",
    "    ax = plt.subplot(3, 3, i + 1)\n",
    "    plt.imshow(X_test[i].reshape(50,50,3))\n",
    "    plt.axis(\"off\")    "
   ]
  },
  {
   "cell_type": "code",
   "execution_count": null,
   "id": "b9852566",
   "metadata": {},
   "outputs": [],
   "source": []
  },
  {
   "cell_type": "code",
   "execution_count": 427,
   "id": "1f92f89c",
   "metadata": {},
   "outputs": [
    {
     "data": {
      "text/plain": [
       "<matplotlib.image.AxesImage at 0x239ced96b20>"
      ]
     },
     "execution_count": 427,
     "metadata": {},
     "output_type": "execute_result"
    },
    {
     "data": {
      "image/png": "[encoded data removed]",
      "text/plain": [
       "<Figure size 432x288 with 1 Axes>"
      ]
     },
     "metadata": {
      "needs_background": "light"
     },
     "output_type": "display_data"
    }
   ],
   "source": [
    "import PIL.Image as pilimg\n",
    "imgTest1 = pilimg.open('./testImg/test1.png')\n",
    "# imgTest1.show()\n",
    "imgTest1 = np.array(imgTest1)\n",
    "\n",
    "%matplotlib inline \n",
    "plt.imshow(imgTest1)"
   ]
  },
  {
   "cell_type": "code",
   "execution_count": 428,
   "id": "10fd3d4a",
   "metadata": {},
   "outputs": [
    {
     "data": {
      "text/plain": [
       "(50, 50)"
      ]
     },
     "execution_count": 428,
     "metadata": {},
     "output_type": "execute_result"
    }
   ],
   "source": [
    "imgTest1.shape"
   ]
  },
  {
   "cell_type": "code",
   "execution_count": 429,
   "id": "a16e2449",
   "metadata": {},
   "outputs": [
    {
     "name": "stdout",
     "output_type": "stream",
     "text": [
      "WARNING:tensorflow:Model was constructed with shape (None, 7500) for input KerasTensor(type_spec=TensorSpec(shape=(None, 7500), dtype=tf.float32, name='dense_160_input'), name='dense_160_input', description=\"created by layer 'dense_160_input'\"), but it was called on an input with incompatible shape (None,).\n"
     ]
    },
    {
     "ename": "ValueError",
     "evalue": "in user code:\n\n    File \"C:\\Users\\ahasu\\AppData\\Roaming\\Python\\Python39\\site-packages\\keras\\engine\\training.py\", line 2041, in predict_function  *\n        return step_function(self, iterator)\n    File \"C:\\Users\\ahasu\\AppData\\Roaming\\Python\\Python39\\site-packages\\keras\\engine\\training.py\", line 2027, in step_function  **\n        outputs = model.distribute_strategy.run(run_step, args=(data,))\n    File \"C:\\Users\\ahasu\\AppData\\Roaming\\Python\\Python39\\site-packages\\keras\\engine\\training.py\", line 2015, in run_step  **\n        outputs = model.predict_step(data)\n    File \"C:\\Users\\ahasu\\AppData\\Roaming\\Python\\Python39\\site-packages\\keras\\engine\\training.py\", line 1983, in predict_step\n        return self(x, training=False)\n    File \"C:\\Users\\ahasu\\AppData\\Roaming\\Python\\Python39\\site-packages\\keras\\utils\\traceback_utils.py\", line 70, in error_handler\n        raise e.with_traceback(filtered_tb) from None\n    File \"C:\\Users\\ahasu\\AppData\\Roaming\\Python\\Python39\\site-packages\\keras\\engine\\input_spec.py\", line 250, in assert_input_compatibility\n        raise ValueError(\n\n    ValueError: Exception encountered when calling layer \"sequential_21\" \"                 f\"(type Sequential).\n    \n    Input 0 of layer \"dense_160\" is incompatible with the layer: expected min_ndim=2, found ndim=1. Full shape received: (None,)\n    \n    Call arguments received by layer \"sequential_21\" \"                 f\"(type Sequential):\n      • inputs=tf.Tensor(shape=(None,), dtype=uint8)\n      • training=False\n      • mask=None\n",
     "output_type": "error",
     "traceback": [
      "\u001b[1;31m---------------------------------------------------------------------------\u001b[0m",
      "\u001b[1;31mValueError\u001b[0m                                Traceback (most recent call last)",
      "Input \u001b[1;32mIn [429]\u001b[0m, in \u001b[0;36m<cell line: 3>\u001b[1;34m()\u001b[0m\n\u001b[0;32m      1\u001b[0m img\u001b[38;5;241m=\u001b[39mnp\u001b[38;5;241m.\u001b[39marray(pilimg\u001b[38;5;241m.\u001b[39mopen(\u001b[38;5;124m'\u001b[39m\u001b[38;5;124m./testImg/test1.png\u001b[39m\u001b[38;5;124m'\u001b[39m)\u001b[38;5;241m.\u001b[39mconvert(\u001b[38;5;124m'\u001b[39m\u001b[38;5;124mRGB\u001b[39m\u001b[38;5;124m'\u001b[39m))\n\u001b[0;32m      2\u001b[0m \u001b[38;5;66;03m# img.reshape(50*50*3,).shape\u001b[39;00m\n\u001b[1;32m----> 3\u001b[0m preTest \u001b[38;5;241m=\u001b[39m \u001b[43mmodel\u001b[49m\u001b[38;5;241;43m.\u001b[39;49m\u001b[43mpredict\u001b[49m\u001b[43m(\u001b[49m\u001b[43mimg\u001b[49m\u001b[38;5;241;43m.\u001b[39;49m\u001b[43mreshape\u001b[49m\u001b[43m(\u001b[49m\u001b[38;5;241;43m50\u001b[39;49m\u001b[38;5;241;43m*\u001b[39;49m\u001b[38;5;241;43m50\u001b[39;49m\u001b[38;5;241;43m*\u001b[39;49m\u001b[38;5;241;43m3\u001b[39;49m\u001b[43m,\u001b[49m\u001b[43m)\u001b[49m\u001b[43m)\u001b[49m\n",
      "File \u001b[1;32m~\\AppData\\Roaming\\Python\\Python39\\site-packages\\keras\\utils\\traceback_utils.py:70\u001b[0m, in \u001b[0;36mfilter_traceback.<locals>.error_handler\u001b[1;34m(*args, **kwargs)\u001b[0m\n\u001b[0;32m     67\u001b[0m     filtered_tb \u001b[38;5;241m=\u001b[39m _process_traceback_frames(e\u001b[38;5;241m.\u001b[39m__traceback__)\n\u001b[0;32m     68\u001b[0m     \u001b[38;5;66;03m# To get the full stack trace, call:\u001b[39;00m\n\u001b[0;32m     69\u001b[0m     \u001b[38;5;66;03m# `tf.debugging.disable_traceback_filtering()`\u001b[39;00m\n\u001b[1;32m---> 70\u001b[0m     \u001b[38;5;28;01mraise\u001b[39;00m e\u001b[38;5;241m.\u001b[39mwith_traceback(filtered_tb) \u001b[38;5;28;01mfrom\u001b[39;00m \u001b[38;5;28mNone\u001b[39m\n\u001b[0;32m     71\u001b[0m \u001b[38;5;28;01mfinally\u001b[39;00m:\n\u001b[0;32m     72\u001b[0m     \u001b[38;5;28;01mdel\u001b[39;00m filtered_tb\n",
      "File \u001b[1;32m~\\AppData\\Local\\Temp\\__autograph_generated_filek543i71_.py:15\u001b[0m, in \u001b[0;36mouter_factory.<locals>.inner_factory.<locals>.tf__predict_function\u001b[1;34m(iterator)\u001b[0m\n\u001b[0;32m     13\u001b[0m \u001b[38;5;28;01mtry\u001b[39;00m:\n\u001b[0;32m     14\u001b[0m     do_return \u001b[38;5;241m=\u001b[39m \u001b[38;5;28;01mTrue\u001b[39;00m\n\u001b[1;32m---> 15\u001b[0m     retval_ \u001b[38;5;241m=\u001b[39m ag__\u001b[38;5;241m.\u001b[39mconverted_call(ag__\u001b[38;5;241m.\u001b[39mld(step_function), (ag__\u001b[38;5;241m.\u001b[39mld(\u001b[38;5;28mself\u001b[39m), ag__\u001b[38;5;241m.\u001b[39mld(iterator)), \u001b[38;5;28;01mNone\u001b[39;00m, fscope)\n\u001b[0;32m     16\u001b[0m \u001b[38;5;28;01mexcept\u001b[39;00m:\n\u001b[0;32m     17\u001b[0m     do_return \u001b[38;5;241m=\u001b[39m \u001b[38;5;28;01mFalse\u001b[39;00m\n",
      "\u001b[1;31mValueError\u001b[0m: in user code:\n\n    File \"C:\\Users\\ahasu\\AppData\\Roaming\\Python\\Python39\\site-packages\\keras\\engine\\training.py\", line 2041, in predict_function  *\n        return step_function(self, iterator)\n    File \"C:\\Users\\ahasu\\AppData\\Roaming\\Python\\Python39\\site-packages\\keras\\engine\\training.py\", line 2027, in step_function  **\n        outputs = model.distribute_strategy.run(run_step, args=(data,))\n    File \"C:\\Users\\ahasu\\AppData\\Roaming\\Python\\Python39\\site-packages\\keras\\engine\\training.py\", line 2015, in run_step  **\n        outputs = model.predict_step(data)\n    File \"C:\\Users\\ahasu\\AppData\\Roaming\\Python\\Python39\\site-packages\\keras\\engine\\training.py\", line 1983, in predict_step\n        return self(x, training=False)\n    File \"C:\\Users\\ahasu\\AppData\\Roaming\\Python\\Python39\\site-packages\\keras\\utils\\traceback_utils.py\", line 70, in error_handler\n        raise e.with_traceback(filtered_tb) from None\n    File \"C:\\Users\\ahasu\\AppData\\Roaming\\Python\\Python39\\site-packages\\keras\\engine\\input_spec.py\", line 250, in assert_input_compatibility\n        raise ValueError(\n\n    ValueError: Exception encountered when calling layer \"sequential_21\" \"                 f\"(type Sequential).\n    \n    Input 0 of layer \"dense_160\" is incompatible with the layer: expected min_ndim=2, found ndim=1. Full shape received: (None,)\n    \n    Call arguments received by layer \"sequential_21\" \"                 f\"(type Sequential):\n      • inputs=tf.Tensor(shape=(None,), dtype=uint8)\n      • training=False\n      • mask=None\n"
     ]
    }
   ],
   "source": [
    "img=np.array(pilimg.open('./testImg/test1.png').convert('RGB'))\n",
    "# img.reshape(50*50*3,).shape\n",
    "preTest = model.predict(img.reshape(50*50*3,))\n",
    "# preTest.round(2), preTest.shape"
   ]
  },
  {
   "cell_type": "code",
   "execution_count": null,
   "id": "50ad3e27",
   "metadata": {},
   "outputs": [],
   "source": []
  },
  {
   "cell_type": "code",
   "execution_count": null,
   "id": "c013c24f",
   "metadata": {},
   "outputs": [],
   "source": []
  }
 ],
 "metadata": {
  "kernelspec": {
   "display_name": "Python 3 (ipykernel)",
   "language": "python",
   "name": "python3"
  },
  "language_info": {
   "codemirror_mode": {
    "name": "ipython",
    "version": 3
   },
   "file_extension": ".py",
   "mimetype": "text/x-python",
   "name": "python",
   "nbconvert_exporter": "python",
   "pygments_lexer": "ipython3",
   "version": "3.9.12"
  }
 },
 "nbformat": 4,
 "nbformat_minor": 5
}

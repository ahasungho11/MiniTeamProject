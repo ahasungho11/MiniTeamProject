{
 "cells": [
  {
   "cell_type": "markdown",
   "id": "daa501aa",
   "metadata": {},
   "source": [
    "# 브랜드 로고 예측하기 _ DNN (허채범)"
   ]
  },
  {
   "cell_type": "code",
   "execution_count": 793,
   "id": "223ab3ac",
   "metadata": {},
   "outputs": [],
   "source": [
    "# 모듈 로딩\n",
    "from urllib.request import urlopen,Request,urlretrieve\n",
    "from bs4 import BeautifulSoup\n",
    "from selenium import webdriver\n",
    "from PIL import Image\n",
    "from sklearn.model_selection import train_test_split\n",
    "import matplotlib.pyplot as plt\n",
    "import os\n",
    "import cv2\n",
    "import numpy as np \n",
    "import pandas as pd\n",
    "import warnings\n",
    "warnings.filterwarnings(action='ignore')\n",
    "\n",
    "import tensorflow as tf\n",
    "from tensorflow.keras import Sequential, models, layers, regularizers\n",
    "from tensorflow.keras.layers import Dense, Dropout, Flatten, Conv2D, MaxPool2D, BatchNormalization"
   ]
  },
  {
   "cell_type": "markdown",
   "id": "d38848b1",
   "metadata": {},
   "source": [
    "## * 이미지 회전 시키기 => 데이터 증식"
   ]
  },
  {
   "cell_type": "code",
   "execution_count": 794,
   "id": "5526d38d",
   "metadata": {},
   "outputs": [],
   "source": [
    "# 크롤링 데이터 로테이션시키는 함수\n",
    "def rota_save(color,foldname):\n",
    "    # 폴더 만들기\n",
    "    if not os.path.exists('./'+foldname):\n",
    "        os.makedirs(foldname)\n",
    "    \n",
    "    rotation=[45,90,135,180,225,270,315]    # 로테이션 각도 (7가지)\n",
    "    for file in os.listdir('./data/'):\n",
    "        for rot in rotation:\n",
    "            img=np.array(Image.open('./data/'+file).convert(color))\n",
    "            rows,cols = img.shape[0:2]\n",
    "            ro_mt = cv2.getRotationMatrix2D((cols/2,rows/2),rot,1.42)\n",
    "            ro_img = cv2.warpAffine(img, ro_mt,(cols, rows))\n",
    "            \n",
    "            # 이미지 저장\n",
    "            filename=f\"{file}_ro{str(rot)}\"\n",
    "            cv2.imwrite('./'+foldname+'/'+filename+'.png',ro_img)"
   ]
  },
  {
   "cell_type": "code",
   "execution_count": 795,
   "id": "57895f49",
   "metadata": {},
   "outputs": [],
   "source": [
    "# 크롤링 데이터 convert 함수\n",
    "def data_con(color,foldname):\n",
    "    for file in os.listdir('./data/'):\n",
    "        img=Image.open('./data/'+file).convert(color).save('./'+foldname+'/'+file)"
   ]
  },
  {
   "cell_type": "code",
   "execution_count": 796,
   "id": "a9d333b1",
   "metadata": {},
   "outputs": [],
   "source": [
    "# 흑백으로 로테이션\n",
    "rota_save('L','blwh')\n",
    "\n",
    "# rgb로 로테이션\n",
    "rota_save('RGB','rgb')\n",
    "\n",
    "# 원본사진 흑백으로\n",
    "data_con('L','blwh')\n",
    "\n",
    "# 원본사진 색깔로\n",
    "data_con('RGB','rgb')"
   ]
  },
  {
   "cell_type": "markdown",
   "id": "5ec50149",
   "metadata": {},
   "source": [
    "## * 사진 데이터화 시키기"
   ]
  },
  {
   "cell_type": "code",
   "execution_count": 797,
   "id": "0a5f45d6",
   "metadata": {},
   "outputs": [],
   "source": [
    "# 사진 데이터화 시키기\n",
    "def transD(foldname):\n",
    "    l=[]\n",
    "    for i in os.listdir('./'+foldname+'/'):\n",
    "        n=np.array(Image.open('./'+foldname+'/'+i))/255.0\n",
    "        if foldname=='blwh':\n",
    "           n_list=n.reshape(-1,50*50)[0].tolist()\n",
    "        else:\n",
    "            n_list=n.reshape(-1,50*50*3)[0].tolist()\n",
    "        l.append(n_list)\n",
    "    return np.array(l)"
   ]
  },
  {
   "cell_type": "code",
   "execution_count": 798,
   "id": "6fdadc11",
   "metadata": {},
   "outputs": [],
   "source": [
    "# 전체 이미지 데이터화 (흑백)\n",
    "blwh=transD('blwh')\n",
    "\n",
    "# 전체 이미지 데이터화 (컬러)\n",
    "rgb=transD('rgb')\n",
    "\n",
    "# 이미지 확인\n",
    "# plt.imshow(blwh[3500].reshape(50,50,), cmap='gray')\n",
    "# plt.imshow(rgb[3500].reshape(50,50,3), cmap='gray')"
   ]
  },
  {
   "cell_type": "markdown",
   "id": "d8ffddde",
   "metadata": {},
   "source": [
    "## * input / target data 만들기"
   ]
  },
  {
   "cell_type": "code",
   "execution_count": 799,
   "id": "217e09b1",
   "metadata": {},
   "outputs": [],
   "source": [
    "# input data\n",
    "X1 = blwh  # 흑백\n",
    "X2 = rgb   # 컬러"
   ]
  },
  {
   "cell_type": "code",
   "execution_count": 800,
   "id": "a3a993a2",
   "metadata": {},
   "outputs": [
    {
     "data": {
      "text/plain": [
       "array([ 0,  0,  0, ..., 25, 25, 25], dtype=int64)"
      ]
     },
     "execution_count": 800,
     "metadata": {},
     "output_type": "execute_result"
    }
   ],
   "source": [
    "# target data\n",
    "label = pd.read_csv('target.csv')\n",
    "y = np.array(label.label)\n",
    "y"
   ]
  },
  {
   "cell_type": "markdown",
   "id": "dc907168",
   "metadata": {},
   "source": [
    "## * 데이터 분리\n",
    "---"
   ]
  },
  {
   "cell_type": "code",
   "execution_count": 801,
   "id": "b38a9ec6",
   "metadata": {},
   "outputs": [],
   "source": [
    "# 크롤링해서 받을 때 이미 /255.0을 해 준 상태 (0~1) 사이로 바뀌어 있음\n",
    "# 데이터가 적으므로 train, test 데이터만 분리\n",
    "X_train, X_test, y_train, y_test = train_test_split(X2, y, \n",
    "                                                    stratify = y,\n",
    "                                                    random_state=42, test_size=0.35)\n",
    "\n",
    "# X_train, X_val, y_train, y_val = train_test_split(X_train, y_train,\n",
    "#                                                   stratify = y_train,\n",
    "#                                                   random_state=42, test_size=0.2)"
   ]
  },
  {
   "cell_type": "code",
   "execution_count": 802,
   "id": "800e2dcf",
   "metadata": {
    "scrolled": true
   },
   "outputs": [
    {
     "name": "stdout",
     "output_type": "stream",
     "text": [
      "X_train.shape : (2802, 7500)\n",
      "X_test.shape  : (1510, 7500)\n",
      "y_train.shape : (2802,)\n",
      "y_test.shape  : (1510,)\n"
     ]
    }
   ],
   "source": [
    "# 이미 함수로 /255.0을 해서 0~1 사이에 있는 상태\n",
    "# reshape로 1차원으로 다 바뀌어져 있는 상태\n",
    "\n",
    "print(f'X_train.shape : {X_train.shape}')  # 학습용\n",
    "print(f'X_test.shape  : {X_test.shape}')   # 테스트용\n",
    "print(f'y_train.shape : {y_train.shape}')\n",
    "print(f'y_test.shape  : {y_test.shape}')"
   ]
  },
  {
   "cell_type": "markdown",
   "id": "7ec01332",
   "metadata": {},
   "source": [
    "# [ DNN ]"
   ]
  },
  {
   "cell_type": "markdown",
   "id": "74aa3157",
   "metadata": {},
   "source": [
    "## [1] 모델 구성 및 생성\n",
    "---"
   ]
  },
  {
   "cell_type": "code",
   "execution_count": 803,
   "id": "36db8982",
   "metadata": {},
   "outputs": [],
   "source": [
    "# 노드 수 조절하도록 모델 만드는 함수\n",
    "def createModel(n_node):\n",
    "    model = Sequential(name='snackBrand')\n",
    "    model.add( Dense(units=n_node, activation = 'relu', input_shape=(7500,)) )\n",
    "    model.add( BatchNormalization() )\n",
    "    model.add( Dense(300, activation = 'relu') )\n",
    "    \n",
    "    # model.add( Dense(500, activation = 'relu', kernel_regularizer = regularizers.l2(0.00001)) )\n",
    "    # Input data는 정규분포라고 하더라도 레이어를 거치고나면 정규분포가 아닐 수도 있음\n",
    "    # -> data를 정규화하여 활성화 함수를 통과하게 한다.\n",
    "    \n",
    "    model.add( Dense(300, activation = 'relu') )\n",
    "    model.add( Dense(300, activation = 'relu', kernel_regularizer = regularizers.l2(0.00001)) )\n",
    "    model.add( Dense(300, activation = 'relu') )\n",
    "    model.add( Dense(300, activation = 'relu', kernel_regularizer = regularizers.l2(0.00001)) ) \n",
    "    model.add( Dropout(0.2) )\n",
    "    \n",
    "#     model.add( Dense(500, activation = 'relu') )\n",
    "#     model.add( Dense(500, activation = 'relu') )\n",
    "#     model.add( Dense(250, activation = 'relu') )\n",
    "#     model.add( Dropout(0.2) )\n",
    "    \n",
    "    model.add( Dense(100, activation = 'relu') )\n",
    "    model.add( Dense(26, activation = 'softmax') )\n",
    "    model.compile(loss='sparse_categorical_crossentropy', optimizer = 'adam', metrics='accuracy')\n",
    "    return model"
   ]
  },
  {
   "cell_type": "code",
   "execution_count": 804,
   "id": "cde31d7a",
   "metadata": {},
   "outputs": [],
   "source": [
    "Model1 = createModel(100)\n",
    "Model2 = createModel(300)\n",
    "Model3 = createModel(500)"
   ]
  },
  {
   "cell_type": "markdown",
   "id": "619a438d",
   "metadata": {},
   "source": [
    "## [2] 모델 확인\n",
    "---"
   ]
  },
  {
   "cell_type": "code",
   "execution_count": 805,
   "id": "cba6455b",
   "metadata": {
    "scrolled": false
   },
   "outputs": [
    {
     "name": "stdout",
     "output_type": "stream",
     "text": [
      "Model: \"snackBrand\"\n",
      "_________________________________________________________________\n",
      " Layer (type)                Output Shape              Param #   \n",
      "=================================================================\n",
      " dense_809 (Dense)           (None, 500)               3750500   \n",
      "                                                                 \n",
      " batch_normalization_75 (Bat  (None, 500)              2000      \n",
      " chNormalization)                                                \n",
      "                                                                 \n",
      " dense_810 (Dense)           (None, 300)               150300    \n",
      "                                                                 \n",
      " dense_811 (Dense)           (None, 300)               90300     \n",
      "                                                                 \n",
      " dense_812 (Dense)           (None, 300)               90300     \n",
      "                                                                 \n",
      " dense_813 (Dense)           (None, 300)               90300     \n",
      "                                                                 \n",
      " dense_814 (Dense)           (None, 300)               90300     \n",
      "                                                                 \n",
      " dropout_134 (Dropout)       (None, 300)               0         \n",
      "                                                                 \n",
      " dense_815 (Dense)           (None, 100)               30100     \n",
      "                                                                 \n",
      " dense_816 (Dense)           (None, 26)                2626      \n",
      "                                                                 \n",
      "=================================================================\n",
      "Total params: 4,296,726\n",
      "Trainable params: 4,295,726\n",
      "Non-trainable params: 1,000\n",
      "_________________________________________________________________\n"
     ]
    }
   ],
   "source": [
    "# Model1.summary()\n",
    "# print('\\n\\n')\n",
    "# Model2.summary()\n",
    "# print('\\n\\n')\n",
    "Model3.summary()"
   ]
  },
  {
   "cell_type": "markdown",
   "id": "13759748",
   "metadata": {},
   "source": [
    "## [2-1] 모델 시각화\n",
    "---"
   ]
  },
  {
   "cell_type": "code",
   "execution_count": 806,
   "id": "1343a7f1",
   "metadata": {},
   "outputs": [],
   "source": [
    "from tensorflow.keras.utils import plot_model\n",
    "# plot_model(Model3, show_shapes=True)"
   ]
  },
  {
   "cell_type": "markdown",
   "id": "8a60e02b",
   "metadata": {},
   "source": [
    "## [3] 학습"
   ]
  },
  {
   "cell_type": "code",
   "execution_count": 807,
   "id": "8f62db38",
   "metadata": {},
   "outputs": [
    {
     "name": "stdout",
     "output_type": "stream",
     "text": [
      "Epoch 1/30\n",
      "88/88 [==============================] - 3s 17ms/step - loss: 2.8719 - accuracy: 0.1463\n",
      "Epoch 2/30\n",
      "88/88 [==============================] - 1s 17ms/step - loss: 2.4690 - accuracy: 0.2370\n",
      "Epoch 3/30\n",
      "88/88 [==============================] - 1s 17ms/step - loss: 2.1932 - accuracy: 0.3062\n",
      "Epoch 4/30\n",
      "88/88 [==============================] - 1s 17ms/step - loss: 2.0071 - accuracy: 0.3822\n",
      "Epoch 5/30\n",
      "88/88 [==============================] - 1s 17ms/step - loss: 1.8457 - accuracy: 0.4154\n",
      "Epoch 6/30\n",
      "88/88 [==============================] - 1s 17ms/step - loss: 1.7253 - accuracy: 0.4572\n",
      "Epoch 7/30\n",
      "88/88 [==============================] - 1s 17ms/step - loss: 1.6197 - accuracy: 0.4836\n",
      "Epoch 8/30\n",
      "88/88 [==============================] - 1s 16ms/step - loss: 1.4659 - accuracy: 0.5310\n",
      "Epoch 9/30\n",
      "88/88 [==============================] - 1s 17ms/step - loss: 1.4073 - accuracy: 0.5314\n",
      "Epoch 10/30\n",
      "88/88 [==============================] - 1s 16ms/step - loss: 1.3631 - accuracy: 0.5600\n",
      "Epoch 11/30\n",
      "88/88 [==============================] - 1s 17ms/step - loss: 1.3131 - accuracy: 0.5710\n",
      "Epoch 12/30\n",
      "88/88 [==============================] - 1s 17ms/step - loss: 1.2185 - accuracy: 0.5960\n",
      "Epoch 13/30\n",
      "88/88 [==============================] - 2s 17ms/step - loss: 1.1510 - accuracy: 0.6313\n",
      "Epoch 14/30\n",
      "88/88 [==============================] - 2s 18ms/step - loss: 1.1632 - accuracy: 0.6256\n",
      "Epoch 15/30\n",
      "88/88 [==============================] - 2s 18ms/step - loss: 1.0472 - accuracy: 0.6585\n",
      "Epoch 16/30\n",
      "88/88 [==============================] - 2s 17ms/step - loss: 1.0539 - accuracy: 0.6560\n",
      "Epoch 17/30\n",
      "88/88 [==============================] - 2s 17ms/step - loss: 1.0459 - accuracy: 0.6688\n",
      "Epoch 18/30\n",
      "88/88 [==============================] - 2s 18ms/step - loss: 0.9195 - accuracy: 0.7109\n",
      "Epoch 19/30\n",
      "88/88 [==============================] - 2s 17ms/step - loss: 0.8106 - accuracy: 0.7341\n",
      "Epoch 20/30\n",
      "88/88 [==============================] - 2s 17ms/step - loss: 0.7811 - accuracy: 0.7455\n",
      "Epoch 21/30\n",
      "88/88 [==============================] - 2s 18ms/step - loss: 0.7904 - accuracy: 0.7395\n",
      "Epoch 22/30\n",
      "88/88 [==============================] - 2s 18ms/step - loss: 0.7409 - accuracy: 0.7666\n",
      "Epoch 23/30\n",
      "88/88 [==============================] - 2s 18ms/step - loss: 0.7377 - accuracy: 0.7630\n",
      "Epoch 24/30\n",
      "88/88 [==============================] - 2s 17ms/step - loss: 0.6335 - accuracy: 0.7944\n",
      "Epoch 25/30\n",
      "88/88 [==============================] - 1s 17ms/step - loss: 0.6392 - accuracy: 0.7937\n",
      "Epoch 26/30\n",
      "88/88 [==============================] - 2s 17ms/step - loss: 0.5686 - accuracy: 0.8141\n",
      "Epoch 27/30\n",
      "88/88 [==============================] - 2s 17ms/step - loss: 0.5803 - accuracy: 0.8133\n",
      "Epoch 28/30\n",
      "88/88 [==============================] - 2s 17ms/step - loss: 0.5319 - accuracy: 0.8323\n",
      "Epoch 29/30\n",
      "88/88 [==============================] - 1s 17ms/step - loss: 0.5473 - accuracy: 0.8287\n",
      "Epoch 30/30\n",
      "88/88 [==============================] - 2s 17ms/step - loss: 0.5195 - accuracy: 0.8294\n"
     ]
    },
    {
     "data": {
      "text/plain": [
       "<keras.callbacks.History at 0x1f9c7d04340>"
      ]
     },
     "execution_count": 807,
     "metadata": {},
     "output_type": "execute_result"
    }
   ],
   "source": [
    "Model3.fit(X_train, y_train, epochs=30)#, verbose=False)"
   ]
  },
  {
   "cell_type": "markdown",
   "id": "4905568c",
   "metadata": {},
   "source": [
    "## [4] 평가"
   ]
  },
  {
   "cell_type": "code",
   "execution_count": 808,
   "id": "c07e09b1",
   "metadata": {},
   "outputs": [
    {
     "name": "stdout",
     "output_type": "stream",
     "text": [
      "88/88 [==============================] - 1s 4ms/step - loss: 0.8196 - accuracy: 0.7459\n",
      "48/48 [==============================] - 0s 4ms/step - loss: 1.8026 - accuracy: 0.5682\n"
     ]
    },
    {
     "data": {
      "text/plain": [
       "[1.8026303052902222, 0.5682119131088257]"
      ]
     },
     "execution_count": 808,
     "metadata": {},
     "output_type": "execute_result"
    }
   ],
   "source": [
    "# 수차례 조정을 거치면서\n",
    "# -> 과적합이 감소되지는 않았으나, train과 test의 정확도가 동시에 올라가는 경우가 많았음\n",
    "Model3.evaluate(X_train, y_train)\n",
    "Model3.evaluate(X_test, y_test)"
   ]
  },
  {
   "cell_type": "markdown",
   "id": "549e0ead",
   "metadata": {},
   "source": [
    "## [5] 예측"
   ]
  },
  {
   "cell_type": "code",
   "execution_count": 809,
   "id": "3c19834f",
   "metadata": {},
   "outputs": [
    {
     "name": "stdout",
     "output_type": "stream",
     "text": [
      "48/48 [==============================] - 0s 4ms/step\n"
     ]
    }
   ],
   "source": [
    "predicted = Model3.predict(X_test)"
   ]
  },
  {
   "cell_type": "markdown",
   "id": "f4a0f5a9",
   "metadata": {},
   "source": [
    "### [5-1] 정답확인 (테스트셋)"
   ]
  },
  {
   "cell_type": "code",
   "execution_count": 810,
   "id": "0309118a",
   "metadata": {},
   "outputs": [],
   "source": [
    "# 1) 정답지 DF로 만들기\n",
    "label = pd.read_csv('target.csv')\n",
    "df = pd.DataFrame(label.name.unique())\n",
    "df['label'] = label.label.unique()\n",
    "df.columns = ['Brand', 'Label']\n",
    "# df"
   ]
  },
  {
   "cell_type": "code",
   "execution_count": 811,
   "id": "3317e224",
   "metadata": {},
   "outputs": [
    {
     "name": "stdout",
     "output_type": "stream",
     "text": [
      "X_test 0 : 8\n",
      "y_test 0 : 8\n",
      "    Brand  Label\n",
      "8  domino      8\n",
      "\n",
      "X_test 1 : 9\n",
      "y_test 1 : 0\n",
      "       Brand  Label\n",
      "0  angelinus      0\n",
      "\n",
      "X_test 2 : 18\n",
      "y_test 2 : 18\n",
      "   Brand  Label\n",
      "18  orin     18\n",
      "\n",
      "X_test 3 : 18\n",
      "y_test 3 : 20\n",
      "       Brand  Label\n",
      "20  pizzahut     20\n",
      "\n",
      "X_test 4 : 7\n",
      "y_test 4 : 7\n",
      "   Brand  Label\n",
      "7  debec      7\n",
      "\n",
      "X_test 5 : 25\n",
      "y_test 5 : 25\n",
      "           Brand  Label\n",
      "25  twosomeplace     25\n",
      "\n",
      "X_test 6 : 22\n",
      "y_test 6 : 14\n",
      "    Brand  Label\n",
      "14  lotte     14\n",
      "\n",
      "X_test 7 : 8\n",
      "y_test 7 : 10\n",
      "       Brand  Label\n",
      "10  galleria     10\n",
      "\n",
      "X_test 8 : 2\n",
      "y_test 8 : 2\n",
      "         Brand  Label\n",
      "2  bbackdabang      2\n",
      "\n"
     ]
    }
   ],
   "source": [
    "# 2) X_test와 그 결과(y_test)\n",
    "# for i in range(len(X_test)):\n",
    "for i in range(9):\n",
    "    print(f'X_test ' + str(i) + f' : {predicted[i].argmax()}')\n",
    "    print(f'y_test ' + str(i) + f' : {y_test[i]}')\n",
    "    print(f\"{df[df['Label'] == y_test[i]]}\\n\")"
   ]
  },
  {
   "cell_type": "code",
   "execution_count": 812,
   "id": "c63d0399",
   "metadata": {},
   "outputs": [
    {
     "data": {
      "image/png": "[encoded data removed]",
      "text/plain": [
       "<Figure size 360x360 with 9 Axes>"
      ]
     },
     "metadata": {
      "needs_background": "light"
     },
     "output_type": "display_data"
    }
   ],
   "source": [
    "plt.figure(figsize=(5, 5))\n",
    "for i in range(9):\n",
    "    ax = plt.subplot(3, 3, i + 1)\n",
    "    plt.imshow(X_test[i].reshape(50,50,3))\n",
    "    plt.axis(\"off\")    "
   ]
  },
  {
   "cell_type": "code",
   "execution_count": 813,
   "id": "3561476d",
   "metadata": {},
   "outputs": [
    {
     "name": "stdout",
     "output_type": "stream",
     "text": [
      "1/1 [==============================] - 0s 80ms/step\n",
      "\n",
      "새로운 이미지의 라벨값 : 22\n",
      "\n",
      "        Brand  Label\n",
      "22  shinsegae     22\n",
      "\n"
     ]
    },
    {
     "data": {
      "image/png": "[encoded data removed]",
      "text/plain": [
       "<Figure size 432x288 with 1 Axes>"
      ]
     },
     "metadata": {
      "needs_background": "light"
     },
     "output_type": "display_data"
    }
   ],
   "source": [
    "# 새로운 이미지 데이터로 예측해보기\n",
    "import PIL.Image as pilimg\n",
    "\n",
    "# 테스트하기 위한 새로운 이미지 파일\n",
    "n = 7\n",
    "\n",
    "# [5,6,7,8 ...]\n",
    "\n",
    "# 이미지 열기 및 변환\n",
    "img = np.array(pilimg.open('./testImg/test'+str(n)+'.png').convert('RGB'))\n",
    "%matplotlib inline \n",
    "plt.imshow(img)\n",
    "\n",
    "# 새로운 이미지 predict\n",
    "preTest = Model3.predict(img.reshape(-1, 50*50*3))  # reshape해주는 array 체크\n",
    "print('\\n새로운 이미지의 라벨값 : {}'.format(preTest.round(2).argmax()))\n",
    "preTest_num = preTest.round(2).argmax()\n",
    "\n",
    "# 새로운 이미지 정답\n",
    "print(f\"\\n{df[df['Label'] == preTest_num]}\\n\")\n",
    "# print(f\"{df[df['Label'] == n]}\\n\")"
   ]
  },
  {
   "cell_type": "code",
   "execution_count": null,
   "id": "225b8835",
   "metadata": {},
   "outputs": [],
   "source": []
  },
  {
   "cell_type": "markdown",
   "id": "eb765cb8",
   "metadata": {},
   "source": [
    "## T^T"
   ]
  },
  {
   "cell_type": "code",
   "execution_count": 814,
   "id": "f90b122e",
   "metadata": {},
   "outputs": [],
   "source": [
    "# # 새로운 이미지 데이터로 예측해보기\n",
    "# import PIL.Image as pilimg\n",
    "# for filename in os.listdir('./testImg/'):\n",
    "#     img = np.array(pilimg.open(filename).convert('RGB'))\n",
    "    \n",
    "#     %matplotlib inline \n",
    "#     plt.imshow(img)\n",
    "    \n",
    "#     plt.figure(figsize=(10, 10))\n",
    "# #     augmented_image = data_augmentation(image)\n",
    "#     ax = plt.subplot(4, 5, i + 1)\n",
    "#     plt.imshow(img)\n",
    "#     plt.axis(\"off\")"
   ]
  },
  {
   "cell_type": "code",
   "execution_count": 815,
   "id": "83687cdf",
   "metadata": {},
   "outputs": [],
   "source": [
    "# # 예측 함수\n",
    "# def pred_(file_name):\n",
    "#     im=Image.open(file_name)\n",
    "#     im=np.array(im.resize((50,50)))/255.0\n",
    "#     pre_y=model.predict(im.reshape(-1,50*50*3))\n",
    "# #     idx=np.argmax(np.round(pre_y,2))\n",
    "#     plt.imshow(im)\n",
    "#     return "
   ]
  },
  {
   "cell_type": "markdown",
   "id": "35289971",
   "metadata": {},
   "source": []
  },
  {
   "cell_type": "markdown",
   "id": "9a3870d5",
   "metadata": {},
   "source": [
    "# [ AutoEncoder ]"
   ]
  },
  {
   "cell_type": "markdown",
   "id": "db5b144b",
   "metadata": {},
   "source": [
    "## [2] 모델 구성 및 생성\n",
    "---"
   ]
  },
  {
   "cell_type": "code",
   "execution_count": 816,
   "id": "aad9dedb",
   "metadata": {},
   "outputs": [],
   "source": [
    "model = tf.keras.Sequential([\n",
    "    layers.Dense(units=300, activation='relu', input_shape=(7500,)),\n",
    "    layers.Dense(500, activation = 'relu'),\n",
    "    layers.Dense(500, activation = 'relu'),\n",
    "    layers.Dense(7500, activation='sigmoid')\n",
    "])"
   ]
  },
  {
   "cell_type": "code",
   "execution_count": 817,
   "id": "07f30ea8",
   "metadata": {},
   "outputs": [],
   "source": [
    "model.compile(loss='mean_squared_error', optimizer = 'adam', metrics='accuracy')"
   ]
  },
  {
   "cell_type": "markdown",
   "id": "a4d54cee",
   "metadata": {},
   "source": [
    "## [3] 모델 확인 및 시각화\n",
    "---"
   ]
  },
  {
   "cell_type": "code",
   "execution_count": 818,
   "id": "5aba8920",
   "metadata": {},
   "outputs": [
    {
     "name": "stdout",
     "output_type": "stream",
     "text": [
      "Model: \"sequential_15\"\n",
      "_________________________________________________________________\n",
      " Layer (type)                Output Shape              Param #   \n",
      "=================================================================\n",
      " dense_817 (Dense)           (None, 300)               2250300   \n",
      "                                                                 \n",
      " dense_818 (Dense)           (None, 500)               150500    \n",
      "                                                                 \n",
      " dense_819 (Dense)           (None, 500)               250500    \n",
      "                                                                 \n",
      " dense_820 (Dense)           (None, 7500)              3757500   \n",
      "                                                                 \n",
      "=================================================================\n",
      "Total params: 6,408,800\n",
      "Trainable params: 6,408,800\n",
      "Non-trainable params: 0\n",
      "_________________________________________________________________\n"
     ]
    }
   ],
   "source": [
    "model.summary()"
   ]
  },
  {
   "cell_type": "code",
   "execution_count": 819,
   "id": "5efc4e02",
   "metadata": {},
   "outputs": [
    {
     "data": {
      "image/png": "[encoded data removed]",
      "text/plain": [
       "<IPython.core.display.Image object>"
      ]
     },
     "execution_count": 819,
     "metadata": {},
     "output_type": "execute_result"
    }
   ],
   "source": [
    "from tensorflow.keras.utils import plot_model\n",
    "plot_model(model, show_shapes=True)"
   ]
  },
  {
   "cell_type": "markdown",
   "id": "3d6d4d00",
   "metadata": {},
   "source": [
    "## [4] 학습\n",
    "---"
   ]
  },
  {
   "cell_type": "code",
   "execution_count": 820,
   "id": "f7e1295b",
   "metadata": {},
   "outputs": [
    {
     "name": "stdout",
     "output_type": "stream",
     "text": [
      "Epoch 1/30\n",
      "88/88 [==============================] - 3s 29ms/step - loss: 200.5725 - accuracy: 0.0585\n",
      "Epoch 2/30\n",
      "88/88 [==============================] - 2s 27ms/step - loss: 200.3162 - accuracy: 0.0632\n",
      "Epoch 3/30\n",
      "88/88 [==============================] - 3s 30ms/step - loss: 200.3162 - accuracy: 0.0632\n",
      "Epoch 4/30\n",
      "88/88 [==============================] - 3s 31ms/step - loss: 200.3162 - accuracy: 0.0632\n",
      "Epoch 5/30\n",
      "88/88 [==============================] - 3s 29ms/step - loss: 200.3162 - accuracy: 0.0632\n",
      "Epoch 6/30\n",
      "45/88 [==============>...............] - ETA: 1s - loss: 197.9826 - accuracy: 0.0660"
     ]
    },
    {
     "ename": "KeyboardInterrupt",
     "evalue": "",
     "output_type": "error",
     "traceback": [
      "\u001b[1;31m---------------------------------------------------------------------------\u001b[0m",
      "\u001b[1;31mKeyboardInterrupt\u001b[0m                         Traceback (most recent call last)",
      "Input \u001b[1;32mIn [820]\u001b[0m, in \u001b[0;36m<cell line: 1>\u001b[1;34m()\u001b[0m\n\u001b[1;32m----> 1\u001b[0m \u001b[43mmodel\u001b[49m\u001b[38;5;241;43m.\u001b[39;49m\u001b[43mfit\u001b[49m\u001b[43m(\u001b[49m\u001b[43mX_train\u001b[49m\u001b[43m,\u001b[49m\u001b[43m \u001b[49m\u001b[43my_train\u001b[49m\u001b[43m,\u001b[49m\u001b[43m \u001b[49m\u001b[43mepochs\u001b[49m\u001b[38;5;241;43m=\u001b[39;49m\u001b[38;5;241;43m30\u001b[39;49m\u001b[43m)\u001b[49m\n",
      "File \u001b[1;32m~\\AppData\\Roaming\\Python\\Python39\\site-packages\\keras\\utils\\traceback_utils.py:65\u001b[0m, in \u001b[0;36mfilter_traceback.<locals>.error_handler\u001b[1;34m(*args, **kwargs)\u001b[0m\n\u001b[0;32m     63\u001b[0m filtered_tb \u001b[38;5;241m=\u001b[39m \u001b[38;5;28;01mNone\u001b[39;00m\n\u001b[0;32m     64\u001b[0m \u001b[38;5;28;01mtry\u001b[39;00m:\n\u001b[1;32m---> 65\u001b[0m     \u001b[38;5;28;01mreturn\u001b[39;00m fn(\u001b[38;5;241m*\u001b[39margs, \u001b[38;5;241m*\u001b[39m\u001b[38;5;241m*\u001b[39mkwargs)\n\u001b[0;32m     66\u001b[0m \u001b[38;5;28;01mexcept\u001b[39;00m \u001b[38;5;167;01mException\u001b[39;00m \u001b[38;5;28;01mas\u001b[39;00m e:\n\u001b[0;32m     67\u001b[0m     filtered_tb \u001b[38;5;241m=\u001b[39m _process_traceback_frames(e\u001b[38;5;241m.\u001b[39m__traceback__)\n",
      "File \u001b[1;32m~\\AppData\\Roaming\\Python\\Python39\\site-packages\\keras\\engine\\training.py:1555\u001b[0m, in \u001b[0;36mModel.fit\u001b[1;34m(self, x, y, batch_size, epochs, verbose, callbacks, validation_split, validation_data, shuffle, class_weight, sample_weight, initial_epoch, steps_per_epoch, validation_steps, validation_batch_size, validation_freq, max_queue_size, workers, use_multiprocessing)\u001b[0m\n\u001b[0;32m   1551\u001b[0m \u001b[38;5;28;01mwith\u001b[39;00m data_handler\u001b[38;5;241m.\u001b[39mcatch_stop_iteration():\n\u001b[0;32m   1552\u001b[0m     data_handler\u001b[38;5;241m.\u001b[39m_initial_step \u001b[38;5;241m=\u001b[39m data_handler\u001b[38;5;241m.\u001b[39m_initial_step \u001b[38;5;129;01mor\u001b[39;00m (\n\u001b[0;32m   1553\u001b[0m         \u001b[38;5;28mself\u001b[39m\u001b[38;5;241m.\u001b[39m_maybe_load_initial_step_from_ckpt()\n\u001b[0;32m   1554\u001b[0m     )\n\u001b[1;32m-> 1555\u001b[0m     \u001b[38;5;28;01mfor\u001b[39;00m step \u001b[38;5;129;01min\u001b[39;00m data_handler\u001b[38;5;241m.\u001b[39msteps():\n\u001b[0;32m   1556\u001b[0m         \u001b[38;5;28;01mwith\u001b[39;00m tf\u001b[38;5;241m.\u001b[39mprofiler\u001b[38;5;241m.\u001b[39mexperimental\u001b[38;5;241m.\u001b[39mTrace(\n\u001b[0;32m   1557\u001b[0m             \u001b[38;5;124m\"\u001b[39m\u001b[38;5;124mtrain\u001b[39m\u001b[38;5;124m\"\u001b[39m,\n\u001b[0;32m   1558\u001b[0m             epoch_num\u001b[38;5;241m=\u001b[39mepoch,\n\u001b[1;32m   (...)\u001b[0m\n\u001b[0;32m   1561\u001b[0m             _r\u001b[38;5;241m=\u001b[39m\u001b[38;5;241m1\u001b[39m,\n\u001b[0;32m   1562\u001b[0m         ):\n\u001b[0;32m   1563\u001b[0m             callbacks\u001b[38;5;241m.\u001b[39mon_train_batch_begin(step)\n",
      "File \u001b[1;32m~\\AppData\\Roaming\\Python\\Python39\\site-packages\\keras\\engine\\data_adapter.py:1374\u001b[0m, in \u001b[0;36mDataHandler.steps\u001b[1;34m(self)\u001b[0m\n\u001b[0;32m   1372\u001b[0m \u001b[38;5;28;01mif\u001b[39;00m \u001b[38;5;28mself\u001b[39m\u001b[38;5;241m.\u001b[39m_insufficient_data:  \u001b[38;5;66;03m# Set by `catch_stop_iteration`.\u001b[39;00m\n\u001b[0;32m   1373\u001b[0m     \u001b[38;5;28;01mbreak\u001b[39;00m\n\u001b[1;32m-> 1374\u001b[0m original_spe \u001b[38;5;241m=\u001b[39m \u001b[38;5;28;43mself\u001b[39;49m\u001b[38;5;241;43m.\u001b[39;49m\u001b[43m_steps_per_execution\u001b[49m\u001b[38;5;241;43m.\u001b[39;49m\u001b[43mnumpy\u001b[49m\u001b[43m(\u001b[49m\u001b[43m)\u001b[49m\u001b[38;5;241m.\u001b[39mitem()\n\u001b[0;32m   1375\u001b[0m can_run_full_execution \u001b[38;5;241m=\u001b[39m (\n\u001b[0;32m   1376\u001b[0m     original_spe \u001b[38;5;241m==\u001b[39m \u001b[38;5;241m1\u001b[39m\n\u001b[0;32m   1377\u001b[0m     \u001b[38;5;129;01mor\u001b[39;00m \u001b[38;5;28mself\u001b[39m\u001b[38;5;241m.\u001b[39m_inferred_steps \u001b[38;5;129;01mis\u001b[39;00m \u001b[38;5;28;01mNone\u001b[39;00m\n\u001b[0;32m   1378\u001b[0m     \u001b[38;5;129;01mor\u001b[39;00m \u001b[38;5;28mself\u001b[39m\u001b[38;5;241m.\u001b[39m_inferred_steps \u001b[38;5;241m-\u001b[39m \u001b[38;5;28mself\u001b[39m\u001b[38;5;241m.\u001b[39m_current_step \u001b[38;5;241m>\u001b[39m\u001b[38;5;241m=\u001b[39m original_spe\n\u001b[0;32m   1379\u001b[0m )\n\u001b[0;32m   1381\u001b[0m \u001b[38;5;28;01mif\u001b[39;00m can_run_full_execution:\n",
      "File \u001b[1;32m~\\AppData\\Roaming\\Python\\Python39\\site-packages\\tensorflow\\python\\ops\\resource_variable_ops.py:637\u001b[0m, in \u001b[0;36mBaseResourceVariable.numpy\u001b[1;34m(self)\u001b[0m\n\u001b[0;32m    635\u001b[0m \u001b[38;5;28;01mdef\u001b[39;00m \u001b[38;5;21mnumpy\u001b[39m(\u001b[38;5;28mself\u001b[39m):\n\u001b[0;32m    636\u001b[0m   \u001b[38;5;28;01mif\u001b[39;00m context\u001b[38;5;241m.\u001b[39mexecuting_eagerly():\n\u001b[1;32m--> 637\u001b[0m     \u001b[38;5;28;01mreturn\u001b[39;00m \u001b[38;5;28;43mself\u001b[39;49m\u001b[38;5;241;43m.\u001b[39;49m\u001b[43mread_value\u001b[49m\u001b[43m(\u001b[49m\u001b[43m)\u001b[49m\u001b[38;5;241m.\u001b[39mnumpy()\n\u001b[0;32m    638\u001b[0m   \u001b[38;5;28;01mraise\u001b[39;00m \u001b[38;5;167;01mNotImplementedError\u001b[39;00m(\n\u001b[0;32m    639\u001b[0m       \u001b[38;5;124m\"\u001b[39m\u001b[38;5;124mnumpy() is only available when eager execution is enabled.\u001b[39m\u001b[38;5;124m\"\u001b[39m)\n",
      "File \u001b[1;32m~\\AppData\\Roaming\\Python\\Python39\\site-packages\\tensorflow\\python\\ops\\resource_variable_ops.py:725\u001b[0m, in \u001b[0;36mBaseResourceVariable.read_value\u001b[1;34m(self)\u001b[0m\n\u001b[0;32m    716\u001b[0m \u001b[38;5;124;03m\"\"\"Constructs an op which reads the value of this variable.\u001b[39;00m\n\u001b[0;32m    717\u001b[0m \n\u001b[0;32m    718\u001b[0m \u001b[38;5;124;03mShould be used when there are multiple reads, or when it is desirable to\u001b[39;00m\n\u001b[1;32m   (...)\u001b[0m\n\u001b[0;32m    722\u001b[0m \u001b[38;5;124;03m  The value of the variable.\u001b[39;00m\n\u001b[0;32m    723\u001b[0m \u001b[38;5;124;03m\"\"\"\u001b[39;00m\n\u001b[0;32m    724\u001b[0m \u001b[38;5;28;01mwith\u001b[39;00m ops\u001b[38;5;241m.\u001b[39mname_scope(\u001b[38;5;124m\"\u001b[39m\u001b[38;5;124mRead\u001b[39m\u001b[38;5;124m\"\u001b[39m):\n\u001b[1;32m--> 725\u001b[0m   value \u001b[38;5;241m=\u001b[39m \u001b[38;5;28;43mself\u001b[39;49m\u001b[38;5;241;43m.\u001b[39;49m\u001b[43m_read_variable_op\u001b[49m\u001b[43m(\u001b[49m\u001b[43m)\u001b[49m\n\u001b[0;32m    726\u001b[0m \u001b[38;5;66;03m# Return an identity so it can get placed on whatever device the context\u001b[39;00m\n\u001b[0;32m    727\u001b[0m \u001b[38;5;66;03m# specifies instead of the device where the variable is.\u001b[39;00m\n\u001b[0;32m    728\u001b[0m \u001b[38;5;28;01mreturn\u001b[39;00m array_ops\u001b[38;5;241m.\u001b[39midentity(value)\n",
      "File \u001b[1;32m~\\AppData\\Roaming\\Python\\Python39\\site-packages\\tensorflow\\python\\ops\\resource_variable_ops.py:704\u001b[0m, in \u001b[0;36mBaseResourceVariable._read_variable_op\u001b[1;34m(self, no_copy)\u001b[0m\n\u001b[0;32m    702\u001b[0m       result \u001b[38;5;241m=\u001b[39m read_and_set_handle(no_copy)\n\u001b[0;32m    703\u001b[0m \u001b[38;5;28;01melse\u001b[39;00m:\n\u001b[1;32m--> 704\u001b[0m   result \u001b[38;5;241m=\u001b[39m \u001b[43mread_and_set_handle\u001b[49m\u001b[43m(\u001b[49m\u001b[43mno_copy\u001b[49m\u001b[43m)\u001b[49m\n\u001b[0;32m    706\u001b[0m \u001b[38;5;28;01mif\u001b[39;00m \u001b[38;5;129;01mnot\u001b[39;00m context\u001b[38;5;241m.\u001b[39mexecuting_eagerly():\n\u001b[0;32m    707\u001b[0m   \u001b[38;5;66;03m# Note that if a control flow context is active the input of the read op\u001b[39;00m\n\u001b[0;32m    708\u001b[0m   \u001b[38;5;66;03m# might not actually be the handle. This line bypasses it.\u001b[39;00m\n\u001b[0;32m    709\u001b[0m   tape\u001b[38;5;241m.\u001b[39mrecord_operation(\n\u001b[0;32m    710\u001b[0m       \u001b[38;5;124m\"\u001b[39m\u001b[38;5;124mReadVariableOp\u001b[39m\u001b[38;5;124m\"\u001b[39m, [result], [\u001b[38;5;28mself\u001b[39m\u001b[38;5;241m.\u001b[39mhandle],\n\u001b[0;32m    711\u001b[0m       backward_function\u001b[38;5;241m=\u001b[39m\u001b[38;5;28;01mlambda\u001b[39;00m x: [x],\n\u001b[0;32m    712\u001b[0m       forward_function\u001b[38;5;241m=\u001b[39m\u001b[38;5;28;01mlambda\u001b[39;00m x: [x])\n",
      "File \u001b[1;32m~\\AppData\\Roaming\\Python\\Python39\\site-packages\\tensorflow\\python\\ops\\resource_variable_ops.py:694\u001b[0m, in \u001b[0;36mBaseResourceVariable._read_variable_op.<locals>.read_and_set_handle\u001b[1;34m(no_copy)\u001b[0m\n\u001b[0;32m    692\u001b[0m \u001b[38;5;28;01mif\u001b[39;00m no_copy \u001b[38;5;129;01mand\u001b[39;00m forward_compat\u001b[38;5;241m.\u001b[39mforward_compatible(\u001b[38;5;241m2022\u001b[39m, \u001b[38;5;241m5\u001b[39m, \u001b[38;5;241m3\u001b[39m):\n\u001b[0;32m    693\u001b[0m   gen_resource_variable_ops\u001b[38;5;241m.\u001b[39mdisable_copy_on_read(\u001b[38;5;28mself\u001b[39m\u001b[38;5;241m.\u001b[39mhandle)\n\u001b[1;32m--> 694\u001b[0m result \u001b[38;5;241m=\u001b[39m \u001b[43mgen_resource_variable_ops\u001b[49m\u001b[38;5;241;43m.\u001b[39;49m\u001b[43mread_variable_op\u001b[49m\u001b[43m(\u001b[49m\n\u001b[0;32m    695\u001b[0m \u001b[43m    \u001b[49m\u001b[38;5;28;43mself\u001b[39;49m\u001b[38;5;241;43m.\u001b[39;49m\u001b[43mhandle\u001b[49m\u001b[43m,\u001b[49m\u001b[43m \u001b[49m\u001b[38;5;28;43mself\u001b[39;49m\u001b[38;5;241;43m.\u001b[39;49m\u001b[43m_dtype\u001b[49m\u001b[43m)\u001b[49m\n\u001b[0;32m    696\u001b[0m _maybe_set_handle_data(\u001b[38;5;28mself\u001b[39m\u001b[38;5;241m.\u001b[39m_dtype, \u001b[38;5;28mself\u001b[39m\u001b[38;5;241m.\u001b[39mhandle, result)\n\u001b[0;32m    697\u001b[0m \u001b[38;5;28;01mreturn\u001b[39;00m result\n",
      "File \u001b[1;32m~\\AppData\\Roaming\\Python\\Python39\\site-packages\\tensorflow\\python\\ops\\gen_resource_variable_ops.py:524\u001b[0m, in \u001b[0;36mread_variable_op\u001b[1;34m(resource, dtype, name)\u001b[0m\n\u001b[0;32m    522\u001b[0m \u001b[38;5;28;01mif\u001b[39;00m tld\u001b[38;5;241m.\u001b[39mis_eager:\n\u001b[0;32m    523\u001b[0m   \u001b[38;5;28;01mtry\u001b[39;00m:\n\u001b[1;32m--> 524\u001b[0m     _result \u001b[38;5;241m=\u001b[39m \u001b[43mpywrap_tfe\u001b[49m\u001b[38;5;241;43m.\u001b[39;49m\u001b[43mTFE_Py_FastPathExecute\u001b[49m\u001b[43m(\u001b[49m\n\u001b[0;32m    525\u001b[0m \u001b[43m      \u001b[49m\u001b[43m_ctx\u001b[49m\u001b[43m,\u001b[49m\u001b[43m \u001b[49m\u001b[38;5;124;43m\"\u001b[39;49m\u001b[38;5;124;43mReadVariableOp\u001b[39;49m\u001b[38;5;124;43m\"\u001b[39;49m\u001b[43m,\u001b[49m\u001b[43m \u001b[49m\u001b[43mname\u001b[49m\u001b[43m,\u001b[49m\u001b[43m \u001b[49m\u001b[43mresource\u001b[49m\u001b[43m,\u001b[49m\u001b[43m \u001b[49m\u001b[38;5;124;43m\"\u001b[39;49m\u001b[38;5;124;43mdtype\u001b[39;49m\u001b[38;5;124;43m\"\u001b[39;49m\u001b[43m,\u001b[49m\u001b[43m \u001b[49m\u001b[43mdtype\u001b[49m\u001b[43m)\u001b[49m\n\u001b[0;32m    526\u001b[0m     \u001b[38;5;28;01mreturn\u001b[39;00m _result\n\u001b[0;32m    527\u001b[0m   \u001b[38;5;28;01mexcept\u001b[39;00m _core\u001b[38;5;241m.\u001b[39m_NotOkStatusException \u001b[38;5;28;01mas\u001b[39;00m e:\n",
      "\u001b[1;31mKeyboardInterrupt\u001b[0m: "
     ]
    }
   ],
   "source": [
    "model.fit(X_train, y_train, epochs=30)"
   ]
  },
  {
   "cell_type": "markdown",
   "id": "0da08284",
   "metadata": {},
   "source": [
    "## [5] 평가\n",
    "---"
   ]
  },
  {
   "cell_type": "code",
   "execution_count": null,
   "id": "a43e9725",
   "metadata": {},
   "outputs": [],
   "source": [
    "model.evaluate(X_train, y_train)\n",
    "model.evaluate(X_test, y_test)"
   ]
  },
  {
   "cell_type": "markdown",
   "id": "d62c33de",
   "metadata": {},
   "source": [
    "## [6] 예측\n",
    "---"
   ]
  },
  {
   "cell_type": "code",
   "execution_count": null,
   "id": "6af4ace7",
   "metadata": {},
   "outputs": [],
   "source": [
    "predicted = model.predict(X_test)"
   ]
  },
  {
   "cell_type": "markdown",
   "id": "7737c3aa",
   "metadata": {},
   "source": [
    "### [6-1] 정답확인 (테스트셋)\n",
    "---"
   ]
  },
  {
   "cell_type": "code",
   "execution_count": null,
   "id": "cb098f06",
   "metadata": {},
   "outputs": [],
   "source": [
    "# 1) 정답지 DF로 만들기\n",
    "label = pd.read_csv('target.csv')\n",
    "df = pd.DataFrame(label.name.unique())\n",
    "df['label'] = label.label.unique()\n",
    "df.columns = ['Brand', 'Label']\n",
    "df"
   ]
  },
  {
   "cell_type": "code",
   "execution_count": null,
   "id": "929eb106",
   "metadata": {},
   "outputs": [],
   "source": [
    "# 2) X_test와 그 결과(y_test)\n",
    "# for i in range(len(X_test)):\n",
    "for i in range(1,9):\n",
    "    print(f'X_test ' + str(i) + f' : {predicted[i].argmax()}')\n",
    "    print(f'y_test ' + str(i) + f' : {y_test[i]}')\n",
    "    print(f\"{df[df['Label'] == y_test[i]]}\\n\")"
   ]
  },
  {
   "cell_type": "code",
   "execution_count": null,
   "id": "ce2913af",
   "metadata": {},
   "outputs": [],
   "source": [
    "plt.figure(figsize=(5, 5))\n",
    "for i in range(1,9):\n",
    "    ax = plt.subplot(3, 3, i + 1)\n",
    "    plt.imshow(X_test[i].reshape(50,50,3))\n",
    "    plt.axis(\"off\")    "
   ]
  },
  {
   "cell_type": "code",
   "execution_count": null,
   "id": "c2b1f6a2",
   "metadata": {},
   "outputs": [],
   "source": [
    "img=np.array(pilimg.open('./testImg/test1.png').convert('RGB'))\n",
    "# img.reshape(50*50*3,).shape\n",
    "preTest = model.predict(img.reshape(50*50*3,))\n",
    "# preTest.round(2), preTest.shape"
   ]
  }
 ],
 "metadata": {
  "kernelspec": {
   "display_name": "Python 3 (ipykernel)",
   "language": "python",
   "name": "python3"
  },
  "language_info": {
   "codemirror_mode": {
    "name": "ipython",
    "version": 3
   },
   "file_extension": ".py",
   "mimetype": "text/x-python",
   "name": "python",
   "nbconvert_exporter": "python",
   "pygments_lexer": "ipython3",
   "version": "3.9.12"
  }
 },
 "nbformat": 4,
 "nbformat_minor": 5
}
